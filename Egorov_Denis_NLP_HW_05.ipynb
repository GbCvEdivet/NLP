{
 "cells": [
  {
   "cell_type": "code",
   "execution_count": 139,
   "metadata": {
    "id": "TLPxzpVv4o3O"
   },
   "outputs": [],
   "source": [
    "!mkdir datasets"
   ]
  },
  {
   "cell_type": "code",
   "execution_count": 140,
   "metadata": {
    "colab": {
     "base_uri": "https://localhost:8080/"
    },
    "id": "rNNxZ6CM4U8p",
    "outputId": "38816fcf-e529-4629-edbf-d4bbb8a42e06"
   },
   "outputs": [
    {
     "name": "stdout",
     "output_type": "stream",
     "text": [
      "--2023-08-27 13:14:31--  https://raw.githubusercontent.com/UniversalDependencies/UD_Russian-SynTagRus/master/ru_syntagrus-ud-train.conllu\n",
      "Resolving raw.githubusercontent.com (raw.githubusercontent.com)... 185.199.108.133, 185.199.109.133, 185.199.110.133, ...\n",
      "Connecting to raw.githubusercontent.com (raw.githubusercontent.com)|185.199.108.133|:443... connected.\n",
      "HTTP request sent, awaiting response... 404 Not Found\n",
      "2023-08-27 13:14:31 ERROR 404: Not Found.\n",
      "\n",
      "--2023-08-27 13:14:31--  https://raw.githubusercontent.com/UniversalDependencies/UD_Russian-SynTagRus/master/ru_syntagrus-ud-dev.conllu\n",
      "Resolving raw.githubusercontent.com (raw.githubusercontent.com)... 185.199.108.133, 185.199.109.133, 185.199.110.133, ...\n",
      "Connecting to raw.githubusercontent.com (raw.githubusercontent.com)|185.199.108.133|:443... connected.\n",
      "HTTP request sent, awaiting response... 200 OK\n",
      "Length: 14704579 (14M) [text/plain]\n",
      "Saving to: ‘datasets/ru_syntagrus-ud-dev.conllu’\n",
      "\n",
      "datasets/ru_syntagr 100%[===================>]  14.02M  --.-KB/s    in 0.05s   \n",
      "\n",
      "2023-08-27 13:14:32 (278 MB/s) - ‘datasets/ru_syntagrus-ud-dev.conllu’ saved [14704579/14704579]\n",
      "\n"
     ]
    }
   ],
   "source": [
    "!wget -O datasets/ru_syntagrus-ud-train.conllu https://raw.githubusercontent.com/UniversalDependencies/UD_Russian-SynTagRus/master/ru_syntagrus-ud-train.conllu\n",
    "!wget -O datasets/ru_syntagrus-ud-dev.conllu https://raw.githubusercontent.com/UniversalDependencies/UD_Russian-SynTagRus/master/ru_syntagrus-ud-dev.conllu"
   ]
  },
  {
   "cell_type": "code",
   "execution_count": 141,
   "metadata": {
    "colab": {
     "base_uri": "https://localhost:8080/"
    },
    "id": "GQaXBb604wAH",
    "outputId": "f94ab6bf-6ac7-445c-9dc5-29561ff2ea24"
   },
   "outputs": [
    {
     "name": "stdout",
     "output_type": "stream",
     "text": [
      "Collecting pyconll\n",
      "  Downloading pyconll-3.2.0-py3-none-any.whl (27 kB)\n",
      "Installing collected packages: pyconll\n",
      "Successfully installed pyconll-3.2.0\n"
     ]
    }
   ],
   "source": [
    "!pip install pyconll\n",
    "import pyconll"
   ]
  },
  {
   "cell_type": "code",
   "execution_count": 142,
   "metadata": {
    "id": "FYEWhT4p5Dx-"
   },
   "outputs": [],
   "source": [
    "full_train = pyconll.load_from_file('datasets/ru_syntagrus-ud-train.conllu')\n",
    "full_test = pyconll.load_from_file('datasets/ru_syntagrus-ud-dev.conllu')"
   ]
  },
  {
   "cell_type": "code",
   "execution_count": 143,
   "metadata": {
    "colab": {
     "base_uri": "https://localhost:8080/"
    },
    "id": "G0U-2GLo5Wpc",
    "outputId": "a0acf7c6-6b43-4b70-9af3-0be378b57332"
   },
   "outputs": [
    {
     "name": "stdout",
     "output_type": "stream",
     "text": [
      "Алгоритм NOUN\n",
      ", PUNCT\n",
      "от ADP\n",
      "имени NOUN\n",
      "учёного NOUN\n",
      "аль PART\n",
      "- PUNCT\n",
      "Хорезми PROPN\n",
      ", PUNCT\n",
      "- PUNCT\n",
      "точный ADJ\n",
      "набор NOUN\n",
      "инструкций NOUN\n",
      ", PUNCT\n",
      "описывающих VERB\n",
      "порядок NOUN\n",
      "действий NOUN\n",
      "исполнителя NOUN\n",
      "для ADP\n",
      "достижения NOUN\n",
      "результата NOUN\n",
      "решения NOUN\n",
      "задачи NOUN\n",
      "за ADP\n",
      "конечное ADJ\n",
      "время NOUN\n",
      ". PUNCT\n"
     ]
    }
   ],
   "source": [
    "for token in full_test[0]:\n",
    "  print(token.form, token.upos)"
   ]
  },
  {
   "cell_type": "code",
   "execution_count": 144,
   "metadata": {
    "id": "EjEVDn2R-zvX"
   },
   "outputs": [],
   "source": [
    "import nltk\n",
    "from nltk.tokenize import word_tokenize\n",
    "import matplotlib\n",
    "%matplotlib inline"
   ]
  },
  {
   "cell_type": "code",
   "execution_count": 21,
   "metadata": {
    "colab": {
     "base_uri": "https://localhost:8080/"
    },
    "id": "RknNldYjxoKe",
    "outputId": "4ea0b1ff-b056-43c7-cb2d-6dd22584f012"
   },
   "outputs": [
    {
     "name": "stderr",
     "output_type": "stream",
     "text": [
      "[nltk_data] Downloading package punkt to /root/nltk_data...\n",
      "[nltk_data]   Unzipping tokenizers/punkt.zip.\n"
     ]
    },
    {
     "data": {
      "text/plain": [
       "True"
      ]
     },
     "execution_count": 21,
     "metadata": {},
     "output_type": "execute_result"
    }
   ],
   "source": [
    "nltk.download('punkt')"
   ]
  },
  {
   "cell_type": "code",
   "execution_count": 22,
   "metadata": {
    "colab": {
     "base_uri": "https://localhost:8080/"
    },
    "id": "J59Dhim-yegE",
    "outputId": "29a23bdf-c812-4a62-8d05-a2bacd29d5f3"
   },
   "outputs": [
    {
     "name": "stderr",
     "output_type": "stream",
     "text": [
      "[nltk_data] Downloading package averaged_perceptron_tagger_ru to\n",
      "[nltk_data]     /root/nltk_data...\n",
      "[nltk_data]   Unzipping taggers/averaged_perceptron_tagger_ru.zip.\n"
     ]
    },
    {
     "data": {
      "text/plain": [
       "True"
      ]
     },
     "execution_count": 22,
     "metadata": {},
     "output_type": "execute_result"
    }
   ],
   "source": [
    "nltk.download('averaged_perceptron_tagger_ru')"
   ]
  },
  {
   "cell_type": "code",
   "execution_count": 23,
   "metadata": {
    "colab": {
     "base_uri": "https://localhost:8080/"
    },
    "id": "aSgBMke20e4-",
    "outputId": "6177c8a7-2587-4a4f-a2b1-2e23d5ddd159"
   },
   "outputs": [
    {
     "name": "stderr",
     "output_type": "stream",
     "text": [
      "[nltk_data] Downloading package maxent_ne_chunker to\n",
      "[nltk_data]     /root/nltk_data...\n",
      "[nltk_data]   Unzipping chunkers/maxent_ne_chunker.zip.\n"
     ]
    },
    {
     "data": {
      "text/plain": [
       "True"
      ]
     },
     "execution_count": 23,
     "metadata": {},
     "output_type": "execute_result"
    }
   ],
   "source": [
    "nltk.download('maxent_ne_chunker')"
   ]
  },
  {
   "cell_type": "code",
   "execution_count": 24,
   "metadata": {
    "colab": {
     "base_uri": "https://localhost:8080/"
    },
    "id": "zRdwoj7U04_L",
    "outputId": "a254f029-b01d-49d2-8270-bc1cb8b4430a"
   },
   "outputs": [
    {
     "name": "stderr",
     "output_type": "stream",
     "text": [
      "[nltk_data] Downloading package words to /root/nltk_data...\n",
      "[nltk_data]   Unzipping corpora/words.zip.\n"
     ]
    },
    {
     "data": {
      "text/plain": [
       "True"
      ]
     },
     "execution_count": 24,
     "metadata": {},
     "output_type": "execute_result"
    }
   ],
   "source": [
    "nltk.download('words')"
   ]
  },
  {
   "cell_type": "code",
   "execution_count": 25,
   "metadata": {
    "id": "6U-yj6dz-zzH"
   },
   "outputs": [],
   "source": [
    "from nltk.tag import DefaultTagger\n",
    "from nltk.tag import UnigramTagger\n",
    "from nltk.tag import BigramTagger, TrigramTagger\n",
    "from nltk.tag import RegexpTagger"
   ]
  },
  {
   "cell_type": "code",
   "execution_count": null,
   "metadata": {
    "colab": {
     "base_uri": "https://localhost:8080/"
    },
    "id": "dHILlRAWD8sv",
    "outputId": "32f99199-7f6a-4282-9e86-371aae463ecf"
   },
   "outputs": [
    {
     "data": {
      "text/plain": [
       "FreqDist({'NOUN': 36238, 'PUNCT': 29186, 'VERB': 17110, 'ADJ': 15103, 'ADP': 13717, 'ADV': 7783, 'PRON': 7444, 'CCONJ': 5672, 'PROPN': 5473, 'PART': 5125, ...})"
      ]
     },
     "execution_count": 8,
     "metadata": {},
     "output_type": "execute_result"
    }
   ],
   "source": [
    "tags = [token.upos for sent in full_test for token in sent]\n",
    "nltk.FreqDist(tags)"
   ]
  },
  {
   "cell_type": "code",
   "execution_count": null,
   "metadata": {
    "id": "I5XqqGb9EeVM"
   },
   "outputs": [],
   "source": [
    "train_data = full_test[:int(len(full_test) * 0.9)]\n",
    "test_data = full_test[int(len(full_test) * 0.9):]\n",
    "test_sent = [token.lemma for token in test_data[182]]\n",
    "#train_data = [(token.form, token.upos) for sent in train_data for token in sent]\n",
    "#test_data = [(token.form, token.upos) for sent in test_data for token in sent]"
   ]
  },
  {
   "cell_type": "code",
   "execution_count": null,
   "metadata": {
    "id": "T0DWZbMVIBWF"
   },
   "outputs": [],
   "source": [
    "train = []\n",
    "test = []\n",
    "for i in range(len(train_data)):\n",
    "  train.append([(token.form, token.upos) for token in train_data[i]])\n",
    "for i in range(len(test_data)):\n",
    "  test.append([(token.form, token.upos) for token in test_data[i]])"
   ]
  },
  {
   "cell_type": "code",
   "execution_count": null,
   "metadata": {
    "colab": {
     "base_uri": "https://localhost:8080/"
    },
    "id": "qMnaEoH2NX0D",
    "outputId": "4ec6073e-bf76-445e-8bc1-9e98a60eeae7"
   },
   "outputs": [
    {
     "data": {
      "text/plain": [
       "['и',\n",
       " 'при',\n",
       " 'это',\n",
       " 'легкость',\n",
       " 'отношение',\n",
       " 'грек',\n",
       " 'к',\n",
       " 'деньги',\n",
       " 'распространяться',\n",
       " 'на',\n",
       " 'все',\n",
       " '-',\n",
       " 'вы',\n",
       " 'угостить',\n",
       " ',',\n",
       " 'вы',\n",
       " 'помочь',\n",
       " 'бесплатно',\n",
       " 'на',\n",
       " 'сервис',\n",
       " ',',\n",
       " 'если',\n",
       " 'поломка',\n",
       " 'машина',\n",
       " 'мелкий',\n",
       " ',',\n",
       " 'вы',\n",
       " 'оказать',\n",
       " 'медицинский',\n",
       " 'помощь',\n",
       " 'бесплатно',\n",
       " 'или',\n",
       " 'за',\n",
       " 'условный',\n",
       " 'пять',\n",
       " 'евро',\n",
       " ',',\n",
       " 'если',\n",
       " 'у',\n",
       " 'вы',\n",
       " 'не',\n",
       " 'оказаться',\n",
       " 'страховка',\n",
       " '…']"
      ]
     },
     "execution_count": 11,
     "metadata": {},
     "output_type": "execute_result"
    }
   ],
   "source": [
    "test_sent"
   ]
  },
  {
   "cell_type": "code",
   "execution_count": null,
   "metadata": {
    "colab": {
     "base_uri": "https://localhost:8080/",
     "height": 834
    },
    "id": "ejF0hzFxGh6h",
    "outputId": "d18d9938-71e5-414d-8194-ca1616649237"
   },
   "outputs": [
    {
     "data": {
      "text/plain": [
       "[('и', 'NOUN'),\n",
       " ('при', 'NOUN'),\n",
       " ('это', 'NOUN'),\n",
       " ('легкость', 'NOUN'),\n",
       " ('отношение', 'NOUN'),\n",
       " ('грек', 'NOUN'),\n",
       " ('к', 'NOUN'),\n",
       " ('деньги', 'NOUN'),\n",
       " ('распространяться', 'NOUN'),\n",
       " ('на', 'NOUN'),\n",
       " ('все', 'NOUN'),\n",
       " ('-', 'NOUN'),\n",
       " ('вы', 'NOUN'),\n",
       " ('угостить', 'NOUN'),\n",
       " (',', 'NOUN'),\n",
       " ('вы', 'NOUN'),\n",
       " ('помочь', 'NOUN'),\n",
       " ('бесплатно', 'NOUN'),\n",
       " ('на', 'NOUN'),\n",
       " ('сервис', 'NOUN'),\n",
       " (',', 'NOUN'),\n",
       " ('если', 'NOUN'),\n",
       " ('поломка', 'NOUN'),\n",
       " ('машина', 'NOUN'),\n",
       " ('мелкий', 'NOUN'),\n",
       " (',', 'NOUN'),\n",
       " ('вы', 'NOUN'),\n",
       " ('оказать', 'NOUN'),\n",
       " ('медицинский', 'NOUN'),\n",
       " ('помощь', 'NOUN'),\n",
       " ('бесплатно', 'NOUN'),\n",
       " ('или', 'NOUN'),\n",
       " ('за', 'NOUN'),\n",
       " ('условный', 'NOUN'),\n",
       " ('пять', 'NOUN'),\n",
       " ('евро', 'NOUN'),\n",
       " (',', 'NOUN'),\n",
       " ('если', 'NOUN'),\n",
       " ('у', 'NOUN'),\n",
       " ('вы', 'NOUN'),\n",
       " ('не', 'NOUN'),\n",
       " ('оказаться', 'NOUN'),\n",
       " ('страховка', 'NOUN'),\n",
       " ('…', 'NOUN')]"
      ]
     },
     "metadata": {},
     "output_type": "display_data"
    },
    {
     "data": {
      "text/plain": [
       "0.1930071086129939"
      ]
     },
     "metadata": {},
     "output_type": "display_data"
    }
   ],
   "source": [
    "default_tagger = nltk.DefaultTagger('NOUN')\n",
    "display(default_tagger.tag(test_sent), default_tagger.accuracy(test))"
   ]
  },
  {
   "cell_type": "markdown",
   "metadata": {
    "id": "7gCCoSi8OMBr"
   },
   "source": [
    "### UnigramTagger"
   ]
  },
  {
   "cell_type": "code",
   "execution_count": null,
   "metadata": {
    "colab": {
     "base_uri": "https://localhost:8080/",
     "height": 834
    },
    "id": "zHNjqCSiOI-8",
    "outputId": "4ba43ea3-85af-424f-e0ac-c225015c723b"
   },
   "outputs": [
    {
     "data": {
      "text/plain": [
       "[('и', 'CCONJ'),\n",
       " ('при', 'ADP'),\n",
       " ('это', 'PRON'),\n",
       " ('легкость', 'NOUN'),\n",
       " ('отношение', 'NOUN'),\n",
       " ('грек', None),\n",
       " ('к', 'ADP'),\n",
       " ('деньги', 'NOUN'),\n",
       " ('распространяться', 'VERB'),\n",
       " ('на', 'ADP'),\n",
       " ('все', 'DET'),\n",
       " ('-', 'PUNCT'),\n",
       " ('вы', 'PRON'),\n",
       " ('угостить', None),\n",
       " (',', 'PUNCT'),\n",
       " ('вы', 'PRON'),\n",
       " ('помочь', 'VERB'),\n",
       " ('бесплатно', 'ADV'),\n",
       " ('на', 'ADP'),\n",
       " ('сервис', 'NOUN'),\n",
       " (',', 'PUNCT'),\n",
       " ('если', 'SCONJ'),\n",
       " ('поломка', None),\n",
       " ('машина', 'NOUN'),\n",
       " ('мелкий', 'ADJ'),\n",
       " (',', 'PUNCT'),\n",
       " ('вы', 'PRON'),\n",
       " ('оказать', 'VERB'),\n",
       " ('медицинский', None),\n",
       " ('помощь', 'NOUN'),\n",
       " ('бесплатно', 'ADV'),\n",
       " ('или', 'CCONJ'),\n",
       " ('за', 'ADP'),\n",
       " ('условный', None),\n",
       " ('пять', 'NUM'),\n",
       " ('евро', None),\n",
       " (',', 'PUNCT'),\n",
       " ('если', 'SCONJ'),\n",
       " ('у', 'ADP'),\n",
       " ('вы', 'PRON'),\n",
       " ('не', 'PART'),\n",
       " ('оказаться', 'VERB'),\n",
       " ('страховка', 'NOUN'),\n",
       " ('…', 'PUNCT')]"
      ]
     },
     "metadata": {},
     "output_type": "display_data"
    },
    {
     "data": {
      "text/plain": [
       "0.7607869069267648"
      ]
     },
     "metadata": {},
     "output_type": "display_data"
    }
   ],
   "source": [
    "unigram_tagger = UnigramTagger(train)\n",
    "display(unigram_tagger.tag(test_sent), unigram_tagger.accuracy(test))"
   ]
  },
  {
   "cell_type": "markdown",
   "metadata": {
    "id": "2GUMFv6pOkea"
   },
   "source": [
    "### BigramTagger"
   ]
  },
  {
   "cell_type": "code",
   "execution_count": null,
   "metadata": {
    "colab": {
     "base_uri": "https://localhost:8080/",
     "height": 834
    },
    "id": "SV0UElBxOPxn",
    "outputId": "c2b5659f-450d-4e45-81b5-e780862b4aca"
   },
   "outputs": [
    {
     "data": {
      "text/plain": [
       "[('и', 'CCONJ'),\n",
       " ('при', 'ADP'),\n",
       " ('это', 'DET'),\n",
       " ('легкость', 'NOUN'),\n",
       " ('отношение', 'NOUN'),\n",
       " ('грек', None),\n",
       " ('к', 'ADP'),\n",
       " ('деньги', 'NOUN'),\n",
       " ('распространяться', 'VERB'),\n",
       " ('на', 'ADP'),\n",
       " ('все', 'DET'),\n",
       " ('-', 'PUNCT'),\n",
       " ('вы', 'PRON'),\n",
       " ('угостить', None),\n",
       " (',', 'PUNCT'),\n",
       " ('вы', 'PRON'),\n",
       " ('помочь', 'VERB'),\n",
       " ('бесплатно', 'ADV'),\n",
       " ('на', 'ADP'),\n",
       " ('сервис', 'NOUN'),\n",
       " (',', 'PUNCT'),\n",
       " ('если', 'SCONJ'),\n",
       " ('поломка', None),\n",
       " ('машина', 'NOUN'),\n",
       " ('мелкий', 'ADJ'),\n",
       " (',', 'PUNCT'),\n",
       " ('вы', 'PRON'),\n",
       " ('оказать', 'VERB'),\n",
       " ('медицинский', None),\n",
       " ('помощь', 'NOUN'),\n",
       " ('бесплатно', 'ADV'),\n",
       " ('или', 'CCONJ'),\n",
       " ('за', 'ADP'),\n",
       " ('условный', None),\n",
       " ('пять', 'NUM'),\n",
       " ('евро', None),\n",
       " (',', 'PUNCT'),\n",
       " ('если', 'SCONJ'),\n",
       " ('у', 'ADP'),\n",
       " ('вы', 'PRON'),\n",
       " ('не', 'PART'),\n",
       " ('оказаться', 'VERB'),\n",
       " ('страховка', 'NOUN'),\n",
       " ('…', 'PUNCT')]"
      ]
     },
     "metadata": {},
     "output_type": "display_data"
    },
    {
     "data": {
      "text/plain": [
       "0.7668209621425028"
      ]
     },
     "metadata": {},
     "output_type": "display_data"
    }
   ],
   "source": [
    "bigram_tagger = BigramTagger(train, backoff=unigram_tagger)\n",
    "display(bigram_tagger.tag(test_sent), bigram_tagger.accuracy(test))"
   ]
  },
  {
   "cell_type": "markdown",
   "metadata": {
    "id": "aC0Y4-uKOyja"
   },
   "source": [
    "### TrigramTagger"
   ]
  },
  {
   "cell_type": "code",
   "execution_count": null,
   "metadata": {
    "colab": {
     "base_uri": "https://localhost:8080/",
     "height": 834
    },
    "id": "n_bpqJw5Oo95",
    "outputId": "570dcdc8-08c3-4e6f-cb23-f4b28ad869da"
   },
   "outputs": [
    {
     "data": {
      "text/plain": [
       "[('и', 'CCONJ'),\n",
       " ('при', 'ADP'),\n",
       " ('это', 'DET'),\n",
       " ('легкость', 'NOUN'),\n",
       " ('отношение', 'NOUN'),\n",
       " ('грек', None),\n",
       " ('к', 'ADP'),\n",
       " ('деньги', 'NOUN'),\n",
       " ('распространяться', 'VERB'),\n",
       " ('на', 'ADP'),\n",
       " ('все', 'DET'),\n",
       " ('-', 'PUNCT'),\n",
       " ('вы', 'PRON'),\n",
       " ('угостить', None),\n",
       " (',', 'PUNCT'),\n",
       " ('вы', 'PRON'),\n",
       " ('помочь', 'VERB'),\n",
       " ('бесплатно', 'ADV'),\n",
       " ('на', 'ADP'),\n",
       " ('сервис', 'NOUN'),\n",
       " (',', 'PUNCT'),\n",
       " ('если', 'SCONJ'),\n",
       " ('поломка', None),\n",
       " ('машина', 'NOUN'),\n",
       " ('мелкий', 'ADJ'),\n",
       " (',', 'PUNCT'),\n",
       " ('вы', 'PRON'),\n",
       " ('оказать', 'VERB'),\n",
       " ('медицинский', None),\n",
       " ('помощь', 'NOUN'),\n",
       " ('бесплатно', 'ADV'),\n",
       " ('или', 'CCONJ'),\n",
       " ('за', 'ADP'),\n",
       " ('условный', None),\n",
       " ('пять', 'NUM'),\n",
       " ('евро', None),\n",
       " (',', 'PUNCT'),\n",
       " ('если', 'SCONJ'),\n",
       " ('у', 'ADP'),\n",
       " ('вы', 'PRON'),\n",
       " ('не', 'PART'),\n",
       " ('оказаться', 'VERB'),\n",
       " ('страховка', 'NOUN'),\n",
       " ('…', 'PUNCT')]"
      ]
     },
     "metadata": {},
     "output_type": "display_data"
    },
    {
     "data": {
      "text/plain": [
       "0.7673995701768888"
      ]
     },
     "metadata": {},
     "output_type": "display_data"
    }
   ],
   "source": [
    "trigram_tagger = TrigramTagger(train, backoff=bigram_tagger)\n",
    "display(trigram_tagger.tag(test_sent), trigram_tagger.accuracy(test))"
   ]
  },
  {
   "cell_type": "markdown",
   "metadata": {
    "id": "FnnyM-3QRqJQ"
   },
   "source": [
    "### Комбинация"
   ]
  },
  {
   "cell_type": "code",
   "execution_count": null,
   "metadata": {
    "colab": {
     "base_uri": "https://localhost:8080/"
    },
    "id": "R86MevtNRo9g",
    "outputId": "9aeed404-2f76-4f25-f3a5-55c862bd0075"
   },
   "outputs": [
    {
     "data": {
      "text/plain": [
       "0.8368325343031906"
      ]
     },
     "execution_count": 16,
     "metadata": {},
     "output_type": "execute_result"
    }
   ],
   "source": [
    "def backoff_tagger(train_sents, tagger_classes, backoff=None):\n",
    "    for cls in tagger_classes:\n",
    "        backoff = cls(train_sents, backoff=backoff)\n",
    "    return backoff\n",
    "\n",
    "\n",
    "backoff = DefaultTagger('NOUN')\n",
    "tag = backoff_tagger(train,\n",
    "                     [UnigramTagger, BigramTagger, TrigramTagger],\n",
    "                     backoff = backoff)\n",
    "\n",
    "tag.accuracy(test)"
   ]
  },
  {
   "cell_type": "code",
   "execution_count": null,
   "metadata": {
    "colab": {
     "base_uri": "https://localhost:8080/"
    },
    "id": "_iJWU6C-R5oj",
    "outputId": "56e11b20-abea-4a2d-f65a-b3d276ea8101"
   },
   "outputs": [
    {
     "data": {
      "text/plain": [
       "0.7673995701768888"
      ]
     },
     "execution_count": 17,
     "metadata": {},
     "output_type": "execute_result"
    }
   ],
   "source": [
    "backoff = trigram_tagger\n",
    "tag = backoff_tagger(train,\n",
    "                     [UnigramTagger, BigramTagger, TrigramTagger],\n",
    "                     backoff = backoff)\n",
    "\n",
    "tag.accuracy(test)"
   ]
  },
  {
   "cell_type": "code",
   "execution_count": null,
   "metadata": {
    "colab": {
     "base_uri": "https://localhost:8080/"
    },
    "id": "gS5g6mNsSMkB",
    "outputId": "2448dd34-8ea0-42ae-cc6f-df6a5f969697"
   },
   "outputs": [
    {
     "data": {
      "text/plain": [
       "0.7608695652173914"
      ]
     },
     "execution_count": 18,
     "metadata": {},
     "output_type": "execute_result"
    }
   ],
   "source": [
    "backoff = DefaultTagger('NOUN')\n",
    "tag = backoff_tagger(train,\n",
    "                     [BigramTagger, TrigramTagger],\n",
    "                     backoff = backoff)\n",
    "\n",
    "tag.accuracy(test)"
   ]
  },
  {
   "cell_type": "code",
   "execution_count": null,
   "metadata": {
    "colab": {
     "base_uri": "https://localhost:8080/"
    },
    "id": "69S_feXpSSJt",
    "outputId": "df62d626-c34e-4db5-f207-df4ae941cfb7"
   },
   "outputs": [
    {
     "data": {
      "text/plain": [
       "0.7673995701768888"
      ]
     },
     "execution_count": 19,
     "metadata": {},
     "output_type": "execute_result"
    }
   ],
   "source": [
    "backoff = trigram_tagger\n",
    "tag = backoff_tagger(train,\n",
    "                     [BigramTagger, TrigramTagger],\n",
    "                     backoff = backoff)\n",
    "\n",
    "tag.accuracy(test)"
   ]
  },
  {
   "cell_type": "markdown",
   "metadata": {
    "id": "XDBE4xdaSsQa"
   },
   "source": [
    "Вариант с тремя теггерами и backoff от дефолта самый интересный"
   ]
  },
  {
   "cell_type": "markdown",
   "metadata": {
    "id": "X-Y3sh0SXxFT"
   },
   "source": [
    "##NN"
   ]
  },
  {
   "cell_type": "markdown",
   "metadata": {
    "id": "FaAd794_X0YX"
   },
   "source": [
    "Одной из популярных архитектур для POS теггирования является RNN, в частности вариант с длинной краткосрочной памятью (LSTM). RNN хорошо подходят для задач последовательной обработки данных, таких как POS-tagging, поскольку они могут собирать контекстную информацию из предыдущих слов в предложении. LSTM, в частности, решают проблему исчезновения градиента, часто возникающую при обучении глубоких нейронных сетей, за счет использования ячеек памяти для сохранения информации в длинных последовательностях. Это позволяет им эффективно моделировать зависимости между словами и соответствующими им POS-тегами.\n",
    "\n",
    "Другой часто используемой архитектурой является трансформер, которому уделяется значительное внимание в задачах обработки естественного языка. Трансформеры основаны на механизмах self-attention, которые позволяют им улавливать глобальные зависимости между словами в предложении. Это делает их особенно эффективными для моделирования долгосрочных зависимостей, что может иметь решающее значение для точной маркировки POS. Было показано, что архитектура трансформера обеспечивает высочайшую производительность в различных задачах NLP, включая маркировку POS.\n",
    "\n",
    "Кроме того, двунаправленные сети LSTM (BiLSTM) также доказали свою эффективность для маркировки POS. BiLSTM обрабатывают входные последовательности как в прямом, так и в обратном направлении, позволяя им собирать информацию как из прошлого, так и из будущего контекста. Рассматривая оба направления, BiLSTM может лучше моделировать зависимости между словами и соответствующими им POS-тегами.\n",
    "\n",
    "В последние годы предпринимались попытки объединить различные архитектуры для дальнейшего повышения производительности теггирования POS. Например, исследователи предложили гибридные модели, сочетающие RNN с трансформерами или другими типами нейронных сетей. Эти гибридные модели направлены на использование сильных сторон различных архитектур для достижения большей точности и обобщения.\n",
    "\n",
    "1. Jurafsky, D., & Martin, J. H. (2019). Speech and Language Processing (3rd ed.). Pearson.\n",
    "2. Huang, Z., Xu, W., & Yu, K. (2015). Bidirectional LSTM-CRF Models for Sequence Tagging. arXiv preprint arXiv:1508.01991.\n",
    "3. Vaswani, A., Shazeer, N., Parmar, N., Uszkoreit, J., Jones, L., Gomez, A. N., ... & Polosukhin, I. (2017). Attention is all you need. In Advances in Neural Information Processing Systems (pp. 5998-6008)."
   ]
  },
  {
   "cell_type": "code",
   "execution_count": 133,
   "metadata": {
    "id": "OEQYmRnkSjvo"
   },
   "outputs": [],
   "source": [
    "import warnings\n",
    "warnings.filterwarnings(\"ignore\")\n",
    "\n",
    "import numpy as np\n",
    "\n",
    "from matplotlib import pyplot as plt\n",
    "\n",
    "import seaborn as sns\n",
    "\n",
    "from gensim.models import KeyedVectors,  Word2Vec\n",
    "\n",
    "from keras.utils import pad_sequences\n",
    "from keras.utils.np_utils import to_categorical\n",
    "from keras.models import Sequential\n",
    "from keras.layers import Embedding\n",
    "from keras.layers import Dense, Input\n",
    "from keras.layers import TimeDistributed\n",
    "from keras.layers import LSTM, GRU, Bidirectional, SimpleRNN, RNN\n",
    "from keras.models import Model\n",
    "from keras.preprocessing.text import Tokenizer\n",
    "\n",
    "from sklearn.model_selection import train_test_split\n",
    "from sklearn.utils import shuffle"
   ]
  },
  {
   "cell_type": "code",
   "execution_count": 134,
   "metadata": {
    "id": "tFOj0vN22FgQ"
   },
   "outputs": [],
   "source": [
    "from tqdm.notebook import tqdm"
   ]
  },
  {
   "cell_type": "code",
   "execution_count": 135,
   "metadata": {
    "id": "Oj1pJHuG1Ebm"
   },
   "outputs": [],
   "source": [
    "import re"
   ]
  },
  {
   "cell_type": "code",
   "execution_count": 136,
   "metadata": {
    "id": "SpfjF9GKzPE_"
   },
   "outputs": [],
   "source": [
    "import pandas as pd"
   ]
  },
  {
   "cell_type": "code",
   "execution_count": 137,
   "metadata": {
    "colab": {
     "base_uri": "https://localhost:8080/"
    },
    "id": "5oBcm03c0YQy",
    "outputId": "ccc09780-476c-4abf-e6f7-a948efe8c837"
   },
   "outputs": [
    {
     "name": "stdout",
     "output_type": "stream",
     "text": [
      "Requirement already satisfied: pymorphy2 in /usr/local/lib/python3.10/dist-packages (0.9.1)\n",
      "Requirement already satisfied: dawg-python>=0.7.1 in /usr/local/lib/python3.10/dist-packages (from pymorphy2) (0.7.2)\n",
      "Requirement already satisfied: pymorphy2-dicts-ru<3.0,>=2.4 in /usr/local/lib/python3.10/dist-packages (from pymorphy2) (2.4.417127.4579844)\n",
      "Requirement already satisfied: docopt>=0.6 in /usr/local/lib/python3.10/dist-packages (from pymorphy2) (0.6.2)\n"
     ]
    }
   ],
   "source": [
    "!pip install pymorphy2\n",
    "from pymorphy2 import MorphAnalyzer"
   ]
  },
  {
   "cell_type": "markdown",
   "metadata": {
    "id": "vg3KpzuS80vF"
   },
   "source": [
    "# Prepairing data"
   ]
  },
  {
   "cell_type": "code",
   "execution_count": 145,
   "metadata": {
    "id": "ez_K-hvgcGce"
   },
   "outputs": [],
   "source": [
    "X = []\n",
    "Y = []\n",
    "for i in range(len(full_test)):\n",
    "  X.append([token.form for token in full_test[i]])\n",
    "  Y.append([token.upos for token in full_test[i]])"
   ]
  },
  {
   "cell_type": "code",
   "execution_count": 148,
   "metadata": {
    "id": "Hi5HqccztHkC"
   },
   "outputs": [],
   "source": [
    "index_list_to_remove = []\n",
    "for i in range(len(X)):\n",
    "  for j in range(len(X[i])):\n",
    "    try:\n",
    "      if X[i][j] == None:\n",
    "        index_list_to_remove.append((i, j))\n",
    "        del X[i][j]\n",
    "        del Y[i][j]\n",
    "      elif Y[i][j] == None:\n",
    "        index_list_to_remove.append((i, j))\n",
    "        del X[i][j]\n",
    "        del Y[i][j]\n",
    "    except IndexError:\n",
    "      print('.', end=' ')"
   ]
  },
  {
   "cell_type": "code",
   "execution_count": 149,
   "metadata": {
    "colab": {
     "base_uri": "https://localhost:8080/"
    },
    "id": "fldZ0k-Ou15U",
    "outputId": "fa3ab279-5c98-4b3e-c9d0-53a0db6bd1ee"
   },
   "outputs": [
    {
     "data": {
      "text/plain": [
       "0"
      ]
     },
     "execution_count": 149,
     "metadata": {},
     "output_type": "execute_result"
    }
   ],
   "source": [
    "len(index_list_to_remove)"
   ]
  },
  {
   "cell_type": "code",
   "execution_count": 150,
   "metadata": {
    "id": "2El9Zg3hzTSs"
   },
   "outputs": [],
   "source": [
    "data = pd.DataFrame()"
   ]
  },
  {
   "cell_type": "code",
   "execution_count": 151,
   "metadata": {
    "id": "gomMe29CzXeF"
   },
   "outputs": [],
   "source": [
    "data['x'] = X"
   ]
  },
  {
   "cell_type": "code",
   "execution_count": 152,
   "metadata": {
    "colab": {
     "base_uri": "https://localhost:8080/",
     "height": 112
    },
    "id": "SECjVq-wzbmY",
    "outputId": "ee34bfce-fbb8-4e17-ec97-b826d89c2c99"
   },
   "outputs": [
    {
     "data": {
      "text/html": [
       "\n",
       "  <div id=\"df-3958f7c1-bfad-4a63-acae-960012ad180f\" class=\"colab-df-container\">\n",
       "    <div>\n",
       "<style scoped>\n",
       "    .dataframe tbody tr th:only-of-type {\n",
       "        vertical-align: middle;\n",
       "    }\n",
       "\n",
       "    .dataframe tbody tr th {\n",
       "        vertical-align: top;\n",
       "    }\n",
       "\n",
       "    .dataframe thead th {\n",
       "        text-align: right;\n",
       "    }\n",
       "</style>\n",
       "<table border=\"1\" class=\"dataframe\">\n",
       "  <thead>\n",
       "    <tr style=\"text-align: right;\">\n",
       "      <th></th>\n",
       "      <th>x</th>\n",
       "    </tr>\n",
       "  </thead>\n",
       "  <tbody>\n",
       "    <tr>\n",
       "      <th>0</th>\n",
       "      <td>[Алгоритм, ,, от, имени, учёного, аль, -, Хоре...</td>\n",
       "    </tr>\n",
       "    <tr>\n",
       "      <th>1</th>\n",
       "      <td>[В, старой, трактовке, вместо, слова, \", поряд...</td>\n",
       "    </tr>\n",
       "  </tbody>\n",
       "</table>\n",
       "</div>\n",
       "    <div class=\"colab-df-buttons\">\n",
       "\n",
       "  <div class=\"colab-df-container\">\n",
       "    <button class=\"colab-df-convert\" onclick=\"convertToInteractive('df-3958f7c1-bfad-4a63-acae-960012ad180f')\"\n",
       "            title=\"Convert this dataframe to an interactive table.\"\n",
       "            style=\"display:none;\">\n",
       "\n",
       "  <svg xmlns=\"http://www.w3.org/2000/svg\" height=\"24px\" viewBox=\"0 -960 960 960\">\n",
       "    <path d=\"M120-120v-720h720v720H120Zm60-500h600v-160H180v160Zm220 220h160v-160H400v160Zm0 220h160v-160H400v160ZM180-400h160v-160H180v160Zm440 0h160v-160H620v160ZM180-180h160v-160H180v160Zm440 0h160v-160H620v160Z\"/>\n",
       "  </svg>\n",
       "    </button>\n",
       "\n",
       "  <style>\n",
       "    .colab-df-container {\n",
       "      display:flex;\n",
       "      gap: 12px;\n",
       "    }\n",
       "\n",
       "    .colab-df-convert {\n",
       "      background-color: #E8F0FE;\n",
       "      border: none;\n",
       "      border-radius: 50%;\n",
       "      cursor: pointer;\n",
       "      display: none;\n",
       "      fill: #1967D2;\n",
       "      height: 32px;\n",
       "      padding: 0 0 0 0;\n",
       "      width: 32px;\n",
       "    }\n",
       "\n",
       "    .colab-df-convert:hover {\n",
       "      background-color: #E2EBFA;\n",
       "      box-shadow: 0px 1px 2px rgba(60, 64, 67, 0.3), 0px 1px 3px 1px rgba(60, 64, 67, 0.15);\n",
       "      fill: #174EA6;\n",
       "    }\n",
       "\n",
       "    .colab-df-buttons div {\n",
       "      margin-bottom: 4px;\n",
       "    }\n",
       "\n",
       "    [theme=dark] .colab-df-convert {\n",
       "      background-color: #3B4455;\n",
       "      fill: #D2E3FC;\n",
       "    }\n",
       "\n",
       "    [theme=dark] .colab-df-convert:hover {\n",
       "      background-color: #434B5C;\n",
       "      box-shadow: 0px 1px 3px 1px rgba(0, 0, 0, 0.15);\n",
       "      filter: drop-shadow(0px 1px 2px rgba(0, 0, 0, 0.3));\n",
       "      fill: #FFFFFF;\n",
       "    }\n",
       "  </style>\n",
       "\n",
       "    <script>\n",
       "      const buttonEl =\n",
       "        document.querySelector('#df-3958f7c1-bfad-4a63-acae-960012ad180f button.colab-df-convert');\n",
       "      buttonEl.style.display =\n",
       "        google.colab.kernel.accessAllowed ? 'block' : 'none';\n",
       "\n",
       "      async function convertToInteractive(key) {\n",
       "        const element = document.querySelector('#df-3958f7c1-bfad-4a63-acae-960012ad180f');\n",
       "        const dataTable =\n",
       "          await google.colab.kernel.invokeFunction('convertToInteractive',\n",
       "                                                    [key], {});\n",
       "        if (!dataTable) return;\n",
       "\n",
       "        const docLinkHtml = 'Like what you see? Visit the ' +\n",
       "          '<a target=\"_blank\" href=https://colab.research.google.com/notebooks/data_table.ipynb>data table notebook</a>'\n",
       "          + ' to learn more about interactive tables.';\n",
       "        element.innerHTML = '';\n",
       "        dataTable['output_type'] = 'display_data';\n",
       "        await google.colab.output.renderOutput(dataTable, element);\n",
       "        const docLink = document.createElement('div');\n",
       "        docLink.innerHTML = docLinkHtml;\n",
       "        element.appendChild(docLink);\n",
       "      }\n",
       "    </script>\n",
       "  </div>\n",
       "\n",
       "    </div>\n",
       "  </div>\n"
      ],
      "text/plain": [
       "                                                   x\n",
       "0  [Алгоритм, ,, от, имени, учёного, аль, -, Хоре...\n",
       "1  [В, старой, трактовке, вместо, слова, \", поряд..."
      ]
     },
     "execution_count": 152,
     "metadata": {},
     "output_type": "execute_result"
    }
   ],
   "source": [
    "data.head(2)"
   ]
  },
  {
   "cell_type": "code",
   "execution_count": 153,
   "metadata": {
    "id": "L6f9M42J0gfU"
   },
   "outputs": [],
   "source": [
    "morph = MorphAnalyzer()"
   ]
  },
  {
   "cell_type": "code",
   "execution_count": 154,
   "metadata": {
    "id": "O6JiRpC9zqgL"
   },
   "outputs": [],
   "source": [
    "def preprocess_text(text):\n",
    "  text = ' '.join([i for i in text])\n",
    "  text = text.lower()\n",
    "  text = [morph.parse(w)[0].normal_form for w in text.split()]\n",
    "  return text"
   ]
  },
  {
   "cell_type": "code",
   "execution_count": 155,
   "metadata": {
    "colab": {
     "base_uri": "https://localhost:8080/"
    },
    "id": "VtOJjzIDk6IB",
    "outputId": "9289d076-809e-464e-cb8f-eb4f766fc945"
   },
   "outputs": [
    {
     "data": {
      "text/plain": [
       "(8906, 8906)"
      ]
     },
     "execution_count": 155,
     "metadata": {},
     "output_type": "execute_result"
    }
   ],
   "source": [
    "len(X), len(Y)"
   ]
  },
  {
   "cell_type": "code",
   "execution_count": 156,
   "metadata": {
    "colab": {
     "base_uri": "https://localhost:8080/"
    },
    "id": "dFyHiHf_d-sg",
    "outputId": "c0921725-6d5f-4460-818c-a29de8117df1"
   },
   "outputs": [
    {
     "data": {
      "text/plain": [
       "(['Алгоритм',\n",
       "  ',',\n",
       "  'от',\n",
       "  'имени',\n",
       "  'учёного',\n",
       "  'аль',\n",
       "  '-',\n",
       "  'Хорезми',\n",
       "  ',',\n",
       "  '-',\n",
       "  'точный',\n",
       "  'набор',\n",
       "  'инструкций',\n",
       "  ',',\n",
       "  'описывающих',\n",
       "  'порядок',\n",
       "  'действий',\n",
       "  'исполнителя',\n",
       "  'для',\n",
       "  'достижения',\n",
       "  'результата',\n",
       "  'решения',\n",
       "  'задачи',\n",
       "  'за',\n",
       "  'конечное',\n",
       "  'время',\n",
       "  '.'],\n",
       " ['NOUN',\n",
       "  'PUNCT',\n",
       "  'ADP',\n",
       "  'NOUN',\n",
       "  'NOUN',\n",
       "  'PART',\n",
       "  'PUNCT',\n",
       "  'PROPN',\n",
       "  'PUNCT',\n",
       "  'PUNCT',\n",
       "  'ADJ',\n",
       "  'NOUN',\n",
       "  'NOUN',\n",
       "  'PUNCT',\n",
       "  'VERB',\n",
       "  'NOUN',\n",
       "  'NOUN',\n",
       "  'NOUN',\n",
       "  'ADP',\n",
       "  'NOUN',\n",
       "  'NOUN',\n",
       "  'NOUN',\n",
       "  'NOUN',\n",
       "  'ADP',\n",
       "  'ADJ',\n",
       "  'NOUN',\n",
       "  'PUNCT'])"
      ]
     },
     "execution_count": 156,
     "metadata": {},
     "output_type": "execute_result"
    }
   ],
   "source": [
    "X[0], Y[0]"
   ]
  },
  {
   "cell_type": "code",
   "execution_count": 157,
   "metadata": {
    "id": "EsHOOPb6eJnv"
   },
   "outputs": [],
   "source": [
    "num_words = len(set([word.lower() for sentence in X for word in sentence]))\n",
    "num_tags   = len(set([word.lower() for sentence in Y for word in sentence]))"
   ]
  },
  {
   "cell_type": "code",
   "execution_count": null,
   "metadata": {
    "id": "vWiyrsAplWSb"
   },
   "outputs": [],
   "source": [
    "print(f\"Total number of tagged sentences: {len(X)}\")\n",
    "print(f\"Vocabulary size: {num_words}\")\n",
    "print(f\"Total number of tags: {num_tags}\")"
   ]
  },
  {
   "cell_type": "code",
   "execution_count": 159,
   "metadata": {
    "id": "Pn64j4hMltNk"
   },
   "outputs": [],
   "source": [
    "# encode X\n",
    "word_tokenizer = Tokenizer()\n",
    "word_tokenizer.fit_on_texts(X)\n",
    "X_encoded = word_tokenizer.texts_to_sequences(X)"
   ]
  },
  {
   "cell_type": "code",
   "execution_count": 160,
   "metadata": {
    "id": "WjCsiN94lw0c"
   },
   "outputs": [],
   "source": [
    "# encode Y\n",
    "tag_tokenizer = Tokenizer()\n",
    "tag_tokenizer.fit_on_texts(Y)\n",
    "Y_encoded = tag_tokenizer.texts_to_sequences(Y)"
   ]
  },
  {
   "cell_type": "code",
   "execution_count": 161,
   "metadata": {
    "colab": {
     "base_uri": "https://localhost:8080/"
    },
    "id": "TLAuUtQFl1Lj",
    "outputId": "b438be2a-eb2f-42b7-fb25-daabb63273a0"
   },
   "outputs": [
    {
     "name": "stdout",
     "output_type": "stream",
     "text": [
      "[205, 1, 29, 634, 1920, 1284, 6, 1646, 1, 6, 11999, 2769, 2770, 1, 12000, 1285, 723, 4708, 24, 775, 2771, 267, 529, 30, 4709, 50, 2]\n",
      "[1, 2, 5, 1, 1, 10, 2, 9, 2, 2, 4, 1, 1, 2, 3, 1, 1, 1, 5, 1, 1, 1, 1, 5, 4, 1, 2]\n"
     ]
    }
   ],
   "source": [
    "print(X_encoded[0], Y_encoded[0], sep='\\n')"
   ]
  },
  {
   "cell_type": "code",
   "execution_count": 162,
   "metadata": {
    "colab": {
     "base_uri": "https://localhost:8080/"
    },
    "id": "kDxRsnmOmCGp",
    "outputId": "b576a110-65b4-4640-8c10-91cf0914a87a"
   },
   "outputs": [
    {
     "name": "stdout",
     "output_type": "stream",
     "text": [
      "0\n"
     ]
    }
   ],
   "source": [
    "different_length = [1 if len(input) != len(output) else 0 for input, output in zip(X_encoded, Y_encoded)]\n",
    "print(sum(different_length))"
   ]
  },
  {
   "cell_type": "code",
   "execution_count": 163,
   "metadata": {
    "colab": {
     "base_uri": "https://localhost:8080/"
    },
    "id": "eqnuheoKxsue",
    "outputId": "beb9d21d-1383-42fc-ee09-759b8ecd602b"
   },
   "outputs": [
    {
     "name": "stdout",
     "output_type": "stream",
     "text": [
      "Length of longest sentence: 139\n"
     ]
    }
   ],
   "source": [
    "lengths = [len(seq) for seq in X_encoded]\n",
    "print(f\"Length of longest sentence: {max(lengths)}\")"
   ]
  },
  {
   "cell_type": "code",
   "execution_count": 164,
   "metadata": {
    "colab": {
     "base_uri": "https://localhost:8080/",
     "height": 430
    },
    "id": "MOQ0YqKqx0Rw",
    "outputId": "f8e2ab8a-045b-4d78-f355-b44145cc1322"
   },
   "outputs": [
    {
     "data": {
      "image/png": "[encoded data removed]",
      "text/plain": [
       "<Figure size 640x480 with 1 Axes>"
      ]
     },
     "metadata": {},
     "output_type": "display_data"
    }
   ],
   "source": [
    "sns.boxplot(lengths)\n",
    "plt.show()"
   ]
  },
  {
   "cell_type": "code",
   "execution_count": 165,
   "metadata": {
    "id": "ITq8fsNyyBve"
   },
   "outputs": [],
   "source": [
    "MAX_SEQ_LENGTH = 100\n",
    "\n",
    "X_padded = pad_sequences(X_encoded, maxlen=MAX_SEQ_LENGTH, padding=\"pre\", truncating=\"post\")\n",
    "Y_padded = pad_sequences(Y_encoded, maxlen=MAX_SEQ_LENGTH, padding=\"pre\", truncating=\"post\")"
   ]
  },
  {
   "cell_type": "code",
   "execution_count": 166,
   "metadata": {
    "colab": {
     "base_uri": "https://localhost:8080/"
    },
    "id": "z9sTUNiiyNs9",
    "outputId": "bbd598bc-2760-49dc-e0cb-4fbf9bec282e"
   },
   "outputs": [
    {
     "name": "stdout",
     "output_type": "stream",
     "text": [
      "[[   0    0    0 ... 4709   50    2]\n",
      " [   0    0    0 ... 1285    5    2]\n",
      " [   0    0    0 ...   37  141    2]\n",
      " ...\n",
      " [   0    0    0 ...    0 1717    2]\n",
      " [   0    0    0 ...  309 1251    2]\n",
      " [   0    0    0 ... 1390 5950    2]]\n",
      "\n",
      "[[ 0  0  0 ...  4  1  2]\n",
      " [ 0  0  0 ...  1  2  2]\n",
      " [ 0  0  0 ... 11  1  2]\n",
      " ...\n",
      " [ 0  0  0 ...  0 11  2]\n",
      " [ 0  0  0 ...  6  6  2]\n",
      " [ 0  0  0 ...  4  1  2]]\n"
     ]
    }
   ],
   "source": [
    "print(X_padded, Y_padded, sep='\\n\\n')"
   ]
  },
  {
   "cell_type": "code",
   "execution_count": 167,
   "metadata": {
    "id": "3iKA3cLByb5I"
   },
   "outputs": [],
   "source": [
    "X, Y = X_padded, Y_padded"
   ]
  },
  {
   "cell_type": "code",
   "execution_count": 168,
   "metadata": {
    "colab": {
     "base_uri": "https://localhost:8080/",
     "height": 49,
     "referenced_widgets": [
      "fad10565e0a64a1dac8d3b28734ae18d",
      "c9e7726e2d2a49b8b3bf2e1e51f1c713",
      "5aacf06cbeff4d86acc7ecdac9ccdb59",
      "05da59582aa944039e4664ff86aa3381",
      "e84544c8e68f4a66b68eb2e38ed90c19",
      "d63856d2f23748c3b1c739c6b11ad01f",
      "30e80fa318b348f693f3de8d64a11932",
      "f1c950cdf94d44de80615acf9882a78a",
      "151d3b75e6b34881b46f54fed8234fd6",
      "2003a7e8bcec422b9a20620b6c885a8f",
      "91250d8267d64c819453bdc4cf2699e9"
     ]
    },
    "id": "5AEZ-7Wj18X3",
    "outputId": "66107524-ef1f-46e5-f658-1f3fc111ab46"
   },
   "outputs": [
    {
     "data": {
      "application/vnd.jupyter.widget-view+json": {
       "model_id": "fad10565e0a64a1dac8d3b28734ae18d",
       "version_major": 2,
       "version_minor": 0
      },
      "text/plain": [
       "  0%|          | 0/8906 [00:00<?, ?it/s]"
      ]
     },
     "metadata": {},
     "output_type": "display_data"
    }
   ],
   "source": [
    "sentences = []\n",
    "\n",
    "for line in tqdm(data['x']):\n",
    "    spls = preprocess_text(line)\n",
    "    sentences.append(spls)"
   ]
  },
  {
   "cell_type": "code",
   "execution_count": 169,
   "metadata": {
    "id": "bGBjs_7G18S0"
   },
   "outputs": [],
   "source": [
    "window = 5\n",
    "min_count = 7\n",
    "vector_size = 300\n",
    "word2vec = Word2Vec(sentences=sentences, vector_size=vector_size, window=window, min_count=min_count)"
   ]
  },
  {
   "cell_type": "code",
   "execution_count": 170,
   "metadata": {
    "colab": {
     "base_uri": "https://localhost:8080/"
    },
    "id": "fsYZgFQB18QF",
    "outputId": "b50d338a-2f53-4304-b0af-b400a19a776d"
   },
   "outputs": [
    {
     "name": "stderr",
     "output_type": "stream",
     "text": [
      "WARNING:gensim.models.keyedvectors:sorting after vectors have been allocated is expensive & error-prone\n"
     ]
    }
   ],
   "source": [
    "word2vec.build_vocab(sentences)"
   ]
  },
  {
   "cell_type": "code",
   "execution_count": 171,
   "metadata": {
    "colab": {
     "base_uri": "https://localhost:8080/"
    },
    "id": "8_3ek3zR18NY",
    "outputId": "2ab92061-51ad-4a98-ba59-03b9740fe210"
   },
   "outputs": [
    {
     "name": "stderr",
     "output_type": "stream",
     "text": [
      "WARNING:gensim.models.word2vec:Effective 'alpha' higher than previous training cycles\n"
     ]
    },
    {
     "data": {
      "text/plain": [
       "(2556038, 4599750)"
      ]
     },
     "execution_count": 171,
     "metadata": {},
     "output_type": "execute_result"
    }
   ],
   "source": [
    "word2vec.train(sentences, total_examples=word2vec.corpus_count, epochs=30, report_delay=1)"
   ]
  },
  {
   "cell_type": "code",
   "execution_count": 172,
   "metadata": {
    "id": "8KklIGG157NG"
   },
   "outputs": [],
   "source": [
    "# assign word vectors from word2vec model\n",
    "\n",
    "EMBEDDING_SIZE  = 300\n",
    "VOCABULARY_SIZE = len(word_tokenizer.word_index) + 1\n",
    "\n",
    "embedding_weights = np.zeros((VOCABULARY_SIZE, EMBEDDING_SIZE))\n",
    "\n",
    "word2id = word_tokenizer.word_index\n",
    "\n",
    "for word, index in word2id.items():\n",
    "    try:\n",
    "        embedding_weights[index, :] = word2vec.wv[word]\n",
    "    except KeyError:\n",
    "        pass"
   ]
  },
  {
   "cell_type": "code",
   "execution_count": 173,
   "metadata": {
    "colab": {
     "base_uri": "https://localhost:8080/"
    },
    "id": "sijp2Z1e57Kb",
    "outputId": "b8d31e52-2e4b-4576-d71a-b514174c8cd3"
   },
   "outputs": [
    {
     "data": {
      "text/plain": [
       "(34360, 300)"
      ]
     },
     "execution_count": 173,
     "metadata": {},
     "output_type": "execute_result"
    }
   ],
   "source": [
    "embedding_weights.shape"
   ]
  },
  {
   "cell_type": "code",
   "execution_count": 174,
   "metadata": {
    "colab": {
     "base_uri": "https://localhost:8080/"
    },
    "id": "ZxZeurAm57D3",
    "outputId": "53196c89-cd52-4f6b-e4d1-d904afe9c3cd"
   },
   "outputs": [
    {
     "data": {
      "text/plain": [
       "array([ 1.03436756,  0.37171066,  0.15339909,  0.2375654 ,  0.15476757,\n",
       "       -0.86068755,  0.70768738, -0.95884138,  0.08328022,  0.19258545,\n",
       "        0.53021669, -0.20513198, -0.04454196,  1.50531805, -0.32673478,\n",
       "       -0.7657271 ,  0.63932031,  0.58101863, -1.16496885, -0.69353652,\n",
       "        0.57293701, -0.25266564,  0.45661533,  0.48008212,  0.63848525,\n",
       "       -1.26506519,  0.50937587, -0.26442245, -0.87172258, -0.15354927,\n",
       "       -0.03671407, -0.45685127,  0.55952501,  0.2492447 ,  0.36377788,\n",
       "       -0.22288376,  0.75662977, -0.16240969, -0.10000405, -0.60566646,\n",
       "       -0.1944245 , -0.45577168, -0.40926272,  0.28650525, -0.13549769,\n",
       "        0.59614474, -0.53996974,  0.5851112 ,  0.79004502,  0.4388797 ,\n",
       "       -0.00868404,  0.4183619 ,  0.02399239,  0.15371941,  0.09085071,\n",
       "        0.06023124,  0.16490141, -0.75955755,  0.51792723, -0.16161953,\n",
       "        0.09634479, -0.15164307, -0.3942802 , -0.01887666, -0.08231103,\n",
       "        0.3968339 ,  0.28006849,  0.18356867, -0.38447478, -0.0830293 ,\n",
       "        0.64609832,  0.29345474,  0.37451342, -0.49591649,  0.16371424,\n",
       "       -0.59647769, -0.03859317, -0.0280735 ,  0.11790268, -0.06612163,\n",
       "       -0.08463547, -0.49264261,  0.41811031,  0.47142947,  0.23458771,\n",
       "        0.45673519, -0.48233941, -0.78094727,  0.30110958, -0.09170967,\n",
       "        0.36205336, -0.16013366, -0.44728991,  0.01700421,  0.29814324,\n",
       "        0.41382271, -1.03958905, -0.39825913, -0.82066905, -0.16192991,\n",
       "        0.10138375,  0.3262403 ,  0.9518289 ,  0.49034816,  0.18259691,\n",
       "       -0.27408275, -0.13255654,  0.34191674, -0.03836667, -0.31499913,\n",
       "       -0.30560058, -0.23376895,  0.35064888,  0.63633543,  0.44219515,\n",
       "       -0.03066811,  0.3176713 ,  0.6717726 , -0.08666077,  0.53452265,\n",
       "        0.13830124, -0.53669626,  0.50774568, -0.68716496,  0.86055046,\n",
       "        0.71961194,  0.12475479,  0.16759345, -0.13586701,  0.24858651,\n",
       "        0.36047158,  0.36820084,  0.00503755, -0.11157508,  0.10360356,\n",
       "        0.40087646,  0.75535852, -0.49477085,  0.00458691, -0.16508032,\n",
       "       -0.11188532,  0.58711553, -0.29037002, -0.23634116, -0.19871016,\n",
       "        0.09513514, -0.0883087 , -0.6920464 ,  0.50902987, -0.06568599,\n",
       "       -0.0802518 ,  0.13891903, -0.58002657, -0.04746415,  0.87399226,\n",
       "       -0.45270407, -0.08612748,  0.28500268, -0.40075845,  0.71618587,\n",
       "       -0.20777474,  0.12873058, -0.44946304, -0.52170771, -0.17400953,\n",
       "       -0.31689918,  0.38493264, -0.97151828,  0.63043416,  0.20917833,\n",
       "       -0.46657237, -0.1014474 ,  0.08544142,  0.41793144, -0.01125329,\n",
       "       -0.03138135, -0.75345874, -0.95992935,  0.20387277,  0.06251372,\n",
       "       -0.40652353,  0.33409151, -0.07815395, -0.65826696, -0.27531371,\n",
       "       -0.01168168, -0.37497586, -0.02129293,  0.21577547, -0.7965371 ,\n",
       "       -0.31453213,  0.38400486, -0.46774256, -0.53164446,  0.39977559,\n",
       "        0.30103186, -0.24302024,  0.33102143,  0.18360746, -0.20418973,\n",
       "        0.12771285, -0.15725392, -0.9428063 ,  0.34769815,  0.92693478,\n",
       "        0.78375953, -0.87559605,  0.19810581, -0.38643736,  0.06022549,\n",
       "       -0.880885  , -0.59421372,  0.65584856,  0.14328811,  0.27367178,\n",
       "       -0.33433661, -0.63863504,  0.26475611, -0.39125565, -0.22451416,\n",
       "       -0.57757866, -0.08227244, -0.34079179, -1.19372034,  1.00705326,\n",
       "        0.4203622 , -0.03909006, -0.55525863, -0.79573542,  0.12083509,\n",
       "       -0.31875825, -0.13691537, -0.16630344,  0.47507057, -0.28823259,\n",
       "       -0.07963596, -0.377583  ,  0.11559993,  0.60169274, -0.1196754 ,\n",
       "       -0.31185761,  0.58877552,  0.29798061,  0.06875362, -0.08157867,\n",
       "       -0.17087983,  0.29370251, -0.64542019,  0.08088037, -0.73215139,\n",
       "       -0.29317045, -0.07778703, -0.14385943, -0.20133634, -0.1425765 ,\n",
       "       -0.78674704,  0.02714151, -0.05842189, -0.27446562, -0.10557415,\n",
       "        0.54104316, -0.05435172,  0.60221273, -0.84296489, -0.45657548,\n",
       "       -0.57614177,  0.12242326, -0.17212982, -0.24537855,  0.7063244 ,\n",
       "       -0.13829221,  0.34752026, -0.44681022,  0.16748719,  0.68717295,\n",
       "        0.03808049,  0.77329332,  0.23332584, -0.87107086,  0.21215411,\n",
       "        0.42245239, -0.23975149, -0.72350842,  0.94627112,  0.19013104,\n",
       "       -0.67966455, -0.78533709, -0.35226521,  0.52455992,  0.58340436,\n",
       "       -0.50947028,  0.75090963,  0.04132783,  0.37836519,  0.62816226,\n",
       "        0.91798228,  0.19959863,  0.61894739,  0.30276281, -0.56334925])"
      ]
     },
     "execution_count": 174,
     "metadata": {},
     "output_type": "execute_result"
    }
   ],
   "source": [
    "embedding_weights[word_tokenizer.word_index['алгоритм']]"
   ]
  },
  {
   "cell_type": "code",
   "execution_count": 175,
   "metadata": {
    "colab": {
     "base_uri": "https://localhost:8080/"
    },
    "id": "sqrtuHOd57BV",
    "outputId": "cc25ebcb-53c3-4246-ddac-0a4c1478b62e"
   },
   "outputs": [
    {
     "data": {
      "text/plain": [
       "(8906, 100, 18)"
      ]
     },
     "execution_count": 175,
     "metadata": {},
     "output_type": "execute_result"
    }
   ],
   "source": [
    "Y = to_categorical(Y)\n",
    "Y.shape"
   ]
  },
  {
   "cell_type": "markdown",
   "metadata": {
    "id": "Btggx1mA7WX2"
   },
   "source": [
    "Train-test split"
   ]
  },
  {
   "cell_type": "code",
   "execution_count": 176,
   "metadata": {
    "id": "NOo36Q9O56-0"
   },
   "outputs": [],
   "source": [
    "TEST_SIZE = 0.15\n",
    "X_train, X_test, Y_train, Y_test = train_test_split(X, Y, test_size=TEST_SIZE, random_state=42)"
   ]
  },
  {
   "cell_type": "code",
   "execution_count": 177,
   "metadata": {
    "id": "9_znvpYg568I"
   },
   "outputs": [],
   "source": [
    "VALID_SIZE = 0.15\n",
    "X_train, X_validation, Y_train, Y_validation = train_test_split(X_train, Y_train, test_size=VALID_SIZE, random_state=42)"
   ]
  },
  {
   "cell_type": "code",
   "execution_count": 178,
   "metadata": {
    "colab": {
     "base_uri": "https://localhost:8080/"
    },
    "id": "vPLjGGiu565K",
    "outputId": "ac4ced4e-7608-4a93-b6e8-5a259d359ad1"
   },
   "outputs": [
    {
     "name": "stdout",
     "output_type": "stream",
     "text": [
      "(6434, 100)\n",
      "(6434, 100, 18)\n",
      "(1336, 100)\n",
      "(1336, 100, 18)\n",
      "(1136, 100)\n",
      "(1136, 100, 18)\n"
     ]
    }
   ],
   "source": [
    "for i in [X_train, Y_train, X_test, Y_test, X_validation, Y_validation]:\n",
    "  print(i.shape)"
   ]
  },
  {
   "cell_type": "markdown",
   "metadata": {
    "id": "9qpZm-Q18rI7"
   },
   "source": [
    "# Models"
   ]
  },
  {
   "cell_type": "markdown",
   "metadata": {
    "id": "pahtY9Mm85jx"
   },
   "source": [
    "### RNN"
   ]
  },
  {
   "cell_type": "code",
   "execution_count": 180,
   "metadata": {
    "id": "H9DuhmLj562g"
   },
   "outputs": [],
   "source": [
    "NUM_CLASSES = Y.shape[2]"
   ]
  },
  {
   "cell_type": "code",
   "execution_count": 181,
   "metadata": {
    "id": "LxUbkv3Z56xh"
   },
   "outputs": [],
   "source": [
    "rnn_model = Sequential([\n",
    "    Embedding(input_dim = VOCABULARY_SIZE, output_dim = EMBEDDING_SIZE, input_length = MAX_SEQ_LENGTH, trainable = False),\n",
    "    SimpleRNN(64, return_sequences=True),\n",
    "    TimeDistributed(Dense(NUM_CLASSES, activation='softmax'))\n",
    "])"
   ]
  },
  {
   "cell_type": "code",
   "execution_count": 183,
   "metadata": {
    "id": "HCLooUOB56uw"
   },
   "outputs": [],
   "source": [
    "rnn_model.compile(loss = 'categorical_crossentropy', optimizer =  'adam', metrics = ['acc'])"
   ]
  },
  {
   "cell_type": "code",
   "execution_count": 185,
   "metadata": {
    "colab": {
     "base_uri": "https://localhost:8080/"
    },
    "id": "aG-Mae32-A0y",
    "outputId": "128e6efe-b5b9-425e-d443-ae6d20631c39"
   },
   "outputs": [
    {
     "name": "stdout",
     "output_type": "stream",
     "text": [
      "Model: \"sequential\"\n",
      "_________________________________________________________________\n",
      " Layer (type)                Output Shape              Param #   \n",
      "=================================================================\n",
      " embedding_1 (Embedding)     (None, 100, 300)          10308000  \n",
      "                                                                 \n",
      " simple_rnn_1 (SimpleRNN)    (None, 100, 64)           23360     \n",
      "                                                                 \n",
      " time_distributed (TimeDistr  (None, 100, 18)          1170      \n",
      " ibuted)                                                         \n",
      "                                                                 \n",
      "=================================================================\n",
      "Total params: 10,332,530\n",
      "Trainable params: 24,530\n",
      "Non-trainable params: 10,308,000\n",
      "_________________________________________________________________\n"
     ]
    }
   ],
   "source": [
    "rnn_model.summary()"
   ]
  },
  {
   "cell_type": "code",
   "execution_count": 186,
   "metadata": {
    "colab": {
     "base_uri": "https://localhost:8080/"
    },
    "id": "e_m0ILsF-IAF",
    "outputId": "80454a29-fcc9-45b1-ac10-96a89cb3da68"
   },
   "outputs": [
    {
     "name": "stdout",
     "output_type": "stream",
     "text": [
      "Epoch 1/10\n",
      "51/51 [==============================] - 9s 135ms/step - loss: 1.0191 - acc: 0.7840 - val_loss: 0.5880 - val_acc: 0.8511\n",
      "Epoch 2/10\n",
      "51/51 [==============================] - 7s 134ms/step - loss: 0.5122 - acc: 0.8714 - val_loss: 0.4767 - val_acc: 0.8834\n",
      "Epoch 3/10\n",
      "51/51 [==============================] - 5s 101ms/step - loss: 0.4471 - acc: 0.8879 - val_loss: 0.4333 - val_acc: 0.8870\n",
      "Epoch 4/10\n",
      "51/51 [==============================] - 8s 153ms/step - loss: 0.4309 - acc: 0.8886 - val_loss: 0.4108 - val_acc: 0.8898\n",
      "Epoch 5/10\n",
      "51/51 [==============================] - 6s 123ms/step - loss: 0.3912 - acc: 0.8923 - val_loss: 0.3862 - val_acc: 0.8910\n",
      "Epoch 6/10\n",
      "51/51 [==============================] - 6s 110ms/step - loss: 0.3686 - acc: 0.8936 - val_loss: 0.3652 - val_acc: 0.8924\n",
      "Epoch 7/10\n",
      "51/51 [==============================] - 9s 167ms/step - loss: 0.3490 - acc: 0.8962 - val_loss: 0.3741 - val_acc: 0.8945\n",
      "Epoch 8/10\n",
      "51/51 [==============================] - 5s 102ms/step - loss: 0.3376 - acc: 0.8998 - val_loss: 0.3322 - val_acc: 0.8994\n",
      "Epoch 9/10\n",
      "51/51 [==============================] - 8s 157ms/step - loss: 0.3182 - acc: 0.9037 - val_loss: 0.3174 - val_acc: 0.9041\n",
      "Epoch 10/10\n",
      "51/51 [==============================] - 7s 128ms/step - loss: 0.3049 - acc: 0.9082 - val_loss: 0.3049 - val_acc: 0.9081\n"
     ]
    }
   ],
   "source": [
    "rnn_training = rnn_model.fit(X_train, Y_train, batch_size=128, epochs=10, validation_data=(X_validation, Y_validation))"
   ]
  },
  {
   "cell_type": "code",
   "execution_count": 187,
   "metadata": {
    "colab": {
     "base_uri": "https://localhost:8080/",
     "height": 472
    },
    "id": "H-iZ4DbY-cND",
    "outputId": "2d490de1-7fe7-4b5e-dca4-8725a52ce4cd"
   },
   "outputs": [
    {
     "data": {
      "image/png": "[encoded data removed]",
      "text/plain": [
       "<Figure size 640x480 with 1 Axes>"
      ]
     },
     "metadata": {},
     "output_type": "display_data"
    }
   ],
   "source": [
    "plt.plot(rnn_training.history['acc'])\n",
    "plt.plot(rnn_training.history['val_acc'])\n",
    "plt.title('model accuracy')\n",
    "plt.ylabel('accuracy')\n",
    "plt.xlabel('epoch')\n",
    "plt.legend(['train', 'test'], loc=\"lower right\")\n",
    "plt.show()"
   ]
  },
  {
   "cell_type": "markdown",
   "metadata": {
    "id": "37PEfgJB-tWZ"
   },
   "source": [
    "неплохо идет, можно еще эпох добавить"
   ]
  },
  {
   "cell_type": "markdown",
   "metadata": {
    "id": "VdFoPd__-790"
   },
   "source": [
    "Та же RNN, но с изменяемыми эмбедингами"
   ]
  },
  {
   "cell_type": "code",
   "execution_count": 188,
   "metadata": {
    "id": "FA6pg4Kn56ry"
   },
   "outputs": [],
   "source": [
    "rnn_model = Sequential([\n",
    "    Embedding(input_dim = VOCABULARY_SIZE, output_dim = EMBEDDING_SIZE, input_length = MAX_SEQ_LENGTH, trainable = True),\n",
    "    SimpleRNN(64, return_sequences=True),\n",
    "    TimeDistributed(Dense(NUM_CLASSES, activation='softmax'))\n",
    "])"
   ]
  },
  {
   "cell_type": "code",
   "execution_count": 189,
   "metadata": {
    "id": "Z7274pAY_Kbh"
   },
   "outputs": [],
   "source": [
    "rnn_model.compile(loss = 'categorical_crossentropy', optimizer =  'adam', metrics = ['acc'])"
   ]
  },
  {
   "cell_type": "code",
   "execution_count": 190,
   "metadata": {
    "colab": {
     "base_uri": "https://localhost:8080/"
    },
    "id": "Nip8h1Sh_KYO",
    "outputId": "2409be31-adc5-4b23-cf74-4f211475e978"
   },
   "outputs": [
    {
     "name": "stdout",
     "output_type": "stream",
     "text": [
      "Model: \"sequential_1\"\n",
      "_________________________________________________________________\n",
      " Layer (type)                Output Shape              Param #   \n",
      "=================================================================\n",
      " embedding_2 (Embedding)     (None, 100, 300)          10308000  \n",
      "                                                                 \n",
      " simple_rnn_2 (SimpleRNN)    (None, 100, 64)           23360     \n",
      "                                                                 \n",
      " time_distributed_1 (TimeDis  (None, 100, 18)          1170      \n",
      " tributed)                                                       \n",
      "                                                                 \n",
      "=================================================================\n",
      "Total params: 10,332,530\n",
      "Trainable params: 10,332,530\n",
      "Non-trainable params: 0\n",
      "_________________________________________________________________\n"
     ]
    }
   ],
   "source": [
    "rnn_model.summary()"
   ]
  },
  {
   "cell_type": "code",
   "execution_count": 191,
   "metadata": {
    "colab": {
     "base_uri": "https://localhost:8080/"
    },
    "id": "nBiC3dNk_KVM",
    "outputId": "238898a2-f261-414e-8f3f-1cf27a0a163f"
   },
   "outputs": [
    {
     "name": "stdout",
     "output_type": "stream",
     "text": [
      "Epoch 1/10\n",
      "51/51 [==============================] - 34s 652ms/step - loss: 0.8769 - acc: 0.7951 - val_loss: 0.4952 - val_acc: 0.8825\n",
      "Epoch 2/10\n",
      "51/51 [==============================] - 24s 474ms/step - loss: 0.3740 - acc: 0.9119 - val_loss: 0.2919 - val_acc: 0.9209\n",
      "Epoch 3/10\n",
      "51/51 [==============================] - 24s 476ms/step - loss: 0.2252 - acc: 0.9406 - val_loss: 0.1973 - val_acc: 0.9490\n",
      "Epoch 4/10\n",
      "51/51 [==============================] - 25s 481ms/step - loss: 0.1438 - acc: 0.9659 - val_loss: 0.1399 - val_acc: 0.9642\n",
      "Epoch 5/10\n",
      "51/51 [==============================] - 22s 439ms/step - loss: 0.0913 - acc: 0.9819 - val_loss: 0.1064 - val_acc: 0.9713\n",
      "Epoch 6/10\n",
      "51/51 [==============================] - 24s 472ms/step - loss: 0.0588 - acc: 0.9893 - val_loss: 0.0877 - val_acc: 0.9751\n",
      "Epoch 7/10\n",
      "51/51 [==============================] - 26s 507ms/step - loss: 0.0394 - acc: 0.9931 - val_loss: 0.0775 - val_acc: 0.9768\n",
      "Epoch 8/10\n",
      "51/51 [==============================] - 23s 462ms/step - loss: 0.0284 - acc: 0.9946 - val_loss: 0.0719 - val_acc: 0.9778\n",
      "Epoch 9/10\n",
      "51/51 [==============================] - 25s 495ms/step - loss: 0.0219 - acc: 0.9955 - val_loss: 0.0688 - val_acc: 0.9782\n",
      "Epoch 10/10\n",
      "51/51 [==============================] - 26s 498ms/step - loss: 0.0180 - acc: 0.9960 - val_loss: 0.0668 - val_acc: 0.9784\n"
     ]
    }
   ],
   "source": [
    "rnn_training = rnn_model.fit(X_train, Y_train, batch_size=128, epochs=10, validation_data=(X_validation, Y_validation))"
   ]
  },
  {
   "cell_type": "code",
   "execution_count": 192,
   "metadata": {
    "colab": {
     "base_uri": "https://localhost:8080/",
     "height": 472
    },
    "id": "AnnXCAl3_KSk",
    "outputId": "2e550d77-10bc-43d9-9420-b27ad8acccb7"
   },
   "outputs": [
    {
     "data": {
      "image/png": "[encoded data removed]",
      "text/plain": [
       "<Figure size 640x480 with 1 Axes>"
      ]
     },
     "metadata": {},
     "output_type": "display_data"
    }
   ],
   "source": [
    "plt.plot(rnn_training.history['acc'])\n",
    "plt.plot(rnn_training.history['val_acc'])\n",
    "plt.title('model accuracy')\n",
    "plt.ylabel('accuracy')\n",
    "plt.xlabel('epoch')\n",
    "plt.legend(['train', 'test'], loc=\"lower right\")\n",
    "plt.show()"
   ]
  },
  {
   "cell_type": "markdown",
   "metadata": {
    "id": "t89nharRATyh"
   },
   "source": [
    "В 20 раз медленнее учится, зато точность 0.98. На трейне точность 0.99, разница между трейном и тестом не драматичная, предлагаю не считать это переобучением."
   ]
  },
  {
   "cell_type": "markdown",
   "metadata": {
    "id": "qgc3OrIsBG9h"
   },
   "source": [
    "Та же RNN, но с весами эмбедингов от word2vec"
   ]
  },
  {
   "cell_type": "code",
   "execution_count": 193,
   "metadata": {
    "colab": {
     "base_uri": "https://localhost:8080/"
    },
    "id": "bH2-RnI1_KP5",
    "outputId": "7cd9142f-5699-4b06-e369-a122df14acde"
   },
   "outputs": [
    {
     "name": "stdout",
     "output_type": "stream",
     "text": [
      "Model: \"sequential_2\"\n",
      "_________________________________________________________________\n",
      " Layer (type)                Output Shape              Param #   \n",
      "=================================================================\n",
      " embedding_3 (Embedding)     (None, 100, 300)          10308000  \n",
      "                                                                 \n",
      " simple_rnn_3 (SimpleRNN)    (None, 100, 64)           23360     \n",
      "                                                                 \n",
      " time_distributed_2 (TimeDis  (None, 100, 18)          1170      \n",
      " tributed)                                                       \n",
      "                                                                 \n",
      "=================================================================\n",
      "Total params: 10,332,530\n",
      "Trainable params: 10,332,530\n",
      "Non-trainable params: 0\n",
      "_________________________________________________________________\n"
     ]
    }
   ],
   "source": [
    "rnn_model = Sequential([\n",
    "    Embedding(input_dim = VOCABULARY_SIZE, output_dim = EMBEDDING_SIZE, input_length = MAX_SEQ_LENGTH, weights = [embedding_weights], trainable = True),\n",
    "    SimpleRNN(64, return_sequences=True),\n",
    "    TimeDistributed(Dense(NUM_CLASSES, activation='softmax'))\n",
    "])\n",
    "\n",
    "rnn_model.compile(loss = 'categorical_crossentropy', optimizer =  'adam', metrics = ['acc'])\n",
    "\n",
    "rnn_model.summary()"
   ]
  },
  {
   "cell_type": "code",
   "execution_count": 194,
   "metadata": {
    "colab": {
     "base_uri": "https://localhost:8080/"
    },
    "id": "KrrDIBmK_KNR",
    "outputId": "a1746f7f-7bc5-4a17-f6a9-b22a30ecb478"
   },
   "outputs": [
    {
     "name": "stdout",
     "output_type": "stream",
     "text": [
      "Epoch 1/10\n",
      "51/51 [==============================] - 29s 510ms/step - loss: 0.8997 - acc: 0.8837 - val_loss: 0.3538 - val_acc: 0.9240\n",
      "Epoch 2/10\n",
      "51/51 [==============================] - 25s 483ms/step - loss: 0.2801 - acc: 0.9349 - val_loss: 0.2376 - val_acc: 0.9398\n",
      "Epoch 3/10\n",
      "51/51 [==============================] - 26s 501ms/step - loss: 0.1911 - acc: 0.9493 - val_loss: 0.1733 - val_acc: 0.9528\n",
      "Epoch 4/10\n",
      "51/51 [==============================] - 23s 443ms/step - loss: 0.1273 - acc: 0.9683 - val_loss: 0.1272 - val_acc: 0.9662\n",
      "Epoch 5/10\n",
      "51/51 [==============================] - 25s 490ms/step - loss: 0.0807 - acc: 0.9832 - val_loss: 0.0991 - val_acc: 0.9727\n",
      "Epoch 6/10\n",
      "51/51 [==============================] - 24s 463ms/step - loss: 0.0513 - acc: 0.9903 - val_loss: 0.0837 - val_acc: 0.9760\n",
      "Epoch 7/10\n",
      "51/51 [==============================] - 26s 516ms/step - loss: 0.0345 - acc: 0.9937 - val_loss: 0.0754 - val_acc: 0.9774\n",
      "Epoch 8/10\n",
      "51/51 [==============================] - 31s 614ms/step - loss: 0.0253 - acc: 0.9950 - val_loss: 0.0711 - val_acc: 0.9780\n",
      "Epoch 9/10\n",
      "51/51 [==============================] - 29s 570ms/step - loss: 0.0201 - acc: 0.9955 - val_loss: 0.0687 - val_acc: 0.9785\n",
      "Epoch 10/10\n",
      "51/51 [==============================] - 36s 703ms/step - loss: 0.0169 - acc: 0.9959 - val_loss: 0.0671 - val_acc: 0.9786\n"
     ]
    }
   ],
   "source": [
    "rnn_training = rnn_model.fit(X_train, Y_train, batch_size=128, epochs=10, validation_data=(X_validation, Y_validation))"
   ]
  },
  {
   "cell_type": "code",
   "execution_count": 195,
   "metadata": {
    "colab": {
     "base_uri": "https://localhost:8080/",
     "height": 472
    },
    "id": "4EE2WUswCbU0",
    "outputId": "8fd497ee-e0f8-4425-c07b-17e61da0dc2a"
   },
   "outputs": [
    {
     "data": {
      "image/png": "[encoded data removed]",
      "text/plain": [
       "<Figure size 640x480 with 1 Axes>"
      ]
     },
     "metadata": {},
     "output_type": "display_data"
    }
   ],
   "source": [
    "plt.plot(rnn_training.history['acc'])\n",
    "plt.plot(rnn_training.history['val_acc'])\n",
    "plt.title('model accuracy')\n",
    "plt.ylabel('accuracy')\n",
    "plt.xlabel('epoch')\n",
    "plt.legend(['train', 'test'], loc=\"lower right\")\n",
    "plt.show()"
   ]
  },
  {
   "cell_type": "markdown",
   "metadata": {
    "id": "snmk-PgfCC0A"
   },
   "source": [
    "LSTM\n",
    "\n",
    "Буду использовать веса от word2vec, эмбединги будут обучаться"
   ]
  },
  {
   "cell_type": "code",
   "execution_count": 196,
   "metadata": {
    "colab": {
     "base_uri": "https://localhost:8080/"
    },
    "id": "PuZAkPDC_KJg",
    "outputId": "546c7a2a-d4f3-4f5a-82ea-1f14ee092fe8"
   },
   "outputs": [
    {
     "name": "stdout",
     "output_type": "stream",
     "text": [
      "Model: \"sequential_3\"\n",
      "_________________________________________________________________\n",
      " Layer (type)                Output Shape              Param #   \n",
      "=================================================================\n",
      " embedding_4 (Embedding)     (None, 100, 300)          10308000  \n",
      "                                                                 \n",
      " lstm (LSTM)                 (None, 100, 64)           93440     \n",
      "                                                                 \n",
      " time_distributed_3 (TimeDis  (None, 100, 18)          1170      \n",
      " tributed)                                                       \n",
      "                                                                 \n",
      "=================================================================\n",
      "Total params: 10,402,610\n",
      "Trainable params: 10,402,610\n",
      "Non-trainable params: 0\n",
      "_________________________________________________________________\n"
     ]
    }
   ],
   "source": [
    "lstm_model = Sequential([\n",
    "    Embedding(input_dim = VOCABULARY_SIZE, output_dim = EMBEDDING_SIZE, input_length = MAX_SEQ_LENGTH, weights = [embedding_weights], trainable = True),\n",
    "    LSTM(64, return_sequences=True),\n",
    "    TimeDistributed(Dense(NUM_CLASSES, activation='softmax'))\n",
    "])\n",
    "\n",
    "lstm_model.compile(loss = 'categorical_crossentropy', optimizer =  'adam', metrics = ['acc'])\n",
    "\n",
    "lstm_model.summary()"
   ]
  },
  {
   "cell_type": "code",
   "execution_count": 197,
   "metadata": {
    "colab": {
     "base_uri": "https://localhost:8080/"
    },
    "id": "UOu7-LtD_KG8",
    "outputId": "cc324658-b965-4fbc-fc6f-6d3a70653d3f"
   },
   "outputs": [
    {
     "name": "stdout",
     "output_type": "stream",
     "text": [
      "Epoch 1/10\n",
      "51/51 [==============================] - 49s 887ms/step - loss: 1.1442 - acc: 0.8592 - val_loss: 0.4523 - val_acc: 0.8856\n",
      "Epoch 2/10\n",
      "51/51 [==============================] - 56s 1s/step - loss: 0.3642 - acc: 0.9104 - val_loss: 0.3081 - val_acc: 0.9188\n",
      "Epoch 3/10\n",
      "51/51 [==============================] - 44s 869ms/step - loss: 0.2649 - acc: 0.9283 - val_loss: 0.2397 - val_acc: 0.9353\n",
      "Epoch 4/10\n",
      "51/51 [==============================] - 44s 874ms/step - loss: 0.2103 - acc: 0.9412 - val_loss: 0.1976 - val_acc: 0.9435\n",
      "Epoch 5/10\n",
      "51/51 [==============================] - 44s 850ms/step - loss: 0.1669 - acc: 0.9511 - val_loss: 0.1585 - val_acc: 0.9525\n",
      "Epoch 6/10\n",
      "51/51 [==============================] - 38s 746ms/step - loss: 0.1270 - acc: 0.9627 - val_loss: 0.1264 - val_acc: 0.9636\n",
      "Epoch 7/10\n",
      "51/51 [==============================] - 35s 690ms/step - loss: 0.0905 - acc: 0.9796 - val_loss: 0.1011 - val_acc: 0.9708\n",
      "Epoch 8/10\n",
      "51/51 [==============================] - 38s 748ms/step - loss: 0.0610 - acc: 0.9877 - val_loss: 0.0841 - val_acc: 0.9750\n",
      "Epoch 9/10\n",
      "51/51 [==============================] - 38s 757ms/step - loss: 0.0421 - acc: 0.9919 - val_loss: 0.0743 - val_acc: 0.9771\n",
      "Epoch 10/10\n",
      "51/51 [==============================] - 38s 756ms/step - loss: 0.0315 - acc: 0.9936 - val_loss: 0.0685 - val_acc: 0.9779\n"
     ]
    }
   ],
   "source": [
    "lstm_training = lstm_model.fit(X_train, Y_train, batch_size=128, epochs=10, validation_data=(X_validation, Y_validation))"
   ]
  },
  {
   "cell_type": "code",
   "execution_count": 198,
   "metadata": {
    "colab": {
     "base_uri": "https://localhost:8080/",
     "height": 472
    },
    "id": "sLDvDeJH_KEC",
    "outputId": "8d47afe8-9963-44cd-8446-cd3dc4fd15ec"
   },
   "outputs": [
    {
     "data": {
      "image/png": "[encoded data removed]",
      "text/plain": [
       "<Figure size 640x480 with 1 Axes>"
      ]
     },
     "metadata": {},
     "output_type": "display_data"
    }
   ],
   "source": [
    "plt.plot(lstm_training.history['acc'])\n",
    "plt.plot(lstm_training.history['val_acc'])\n",
    "plt.title('model accuracy')\n",
    "plt.ylabel('accuracy')\n",
    "plt.xlabel('epoch')\n",
    "plt.legend(['train', 'test'], loc=\"lower right\")\n",
    "plt.show()"
   ]
  },
  {
   "cell_type": "markdown",
   "metadata": {
    "id": "oH445YSCDk-m"
   },
   "source": [
    "GRU"
   ]
  },
  {
   "cell_type": "code",
   "execution_count": 199,
   "metadata": {
    "colab": {
     "base_uri": "https://localhost:8080/"
    },
    "id": "xMlcSeJD_KBL",
    "outputId": "5c77bad7-6b59-4d5c-8894-9d2a08db3430"
   },
   "outputs": [
    {
     "name": "stdout",
     "output_type": "stream",
     "text": [
      "Model: \"sequential_4\"\n",
      "_________________________________________________________________\n",
      " Layer (type)                Output Shape              Param #   \n",
      "=================================================================\n",
      " embedding_5 (Embedding)     (None, 100, 300)          10308000  \n",
      "                                                                 \n",
      " gru (GRU)                   (None, 100, 64)           70272     \n",
      "                                                                 \n",
      " time_distributed_4 (TimeDis  (None, 100, 18)          1170      \n",
      " tributed)                                                       \n",
      "                                                                 \n",
      "=================================================================\n",
      "Total params: 10,379,442\n",
      "Trainable params: 10,379,442\n",
      "Non-trainable params: 0\n",
      "_________________________________________________________________\n"
     ]
    }
   ],
   "source": [
    "gru_model = Sequential([\n",
    "    Embedding(input_dim = VOCABULARY_SIZE, output_dim = EMBEDDING_SIZE, input_length = MAX_SEQ_LENGTH, weights = [embedding_weights], trainable = True),\n",
    "    GRU(64, return_sequences=True),\n",
    "    TimeDistributed(Dense(NUM_CLASSES, activation='softmax'))\n",
    "])\n",
    "\n",
    "gru_model.compile(loss = 'categorical_crossentropy', optimizer = 'adam', metrics = ['acc'])\n",
    "\n",
    "gru_model.summary()"
   ]
  },
  {
   "cell_type": "code",
   "execution_count": 200,
   "metadata": {
    "colab": {
     "base_uri": "https://localhost:8080/"
    },
    "id": "SuXRkH3RD2L8",
    "outputId": "a22d5a8e-4100-4bc2-bbef-361c7baac67a"
   },
   "outputs": [
    {
     "name": "stdout",
     "output_type": "stream",
     "text": [
      "Epoch 1/10\n",
      "51/51 [==============================] - 40s 714ms/step - loss: 1.0933 - acc: 0.8797 - val_loss: 0.3542 - val_acc: 0.9052\n",
      "Epoch 2/10\n",
      "51/51 [==============================] - 38s 753ms/step - loss: 0.2795 - acc: 0.9298 - val_loss: 0.2364 - val_acc: 0.9373\n",
      "Epoch 3/10\n",
      "51/51 [==============================] - 38s 747ms/step - loss: 0.1946 - acc: 0.9454 - val_loss: 0.1768 - val_acc: 0.9483\n",
      "Epoch 4/10\n",
      "51/51 [==============================] - 38s 745ms/step - loss: 0.1362 - acc: 0.9612 - val_loss: 0.1305 - val_acc: 0.9634\n",
      "Epoch 5/10\n",
      "51/51 [==============================] - 38s 746ms/step - loss: 0.0875 - acc: 0.9801 - val_loss: 0.0991 - val_acc: 0.9714\n",
      "Epoch 6/10\n",
      "51/51 [==============================] - 39s 759ms/step - loss: 0.0544 - acc: 0.9889 - val_loss: 0.0811 - val_acc: 0.9756\n",
      "Epoch 7/10\n",
      "51/51 [==============================] - 46s 913ms/step - loss: 0.0355 - acc: 0.9929 - val_loss: 0.0723 - val_acc: 0.9769\n",
      "Epoch 8/10\n",
      "51/51 [==============================] - 41s 802ms/step - loss: 0.0258 - acc: 0.9941 - val_loss: 0.0677 - val_acc: 0.9777\n",
      "Epoch 9/10\n",
      "51/51 [==============================] - 39s 759ms/step - loss: 0.0208 - acc: 0.9948 - val_loss: 0.0653 - val_acc: 0.9779\n",
      "Epoch 10/10\n",
      "51/51 [==============================] - 37s 727ms/step - loss: 0.0178 - acc: 0.9950 - val_loss: 0.0639 - val_acc: 0.9782\n"
     ]
    }
   ],
   "source": [
    "gru_training = gru_model.fit(X_train, Y_train, batch_size=128, epochs=10, validation_data=(X_validation, Y_validation))"
   ]
  },
  {
   "cell_type": "code",
   "execution_count": 201,
   "metadata": {
    "colab": {
     "base_uri": "https://localhost:8080/",
     "height": 472
    },
    "id": "befNrbN3ELSu",
    "outputId": "7dd29b54-58b4-4a98-c429-ddec8588e3df"
   },
   "outputs": [
    {
     "data": {
      "image/png": "[encoded data removed]",
      "text/plain": [
       "<Figure size 640x480 with 1 Axes>"
      ]
     },
     "metadata": {},
     "output_type": "display_data"
    }
   ],
   "source": [
    "plt.plot(gru_training.history['acc'])\n",
    "plt.plot(gru_training.history['val_acc'])\n",
    "plt.title('model accuracy')\n",
    "plt.ylabel('accuracy')\n",
    "plt.xlabel('epoch')\n",
    "plt.legend(['train', 'test'], loc=\"lower right\")\n",
    "plt.show()"
   ]
  },
  {
   "cell_type": "markdown",
   "metadata": {
    "id": "dyp3x--uEy12"
   },
   "source": [
    "BidirectionalLSTM"
   ]
  },
  {
   "cell_type": "code",
   "execution_count": 202,
   "metadata": {
    "colab": {
     "base_uri": "https://localhost:8080/"
    },
    "id": "BAIa0qwCEj2D",
    "outputId": "2850e504-8add-44b3-a033-119ba4a4a315"
   },
   "outputs": [
    {
     "name": "stdout",
     "output_type": "stream",
     "text": [
      "Model: \"sequential_5\"\n",
      "_________________________________________________________________\n",
      " Layer (type)                Output Shape              Param #   \n",
      "=================================================================\n",
      " embedding_6 (Embedding)     (None, 100, 300)          10308000  \n",
      "                                                                 \n",
      " bidirectional (Bidirectiona  (None, 100, 128)         186880    \n",
      " l)                                                              \n",
      "                                                                 \n",
      " time_distributed_5 (TimeDis  (None, 100, 18)          2322      \n",
      " tributed)                                                       \n",
      "                                                                 \n",
      "=================================================================\n",
      "Total params: 10,497,202\n",
      "Trainable params: 10,497,202\n",
      "Non-trainable params: 0\n",
      "_________________________________________________________________\n"
     ]
    }
   ],
   "source": [
    "blstm_model = Sequential([\n",
    "    Embedding(input_dim = VOCABULARY_SIZE, output_dim = EMBEDDING_SIZE, input_length = MAX_SEQ_LENGTH, weights = [embedding_weights], trainable = True),\n",
    "    Bidirectional(LSTM(64, return_sequences=True)),\n",
    "    TimeDistributed(Dense(NUM_CLASSES, activation='softmax'))\n",
    "])\n",
    "\n",
    "blstm_model.compile(loss = 'categorical_crossentropy', optimizer = 'adam', metrics = ['acc'])\n",
    "\n",
    "blstm_model.summary()"
   ]
  },
  {
   "cell_type": "code",
   "execution_count": 203,
   "metadata": {
    "colab": {
     "base_uri": "https://localhost:8080/"
    },
    "id": "N2zV3Lk4Ejup",
    "outputId": "fd9be450-4497-48a1-ec94-4970d00d9a53"
   },
   "outputs": [
    {
     "name": "stdout",
     "output_type": "stream",
     "text": [
      "Epoch 1/10\n",
      "51/51 [==============================] - 65s 1s/step - loss: 0.9622 - acc: 0.8633 - val_loss: 0.3223 - val_acc: 0.9087\n",
      "Epoch 2/10\n",
      "51/51 [==============================] - 62s 1s/step - loss: 0.2589 - acc: 0.9249 - val_loss: 0.2224 - val_acc: 0.9338\n",
      "Epoch 3/10\n",
      "51/51 [==============================] - 63s 1s/step - loss: 0.1920 - acc: 0.9399 - val_loss: 0.1761 - val_acc: 0.9429\n",
      "Epoch 4/10\n",
      "51/51 [==============================] - 59s 1s/step - loss: 0.1485 - acc: 0.9520 - val_loss: 0.1357 - val_acc: 0.9564\n",
      "Epoch 5/10\n",
      "51/51 [==============================] - 67s 1s/step - loss: 0.1053 - acc: 0.9694 - val_loss: 0.1006 - val_acc: 0.9688\n",
      "Epoch 6/10\n",
      "51/51 [==============================] - 62s 1s/step - loss: 0.0664 - acc: 0.9846 - val_loss: 0.0773 - val_acc: 0.9758\n",
      "Epoch 7/10\n",
      "51/51 [==============================] - 66s 1s/step - loss: 0.0405 - acc: 0.9919 - val_loss: 0.0654 - val_acc: 0.9784\n",
      "Epoch 8/10\n",
      "51/51 [==============================] - 58s 1s/step - loss: 0.0269 - acc: 0.9943 - val_loss: 0.0598 - val_acc: 0.9795\n",
      "Epoch 9/10\n",
      "51/51 [==============================] - 60s 1s/step - loss: 0.0203 - acc: 0.9953 - val_loss: 0.0568 - val_acc: 0.9803\n",
      "Epoch 10/10\n",
      "51/51 [==============================] - 55s 1s/step - loss: 0.0167 - acc: 0.9958 - val_loss: 0.0558 - val_acc: 0.9807\n"
     ]
    }
   ],
   "source": [
    "blstm_training = blstm_model.fit(X_train, Y_train, batch_size=128, epochs=10, validation_data=(X_validation, Y_validation))"
   ]
  },
  {
   "cell_type": "code",
   "execution_count": 204,
   "metadata": {
    "colab": {
     "base_uri": "https://localhost:8080/",
     "height": 472
    },
    "id": "86r3amorEjr8",
    "outputId": "6d26380d-f2c1-4bcd-b786-c7897be5037a"
   },
   "outputs": [
    {
     "data": {
      "image/png": "[encoded data removed]",
      "text/plain": [
       "<Figure size 640x480 with 1 Axes>"
      ]
     },
     "metadata": {},
     "output_type": "display_data"
    }
   ],
   "source": [
    "plt.plot(blstm_training.history['acc'])\n",
    "plt.plot(blstm_training.history['val_acc'])\n",
    "plt.title('model accuracy')\n",
    "plt.ylabel('accuracy')\n",
    "plt.xlabel('epoch')\n",
    "plt.legend(['train', 'test'], loc=\"lower right\")\n",
    "plt.show()"
   ]
  },
  {
   "cell_type": "markdown",
   "metadata": {
    "id": "n4FYSzdLIDRd"
   },
   "source": [
    "Оценка результатов"
   ]
  },
  {
   "cell_type": "code",
   "execution_count": 205,
   "metadata": {
    "id": "ZOb-EbwnEjot"
   },
   "outputs": [],
   "source": [
    "result_df = pd.DataFrame(columns=['loss', 'accuracy'])"
   ]
  },
  {
   "cell_type": "code",
   "execution_count": 206,
   "metadata": {
    "colab": {
     "base_uri": "https://localhost:8080/"
    },
    "id": "rIsf9suCEjlk",
    "outputId": "d3705516-c595-4288-fc04-c8208074e07e"
   },
   "outputs": [
    {
     "name": "stdout",
     "output_type": "stream",
     "text": [
      "42/42 [==============================] - 1s 15ms/step - loss: 0.0697 - acc: 0.9775\n"
     ]
    }
   ],
   "source": [
    "\n",
    "loss, accuracy = rnn_model.evaluate(X_test, Y_test, verbose = 1)"
   ]
  },
  {
   "cell_type": "code",
   "execution_count": 207,
   "metadata": {
    "id": "KdemXBKXIYq3"
   },
   "outputs": [],
   "source": [
    "result_df.loc['RNN'] = [loss, accuracy]"
   ]
  },
  {
   "cell_type": "code",
   "execution_count": 208,
   "metadata": {
    "colab": {
     "base_uri": "https://localhost:8080/"
    },
    "id": "CXrNwFsxJnZR",
    "outputId": "4b1c0d24-9e0e-4790-9007-6420ccc3102c"
   },
   "outputs": [
    {
     "name": "stdout",
     "output_type": "stream",
     "text": [
      "42/42 [==============================] - 2s 43ms/step - loss: 0.0713 - acc: 0.9768\n"
     ]
    }
   ],
   "source": [
    "loss, accuracy = lstm_model.evaluate(X_test, Y_test, verbose = 1)\n",
    "result_df.loc['LSTM'] = [loss, accuracy]"
   ]
  },
  {
   "cell_type": "code",
   "execution_count": 209,
   "metadata": {
    "colab": {
     "base_uri": "https://localhost:8080/"
    },
    "id": "qM1uslFyJs27",
    "outputId": "32cfcbe8-16bf-4733-ada8-cfbdf6f829eb"
   },
   "outputs": [
    {
     "name": "stdout",
     "output_type": "stream",
     "text": [
      "42/42 [==============================] - 2s 38ms/step - loss: 0.0665 - acc: 0.9774\n"
     ]
    }
   ],
   "source": [
    "loss, accuracy = gru_model.evaluate(X_test, Y_test, verbose = 1)\n",
    "result_df.loc['GRU'] = [loss, accuracy]"
   ]
  },
  {
   "cell_type": "code",
   "execution_count": 210,
   "metadata": {
    "colab": {
     "base_uri": "https://localhost:8080/"
    },
    "id": "oXUPys3IJwi3",
    "outputId": "fee56149-78b7-4e5d-da31-a6eb0967345c"
   },
   "outputs": [
    {
     "name": "stdout",
     "output_type": "stream",
     "text": [
      "42/42 [==============================] - 5s 120ms/step - loss: 0.0572 - acc: 0.9803\n"
     ]
    }
   ],
   "source": [
    "loss, accuracy = blstm_model.evaluate(X_test, Y_test, verbose = 1)\n",
    "result_df.loc['BLSTM'] = [loss, accuracy]"
   ]
  },
  {
   "cell_type": "code",
   "execution_count": 211,
   "metadata": {
    "colab": {
     "base_uri": "https://localhost:8080/",
     "height": 175
    },
    "id": "DOgRRjXWJ-wW",
    "outputId": "e0b57062-2296-4386-f3bd-d56e1d272dfd"
   },
   "outputs": [
    {
     "data": {
      "text/html": [
       "\n",
       "  <div id=\"df-c4ceaab2-0c64-45bc-a737-5c8891c2e4d4\" class=\"colab-df-container\">\n",
       "    <div>\n",
       "<style scoped>\n",
       "    .dataframe tbody tr th:only-of-type {\n",
       "        vertical-align: middle;\n",
       "    }\n",
       "\n",
       "    .dataframe tbody tr th {\n",
       "        vertical-align: top;\n",
       "    }\n",
       "\n",
       "    .dataframe thead th {\n",
       "        text-align: right;\n",
       "    }\n",
       "</style>\n",
       "<table border=\"1\" class=\"dataframe\">\n",
       "  <thead>\n",
       "    <tr style=\"text-align: right;\">\n",
       "      <th></th>\n",
       "      <th>loss</th>\n",
       "      <th>accuracy</th>\n",
       "    </tr>\n",
       "  </thead>\n",
       "  <tbody>\n",
       "    <tr>\n",
       "      <th>BLSTM</th>\n",
       "      <td>0.057178</td>\n",
       "      <td>0.980344</td>\n",
       "    </tr>\n",
       "    <tr>\n",
       "      <th>RNN</th>\n",
       "      <td>0.069746</td>\n",
       "      <td>0.977537</td>\n",
       "    </tr>\n",
       "    <tr>\n",
       "      <th>GRU</th>\n",
       "      <td>0.066513</td>\n",
       "      <td>0.977365</td>\n",
       "    </tr>\n",
       "    <tr>\n",
       "      <th>LSTM</th>\n",
       "      <td>0.071294</td>\n",
       "      <td>0.976774</td>\n",
       "    </tr>\n",
       "  </tbody>\n",
       "</table>\n",
       "</div>\n",
       "    <div class=\"colab-df-buttons\">\n",
       "\n",
       "  <div class=\"colab-df-container\">\n",
       "    <button class=\"colab-df-convert\" onclick=\"convertToInteractive('df-c4ceaab2-0c64-45bc-a737-5c8891c2e4d4')\"\n",
       "            title=\"Convert this dataframe to an interactive table.\"\n",
       "            style=\"display:none;\">\n",
       "\n",
       "  <svg xmlns=\"http://www.w3.org/2000/svg\" height=\"24px\" viewBox=\"0 -960 960 960\">\n",
       "    <path d=\"M120-120v-720h720v720H120Zm60-500h600v-160H180v160Zm220 220h160v-160H400v160Zm0 220h160v-160H400v160ZM180-400h160v-160H180v160Zm440 0h160v-160H620v160ZM180-180h160v-160H180v160Zm440 0h160v-160H620v160Z\"/>\n",
       "  </svg>\n",
       "    </button>\n",
       "\n",
       "  <style>\n",
       "    .colab-df-container {\n",
       "      display:flex;\n",
       "      gap: 12px;\n",
       "    }\n",
       "\n",
       "    .colab-df-convert {\n",
       "      background-color: #E8F0FE;\n",
       "      border: none;\n",
       "      border-radius: 50%;\n",
       "      cursor: pointer;\n",
       "      display: none;\n",
       "      fill: #1967D2;\n",
       "      height: 32px;\n",
       "      padding: 0 0 0 0;\n",
       "      width: 32px;\n",
       "    }\n",
       "\n",
       "    .colab-df-convert:hover {\n",
       "      background-color: #E2EBFA;\n",
       "      box-shadow: 0px 1px 2px rgba(60, 64, 67, 0.3), 0px 1px 3px 1px rgba(60, 64, 67, 0.15);\n",
       "      fill: #174EA6;\n",
       "    }\n",
       "\n",
       "    .colab-df-buttons div {\n",
       "      margin-bottom: 4px;\n",
       "    }\n",
       "\n",
       "    [theme=dark] .colab-df-convert {\n",
       "      background-color: #3B4455;\n",
       "      fill: #D2E3FC;\n",
       "    }\n",
       "\n",
       "    [theme=dark] .colab-df-convert:hover {\n",
       "      background-color: #434B5C;\n",
       "      box-shadow: 0px 1px 3px 1px rgba(0, 0, 0, 0.15);\n",
       "      filter: drop-shadow(0px 1px 2px rgba(0, 0, 0, 0.3));\n",
       "      fill: #FFFFFF;\n",
       "    }\n",
       "  </style>\n",
       "\n",
       "    <script>\n",
       "      const buttonEl =\n",
       "        document.querySelector('#df-c4ceaab2-0c64-45bc-a737-5c8891c2e4d4 button.colab-df-convert');\n",
       "      buttonEl.style.display =\n",
       "        google.colab.kernel.accessAllowed ? 'block' : 'none';\n",
       "\n",
       "      async function convertToInteractive(key) {\n",
       "        const element = document.querySelector('#df-c4ceaab2-0c64-45bc-a737-5c8891c2e4d4');\n",
       "        const dataTable =\n",
       "          await google.colab.kernel.invokeFunction('convertToInteractive',\n",
       "                                                    [key], {});\n",
       "        if (!dataTable) return;\n",
       "\n",
       "        const docLinkHtml = 'Like what you see? Visit the ' +\n",
       "          '<a target=\"_blank\" href=https://colab.research.google.com/notebooks/data_table.ipynb>data table notebook</a>'\n",
       "          + ' to learn more about interactive tables.';\n",
       "        element.innerHTML = '';\n",
       "        dataTable['output_type'] = 'display_data';\n",
       "        await google.colab.output.renderOutput(dataTable, element);\n",
       "        const docLink = document.createElement('div');\n",
       "        docLink.innerHTML = docLinkHtml;\n",
       "        element.appendChild(docLink);\n",
       "      }\n",
       "    </script>\n",
       "  </div>\n",
       "\n",
       "    </div>\n",
       "  </div>\n"
      ],
      "text/plain": [
       "           loss  accuracy\n",
       "BLSTM  0.057178  0.980344\n",
       "RNN    0.069746  0.977537\n",
       "GRU    0.066513  0.977365\n",
       "LSTM   0.071294  0.976774"
      ]
     },
     "execution_count": 211,
     "metadata": {},
     "output_type": "execute_result"
    }
   ],
   "source": [
    "result_df.sort_values('accuracy', ascending=False)"
   ]
  },
  {
   "cell_type": "markdown",
   "metadata": {
    "id": "gFGOsb2lKQ0j"
   },
   "source": [
    "Как видим, Bidirectional LSTM справляется лучше других и по loss и по accurasy"
   ]
  },
  {
   "cell_type": "markdown",
   "metadata": {
    "id": "EmaBr2d3MJiV"
   },
   "source": [
    "# NER\n",
    "\n"
   ]
  },
  {
   "cell_type": "code",
   "execution_count": 1,
   "metadata": {
    "colab": {
     "base_uri": "https://localhost:8080/"
    },
    "id": "jWpprjDMb-vw",
    "outputId": "2bf58bca-4fe1-48f5-f65e-3e77fa197154"
   },
   "outputs": [
    {
     "name": "stdout",
     "output_type": "stream",
     "text": [
      "--2023-08-27 10:44:02--  http://www.labinform.ru/pub/named_entities/collection5.zip\n",
      "Resolving www.labinform.ru (www.labinform.ru)... 95.181.230.181\n",
      "Connecting to www.labinform.ru (www.labinform.ru)|95.181.230.181|:80... connected.\n",
      "HTTP request sent, awaiting response... 200 OK\n",
      "Length: 1899530 (1.8M) [application/zip]\n",
      "Saving to: ‘collection5.zip’\n",
      "\n",
      "collection5.zip     100%[===================>]   1.81M  2.30MB/s    in 0.8s    \n",
      "\n",
      "2023-08-27 10:44:03 (2.30 MB/s) - ‘collection5.zip’ saved [1899530/1899530]\n",
      "\n"
     ]
    }
   ],
   "source": [
    "!wget -c 'http://www.labinform.ru/pub/named_entities/collection5.zip'"
   ]
  },
  {
   "cell_type": "code",
   "execution_count": null,
   "metadata": {
    "id": "lhMOnoRAOX5O"
   },
   "outputs": [],
   "source": [
    "!unzip collection5.zip"
   ]
  },
  {
   "cell_type": "code",
   "execution_count": 3,
   "metadata": {
    "id": "LAQS2ckwQWGD"
   },
   "outputs": [],
   "source": [
    "import os"
   ]
  },
  {
   "cell_type": "code",
   "execution_count": 4,
   "metadata": {
    "id": "Fb9kjxsQQYY_"
   },
   "outputs": [],
   "source": [
    "files_list = os.listdir('/content/Collection5')"
   ]
  },
  {
   "cell_type": "code",
   "execution_count": 5,
   "metadata": {
    "id": "r1qEBu4yTzrM"
   },
   "outputs": [],
   "source": [
    "files_list.sort()"
   ]
  },
  {
   "cell_type": "code",
   "execution_count": 6,
   "metadata": {
    "colab": {
     "base_uri": "https://localhost:8080/"
    },
    "id": "cH_JIHlrTFyI",
    "outputId": "40945a73-a73b-45e2-dbd3-415e404ed936"
   },
   "outputs": [
    {
     "data": {
      "text/plain": [
       "['001.ann', '001.txt', '002.ann', '002.txt', '003.ann']"
      ]
     },
     "execution_count": 6,
     "metadata": {},
     "output_type": "execute_result"
    }
   ],
   "source": [
    "files_list[:5]"
   ]
  },
  {
   "cell_type": "code",
   "execution_count": 7,
   "metadata": {
    "colab": {
     "base_uri": "https://localhost:8080/"
    },
    "id": "tkngCgPlZFK8",
    "outputId": "32cfe7ec-b045-410d-a688-b5e8759cc515"
   },
   "outputs": [
    {
     "data": {
      "text/plain": [
       "2000"
      ]
     },
     "execution_count": 7,
     "metadata": {},
     "output_type": "execute_result"
    }
   ],
   "source": [
    "len(files_list)"
   ]
  },
  {
   "cell_type": "code",
   "execution_count": 9,
   "metadata": {
    "id": "pO3ERj4AaG5Q"
   },
   "outputs": [],
   "source": [
    "import re"
   ]
  },
  {
   "cell_type": "code",
   "execution_count": 10,
   "metadata": {
    "colab": {
     "base_uri": "https://localhost:8080/",
     "height": 36
    },
    "id": "HufbMdRTd_m7",
    "outputId": "b5f8df5b-6585-4a65-e18f-30341225fd86"
   },
   "outputs": [
    {
     "data": {
      "application/vnd.google.colaboratory.intrinsic+json": {
       "type": "string"
      },
      "text/plain": [
       "'txt'"
      ]
     },
     "execution_count": 10,
     "metadata": {},
     "output_type": "execute_result"
    }
   ],
   "source": [
    "files_list[7].split('.')[-1]"
   ]
  },
  {
   "cell_type": "code",
   "execution_count": 11,
   "metadata": {
    "id": "r-1cmwFdSASV"
   },
   "outputs": [],
   "source": [
    "document_list = []"
   ]
  },
  {
   "cell_type": "code",
   "execution_count": 12,
   "metadata": {
    "id": "6geFs_3cSlDc"
   },
   "outputs": [],
   "source": [
    "for file_name in files_list:\n",
    "  if file_name.split('.')[-1] == 'txt':\n",
    "    path = '/content/Collection5/' + file_name\n",
    "    with open(path, 'r') as f:\n",
    "      lines = f.readlines()\n",
    "      document_list.append(lines)"
   ]
  },
  {
   "cell_type": "code",
   "execution_count": 13,
   "metadata": {
    "colab": {
     "base_uri": "https://localhost:8080/"
    },
    "id": "4DJdezk-am5G",
    "outputId": "bc9c7277-0bfd-4a30-f206-1e2726515044"
   },
   "outputs": [
    {
     "data": {
      "text/plain": [
       "['Россия рассчитывает на конструктивное воздействие США на Грузию\\n',\n",
       " '\\n',\n",
       " '04/08/2008 12:08\\n',\n",
       " '\\n',\n",
       " 'МОСКВА, 4 авг - РИА Новости. Россия рассчитывает, что США воздействуют на Тбилиси в связи с обострением ситуации в зоне грузино-осетинского конфликта. Об этом статс-секретарь - заместитель министра иностранных дел России Григорий Карасин заявил в телефонном разговоре с заместителем госсекретаря США Дэниэлом Фридом.\\n',\n",
       " '\\n',\n",
       " '\"С российской стороны выражена глубокая озабоченность в связи с новым витком напряженности вокруг Южной Осетии, противозаконными действиями грузинской стороны по наращиванию своих вооруженных сил в регионе, бесконтрольным строительством фортификационных сооружений\", - говорится в сообщении.\\n',\n",
       " '\\n',\n",
       " '\"Россия уже призвала Тбилиси к ответственной линии и рассчитывает также на конструктивное воздействие со стороны Вашингтона\", - сообщил МИД России. ']"
      ]
     },
     "execution_count": 13,
     "metadata": {},
     "output_type": "execute_result"
    }
   ],
   "source": [
    "document_list[0]"
   ]
  },
  {
   "cell_type": "code",
   "execution_count": 14,
   "metadata": {
    "colab": {
     "base_uri": "https://localhost:8080/",
     "height": 126
    },
    "id": "qV0zp83DnMQL",
    "outputId": "9dd477f0-f845-4e16-c9c6-5c7eb8b0ea9e"
   },
   "outputs": [
    {
     "data": {
      "application/vnd.google.colaboratory.intrinsic+json": {
       "type": "string"
      },
      "text/plain": [
       "'[\\'Россия рассчитывает на конструктивное воздействие США на Грузию\\\\n\\', \\'\\\\n\\', \\'04/08/2008 12:08\\\\n\\', \\'\\\\n\\', \\'МОСКВА, 4 авг - РИА Новости. Россия рассчитывает, что США воздействуют на Тбилиси в связи с обострением ситуации в зоне грузино-осетинского конфликта. Об этом статс-секретарь - заместитель министра иностранных дел России Григорий Карасин заявил в телефонном разговоре с заместителем госсекретаря США Дэниэлом Фридом.\\\\n\\', \\'\\\\n\\', \\'\"С российской стороны выражена глубокая озабоченность в связи с новым витком напряженности вокруг Южной Осетии, противозаконными действиями грузинской стороны по наращиванию своих вооруженных сил в регионе, бесконтрольным строительством фортификационных сооружений\", - говорится в сообщении.\\\\n\\', \\'\\\\n\\', \\'\"Россия уже призвала Тбилиси к ответственной линии и рассчитывает также на конструктивное воздействие со стороны Вашингтона\", - сообщил МИД России. \\']'"
      ]
     },
     "execution_count": 14,
     "metadata": {},
     "output_type": "execute_result"
    }
   ],
   "source": [
    "str(document_list[0])\n"
   ]
  },
  {
   "cell_type": "code",
   "execution_count": 15,
   "metadata": {
    "id": "b4wHHaUym9i8"
   },
   "outputs": [],
   "source": [
    "document = ' '.join([str(i) for i in document_list])"
   ]
  },
  {
   "cell_type": "code",
   "execution_count": 16,
   "metadata": {
    "id": "AVh0oG20oAZo"
   },
   "outputs": [],
   "source": [
    "document = re.sub(r'[^а-яА-ЯЁё]', ' ', document)"
   ]
  },
  {
   "cell_type": "code",
   "execution_count": 17,
   "metadata": {
    "id": "KJEABCEusWIe"
   },
   "outputs": [],
   "source": [
    "document = ' '.join([word for word in document.split()])"
   ]
  },
  {
   "cell_type": "code",
   "execution_count": 18,
   "metadata": {
    "colab": {
     "base_uri": "https://localhost:8080/",
     "height": 36
    },
    "id": "1lJyC7mAs2ib",
    "outputId": "13d8ff51-a3f8-48b5-d0be-a870619a76dd"
   },
   "outputs": [
    {
     "data": {
      "application/vnd.google.colaboratory.intrinsic+json": {
       "type": "string"
      },
      "text/plain": [
       "'Россия рассчитывает на конструктивное воздействие США на Грузию МОСКВА авг РИА Новости Россия рассчи'"
      ]
     },
     "execution_count": 18,
     "metadata": {},
     "output_type": "execute_result"
    }
   ],
   "source": [
    "document[:100]"
   ]
  },
  {
   "cell_type": "code",
   "execution_count": 26,
   "metadata": {
    "colab": {
     "base_uri": "https://localhost:8080/"
    },
    "id": "a3qepDSJw9xc",
    "outputId": "b61f21ba-68ec-4c06-e70e-0042de0848f3"
   },
   "outputs": [
    {
     "data": {
      "text/plain": [
       "[('Россия', 'S'),\n",
       " ('рассчитывает', 'V'),\n",
       " ('на', 'PR'),\n",
       " ('конструктивное', 'A=n'),\n",
       " ('воздействие', 'S'),\n",
       " ('США', 'S'),\n",
       " ('на', 'PR'),\n",
       " ('Грузию', 'S'),\n",
       " ('МОСКВА', 'S'),\n",
       " ('авг', 'S'),\n",
       " ('РИА', 'S'),\n",
       " ('Новости', 'S'),\n",
       " ('Россия', 'S'),\n",
       " ('рассчитывает', 'V'),\n",
       " ('что', 'CONJ'),\n",
       " ('США', 'S'),\n",
       " ('воздействуют', 'V'),\n",
       " ('на', 'PR'),\n",
       " ('Тбилиси', 'S'),\n",
       " ('в', 'PR'),\n",
       " ('связи', 'S'),\n",
       " ('с', 'PR'),\n",
       " ('обострением', 'S'),\n",
       " ('ситуации', 'S'),\n",
       " ('в', 'PR'),\n",
       " ('зоне', 'S'),\n",
       " ('грузино', 'S'),\n",
       " ('осетинского', 'A=m'),\n",
       " ('конфликта', 'S'),\n",
       " ('Об', 'PR'),\n",
       " ('этом', 'S-PRO'),\n",
       " ('статс', 'S'),\n",
       " ('секретарь', 'S'),\n",
       " ('заместитель', 'S'),\n",
       " ('министра', 'S'),\n",
       " ('иностранных', 'A=pl'),\n",
       " ('дел', 'S'),\n",
       " ('России', 'S'),\n",
       " ('Григорий', 'S'),\n",
       " ('Карасин', 'S'),\n",
       " ('заявил', 'V'),\n",
       " ('в', 'PR'),\n",
       " ('телефонном', 'A=m'),\n",
       " ('разговоре', 'S'),\n",
       " ('с', 'PR'),\n",
       " ('заместителем', 'S'),\n",
       " ('госсекретаря', 'S'),\n",
       " ('США', 'S'),\n",
       " ('Дэниэлом', 'S'),\n",
       " ('Фридом', 'S'),\n",
       " ('С', 'PR'),\n",
       " ('российской', 'A=f'),\n",
       " ('стороны', 'S'),\n",
       " ('выражена', 'V'),\n",
       " ('глубокая', 'A=f'),\n",
       " ('озабоченность', 'S'),\n",
       " ('в', 'PR'),\n",
       " ('связи', 'S'),\n",
       " ('с', 'PR'),\n",
       " ('новым', 'A=m'),\n",
       " ('витком', 'S'),\n",
       " ('напряженности', 'S'),\n",
       " ('вокруг', 'PR'),\n",
       " ('Южной', 'A=f'),\n",
       " ('Осетии', 'S'),\n",
       " ('противозаконными', 'A=pl'),\n",
       " ('действиями', 'S'),\n",
       " ('грузинской', 'A=f'),\n",
       " ('стороны', 'S'),\n",
       " ('по', 'PR'),\n",
       " ('наращиванию', 'S'),\n",
       " ('своих', 'A-PRO=pl'),\n",
       " ('вооруженных', 'A=pl'),\n",
       " ('сил', 'S'),\n",
       " ('в', 'PR'),\n",
       " ('регионе', 'S'),\n",
       " ('бесконтрольным', 'A=n'),\n",
       " ('строительством', 'S'),\n",
       " ('фортификационных', 'A=pl'),\n",
       " ('сооружений', 'S'),\n",
       " ('говорится', 'V'),\n",
       " ('в', 'PR'),\n",
       " ('сообщении', 'S'),\n",
       " ('Россия', 'S'),\n",
       " ('уже', 'ADV'),\n",
       " ('призвала', 'V'),\n",
       " ('Тбилиси', 'S'),\n",
       " ('к', 'PR'),\n",
       " ('ответственной', 'A=f'),\n",
       " ('линии', 'S'),\n",
       " ('и', 'CONJ'),\n",
       " ('рассчитывает', 'V'),\n",
       " ('также', 'ADV'),\n",
       " ('на', 'PR'),\n",
       " ('конструктивное', 'A=n'),\n",
       " ('воздействие', 'S'),\n",
       " ('со', 'PR'),\n",
       " ('стороны', 'S'),\n",
       " ('Вашингтона', 'S'),\n",
       " ('сообщил', 'V'),\n",
       " ('МИД', 'S'),\n",
       " ('России', 'S'),\n",
       " ('Комиссар', 'S'),\n",
       " ('СЕ', 'S'),\n",
       " ('критикует', 'V'),\n",
       " ('ограничительную', 'A=f'),\n",
       " ('политику', 'S'),\n",
       " ('в', 'PR'),\n",
       " ('отношении', 'S'),\n",
       " ('беженцев', 'S'),\n",
       " ('в', 'PR'),\n",
       " ('европейских', 'A=pl'),\n",
       " ('странах', 'S'),\n",
       " ('МОСКВА', 'S'),\n",
       " ('августа', 'S'),\n",
       " ('Новости', 'S'),\n",
       " ('Грузия', 'S'),\n",
       " ('Проводимая', 'V'),\n",
       " ('в', 'PR'),\n",
       " ('европейских', 'A=pl'),\n",
       " ('странах', 'S'),\n",
       " ('ограничительная', 'A=f'),\n",
       " ('политика', 'S'),\n",
       " ('в', 'PR'),\n",
       " ('отношении', 'S'),\n",
       " ('беженцев', 'S'),\n",
       " ('нарушает', 'V'),\n",
       " ('ряд', 'S'),\n",
       " ('международных', 'A=pl'),\n",
       " ('стандартов', 'S'),\n",
       " ('в', 'PR'),\n",
       " ('частности', 'S'),\n",
       " ('право', 'S'),\n",
       " ('на', 'PR'),\n",
       " ('воссоединение', 'S'),\n",
       " ('семей', 'S'),\n",
       " ('заявляет', 'V'),\n",
       " ('Комиссар', 'S'),\n",
       " ('Совета', 'S'),\n",
       " ('Европы', 'S'),\n",
       " ('по', 'PR'),\n",
       " ('правам', 'S'),\n",
       " ('человека', 'S'),\n",
       " ('Томас', 'S'),\n",
       " ('Хаммарберг', 'S'),\n",
       " ('в', 'PR'),\n",
       " ('размещенном', 'S'),\n",
       " ('на', 'PR'),\n",
       " ('его', 'A-PRO'),\n",
       " ('сайте', 'S'),\n",
       " ('еженедельном', 'A=n'),\n",
       " ('комментарии', 'S'),\n",
       " ('Ограничительная', 'A=f'),\n",
       " ('политика', 'S'),\n",
       " ('в', 'PR'),\n",
       " ('отношении', 'S'),\n",
       " ('беженцев', 'S'),\n",
       " ('в', 'PR'),\n",
       " ('европейских', 'A=pl'),\n",
       " ('странах', 'S'),\n",
       " ('уменьшает', 'V'),\n",
       " ('возможности', 'S'),\n",
       " ('воссоединения', 'S'),\n",
       " ('разделенных', 'A=pl'),\n",
       " ('семей', 'S'),\n",
       " ('полагает', 'V'),\n",
       " ('он', 'S-PRO'),\n",
       " ('По', 'PR'),\n",
       " ('сообщению', 'S'),\n",
       " ('РИА', 'S'),\n",
       " ('Новости', 'S'),\n",
       " ('Хаммарберг', 'S'),\n",
       " ('констатирует', 'V'),\n",
       " ('что', 'CONJ'),\n",
       " ('в', 'PR'),\n",
       " ('последнее', 'A=n'),\n",
       " ('время', 'S'),\n",
       " ('правительства', 'S'),\n",
       " ('попытались', 'V'),\n",
       " ('ограничить', 'V'),\n",
       " ('приезд', 'S'),\n",
       " ('близких', 'A=pl'),\n",
       " ('родственников', 'S'),\n",
       " ('к', 'PR'),\n",
       " ('тем', 'A-PRO=pl'),\n",
       " ('беженцам', 'S'),\n",
       " ('которые', 'A-PRO=pl'),\n",
       " ('уже', 'ADV'),\n",
       " ('проживают', 'V'),\n",
       " ('в', 'PR'),\n",
       " ('стране', 'S'),\n",
       " ('Комиссар', 'S'),\n",
       " ('не', 'PART'),\n",
       " ('называет', 'V'),\n",
       " ('конкретных', 'A=pl'),\n",
       " ('стран', 'S'),\n",
       " ('одновременно', 'ADV'),\n",
       " ('отмечая', 'V'),\n",
       " ('что', 'CONJ'),\n",
       " ('в', 'PR'),\n",
       " ('ряде', 'S'),\n",
       " ('случаев', 'S'),\n",
       " ('подобная', 'A=f'),\n",
       " ('линия', 'S'),\n",
       " ('привела', 'V'),\n",
       " ('к', 'PR'),\n",
       " ('неоправданным', 'A=pl'),\n",
       " ('человеческим', 'A=pl'),\n",
       " ('страданиям', 'S'),\n",
       " ('когда', 'CONJ'),\n",
       " ('члены', 'S'),\n",
       " ('семьи', 'S'),\n",
       " ('зависящие', 'V'),\n",
       " ('друг', 'S-PRO'),\n",
       " ('от', 'PR'),\n",
       " ('друга', 'S-PRO'),\n",
       " ('оказались', 'V'),\n",
       " ('разделенными', 'A=pl'),\n",
       " ('Такая', 'A-PRO=f'),\n",
       " ('политика', 'S'),\n",
       " ('противоречит', 'V'),\n",
       " ('праву', 'S'),\n",
       " ('на', 'PR'),\n",
       " ('воссоединение', 'S'),\n",
       " ('семей', 'S'),\n",
       " ('как', 'CONJ'),\n",
       " ('это', 'S-PRO'),\n",
       " ('предусмотрено', 'V'),\n",
       " ('некоторыми', 'A-PRO=pl'),\n",
       " ('международными', 'A=pl'),\n",
       " ('стандартами', 'S'),\n",
       " ('замечает', 'V'),\n",
       " ('он', 'S-PRO'),\n",
       " ('Комиссар', 'S'),\n",
       " ('Совета', 'S'),\n",
       " ('Европы', 'S'),\n",
       " ('призывает', 'V'),\n",
       " ('страны', 'S'),\n",
       " ('учитывать', 'V'),\n",
       " ('в', 'PR'),\n",
       " ('политике', 'S'),\n",
       " ('проводимой', 'V'),\n",
       " ('в', 'PR'),\n",
       " ('отношении', 'S'),\n",
       " ('беженцев', 'S'),\n",
       " ('положения', 'S'),\n",
       " ('о', 'PR'),\n",
       " ('семье', 'S'),\n",
       " ('принятые', 'V'),\n",
       " ('в', 'PR'),\n",
       " ('рамках', 'S'),\n",
       " ('ООН', 'S'),\n",
       " ('и', 'CONJ'),\n",
       " ('ЕС', 'S'),\n",
       " ('Пулеметы', 'S'),\n",
       " ('автоматы', 'S'),\n",
       " ('и', 'CONJ'),\n",
       " ('снайперские', 'A=pl'),\n",
       " ('винтовки', 'S'),\n",
       " ('изъяты', 'V'),\n",
       " ('в', 'PR'),\n",
       " ('арендуемом', 'S'),\n",
       " ('американцами', 'S'),\n",
       " ('доме', 'S'),\n",
       " ('в', 'PR'),\n",
       " ('Бишкеке', 'S'),\n",
       " ('БИШКЕК', 'S'),\n",
       " ('августа', 'S'),\n",
       " ('Новости', 'S'),\n",
       " ('Грузия', 'S'),\n",
       " ('Правоохранительные', 'A=pl'),\n",
       " ('органы', 'S'),\n",
       " ('Киргизии', 'S'),\n",
       " ('обнаружили', 'V'),\n",
       " ('в', 'PR'),\n",
       " ('доме', 'S'),\n",
       " ('арендуемом', 'S'),\n",
       " ('гражданами', 'S'),\n",
       " ('США', 'S'),\n",
       " ('в', 'PR'),\n",
       " ('Бишкеке', 'S'),\n",
       " ('пулеметы', 'S'),\n",
       " ('автоматы', 'S'),\n",
       " ('и', 'CONJ'),\n",
       " ('снайперские', 'A=pl'),\n",
       " ('винтовки', 'S'),\n",
       " ('сообщает', 'V'),\n",
       " ('во', 'PR'),\n",
       " ('вторник', 'S'),\n",
       " ('пресс', 'S'),\n",
       " ('служба', 'S'),\n",
       " ('МВД', 'S'),\n",
       " ('Киргизии', 'S'),\n",
       " ('В', 'PR'),\n",
       " ('ходе', 'S'),\n",
       " ('проведения', 'S'),\n",
       " ('оперативно', 'ADV'),\n",
       " ('профилактического', 'A=n'),\n",
       " ('мероприятия', 'S'),\n",
       " ('под', 'PR'),\n",
       " ('кодовым', 'A=n'),\n",
       " ('названием', 'S'),\n",
       " ('Арсенал', 'S'),\n",
       " ('в', 'PR'),\n",
       " ('новостройке', 'S'),\n",
       " ('Ынтымак', 'S'),\n",
       " ('в', 'PR'),\n",
       " ('доме', 'S'),\n",
       " ('принадлежащем', 'V'),\n",
       " ('летнему', 'A=m'),\n",
       " ('гражданину', 'S'),\n",
       " ('Киргизии', 'S'),\n",
       " ('и', 'CONJ'),\n",
       " ('арендуемом', 'S'),\n",
       " ('гражданами', 'S'),\n",
       " ('США', 'S'),\n",
       " ('обнаружены', 'V'),\n",
       " ('и', 'CONJ'),\n",
       " ('изъяты', 'V'),\n",
       " ('шесть', 'NUM=acc'),\n",
       " ('крупнокалиберных', 'A=pl'),\n",
       " ('пулеметов', 'S'),\n",
       " ('с', 'PR'),\n",
       " ('оптическим', 'A=m'),\n",
       " ('прицелом', 'S'),\n",
       " ('и', 'CONJ'),\n",
       " ('с', 'PR'),\n",
       " ('приборами', 'S'),\n",
       " ('ночного', 'A=n'),\n",
       " ('видения', 'S'),\n",
       " ('автоматов', 'S'),\n",
       " ('калибра', 'S'),\n",
       " ('миллиметра', 'S'),\n",
       " ('два', 'NUM=m'),\n",
       " ('винчестера', 'S'),\n",
       " ('марки', 'S'),\n",
       " ('МОСВЕГА', 'S'),\n",
       " ('го', 'S'),\n",
       " ('калибра', 'S'),\n",
       " ('четыре', 'NUM=nom'),\n",
       " ('ствола', 'S'),\n",
       " ('от', 'PR'),\n",
       " ('крупнокалиберного', 'A=m'),\n",
       " ('пулемета', 'S'),\n",
       " ('два', 'NUM=m'),\n",
       " ('подствольных', 'A=pl'),\n",
       " ('гранатомета', 'S'),\n",
       " ('четыре', 'NUM=nom'),\n",
       " ('снайперские', 'A=pl'),\n",
       " ('винтовки', 'S'),\n",
       " ('с', 'PR'),\n",
       " ('оптическим', 'A=m'),\n",
       " ('прицелом', 'S'),\n",
       " ('защитного', 'A=m'),\n",
       " ('цвета', 'S'),\n",
       " ('шесть', 'NUM=nom'),\n",
       " ('пистолетов', 'S'),\n",
       " ('калибра', 'S'),\n",
       " ('миллиметров', 'S'),\n",
       " ('марки', 'S'),\n",
       " ('Беретта', 'S'),\n",
       " ('одна', 'A-PRO=f'),\n",
       " ('винтовка', 'S'),\n",
       " ('говорится', 'V'),\n",
       " ('в', 'PR'),\n",
       " ('сообщении', 'S'),\n",
       " ('МВД', 'S'),\n",
       " ('Пресс', 'S'),\n",
       " ('служба', 'S'),\n",
       " ('отмечает', 'V'),\n",
       " ('что', 'CONJ'),\n",
       " ('на', 'PR'),\n",
       " ('момент', 'S'),\n",
       " ('обыска', 'S'),\n",
       " ('в', 'PR'),\n",
       " ('доме', 'S'),\n",
       " ('находились', 'V'),\n",
       " ('несколько', 'NUM=acc'),\n",
       " ('сотрудников', 'S'),\n",
       " ('посольства', 'S'),\n",
       " ('США', 'S'),\n",
       " ('обладающих', 'V'),\n",
       " ('дипломатическим', 'A=m'),\n",
       " ('иммунитетом', 'S'),\n",
       " ('и', 'CONJ'),\n",
       " ('военнослужащих', 'V'),\n",
       " ('якобы', 'PART'),\n",
       " ('прибывших', 'V'),\n",
       " ('из', 'PR'),\n",
       " ('США', 'S'),\n",
       " ('для', 'PR'),\n",
       " ('проведения', 'S'),\n",
       " ('тренинга', 'S'),\n",
       " ('с', 'PR'),\n",
       " ('сотрудниками', 'S'),\n",
       " ('спецподразделения', 'S'),\n",
       " ('одной', 'A-PRO=f'),\n",
       " ('из', 'PR'),\n",
       " ('силовых', 'A=pl'),\n",
       " ('структур', 'S'),\n",
       " ('республики', 'S'),\n",
       " ('личности', 'S'),\n",
       " ('которых', 'A-PRO=pl'),\n",
       " ('в', 'PR'),\n",
       " ('настоящее', 'A=n'),\n",
       " ('время', 'S'),\n",
       " ('устанавливаются', 'V'),\n",
       " ('Согласно', 'PR'),\n",
       " ('сообщению', 'S'),\n",
       " ('в', 'PR'),\n",
       " ('доме', 'S'),\n",
       " ('было', 'V'),\n",
       " ('обнаружено', 'V'),\n",
       " ('и', 'CONJ'),\n",
       " ('значительное', 'A=n'),\n",
       " ('количество', 'S'),\n",
       " ('боеприпасов', 'S'),\n",
       " ('Два', 'NUM=m'),\n",
       " ('ножа', 'S'),\n",
       " ('штук', 'S'),\n",
       " ('патронов', 'S'),\n",
       " ('калибра', 'S'),\n",
       " ('миллиметра', 'S'),\n",
       " ('штук', 'S'),\n",
       " ('патронов', 'S'),\n",
       " ('калибра', 'S'),\n",
       " ('миллиметров', 'S'),\n",
       " ('два', 'NUM=m'),\n",
       " ('ящика', 'S'),\n",
       " ('патронов', 'S'),\n",
       " ('калибра', 'S'),\n",
       " ('миллиметров', 'S'),\n",
       " ('в', 'PR'),\n",
       " ('каждом', 'A-PRO=m'),\n",
       " ('штук', 'S'),\n",
       " ('патроны', 'S'),\n",
       " ('калибра', 'S'),\n",
       " ('миллиметров', 'S'),\n",
       " ('в', 'PR'),\n",
       " ('количестве', 'S'),\n",
       " ('штук', 'S'),\n",
       " ('маркировочные', 'A=pl'),\n",
       " ('трассирующие', 'A=pl'),\n",
       " ('патроны', 'S'),\n",
       " ('красного', 'A=m'),\n",
       " ('цвета', 'S'),\n",
       " ('штук', 'S'),\n",
       " ('штук', 'S'),\n",
       " ('пустых', 'A=pl'),\n",
       " ('магазинов', 'S'),\n",
       " ('от', 'PR'),\n",
       " ('автоматического', 'A=n'),\n",
       " ('оружия', 'S'),\n",
       " ('штук', 'S'),\n",
       " ('пустых', 'A=pl'),\n",
       " ('магазинов', 'S'),\n",
       " ('от', 'PR'),\n",
       " ('пистолета', 'S'),\n",
       " ('Беретта', 'S'),\n",
       " ('говорится', 'V'),\n",
       " ('в', 'PR'),\n",
       " ('пресс', 'S'),\n",
       " ('релизе', 'S'),\n",
       " ('Пресс', 'S'),\n",
       " ('служба', 'S'),\n",
       " ('МВД', 'S'),\n",
       " ('сообщила', 'V'),\n",
       " ('что', 'CONJ'),\n",
       " ('расследование', 'S'),\n",
       " ('по', 'PR'),\n",
       " ('данному', 'A-PRO=m'),\n",
       " ('факту', 'S'),\n",
       " ('проводит', 'V'),\n",
       " ('прокуратура', 'S'),\n",
       " ('Бишкека', 'S'),\n",
       " ('Сейчас', 'ADV-PRO'),\n",
       " ('выясняется', 'V'),\n",
       " ('кому', 'S-PRO'),\n",
       " ('именно', 'PART'),\n",
       " ('принадлежит', 'V'),\n",
       " ('изъятое', 'A=n'),\n",
       " ('оружие', 'S'),\n",
       " ('передает', 'V'),\n",
       " ('РИА', 'S'),\n",
       " ('Новости', 'S'),\n",
       " ('Оружие', 'A=pl'),\n",
       " ('изъятое', 'V'),\n",
       " ('у', 'PR'),\n",
       " ('граждан', 'S'),\n",
       " ('США', 'S'),\n",
       " ('правоохранительными', 'A=pl'),\n",
       " ('органами', 'S'),\n",
       " ('Киргизии', 'S'),\n",
       " ('находилось', 'V'),\n",
       " ('в', 'PR'),\n",
       " ('республике', 'S'),\n",
       " ('с', 'PR'),\n",
       " ('ведома', 'S'),\n",
       " ('правительства', 'S'),\n",
       " ('Киргизии', 'S'),\n",
       " ('сообщил', 'V'),\n",
       " ('во', 'PR'),\n",
       " ('вторник', 'S'),\n",
       " ('представитель', 'S'),\n",
       " ('пресс', 'S'),\n",
       " ('службы', 'S'),\n",
       " ('посольства', 'S'),\n",
       " ('США', 'S'),\n",
       " ('Все', 'A-PRO=pl'),\n",
       " ('оборудование', 'S'),\n",
       " ('находилось', 'V'),\n",
       " ('на', 'PR'),\n",
       " ('территории', 'S'),\n",
       " ('Киргизии', 'S'),\n",
       " ('с', 'PR'),\n",
       " ('ведома', 'S'),\n",
       " ('и', 'CONJ'),\n",
       " ('разрешения', 'S'),\n",
       " ('киргизских', 'A=pl'),\n",
       " ('властей', 'S'),\n",
       " ('сказал', 'V'),\n",
       " ('собеседник', 'S'),\n",
       " ('агентства', 'S'),\n",
       " ('Военнослужащие', 'S'),\n",
       " ('и', 'CONJ'),\n",
       " ('оружие', 'S'),\n",
       " ('прибыли', 'V'),\n",
       " ('в', 'PR'),\n",
       " ('республику', 'S'),\n",
       " ('по', 'PR'),\n",
       " ('приглашению', 'S'),\n",
       " ('правительства', 'S'),\n",
       " ('с', 'PR'),\n",
       " ('целью', 'S'),\n",
       " ('обеспечения', 'S'),\n",
       " ('антитеррористических', 'A=pl'),\n",
       " ('учений', 'S'),\n",
       " ('для', 'PR'),\n",
       " ('министерств', 'S'),\n",
       " ('заявило', 'V'),\n",
       " ('американское', 'A=n'),\n",
       " ('дипломатическое', 'A=n'),\n",
       " ('ведомство', 'S'),\n",
       " ('Дом', 'S'),\n",
       " ('и', 'CONJ'),\n",
       " ('оборудование', 'S'),\n",
       " ('находились', 'V'),\n",
       " ('под', 'PR'),\n",
       " ('защитой', 'S'),\n",
       " ('киргизских', 'A=pl'),\n",
       " ('властей', 'S'),\n",
       " ('отмечает', 'V'),\n",
       " ('пресс', 'S'),\n",
       " ('служба', 'S'),\n",
       " ('Посольство', 'S'),\n",
       " ('США', 'S'),\n",
       " ('считает', 'V'),\n",
       " ('случившееся', 'V'),\n",
       " ('неприятным', 'A=m'),\n",
       " ('инцидентом', 'S'),\n",
       " ('и', 'CONJ'),\n",
       " ('выражает', 'V'),\n",
       " ('надежду', 'S'),\n",
       " ('что', 'CONJ'),\n",
       " ('США', 'S'),\n",
       " ('и', 'CONJ'),\n",
       " ('Киргизия', 'S'),\n",
       " ('могли', 'V'),\n",
       " ('бы', 'PART'),\n",
       " ('продолжить', 'V'),\n",
       " ('усилия', 'S'),\n",
       " ('по', 'PR'),\n",
       " ('улучшению', 'S'),\n",
       " ('антитеррористических', 'A=pl'),\n",
       " ('возможностей', 'S'),\n",
       " ('Киргизии', 'S'),\n",
       " ('Пресс', 'S'),\n",
       " ('служба', 'S'),\n",
       " ('американской', 'A=f'),\n",
       " ('военной', 'A=f'),\n",
       " ('базы', 'S'),\n",
       " ('расположенной', 'V'),\n",
       " ('в', 'PR'),\n",
       " ('международном', 'A=m'),\n",
       " ('аэропорту', 'S'),\n",
       " ('Манас', 'S'),\n",
       " ('столицы', 'S'),\n",
       " ('Киргизии', 'S'),\n",
       " ('отказалась', 'V'),\n",
       " ('комментировать', 'V'),\n",
       " ('данный', 'A-PRO=m'),\n",
       " ('инцидент', 'S'),\n",
       " ('с', 'PR'),\n",
       " ('участием', 'S'),\n",
       " ('американских', 'A=pl'),\n",
       " ('военных', 'A=pl'),\n",
       " ('Всеми', 'A-PRO=pl'),\n",
       " ('вопросами', 'S'),\n",
       " ('связанными', 'V'),\n",
       " ('с', 'PR'),\n",
       " ('данным', 'S'),\n",
       " ('случаем', 'S'),\n",
       " ('занимается', 'V'),\n",
       " ('посольство', 'S'),\n",
       " ('США', 'S'),\n",
       " ('сообщили', 'V'),\n",
       " ('РИА', 'S'),\n",
       " ('Новости', 'S'),\n",
       " ('в', 'PR'),\n",
       " ('пресс', 'S'),\n",
       " ('службе', 'S'),\n",
       " ('базы', 'S'),\n",
       " ('октября', 'S'),\n",
       " ('назначены', 'V'),\n",
       " ('очередные', 'A=pl'),\n",
       " ('выборы', 'S'),\n",
       " ('Верховного', 'A=m'),\n",
       " ('Совета', 'S'),\n",
       " ('Аджарской', 'S'),\n",
       " ('АР', 'S'),\n",
       " ('По', 'PR'),\n",
       " ('распоряжению', 'S'),\n",
       " ('президента', 'S'),\n",
       " ('Грузии', 'S'),\n",
       " ('Михаила', 'S'),\n",
       " ('Саакашвили', 'S'),\n",
       " ('октября', 'S'),\n",
       " ('года', 'S'),\n",
       " ('назначены', 'V'),\n",
       " ('очередные', 'A=pl'),\n",
       " ('выборы', 'S'),\n",
       " ('Верховного', 'A=m'),\n",
       " ('Совета', 'S'),\n",
       " ('Аджарской', 'S'),\n",
       " ('АР', 'S'),\n",
       " ('Об', 'PR'),\n",
       " ('этом', 'S-PRO'),\n",
       " ('Новости', 'S'),\n",
       " ('Грузия', 'S'),\n",
       " ('сообщили', 'V'),\n",
       " ('в', 'PR'),\n",
       " ('пресс', 'S'),\n",
       " ('службе', 'S'),\n",
       " ('администрации', 'S'),\n",
       " ('президента', 'S'),\n",
       " ('во', 'PR'),\n",
       " ('вторник', 'S'),\n",
       " ('Выборы', 'S'),\n",
       " ('Верховного', 'A=m'),\n",
       " ('совета', 'S'),\n",
       " ('Аджарской', 'S'),\n",
       " ('автономной', 'A=f'),\n",
       " ('республики', 'S'),\n",
       " ('назначены', 'V'),\n",
       " ('в', 'PR'),\n",
       " ('соответствии', 'S'),\n",
       " ('с', 'PR'),\n",
       " ('ой', 'S'),\n",
       " ('статьей', 'S'),\n",
       " ('и', 'CONJ'),\n",
       " ('м', 'S'),\n",
       " ('пунктом', 'S'),\n",
       " ('й', 'NONLEX'),\n",
       " ('статьи', 'S'),\n",
       " ('Конституционного', 'A=m'),\n",
       " ('закона', 'S'),\n",
       " ('Грузии', 'S'),\n",
       " ('О', 'PR'),\n",
       " ('статусе', 'S'),\n",
       " ('Аджарской', 'S'),\n",
       " ('автономной', 'A=f'),\n",
       " ('республики', 'S'),\n",
       " ('Следственное', 'A=n'),\n",
       " ('управление', 'S'),\n",
       " ('при', 'PR'),\n",
       " ('прокуратуре', 'S'),\n",
       " ('требует', 'V'),\n",
       " ('наказать', 'V'),\n",
       " ('премьера', 'S'),\n",
       " ('Якутии', 'S'),\n",
       " ('Следственное', 'A=n'),\n",
       " ('управление', 'S'),\n",
       " ('Следственного', 'A=m'),\n",
       " ('комитета', 'S'),\n",
       " ('при', 'PR'),\n",
       " ('прокуратуре', 'S'),\n",
       " ('Российской', 'A=f'),\n",
       " ('Федерации', 'S'),\n",
       " ('по', 'PR'),\n",
       " ('Якутии', 'S'),\n",
       " ('обжаловало', 'V'),\n",
       " ('решение', 'S'),\n",
       " ('прокуратуры', 'S'),\n",
       " ('республики', 'S'),\n",
       " ('Ранее', 'A=comp'),\n",
       " ('прокуратура', 'S'),\n",
       " ('отказала', 'V'),\n",
       " ('в', 'PR'),\n",
       " ('возбуждении', 'S'),\n",
       " ('уголовного', 'A=n'),\n",
       " ('дела', 'S'),\n",
       " ('в', 'PR'),\n",
       " ('отношении', 'S'),\n",
       " ('председателя', 'S'),\n",
       " ('правительства', 'S'),\n",
       " ('республики', 'S'),\n",
       " ('Егора', 'S'),\n",
       " ('Борисова', 'S'),\n",
       " ('подозреваемого', 'V'),\n",
       " ('в', 'PR'),\n",
       " ('хищении', 'S'),\n",
       " ('млн', 'S'),\n",
       " ('руб', 'S'),\n",
       " ('Как', 'CONJ'),\n",
       " ('сообщили', 'V'),\n",
       " ('в', 'PR'),\n",
       " ('четверг', 'S'),\n",
       " ('корреспонденту', 'S'),\n",
       " ('Агентства', 'S'),\n",
       " ('национальных', 'A=pl'),\n",
       " ('новостей', 'S'),\n",
       " ('в', 'PR'),\n",
       " ('следственном', 'A=n'),\n",
       " ('управлении', 'S'),\n",
       " ('еще', 'ADV'),\n",
       " ('мая', 'S'),\n",
       " ('г', 'S'),\n",
       " ('прокуратурой', 'A=f'),\n",
       " ('Якутии', 'S'),\n",
       " ('было', 'V'),\n",
       " ('возбуждено', 'V'),\n",
       " ('уголовное', 'A=n'),\n",
       " ('дело', 'S'),\n",
       " ('по', 'PR'),\n",
       " ('признакам', 'S'),\n",
       " ('преступления', 'S'),\n",
       " ('предусмотренного', 'A=m'),\n",
       " ('ч', 'S'),\n",
       " ('ст', 'S'),\n",
       " ('УК', 'S'),\n",
       " ('РФ', 'S'),\n",
       " ('по', 'PR'),\n",
       " ('факту', 'S'),\n",
       " ('причинения', 'S'),\n",
       " ('имущественного', 'A=m'),\n",
       " ('ущерба', 'S'),\n",
       " ('в', 'PR'),\n",
       " ('размере', 'S'),\n",
       " ('млн', 'S'),\n",
       " ('руб', 'S'),\n",
       " ('государственному', 'A=m'),\n",
       " ('унитарному', 'A=n'),\n",
       " ('предприятию', 'S'),\n",
       " ('Дирекция', 'S'),\n",
       " ('по', 'PR'),\n",
       " ('строительству', 'S'),\n",
       " ('железной', 'A=f'),\n",
       " ('дороги', 'S'),\n",
       " ('Беркакит', 'S'),\n",
       " ('Томмот', 'S'),\n",
       " ('Якутск', 'S'),\n",
       " ('В', 'PR'),\n",
       " ('ходе', 'S'),\n",
       " ('расследования', 'S'),\n",
       " ('данного', 'A-PRO=n'),\n",
       " ('уголовного', 'A=n'),\n",
       " ('дела', 'S'),\n",
       " ('собраны', 'V'),\n",
       " ('достаточные', 'A=pl'),\n",
       " ('данные', 'S'),\n",
       " ('свидетельствующие', 'V'),\n",
       " ('о', 'PR'),\n",
       " ('причастности', 'S'),\n",
       " ('к', 'PR'),\n",
       " ('причинению', 'S'),\n",
       " ('ущерба', 'S'),\n",
       " ('данному', 'A-PRO=n'),\n",
       " ('предприятию', 'S'),\n",
       " ('председателя', 'S'),\n",
       " ('правительства', 'S'),\n",
       " ('Республики', 'S'),\n",
       " ('Саха', 'S'),\n",
       " ('Якутия', 'S'),\n",
       " ('Егора', 'S'),\n",
       " ('Борисова', 'S'),\n",
       " ('говорится', 'V'),\n",
       " ('в', 'PR'),\n",
       " ('официальном', 'A=n'),\n",
       " ('заявлении', 'S'),\n",
       " ('следственного', 'A=n'),\n",
       " ('управления', 'S'),\n",
       " ('Для', 'PR'),\n",
       " ('установления', 'S'),\n",
       " ('процессуальным', 'A=m'),\n",
       " ('путем', 'S'),\n",
       " ('всех', 'A-PRO=pl'),\n",
       " ('обстоятельств', 'S'),\n",
       " ('касающихся', 'V'),\n",
       " ('причинения', 'S'),\n",
       " ('ущерба', 'S'),\n",
       " ('августа', 'S'),\n",
       " ('года', 'S'),\n",
       " ('Следственное', 'A=n'),\n",
       " ('управление', 'S'),\n",
       " ('Следственного', 'A=m'),\n",
       " ('комитета', 'S'),\n",
       " ('при', 'PR'),\n",
       " ('прокуратуре', 'S'),\n",
       " ('Российской', 'A=f'),\n",
       " ('Федерации', 'S'),\n",
       " ('по', 'PR'),\n",
       " ('Якутии', 'S'),\n",
       " ('возбудило', 'V'),\n",
       " ('уголовное', 'A=n'),\n",
       " ('дело', 'S'),\n",
       " ('в', 'PR'),\n",
       " ('отношении', 'S'),\n",
       " ('Егора', 'S'),\n",
       " ('Борисова', 'S'),\n",
       " ('по', 'PR'),\n",
       " ('признакам', 'S'),\n",
       " ('составов', 'S'),\n",
       " ('преступлений', 'S'),\n",
       " ('предусмотренных', 'A=pl'),\n",
       " ('ч', 'S'),\n",
       " ('ст', 'S'),\n",
       " ('ч', 'S'),\n",
       " ('ст', 'S'),\n",
       " ('ч', 'S'),\n",
       " ('ст', 'S'),\n",
       " ('и', 'CONJ'),\n",
       " ('ч', 'S'),\n",
       " ('ст', 'S'),\n",
       " ('УК', 'S'),\n",
       " ('РФ', 'S'),\n",
       " ('августа', 'S'),\n",
       " ('прокуратура', 'S'),\n",
       " ('Якутии', 'S'),\n",
       " ('постановление', 'S'),\n",
       " ('о', 'PR'),\n",
       " ('возбуждении', 'S'),\n",
       " ('уголовного', 'A=n'),\n",
       " ('дела', 'S'),\n",
       " ('отменила', 'V'),\n",
       " ('В', 'PR'),\n",
       " ('связи', 'S'),\n",
       " ('с', 'PR'),\n",
       " ('этим', 'S-PRO'),\n",
       " ('следственное', 'A=n'),\n",
       " ('управление', 'S'),\n",
       " ('повторно', 'ADV'),\n",
       " ('обратилось', 'V'),\n",
       " ('к', 'PR'),\n",
       " ('прокурору', 'S'),\n",
       " ('республики', 'S'),\n",
       " ('Анатолию', 'S'),\n",
       " ('Подласенко', 'S'),\n",
       " ('с', 'PR'),\n",
       " ('требованием', 'S'),\n",
       " ('о', 'PR'),\n",
       " ('возбуждении', 'S'),\n",
       " ('уголовного', 'A=n'),\n",
       " ('дела', 'S'),\n",
       " ('В', 'PR'),\n",
       " ('Нижегородской', 'A=f'),\n",
       " ('области', 'S'),\n",
       " ('осудили', 'V'),\n",
       " ('бывшего', 'A=m'),\n",
       " ('начальника', 'S'),\n",
       " ('свалки', 'S'),\n",
       " ('Начальник', 'S'),\n",
       " ('полигона', 'S'),\n",
       " ('твердых', 'A=pl'),\n",
       " ('бытовых', 'A=pl'),\n",
       " ('отходов', 'S'),\n",
       " ('Игумново', 'S'),\n",
       " ('в', 'PR'),\n",
       " ('Нижегородской', 'A=f'),\n",
       " ('области', 'S'),\n",
       " ('осужден', 'V'),\n",
       " ('за', 'PR'),\n",
       " ('загрязнение', 'S'),\n",
       " ('атмосферы', 'S'),\n",
       " ('и', 'CONJ'),\n",
       " ('грунтовых', 'A=pl'),\n",
       " ('вод', 'S'),\n",
       " ('ФАС', 'S'),\n",
       " ('России', 'S'),\n",
       " ('Мечел', 'S'),\n",
       " ('нарушил', 'V'),\n",
       " ('закон', 'S'),\n",
       " ('о', 'PR'),\n",
       " ('защите', 'S'),\n",
       " ('конкуренции', 'S'),\n",
       " ('Федеральная', 'A=f'),\n",
       " ('антимонопольная', 'A=f'),\n",
       " ('служба', 'S'),\n",
       " ('ФАС', 'S'),\n",
       " ('России', 'S'),\n",
       " ('признала', 'V'),\n",
       " ('что', 'CONJ'),\n",
       " ('группа', 'S'),\n",
       " ('компаний', 'S'),\n",
       " ('Мечел', 'S'),\n",
       " ('нарушила', 'V'),\n",
       " ('статью', 'S'),\n",
       " ('закона', 'S'),\n",
       " ('О', 'PR'),\n",
       " ('защите', 'S'),\n",
       " ('конкуренции', 'S'),\n",
       " ('в', 'PR'),\n",
       " ('части', 'S'),\n",
       " ('создания', 'S'),\n",
       " ('дискриминационных', 'A=pl'),\n",
       " ('условий', 'S'),\n",
       " ('для', 'PR'),\n",
       " ('отдельных', 'A=pl'),\n",
       " ('потребителей', 'S'),\n",
       " ('продукции', 'S'),\n",
       " ('а', 'CONJ'),\n",
       " ('также', 'ADV'),\n",
       " ('экономически', 'ADV'),\n",
       " ('и', 'CONJ'),\n",
       " ('технологически', 'ADV'),\n",
       " ('необоснованного', 'A=m'),\n",
       " ('отказа', 'S'),\n",
       " ('от', 'PR'),\n",
       " ('заключения', 'S'),\n",
       " ('договора', 'S'),\n",
       " ('на', 'PR'),\n",
       " ('поставку', 'S'),\n",
       " ('продукции', 'S'),\n",
       " ('и', 'CONJ'),\n",
       " ('поддержания', 'S'),\n",
       " ('монопольно', 'ADV'),\n",
       " ('высокой', 'A=f'),\n",
       " ('цены', 'S'),\n",
       " ('на', 'PR'),\n",
       " ('товар', 'S'),\n",
       " ('Ранее', 'A=comp'),\n",
       " ('Коммерсант', 'S'),\n",
       " ('со', 'PR'),\n",
       " ('ссылкой', 'S'),\n",
       " ('на', 'PR'),\n",
       " ('представителя', 'S'),\n",
       " ('пресс', 'S'),\n",
       " ('службы', 'S'),\n",
       " ('ФАС', 'S'),\n",
       " ('Марию', 'S'),\n",
       " ('Чернову', 'S'),\n",
       " ('утверждал', 'V'),\n",
       " ('что', 'CONJ'),\n",
       " ('ФАС', 'S'),\n",
       " ('рассмотрит', 'V'),\n",
       " ('дело', 'S'),\n",
       " ('Мечела', 'S'),\n",
       " ('о', 'PR'),\n",
       " ('нарушении', 'S'),\n",
       " ('антимонопольного', 'A=n'),\n",
       " ('законодательства', 'S'),\n",
       " ('только', 'PART'),\n",
       " ('августа', 'S'),\n",
       " ('Как', 'CONJ'),\n",
       " ('сообщила', 'V'),\n",
       " ('пресс', 'S'),\n",
       " ('служба', 'S'),\n",
       " ('ФАС', 'S'),\n",
       " ('ООО', 'S'),\n",
       " ('Торговый', 'A=m'),\n",
       " ('Дом', 'S'),\n",
       " ('Мечел', 'S'),\n",
       " ('ОАО', 'S'),\n",
       " ('Угольная', 'A=f'),\n",
       " ('компания', 'S'),\n",
       " ('Южный', 'A=m'),\n",
       " ('Кузбасс', 'S'),\n",
       " ('ОАО', 'S'),\n",
       " ('Холдинговая', 'A=f'),\n",
       " ('компания', 'S'),\n",
       " ('Якутуголь', 'S'),\n",
       " ('компании', 'S'),\n",
       " ('занимают', 'V'),\n",
       " ('в', 'PR'),\n",
       " ('Российской', 'A=f'),\n",
       " ('Федерации', 'S'),\n",
       " ('доминирующее', 'A=n'),\n",
       " ('положение', 'S'),\n",
       " ('на', 'PR'),\n",
       " ('рынке', 'S'),\n",
       " ('концентратов', 'S'),\n",
       " ('коксующихся', 'V'),\n",
       " ('марок', 'S'),\n",
       " ('углей', 'S'),\n",
       " ('К', 'INIT=abbr'),\n",
       " ('К', 'INIT=abbr'),\n",
       " ('КО', 'S'),\n",
       " ('ОС', 'S'),\n",
       " ('Дело', 'S'),\n",
       " ('по', 'PR'),\n",
       " ('признакам', 'S'),\n",
       " ...]"
      ]
     },
     "execution_count": 26,
     "metadata": {},
     "output_type": "execute_result"
    }
   ],
   "source": [
    "nltk.pos_tag(nltk.word_tokenize(document), lang='rus')"
   ]
  },
  {
   "cell_type": "code",
   "execution_count": 37,
   "metadata": {
    "colab": {
     "base_uri": "https://localhost:8080/"
    },
    "id": "Z6s_GfIFp-JU",
    "outputId": "f0de7f8b-1a15-4371-a969-536921a1ebe1"
   },
   "outputs": [
    {
     "name": "stdout",
     "output_type": "stream",
     "text": [
      "Collecting svgling\n",
      "  Downloading svgling-0.3.1-py3-none-any.whl (21 kB)\n",
      "Collecting svgwrite (from svgling)\n",
      "  Downloading svgwrite-1.4.3-py3-none-any.whl (67 kB)\n",
      "\u001b[?25l     \u001b[90m━━━━━━━━━━━━━━━━━━━━━━━━━━━━━━━━━━━━━━━━\u001b[0m \u001b[32m0.0/67.1 kB\u001b[0m \u001b[31m?\u001b[0m eta \u001b[36m-:--:--\u001b[0m\r",
      "\u001b[2K     \u001b[90m━━━━━━━━━━━━━━━━━━━━━━━━━━━━━━━━━━━━━━━━\u001b[0m \u001b[32m67.1/67.1 kB\u001b[0m \u001b[31m2.2 MB/s\u001b[0m eta \u001b[36m0:00:00\u001b[0m\n",
      "\u001b[?25hInstalling collected packages: svgwrite, svgling\n",
      "Successfully installed svgling-0.3.1 svgwrite-1.4.3\n"
     ]
    }
   ],
   "source": [
    "!pip install svgling"
   ]
  },
  {
   "cell_type": "code",
   "execution_count": 33,
   "metadata": {
    "id": "8uhFYqSnpKNB"
   },
   "outputs": [],
   "source": [
    "tokens = nltk.word_tokenize(document)\n",
    "pos_tags = nltk.pos_tag(tokens, lang='rus')\n",
    "ne_chunks = nltk.ne_chunk(pos_tags)"
   ]
  },
  {
   "cell_type": "code",
   "execution_count": 54,
   "metadata": {
    "id": "hxivP7q8vIUg"
   },
   "outputs": [],
   "source": [
    "pos_tags_tags = [pos_tag[-1] for pos_tag in pos_tags]"
   ]
  },
  {
   "cell_type": "code",
   "execution_count": 59,
   "metadata": {
    "colab": {
     "base_uri": "https://localhost:8080/"
    },
    "id": "us4rE9VhvZGt",
    "outputId": "1da940cb-012d-4bdd-f50f-7c69847cbbb9"
   },
   "outputs": [
    {
     "data": {
      "text/plain": [
       "FreqDist({'S': 105882, 'PR': 28223, 'V': 27327, 'CONJ': 9254, 'A=m': 7878, 'A=f': 5674, 'A=pl': 5324, 'S-PRO': 5236, 'ADV': 4639, 'A=n': 3138, ...})"
      ]
     },
     "execution_count": 59,
     "metadata": {},
     "output_type": "execute_result"
    }
   ],
   "source": [
    "nltk.FreqDist(pos_tags_tags)"
   ]
  },
  {
   "cell_type": "code",
   "execution_count": 60,
   "metadata": {
    "colab": {
     "base_uri": "https://localhost:8080/"
    },
    "id": "8TRiYsgLuDnw",
    "outputId": "9fd5628a-9a71-4c56-e9d3-9e8e978839ac"
   },
   "outputs": [
    {
     "data": {
      "text/plain": [
       "FreqDist({})"
      ]
     },
     "execution_count": 60,
     "metadata": {},
     "output_type": "execute_result"
    }
   ],
   "source": [
    "tags = [chunk[-1] for chunk in ne_chunks if chunk[-1] not in pos_tags_tags]\n",
    "nltk.FreqDist(tags)"
   ]
  },
  {
   "cell_type": "markdown",
   "metadata": {
    "id": "aH3-Ni380Sqy"
   },
   "source": [
    "ne_chunk судя по всему не работет с русским текстом"
   ]
  },
  {
   "cell_type": "markdown",
   "metadata": {
    "id": "qaaI5ICg0jmz"
   },
   "source": [
    "Spacy"
   ]
  },
  {
   "cell_type": "code",
   "execution_count": 62,
   "metadata": {
    "colab": {
     "base_uri": "https://localhost:8080/"
    },
    "id": "ofjbeRq41Qec",
    "outputId": "5bbbb19b-fd00-4710-ec2b-9b9f2ce87e81"
   },
   "outputs": [
    {
     "name": "stdout",
     "output_type": "stream",
     "text": [
      "2023-08-27 11:50:54.026637: W tensorflow/compiler/tf2tensorrt/utils/py_utils.cc:38] TF-TRT Warning: Could not find TensorRT\n",
      "Collecting ru-core-news-sm==3.6.0\n",
      "  Downloading https://github.com/explosion/spacy-models/releases/download/ru_core_news_sm-3.6.0/ru_core_news_sm-3.6.0-py3-none-any.whl (15.3 MB)\n",
      "\u001b[2K     \u001b[90m━━━━━━━━━━━━━━━━━━━━━━━━━━━━━━━━━━━━━━━━\u001b[0m \u001b[32m15.3/15.3 MB\u001b[0m \u001b[31m46.4 MB/s\u001b[0m eta \u001b[36m0:00:00\u001b[0m\n",
      "\u001b[?25hRequirement already satisfied: spacy<3.7.0,>=3.6.0 in /usr/local/lib/python3.10/dist-packages (from ru-core-news-sm==3.6.0) (3.6.1)\n",
      "Collecting pymorphy3>=1.0.0 (from ru-core-news-sm==3.6.0)\n",
      "  Downloading pymorphy3-1.2.0-py3-none-any.whl (55 kB)\n",
      "\u001b[2K     \u001b[90m━━━━━━━━━━━━━━━━━━━━━━━━━━━━━━━━━━━━━━━━\u001b[0m \u001b[32m55.4/55.4 kB\u001b[0m \u001b[31m1.6 MB/s\u001b[0m eta \u001b[36m0:00:00\u001b[0m\n",
      "\u001b[?25hCollecting dawg-python>=0.7.1 (from pymorphy3>=1.0.0->ru-core-news-sm==3.6.0)\n",
      "  Downloading DAWG_Python-0.7.2-py2.py3-none-any.whl (11 kB)\n",
      "Collecting docopt>=0.6 (from pymorphy3>=1.0.0->ru-core-news-sm==3.6.0)\n",
      "  Downloading docopt-0.6.2.tar.gz (25 kB)\n",
      "  Preparing metadata (setup.py) ... \u001b[?25l\u001b[?25hdone\n",
      "Collecting pymorphy3-dicts-ru (from pymorphy3>=1.0.0->ru-core-news-sm==3.6.0)\n",
      "  Downloading pymorphy3_dicts_ru-2.4.417150.4580142-py2.py3-none-any.whl (8.4 MB)\n",
      "\u001b[2K     \u001b[90m━━━━━━━━━━━━━━━━━━━━━━━━━━━━━━━━━━━━━━━━\u001b[0m \u001b[32m8.4/8.4 MB\u001b[0m \u001b[31m67.6 MB/s\u001b[0m eta \u001b[36m0:00:00\u001b[0m\n",
      "\u001b[?25hRequirement already satisfied: spacy-legacy<3.1.0,>=3.0.11 in /usr/local/lib/python3.10/dist-packages (from spacy<3.7.0,>=3.6.0->ru-core-news-sm==3.6.0) (3.0.12)\n",
      "Requirement already satisfied: spacy-loggers<2.0.0,>=1.0.0 in /usr/local/lib/python3.10/dist-packages (from spacy<3.7.0,>=3.6.0->ru-core-news-sm==3.6.0) (1.0.4)\n",
      "Requirement already satisfied: murmurhash<1.1.0,>=0.28.0 in /usr/local/lib/python3.10/dist-packages (from spacy<3.7.0,>=3.6.0->ru-core-news-sm==3.6.0) (1.0.9)\n",
      "Requirement already satisfied: cymem<2.1.0,>=2.0.2 in /usr/local/lib/python3.10/dist-packages (from spacy<3.7.0,>=3.6.0->ru-core-news-sm==3.6.0) (2.0.7)\n",
      "Requirement already satisfied: preshed<3.1.0,>=3.0.2 in /usr/local/lib/python3.10/dist-packages (from spacy<3.7.0,>=3.6.0->ru-core-news-sm==3.6.0) (3.0.8)\n",
      "Requirement already satisfied: thinc<8.2.0,>=8.1.8 in /usr/local/lib/python3.10/dist-packages (from spacy<3.7.0,>=3.6.0->ru-core-news-sm==3.6.0) (8.1.12)\n",
      "Requirement already satisfied: wasabi<1.2.0,>=0.9.1 in /usr/local/lib/python3.10/dist-packages (from spacy<3.7.0,>=3.6.0->ru-core-news-sm==3.6.0) (1.1.2)\n",
      "Requirement already satisfied: srsly<3.0.0,>=2.4.3 in /usr/local/lib/python3.10/dist-packages (from spacy<3.7.0,>=3.6.0->ru-core-news-sm==3.6.0) (2.4.7)\n",
      "Requirement already satisfied: catalogue<2.1.0,>=2.0.6 in /usr/local/lib/python3.10/dist-packages (from spacy<3.7.0,>=3.6.0->ru-core-news-sm==3.6.0) (2.0.9)\n",
      "Requirement already satisfied: typer<0.10.0,>=0.3.0 in /usr/local/lib/python3.10/dist-packages (from spacy<3.7.0,>=3.6.0->ru-core-news-sm==3.6.0) (0.9.0)\n",
      "Requirement already satisfied: pathy>=0.10.0 in /usr/local/lib/python3.10/dist-packages (from spacy<3.7.0,>=3.6.0->ru-core-news-sm==3.6.0) (0.10.2)\n",
      "Requirement already satisfied: smart-open<7.0.0,>=5.2.1 in /usr/local/lib/python3.10/dist-packages (from spacy<3.7.0,>=3.6.0->ru-core-news-sm==3.6.0) (6.3.0)\n",
      "Requirement already satisfied: tqdm<5.0.0,>=4.38.0 in /usr/local/lib/python3.10/dist-packages (from spacy<3.7.0,>=3.6.0->ru-core-news-sm==3.6.0) (4.66.1)\n",
      "Requirement already satisfied: numpy>=1.15.0 in /usr/local/lib/python3.10/dist-packages (from spacy<3.7.0,>=3.6.0->ru-core-news-sm==3.6.0) (1.23.5)\n",
      "Requirement already satisfied: requests<3.0.0,>=2.13.0 in /usr/local/lib/python3.10/dist-packages (from spacy<3.7.0,>=3.6.0->ru-core-news-sm==3.6.0) (2.31.0)\n",
      "Requirement already satisfied: pydantic!=1.8,!=1.8.1,<3.0.0,>=1.7.4 in /usr/local/lib/python3.10/dist-packages (from spacy<3.7.0,>=3.6.0->ru-core-news-sm==3.6.0) (2.2.1)\n",
      "Requirement already satisfied: jinja2 in /usr/local/lib/python3.10/dist-packages (from spacy<3.7.0,>=3.6.0->ru-core-news-sm==3.6.0) (3.1.2)\n",
      "Requirement already satisfied: setuptools in /usr/local/lib/python3.10/dist-packages (from spacy<3.7.0,>=3.6.0->ru-core-news-sm==3.6.0) (67.7.2)\n",
      "Requirement already satisfied: packaging>=20.0 in /usr/local/lib/python3.10/dist-packages (from spacy<3.7.0,>=3.6.0->ru-core-news-sm==3.6.0) (23.1)\n",
      "Requirement already satisfied: langcodes<4.0.0,>=3.2.0 in /usr/local/lib/python3.10/dist-packages (from spacy<3.7.0,>=3.6.0->ru-core-news-sm==3.6.0) (3.3.0)\n",
      "Requirement already satisfied: annotated-types>=0.4.0 in /usr/local/lib/python3.10/dist-packages (from pydantic!=1.8,!=1.8.1,<3.0.0,>=1.7.4->spacy<3.7.0,>=3.6.0->ru-core-news-sm==3.6.0) (0.5.0)\n",
      "Requirement already satisfied: pydantic-core==2.6.1 in /usr/local/lib/python3.10/dist-packages (from pydantic!=1.8,!=1.8.1,<3.0.0,>=1.7.4->spacy<3.7.0,>=3.6.0->ru-core-news-sm==3.6.0) (2.6.1)\n",
      "Requirement already satisfied: typing-extensions>=4.6.1 in /usr/local/lib/python3.10/dist-packages (from pydantic!=1.8,!=1.8.1,<3.0.0,>=1.7.4->spacy<3.7.0,>=3.6.0->ru-core-news-sm==3.6.0) (4.7.1)\n",
      "Requirement already satisfied: charset-normalizer<4,>=2 in /usr/local/lib/python3.10/dist-packages (from requests<3.0.0,>=2.13.0->spacy<3.7.0,>=3.6.0->ru-core-news-sm==3.6.0) (3.2.0)\n",
      "Requirement already satisfied: idna<4,>=2.5 in /usr/local/lib/python3.10/dist-packages (from requests<3.0.0,>=2.13.0->spacy<3.7.0,>=3.6.0->ru-core-news-sm==3.6.0) (3.4)\n",
      "Requirement already satisfied: urllib3<3,>=1.21.1 in /usr/local/lib/python3.10/dist-packages (from requests<3.0.0,>=2.13.0->spacy<3.7.0,>=3.6.0->ru-core-news-sm==3.6.0) (2.0.4)\n",
      "Requirement already satisfied: certifi>=2017.4.17 in /usr/local/lib/python3.10/dist-packages (from requests<3.0.0,>=2.13.0->spacy<3.7.0,>=3.6.0->ru-core-news-sm==3.6.0) (2023.7.22)\n",
      "Requirement already satisfied: blis<0.8.0,>=0.7.8 in /usr/local/lib/python3.10/dist-packages (from thinc<8.2.0,>=8.1.8->spacy<3.7.0,>=3.6.0->ru-core-news-sm==3.6.0) (0.7.10)\n",
      "Requirement already satisfied: confection<1.0.0,>=0.0.1 in /usr/local/lib/python3.10/dist-packages (from thinc<8.2.0,>=8.1.8->spacy<3.7.0,>=3.6.0->ru-core-news-sm==3.6.0) (0.1.1)\n",
      "Requirement already satisfied: click<9.0.0,>=7.1.1 in /usr/local/lib/python3.10/dist-packages (from typer<0.10.0,>=0.3.0->spacy<3.7.0,>=3.6.0->ru-core-news-sm==3.6.0) (8.1.7)\n",
      "Requirement already satisfied: MarkupSafe>=2.0 in /usr/local/lib/python3.10/dist-packages (from jinja2->spacy<3.7.0,>=3.6.0->ru-core-news-sm==3.6.0) (2.1.3)\n",
      "Building wheels for collected packages: docopt\n",
      "  Building wheel for docopt (setup.py) ... \u001b[?25l\u001b[?25hdone\n",
      "  Created wheel for docopt: filename=docopt-0.6.2-py2.py3-none-any.whl size=13705 sha256=3a6447be45256fd5db1a291007bc4de2b5a0d204e8aa2120ab1d1530caedb895\n",
      "  Stored in directory: /root/.cache/pip/wheels/fc/ab/d4/5da2067ac95b36618c629a5f93f809425700506f72c9732fac\n",
      "Successfully built docopt\n",
      "Installing collected packages: pymorphy3-dicts-ru, docopt, dawg-python, pymorphy3, ru-core-news-sm\n",
      "Successfully installed dawg-python-0.7.2 docopt-0.6.2 pymorphy3-1.2.0 pymorphy3-dicts-ru-2.4.417150.4580142 ru-core-news-sm-3.6.0\n",
      "\u001b[38;5;2m✔ Download and installation successful\u001b[0m\n",
      "You can now load the package via spacy.load('ru_core_news_sm')\n"
     ]
    }
   ],
   "source": [
    "!python -m spacy download ru_core_news_sm"
   ]
  },
  {
   "cell_type": "code",
   "execution_count": 63,
   "metadata": {
    "id": "d6eMz3FA0W2z"
   },
   "outputs": [],
   "source": [
    "import spacy\n",
    "from spacy import displacy\n",
    "nlp = spacy.load(\"ru_core_news_sm\")\n",
    "import ru_core_news_sm"
   ]
  },
  {
   "cell_type": "code",
   "execution_count": 64,
   "metadata": {
    "id": "6HFv-rOG1iys"
   },
   "outputs": [],
   "source": [
    "nlp = ru_core_news_sm.load()"
   ]
  },
  {
   "cell_type": "code",
   "execution_count": 106,
   "metadata": {
    "id": "w_KM4J3D1jcR"
   },
   "outputs": [],
   "source": [
    "doc = nlp(document[:500])"
   ]
  },
  {
   "cell_type": "code",
   "execution_count": 82,
   "metadata": {
    "colab": {
     "base_uri": "https://localhost:8080/",
     "height": 703
    },
    "id": "MSqQkx4Z4c1a",
    "outputId": "b008ca72-a5f2-4106-927f-6801eb555cf0"
   },
   "outputs": [
    {
     "data": {
      "text/html": [
       "<span class=\"tex2jax_ignore\"><svg xmlns=\"http://www.w3.org/2000/svg\" xmlns:xlink=\"http://www.w3.org/1999/xlink\" xml:lang=\"ru\" id=\"3a285ea4f1214ae5925df66065603c19-0\" class=\"displacy\" width=\"11775\" height=\"662.0\" direction=\"ltr\" style=\"max-width: none; height: 662.0px; color: #000000; background: #ffffff; font-family: Arial; direction: ltr\">\n",
       "<text class=\"displacy-token\" fill=\"currentColor\" text-anchor=\"middle\" y=\"572.0\">\n",
       "    <tspan class=\"displacy-word\" fill=\"currentColor\" x=\"50\">Россия</tspan>\n",
       "    <tspan class=\"displacy-tag\" dy=\"2em\" fill=\"currentColor\" x=\"50\">PROPN</tspan>\n",
       "</text>\n",
       "\n",
       "<text class=\"displacy-token\" fill=\"currentColor\" text-anchor=\"middle\" y=\"572.0\">\n",
       "    <tspan class=\"displacy-word\" fill=\"currentColor\" x=\"225\">рассчитывает</tspan>\n",
       "    <tspan class=\"displacy-tag\" dy=\"2em\" fill=\"currentColor\" x=\"225\">VERB</tspan>\n",
       "</text>\n",
       "\n",
       "<text class=\"displacy-token\" fill=\"currentColor\" text-anchor=\"middle\" y=\"572.0\">\n",
       "    <tspan class=\"displacy-word\" fill=\"currentColor\" x=\"400\">на</tspan>\n",
       "    <tspan class=\"displacy-tag\" dy=\"2em\" fill=\"currentColor\" x=\"400\">ADP</tspan>\n",
       "</text>\n",
       "\n",
       "<text class=\"displacy-token\" fill=\"currentColor\" text-anchor=\"middle\" y=\"572.0\">\n",
       "    <tspan class=\"displacy-word\" fill=\"currentColor\" x=\"575\">конструктивное</tspan>\n",
       "    <tspan class=\"displacy-tag\" dy=\"2em\" fill=\"currentColor\" x=\"575\">ADJ</tspan>\n",
       "</text>\n",
       "\n",
       "<text class=\"displacy-token\" fill=\"currentColor\" text-anchor=\"middle\" y=\"572.0\">\n",
       "    <tspan class=\"displacy-word\" fill=\"currentColor\" x=\"750\">воздействие</tspan>\n",
       "    <tspan class=\"displacy-tag\" dy=\"2em\" fill=\"currentColor\" x=\"750\">NOUN</tspan>\n",
       "</text>\n",
       "\n",
       "<text class=\"displacy-token\" fill=\"currentColor\" text-anchor=\"middle\" y=\"572.0\">\n",
       "    <tspan class=\"displacy-word\" fill=\"currentColor\" x=\"925\">США</tspan>\n",
       "    <tspan class=\"displacy-tag\" dy=\"2em\" fill=\"currentColor\" x=\"925\">PROPN</tspan>\n",
       "</text>\n",
       "\n",
       "<text class=\"displacy-token\" fill=\"currentColor\" text-anchor=\"middle\" y=\"572.0\">\n",
       "    <tspan class=\"displacy-word\" fill=\"currentColor\" x=\"1100\">на</tspan>\n",
       "    <tspan class=\"displacy-tag\" dy=\"2em\" fill=\"currentColor\" x=\"1100\">ADP</tspan>\n",
       "</text>\n",
       "\n",
       "<text class=\"displacy-token\" fill=\"currentColor\" text-anchor=\"middle\" y=\"572.0\">\n",
       "    <tspan class=\"displacy-word\" fill=\"currentColor\" x=\"1275\">Грузию</tspan>\n",
       "    <tspan class=\"displacy-tag\" dy=\"2em\" fill=\"currentColor\" x=\"1275\">PROPN</tspan>\n",
       "</text>\n",
       "\n",
       "<text class=\"displacy-token\" fill=\"currentColor\" text-anchor=\"middle\" y=\"572.0\">\n",
       "    <tspan class=\"displacy-word\" fill=\"currentColor\" x=\"1450\">МОСКВА</tspan>\n",
       "    <tspan class=\"displacy-tag\" dy=\"2em\" fill=\"currentColor\" x=\"1450\">PROPN</tspan>\n",
       "</text>\n",
       "\n",
       "<text class=\"displacy-token\" fill=\"currentColor\" text-anchor=\"middle\" y=\"572.0\">\n",
       "    <tspan class=\"displacy-word\" fill=\"currentColor\" x=\"1625\">авг</tspan>\n",
       "    <tspan class=\"displacy-tag\" dy=\"2em\" fill=\"currentColor\" x=\"1625\">PROPN</tspan>\n",
       "</text>\n",
       "\n",
       "<text class=\"displacy-token\" fill=\"currentColor\" text-anchor=\"middle\" y=\"572.0\">\n",
       "    <tspan class=\"displacy-word\" fill=\"currentColor\" x=\"1800\">РИА</tspan>\n",
       "    <tspan class=\"displacy-tag\" dy=\"2em\" fill=\"currentColor\" x=\"1800\">PROPN</tspan>\n",
       "</text>\n",
       "\n",
       "<text class=\"displacy-token\" fill=\"currentColor\" text-anchor=\"middle\" y=\"572.0\">\n",
       "    <tspan class=\"displacy-word\" fill=\"currentColor\" x=\"1975\">Новости</tspan>\n",
       "    <tspan class=\"displacy-tag\" dy=\"2em\" fill=\"currentColor\" x=\"1975\">PROPN</tspan>\n",
       "</text>\n",
       "\n",
       "<text class=\"displacy-token\" fill=\"currentColor\" text-anchor=\"middle\" y=\"572.0\">\n",
       "    <tspan class=\"displacy-word\" fill=\"currentColor\" x=\"2150\">Россия</tspan>\n",
       "    <tspan class=\"displacy-tag\" dy=\"2em\" fill=\"currentColor\" x=\"2150\">PROPN</tspan>\n",
       "</text>\n",
       "\n",
       "<text class=\"displacy-token\" fill=\"currentColor\" text-anchor=\"middle\" y=\"572.0\">\n",
       "    <tspan class=\"displacy-word\" fill=\"currentColor\" x=\"2325\">рассчитывает</tspan>\n",
       "    <tspan class=\"displacy-tag\" dy=\"2em\" fill=\"currentColor\" x=\"2325\">VERB</tspan>\n",
       "</text>\n",
       "\n",
       "<text class=\"displacy-token\" fill=\"currentColor\" text-anchor=\"middle\" y=\"572.0\">\n",
       "    <tspan class=\"displacy-word\" fill=\"currentColor\" x=\"2500\">что</tspan>\n",
       "    <tspan class=\"displacy-tag\" dy=\"2em\" fill=\"currentColor\" x=\"2500\">SCONJ</tspan>\n",
       "</text>\n",
       "\n",
       "<text class=\"displacy-token\" fill=\"currentColor\" text-anchor=\"middle\" y=\"572.0\">\n",
       "    <tspan class=\"displacy-word\" fill=\"currentColor\" x=\"2675\">США</tspan>\n",
       "    <tspan class=\"displacy-tag\" dy=\"2em\" fill=\"currentColor\" x=\"2675\">PROPN</tspan>\n",
       "</text>\n",
       "\n",
       "<text class=\"displacy-token\" fill=\"currentColor\" text-anchor=\"middle\" y=\"572.0\">\n",
       "    <tspan class=\"displacy-word\" fill=\"currentColor\" x=\"2850\">воздействуют</tspan>\n",
       "    <tspan class=\"displacy-tag\" dy=\"2em\" fill=\"currentColor\" x=\"2850\">VERB</tspan>\n",
       "</text>\n",
       "\n",
       "<text class=\"displacy-token\" fill=\"currentColor\" text-anchor=\"middle\" y=\"572.0\">\n",
       "    <tspan class=\"displacy-word\" fill=\"currentColor\" x=\"3025\">на</tspan>\n",
       "    <tspan class=\"displacy-tag\" dy=\"2em\" fill=\"currentColor\" x=\"3025\">ADP</tspan>\n",
       "</text>\n",
       "\n",
       "<text class=\"displacy-token\" fill=\"currentColor\" text-anchor=\"middle\" y=\"572.0\">\n",
       "    <tspan class=\"displacy-word\" fill=\"currentColor\" x=\"3200\">Тбилиси</tspan>\n",
       "    <tspan class=\"displacy-tag\" dy=\"2em\" fill=\"currentColor\" x=\"3200\">PROPN</tspan>\n",
       "</text>\n",
       "\n",
       "<text class=\"displacy-token\" fill=\"currentColor\" text-anchor=\"middle\" y=\"572.0\">\n",
       "    <tspan class=\"displacy-word\" fill=\"currentColor\" x=\"3375\">в</tspan>\n",
       "    <tspan class=\"displacy-tag\" dy=\"2em\" fill=\"currentColor\" x=\"3375\">ADP</tspan>\n",
       "</text>\n",
       "\n",
       "<text class=\"displacy-token\" fill=\"currentColor\" text-anchor=\"middle\" y=\"572.0\">\n",
       "    <tspan class=\"displacy-word\" fill=\"currentColor\" x=\"3550\">связи</tspan>\n",
       "    <tspan class=\"displacy-tag\" dy=\"2em\" fill=\"currentColor\" x=\"3550\">NOUN</tspan>\n",
       "</text>\n",
       "\n",
       "<text class=\"displacy-token\" fill=\"currentColor\" text-anchor=\"middle\" y=\"572.0\">\n",
       "    <tspan class=\"displacy-word\" fill=\"currentColor\" x=\"3725\">с</tspan>\n",
       "    <tspan class=\"displacy-tag\" dy=\"2em\" fill=\"currentColor\" x=\"3725\">ADP</tspan>\n",
       "</text>\n",
       "\n",
       "<text class=\"displacy-token\" fill=\"currentColor\" text-anchor=\"middle\" y=\"572.0\">\n",
       "    <tspan class=\"displacy-word\" fill=\"currentColor\" x=\"3900\">обострением</tspan>\n",
       "    <tspan class=\"displacy-tag\" dy=\"2em\" fill=\"currentColor\" x=\"3900\">NOUN</tspan>\n",
       "</text>\n",
       "\n",
       "<text class=\"displacy-token\" fill=\"currentColor\" text-anchor=\"middle\" y=\"572.0\">\n",
       "    <tspan class=\"displacy-word\" fill=\"currentColor\" x=\"4075\">ситуации</tspan>\n",
       "    <tspan class=\"displacy-tag\" dy=\"2em\" fill=\"currentColor\" x=\"4075\">NOUN</tspan>\n",
       "</text>\n",
       "\n",
       "<text class=\"displacy-token\" fill=\"currentColor\" text-anchor=\"middle\" y=\"572.0\">\n",
       "    <tspan class=\"displacy-word\" fill=\"currentColor\" x=\"4250\">в</tspan>\n",
       "    <tspan class=\"displacy-tag\" dy=\"2em\" fill=\"currentColor\" x=\"4250\">ADP</tspan>\n",
       "</text>\n",
       "\n",
       "<text class=\"displacy-token\" fill=\"currentColor\" text-anchor=\"middle\" y=\"572.0\">\n",
       "    <tspan class=\"displacy-word\" fill=\"currentColor\" x=\"4425\">зоне</tspan>\n",
       "    <tspan class=\"displacy-tag\" dy=\"2em\" fill=\"currentColor\" x=\"4425\">NOUN</tspan>\n",
       "</text>\n",
       "\n",
       "<text class=\"displacy-token\" fill=\"currentColor\" text-anchor=\"middle\" y=\"572.0\">\n",
       "    <tspan class=\"displacy-word\" fill=\"currentColor\" x=\"4600\">грузино</tspan>\n",
       "    <tspan class=\"displacy-tag\" dy=\"2em\" fill=\"currentColor\" x=\"4600\">PROPN</tspan>\n",
       "</text>\n",
       "\n",
       "<text class=\"displacy-token\" fill=\"currentColor\" text-anchor=\"middle\" y=\"572.0\">\n",
       "    <tspan class=\"displacy-word\" fill=\"currentColor\" x=\"4775\">осетинского</tspan>\n",
       "    <tspan class=\"displacy-tag\" dy=\"2em\" fill=\"currentColor\" x=\"4775\">ADJ</tspan>\n",
       "</text>\n",
       "\n",
       "<text class=\"displacy-token\" fill=\"currentColor\" text-anchor=\"middle\" y=\"572.0\">\n",
       "    <tspan class=\"displacy-word\" fill=\"currentColor\" x=\"4950\">конфликта</tspan>\n",
       "    <tspan class=\"displacy-tag\" dy=\"2em\" fill=\"currentColor\" x=\"4950\">NOUN</tspan>\n",
       "</text>\n",
       "\n",
       "<text class=\"displacy-token\" fill=\"currentColor\" text-anchor=\"middle\" y=\"572.0\">\n",
       "    <tspan class=\"displacy-word\" fill=\"currentColor\" x=\"5125\">Об</tspan>\n",
       "    <tspan class=\"displacy-tag\" dy=\"2em\" fill=\"currentColor\" x=\"5125\">ADP</tspan>\n",
       "</text>\n",
       "\n",
       "<text class=\"displacy-token\" fill=\"currentColor\" text-anchor=\"middle\" y=\"572.0\">\n",
       "    <tspan class=\"displacy-word\" fill=\"currentColor\" x=\"5300\">этом</tspan>\n",
       "    <tspan class=\"displacy-tag\" dy=\"2em\" fill=\"currentColor\" x=\"5300\">PRON</tspan>\n",
       "</text>\n",
       "\n",
       "<text class=\"displacy-token\" fill=\"currentColor\" text-anchor=\"middle\" y=\"572.0\">\n",
       "    <tspan class=\"displacy-word\" fill=\"currentColor\" x=\"5475\">статс</tspan>\n",
       "    <tspan class=\"displacy-tag\" dy=\"2em\" fill=\"currentColor\" x=\"5475\">NOUN</tspan>\n",
       "</text>\n",
       "\n",
       "<text class=\"displacy-token\" fill=\"currentColor\" text-anchor=\"middle\" y=\"572.0\">\n",
       "    <tspan class=\"displacy-word\" fill=\"currentColor\" x=\"5650\">секретарь</tspan>\n",
       "    <tspan class=\"displacy-tag\" dy=\"2em\" fill=\"currentColor\" x=\"5650\">NOUN</tspan>\n",
       "</text>\n",
       "\n",
       "<text class=\"displacy-token\" fill=\"currentColor\" text-anchor=\"middle\" y=\"572.0\">\n",
       "    <tspan class=\"displacy-word\" fill=\"currentColor\" x=\"5825\">заместитель</tspan>\n",
       "    <tspan class=\"displacy-tag\" dy=\"2em\" fill=\"currentColor\" x=\"5825\">NOUN</tspan>\n",
       "</text>\n",
       "\n",
       "<text class=\"displacy-token\" fill=\"currentColor\" text-anchor=\"middle\" y=\"572.0\">\n",
       "    <tspan class=\"displacy-word\" fill=\"currentColor\" x=\"6000\">министра</tspan>\n",
       "    <tspan class=\"displacy-tag\" dy=\"2em\" fill=\"currentColor\" x=\"6000\">NOUN</tspan>\n",
       "</text>\n",
       "\n",
       "<text class=\"displacy-token\" fill=\"currentColor\" text-anchor=\"middle\" y=\"572.0\">\n",
       "    <tspan class=\"displacy-word\" fill=\"currentColor\" x=\"6175\">иностранных</tspan>\n",
       "    <tspan class=\"displacy-tag\" dy=\"2em\" fill=\"currentColor\" x=\"6175\">ADJ</tspan>\n",
       "</text>\n",
       "\n",
       "<text class=\"displacy-token\" fill=\"currentColor\" text-anchor=\"middle\" y=\"572.0\">\n",
       "    <tspan class=\"displacy-word\" fill=\"currentColor\" x=\"6350\">дел</tspan>\n",
       "    <tspan class=\"displacy-tag\" dy=\"2em\" fill=\"currentColor\" x=\"6350\">NOUN</tspan>\n",
       "</text>\n",
       "\n",
       "<text class=\"displacy-token\" fill=\"currentColor\" text-anchor=\"middle\" y=\"572.0\">\n",
       "    <tspan class=\"displacy-word\" fill=\"currentColor\" x=\"6525\">России</tspan>\n",
       "    <tspan class=\"displacy-tag\" dy=\"2em\" fill=\"currentColor\" x=\"6525\">PROPN</tspan>\n",
       "</text>\n",
       "\n",
       "<text class=\"displacy-token\" fill=\"currentColor\" text-anchor=\"middle\" y=\"572.0\">\n",
       "    <tspan class=\"displacy-word\" fill=\"currentColor\" x=\"6700\">Григорий</tspan>\n",
       "    <tspan class=\"displacy-tag\" dy=\"2em\" fill=\"currentColor\" x=\"6700\">PROPN</tspan>\n",
       "</text>\n",
       "\n",
       "<text class=\"displacy-token\" fill=\"currentColor\" text-anchor=\"middle\" y=\"572.0\">\n",
       "    <tspan class=\"displacy-word\" fill=\"currentColor\" x=\"6875\">Карасин</tspan>\n",
       "    <tspan class=\"displacy-tag\" dy=\"2em\" fill=\"currentColor\" x=\"6875\">PROPN</tspan>\n",
       "</text>\n",
       "\n",
       "<text class=\"displacy-token\" fill=\"currentColor\" text-anchor=\"middle\" y=\"572.0\">\n",
       "    <tspan class=\"displacy-word\" fill=\"currentColor\" x=\"7050\">заявил</tspan>\n",
       "    <tspan class=\"displacy-tag\" dy=\"2em\" fill=\"currentColor\" x=\"7050\">VERB</tspan>\n",
       "</text>\n",
       "\n",
       "<text class=\"displacy-token\" fill=\"currentColor\" text-anchor=\"middle\" y=\"572.0\">\n",
       "    <tspan class=\"displacy-word\" fill=\"currentColor\" x=\"7225\">в</tspan>\n",
       "    <tspan class=\"displacy-tag\" dy=\"2em\" fill=\"currentColor\" x=\"7225\">ADP</tspan>\n",
       "</text>\n",
       "\n",
       "<text class=\"displacy-token\" fill=\"currentColor\" text-anchor=\"middle\" y=\"572.0\">\n",
       "    <tspan class=\"displacy-word\" fill=\"currentColor\" x=\"7400\">телефонном</tspan>\n",
       "    <tspan class=\"displacy-tag\" dy=\"2em\" fill=\"currentColor\" x=\"7400\">ADJ</tspan>\n",
       "</text>\n",
       "\n",
       "<text class=\"displacy-token\" fill=\"currentColor\" text-anchor=\"middle\" y=\"572.0\">\n",
       "    <tspan class=\"displacy-word\" fill=\"currentColor\" x=\"7575\">разговоре</tspan>\n",
       "    <tspan class=\"displacy-tag\" dy=\"2em\" fill=\"currentColor\" x=\"7575\">NOUN</tspan>\n",
       "</text>\n",
       "\n",
       "<text class=\"displacy-token\" fill=\"currentColor\" text-anchor=\"middle\" y=\"572.0\">\n",
       "    <tspan class=\"displacy-word\" fill=\"currentColor\" x=\"7750\">с</tspan>\n",
       "    <tspan class=\"displacy-tag\" dy=\"2em\" fill=\"currentColor\" x=\"7750\">ADP</tspan>\n",
       "</text>\n",
       "\n",
       "<text class=\"displacy-token\" fill=\"currentColor\" text-anchor=\"middle\" y=\"572.0\">\n",
       "    <tspan class=\"displacy-word\" fill=\"currentColor\" x=\"7925\">заместителем</tspan>\n",
       "    <tspan class=\"displacy-tag\" dy=\"2em\" fill=\"currentColor\" x=\"7925\">NOUN</tspan>\n",
       "</text>\n",
       "\n",
       "<text class=\"displacy-token\" fill=\"currentColor\" text-anchor=\"middle\" y=\"572.0\">\n",
       "    <tspan class=\"displacy-word\" fill=\"currentColor\" x=\"8100\">госсекретаря</tspan>\n",
       "    <tspan class=\"displacy-tag\" dy=\"2em\" fill=\"currentColor\" x=\"8100\">NOUN</tspan>\n",
       "</text>\n",
       "\n",
       "<text class=\"displacy-token\" fill=\"currentColor\" text-anchor=\"middle\" y=\"572.0\">\n",
       "    <tspan class=\"displacy-word\" fill=\"currentColor\" x=\"8275\">США</tspan>\n",
       "    <tspan class=\"displacy-tag\" dy=\"2em\" fill=\"currentColor\" x=\"8275\">PROPN</tspan>\n",
       "</text>\n",
       "\n",
       "<text class=\"displacy-token\" fill=\"currentColor\" text-anchor=\"middle\" y=\"572.0\">\n",
       "    <tspan class=\"displacy-word\" fill=\"currentColor\" x=\"8450\">Дэниэлом</tspan>\n",
       "    <tspan class=\"displacy-tag\" dy=\"2em\" fill=\"currentColor\" x=\"8450\">PROPN</tspan>\n",
       "</text>\n",
       "\n",
       "<text class=\"displacy-token\" fill=\"currentColor\" text-anchor=\"middle\" y=\"572.0\">\n",
       "    <tspan class=\"displacy-word\" fill=\"currentColor\" x=\"8625\">Фридом</tspan>\n",
       "    <tspan class=\"displacy-tag\" dy=\"2em\" fill=\"currentColor\" x=\"8625\">PROPN</tspan>\n",
       "</text>\n",
       "\n",
       "<text class=\"displacy-token\" fill=\"currentColor\" text-anchor=\"middle\" y=\"572.0\">\n",
       "    <tspan class=\"displacy-word\" fill=\"currentColor\" x=\"8800\">С</tspan>\n",
       "    <tspan class=\"displacy-tag\" dy=\"2em\" fill=\"currentColor\" x=\"8800\">ADP</tspan>\n",
       "</text>\n",
       "\n",
       "<text class=\"displacy-token\" fill=\"currentColor\" text-anchor=\"middle\" y=\"572.0\">\n",
       "    <tspan class=\"displacy-word\" fill=\"currentColor\" x=\"8975\">российской</tspan>\n",
       "    <tspan class=\"displacy-tag\" dy=\"2em\" fill=\"currentColor\" x=\"8975\">ADJ</tspan>\n",
       "</text>\n",
       "\n",
       "<text class=\"displacy-token\" fill=\"currentColor\" text-anchor=\"middle\" y=\"572.0\">\n",
       "    <tspan class=\"displacy-word\" fill=\"currentColor\" x=\"9150\">стороны</tspan>\n",
       "    <tspan class=\"displacy-tag\" dy=\"2em\" fill=\"currentColor\" x=\"9150\">NOUN</tspan>\n",
       "</text>\n",
       "\n",
       "<text class=\"displacy-token\" fill=\"currentColor\" text-anchor=\"middle\" y=\"572.0\">\n",
       "    <tspan class=\"displacy-word\" fill=\"currentColor\" x=\"9325\">выражена</tspan>\n",
       "    <tspan class=\"displacy-tag\" dy=\"2em\" fill=\"currentColor\" x=\"9325\">VERB</tspan>\n",
       "</text>\n",
       "\n",
       "<text class=\"displacy-token\" fill=\"currentColor\" text-anchor=\"middle\" y=\"572.0\">\n",
       "    <tspan class=\"displacy-word\" fill=\"currentColor\" x=\"9500\">глубокая</tspan>\n",
       "    <tspan class=\"displacy-tag\" dy=\"2em\" fill=\"currentColor\" x=\"9500\">ADJ</tspan>\n",
       "</text>\n",
       "\n",
       "<text class=\"displacy-token\" fill=\"currentColor\" text-anchor=\"middle\" y=\"572.0\">\n",
       "    <tspan class=\"displacy-word\" fill=\"currentColor\" x=\"9675\">озабоченность</tspan>\n",
       "    <tspan class=\"displacy-tag\" dy=\"2em\" fill=\"currentColor\" x=\"9675\">NOUN</tspan>\n",
       "</text>\n",
       "\n",
       "<text class=\"displacy-token\" fill=\"currentColor\" text-anchor=\"middle\" y=\"572.0\">\n",
       "    <tspan class=\"displacy-word\" fill=\"currentColor\" x=\"9850\">в</tspan>\n",
       "    <tspan class=\"displacy-tag\" dy=\"2em\" fill=\"currentColor\" x=\"9850\">ADP</tspan>\n",
       "</text>\n",
       "\n",
       "<text class=\"displacy-token\" fill=\"currentColor\" text-anchor=\"middle\" y=\"572.0\">\n",
       "    <tspan class=\"displacy-word\" fill=\"currentColor\" x=\"10025\">связи</tspan>\n",
       "    <tspan class=\"displacy-tag\" dy=\"2em\" fill=\"currentColor\" x=\"10025\">NOUN</tspan>\n",
       "</text>\n",
       "\n",
       "<text class=\"displacy-token\" fill=\"currentColor\" text-anchor=\"middle\" y=\"572.0\">\n",
       "    <tspan class=\"displacy-word\" fill=\"currentColor\" x=\"10200\">с</tspan>\n",
       "    <tspan class=\"displacy-tag\" dy=\"2em\" fill=\"currentColor\" x=\"10200\">ADP</tspan>\n",
       "</text>\n",
       "\n",
       "<text class=\"displacy-token\" fill=\"currentColor\" text-anchor=\"middle\" y=\"572.0\">\n",
       "    <tspan class=\"displacy-word\" fill=\"currentColor\" x=\"10375\">новым</tspan>\n",
       "    <tspan class=\"displacy-tag\" dy=\"2em\" fill=\"currentColor\" x=\"10375\">ADJ</tspan>\n",
       "</text>\n",
       "\n",
       "<text class=\"displacy-token\" fill=\"currentColor\" text-anchor=\"middle\" y=\"572.0\">\n",
       "    <tspan class=\"displacy-word\" fill=\"currentColor\" x=\"10550\">витком</tspan>\n",
       "    <tspan class=\"displacy-tag\" dy=\"2em\" fill=\"currentColor\" x=\"10550\">NOUN</tspan>\n",
       "</text>\n",
       "\n",
       "<text class=\"displacy-token\" fill=\"currentColor\" text-anchor=\"middle\" y=\"572.0\">\n",
       "    <tspan class=\"displacy-word\" fill=\"currentColor\" x=\"10725\">напряженности</tspan>\n",
       "    <tspan class=\"displacy-tag\" dy=\"2em\" fill=\"currentColor\" x=\"10725\">NOUN</tspan>\n",
       "</text>\n",
       "\n",
       "<text class=\"displacy-token\" fill=\"currentColor\" text-anchor=\"middle\" y=\"572.0\">\n",
       "    <tspan class=\"displacy-word\" fill=\"currentColor\" x=\"10900\">вокруг</tspan>\n",
       "    <tspan class=\"displacy-tag\" dy=\"2em\" fill=\"currentColor\" x=\"10900\">ADP</tspan>\n",
       "</text>\n",
       "\n",
       "<text class=\"displacy-token\" fill=\"currentColor\" text-anchor=\"middle\" y=\"572.0\">\n",
       "    <tspan class=\"displacy-word\" fill=\"currentColor\" x=\"11075\">Южной</tspan>\n",
       "    <tspan class=\"displacy-tag\" dy=\"2em\" fill=\"currentColor\" x=\"11075\">ADJ</tspan>\n",
       "</text>\n",
       "\n",
       "<text class=\"displacy-token\" fill=\"currentColor\" text-anchor=\"middle\" y=\"572.0\">\n",
       "    <tspan class=\"displacy-word\" fill=\"currentColor\" x=\"11250\">Осетии</tspan>\n",
       "    <tspan class=\"displacy-tag\" dy=\"2em\" fill=\"currentColor\" x=\"11250\">PROPN</tspan>\n",
       "</text>\n",
       "\n",
       "<text class=\"displacy-token\" fill=\"currentColor\" text-anchor=\"middle\" y=\"572.0\">\n",
       "    <tspan class=\"displacy-word\" fill=\"currentColor\" x=\"11425\">противозаконными</tspan>\n",
       "    <tspan class=\"displacy-tag\" dy=\"2em\" fill=\"currentColor\" x=\"11425\">ADJ</tspan>\n",
       "</text>\n",
       "\n",
       "<text class=\"displacy-token\" fill=\"currentColor\" text-anchor=\"middle\" y=\"572.0\">\n",
       "    <tspan class=\"displacy-word\" fill=\"currentColor\" x=\"11600\">дей</tspan>\n",
       "    <tspan class=\"displacy-tag\" dy=\"2em\" fill=\"currentColor\" x=\"11600\">NOUN</tspan>\n",
       "</text>\n",
       "\n",
       "<g class=\"displacy-arrow\">\n",
       "    <path class=\"displacy-arc\" id=\"arrow-3a285ea4f1214ae5925df66065603c19-0-0\" stroke-width=\"2px\" d=\"M70,527.0 C70,439.5 200.0,439.5 200.0,527.0\" fill=\"none\" stroke=\"currentColor\"/>\n",
       "    <text dy=\"1.25em\" style=\"font-size: 0.8em; letter-spacing: 1px\">\n",
       "        <textPath xlink:href=\"#arrow-3a285ea4f1214ae5925df66065603c19-0-0\" class=\"displacy-label\" startOffset=\"50%\" side=\"left\" fill=\"currentColor\" text-anchor=\"middle\">nsubj</textPath>\n",
       "    </text>\n",
       "    <path class=\"displacy-arrowhead\" d=\"M70,529.0 L62,517.0 78,517.0\" fill=\"currentColor\"/>\n",
       "</g>\n",
       "\n",
       "<g class=\"displacy-arrow\">\n",
       "    <path class=\"displacy-arc\" id=\"arrow-3a285ea4f1214ae5925df66065603c19-0-1\" stroke-width=\"2px\" d=\"M420,527.0 C420,352.0 730.0,352.0 730.0,527.0\" fill=\"none\" stroke=\"currentColor\"/>\n",
       "    <text dy=\"1.25em\" style=\"font-size: 0.8em; letter-spacing: 1px\">\n",
       "        <textPath xlink:href=\"#arrow-3a285ea4f1214ae5925df66065603c19-0-1\" class=\"displacy-label\" startOffset=\"50%\" side=\"left\" fill=\"currentColor\" text-anchor=\"middle\">case</textPath>\n",
       "    </text>\n",
       "    <path class=\"displacy-arrowhead\" d=\"M420,529.0 L412,517.0 428,517.0\" fill=\"currentColor\"/>\n",
       "</g>\n",
       "\n",
       "<g class=\"displacy-arrow\">\n",
       "    <path class=\"displacy-arc\" id=\"arrow-3a285ea4f1214ae5925df66065603c19-0-2\" stroke-width=\"2px\" d=\"M595,527.0 C595,439.5 725.0,439.5 725.0,527.0\" fill=\"none\" stroke=\"currentColor\"/>\n",
       "    <text dy=\"1.25em\" style=\"font-size: 0.8em; letter-spacing: 1px\">\n",
       "        <textPath xlink:href=\"#arrow-3a285ea4f1214ae5925df66065603c19-0-2\" class=\"displacy-label\" startOffset=\"50%\" side=\"left\" fill=\"currentColor\" text-anchor=\"middle\">amod</textPath>\n",
       "    </text>\n",
       "    <path class=\"displacy-arrowhead\" d=\"M595,529.0 L587,517.0 603,517.0\" fill=\"currentColor\"/>\n",
       "</g>\n",
       "\n",
       "<g class=\"displacy-arrow\">\n",
       "    <path class=\"displacy-arc\" id=\"arrow-3a285ea4f1214ae5925df66065603c19-0-3\" stroke-width=\"2px\" d=\"M245,527.0 C245,264.5 735.0,264.5 735.0,527.0\" fill=\"none\" stroke=\"currentColor\"/>\n",
       "    <text dy=\"1.25em\" style=\"font-size: 0.8em; letter-spacing: 1px\">\n",
       "        <textPath xlink:href=\"#arrow-3a285ea4f1214ae5925df66065603c19-0-3\" class=\"displacy-label\" startOffset=\"50%\" side=\"left\" fill=\"currentColor\" text-anchor=\"middle\">obl</textPath>\n",
       "    </text>\n",
       "    <path class=\"displacy-arrowhead\" d=\"M735.0,529.0 L743.0,517.0 727.0,517.0\" fill=\"currentColor\"/>\n",
       "</g>\n",
       "\n",
       "<g class=\"displacy-arrow\">\n",
       "    <path class=\"displacy-arc\" id=\"arrow-3a285ea4f1214ae5925df66065603c19-0-4\" stroke-width=\"2px\" d=\"M770,527.0 C770,439.5 900.0,439.5 900.0,527.0\" fill=\"none\" stroke=\"currentColor\"/>\n",
       "    <text dy=\"1.25em\" style=\"font-size: 0.8em; letter-spacing: 1px\">\n",
       "        <textPath xlink:href=\"#arrow-3a285ea4f1214ae5925df66065603c19-0-4\" class=\"displacy-label\" startOffset=\"50%\" side=\"left\" fill=\"currentColor\" text-anchor=\"middle\">nmod</textPath>\n",
       "    </text>\n",
       "    <path class=\"displacy-arrowhead\" d=\"M900.0,529.0 L908.0,517.0 892.0,517.0\" fill=\"currentColor\"/>\n",
       "</g>\n",
       "\n",
       "<g class=\"displacy-arrow\">\n",
       "    <path class=\"displacy-arc\" id=\"arrow-3a285ea4f1214ae5925df66065603c19-0-5\" stroke-width=\"2px\" d=\"M1120,527.0 C1120,439.5 1250.0,439.5 1250.0,527.0\" fill=\"none\" stroke=\"currentColor\"/>\n",
       "    <text dy=\"1.25em\" style=\"font-size: 0.8em; letter-spacing: 1px\">\n",
       "        <textPath xlink:href=\"#arrow-3a285ea4f1214ae5925df66065603c19-0-5\" class=\"displacy-label\" startOffset=\"50%\" side=\"left\" fill=\"currentColor\" text-anchor=\"middle\">case</textPath>\n",
       "    </text>\n",
       "    <path class=\"displacy-arrowhead\" d=\"M1120,529.0 L1112,517.0 1128,517.0\" fill=\"currentColor\"/>\n",
       "</g>\n",
       "\n",
       "<g class=\"displacy-arrow\">\n",
       "    <path class=\"displacy-arc\" id=\"arrow-3a285ea4f1214ae5925df66065603c19-0-6\" stroke-width=\"2px\" d=\"M770,527.0 C770,352.0 1255.0,352.0 1255.0,527.0\" fill=\"none\" stroke=\"currentColor\"/>\n",
       "    <text dy=\"1.25em\" style=\"font-size: 0.8em; letter-spacing: 1px\">\n",
       "        <textPath xlink:href=\"#arrow-3a285ea4f1214ae5925df66065603c19-0-6\" class=\"displacy-label\" startOffset=\"50%\" side=\"left\" fill=\"currentColor\" text-anchor=\"middle\">nmod</textPath>\n",
       "    </text>\n",
       "    <path class=\"displacy-arrowhead\" d=\"M1255.0,529.0 L1263.0,517.0 1247.0,517.0\" fill=\"currentColor\"/>\n",
       "</g>\n",
       "\n",
       "<g class=\"displacy-arrow\">\n",
       "    <path class=\"displacy-arc\" id=\"arrow-3a285ea4f1214ae5925df66065603c19-0-7\" stroke-width=\"2px\" d=\"M1295,527.0 C1295,439.5 1425.0,439.5 1425.0,527.0\" fill=\"none\" stroke=\"currentColor\"/>\n",
       "    <text dy=\"1.25em\" style=\"font-size: 0.8em; letter-spacing: 1px\">\n",
       "        <textPath xlink:href=\"#arrow-3a285ea4f1214ae5925df66065603c19-0-7\" class=\"displacy-label\" startOffset=\"50%\" side=\"left\" fill=\"currentColor\" text-anchor=\"middle\">nmod</textPath>\n",
       "    </text>\n",
       "    <path class=\"displacy-arrowhead\" d=\"M1425.0,529.0 L1433.0,517.0 1417.0,517.0\" fill=\"currentColor\"/>\n",
       "</g>\n",
       "\n",
       "<g class=\"displacy-arrow\">\n",
       "    <path class=\"displacy-arc\" id=\"arrow-3a285ea4f1214ae5925df66065603c19-0-8\" stroke-width=\"2px\" d=\"M245,527.0 C245,177.0 1615.0,177.0 1615.0,527.0\" fill=\"none\" stroke=\"currentColor\"/>\n",
       "    <text dy=\"1.25em\" style=\"font-size: 0.8em; letter-spacing: 1px\">\n",
       "        <textPath xlink:href=\"#arrow-3a285ea4f1214ae5925df66065603c19-0-8\" class=\"displacy-label\" startOffset=\"50%\" side=\"left\" fill=\"currentColor\" text-anchor=\"middle\">obj</textPath>\n",
       "    </text>\n",
       "    <path class=\"displacy-arrowhead\" d=\"M1615.0,529.0 L1623.0,517.0 1607.0,517.0\" fill=\"currentColor\"/>\n",
       "</g>\n",
       "\n",
       "<g class=\"displacy-arrow\">\n",
       "    <path class=\"displacy-arc\" id=\"arrow-3a285ea4f1214ae5925df66065603c19-0-9\" stroke-width=\"2px\" d=\"M1645,527.0 C1645,439.5 1775.0,439.5 1775.0,527.0\" fill=\"none\" stroke=\"currentColor\"/>\n",
       "    <text dy=\"1.25em\" style=\"font-size: 0.8em; letter-spacing: 1px\">\n",
       "        <textPath xlink:href=\"#arrow-3a285ea4f1214ae5925df66065603c19-0-9\" class=\"displacy-label\" startOffset=\"50%\" side=\"left\" fill=\"currentColor\" text-anchor=\"middle\">nmod</textPath>\n",
       "    </text>\n",
       "    <path class=\"displacy-arrowhead\" d=\"M1775.0,529.0 L1783.0,517.0 1767.0,517.0\" fill=\"currentColor\"/>\n",
       "</g>\n",
       "\n",
       "<g class=\"displacy-arrow\">\n",
       "    <path class=\"displacy-arc\" id=\"arrow-3a285ea4f1214ae5925df66065603c19-0-10\" stroke-width=\"2px\" d=\"M1820,527.0 C1820,439.5 1950.0,439.5 1950.0,527.0\" fill=\"none\" stroke=\"currentColor\"/>\n",
       "    <text dy=\"1.25em\" style=\"font-size: 0.8em; letter-spacing: 1px\">\n",
       "        <textPath xlink:href=\"#arrow-3a285ea4f1214ae5925df66065603c19-0-10\" class=\"displacy-label\" startOffset=\"50%\" side=\"left\" fill=\"currentColor\" text-anchor=\"middle\">appos</textPath>\n",
       "    </text>\n",
       "    <path class=\"displacy-arrowhead\" d=\"M1950.0,529.0 L1958.0,517.0 1942.0,517.0\" fill=\"currentColor\"/>\n",
       "</g>\n",
       "\n",
       "<g class=\"displacy-arrow\">\n",
       "    <path class=\"displacy-arc\" id=\"arrow-3a285ea4f1214ae5925df66065603c19-0-11\" stroke-width=\"2px\" d=\"M2170,527.0 C2170,439.5 2300.0,439.5 2300.0,527.0\" fill=\"none\" stroke=\"currentColor\"/>\n",
       "    <text dy=\"1.25em\" style=\"font-size: 0.8em; letter-spacing: 1px\">\n",
       "        <textPath xlink:href=\"#arrow-3a285ea4f1214ae5925df66065603c19-0-11\" class=\"displacy-label\" startOffset=\"50%\" side=\"left\" fill=\"currentColor\" text-anchor=\"middle\">nsubj</textPath>\n",
       "    </text>\n",
       "    <path class=\"displacy-arrowhead\" d=\"M2170,529.0 L2162,517.0 2178,517.0\" fill=\"currentColor\"/>\n",
       "</g>\n",
       "\n",
       "<g class=\"displacy-arrow\">\n",
       "    <path class=\"displacy-arc\" id=\"arrow-3a285ea4f1214ae5925df66065603c19-0-12\" stroke-width=\"2px\" d=\"M245,527.0 C245,89.5 2320.0,89.5 2320.0,527.0\" fill=\"none\" stroke=\"currentColor\"/>\n",
       "    <text dy=\"1.25em\" style=\"font-size: 0.8em; letter-spacing: 1px\">\n",
       "        <textPath xlink:href=\"#arrow-3a285ea4f1214ae5925df66065603c19-0-12\" class=\"displacy-label\" startOffset=\"50%\" side=\"left\" fill=\"currentColor\" text-anchor=\"middle\">parataxis</textPath>\n",
       "    </text>\n",
       "    <path class=\"displacy-arrowhead\" d=\"M2320.0,529.0 L2328.0,517.0 2312.0,517.0\" fill=\"currentColor\"/>\n",
       "</g>\n",
       "\n",
       "<g class=\"displacy-arrow\">\n",
       "    <path class=\"displacy-arc\" id=\"arrow-3a285ea4f1214ae5925df66065603c19-0-13\" stroke-width=\"2px\" d=\"M2520,527.0 C2520,352.0 2830.0,352.0 2830.0,527.0\" fill=\"none\" stroke=\"currentColor\"/>\n",
       "    <text dy=\"1.25em\" style=\"font-size: 0.8em; letter-spacing: 1px\">\n",
       "        <textPath xlink:href=\"#arrow-3a285ea4f1214ae5925df66065603c19-0-13\" class=\"displacy-label\" startOffset=\"50%\" side=\"left\" fill=\"currentColor\" text-anchor=\"middle\">mark</textPath>\n",
       "    </text>\n",
       "    <path class=\"displacy-arrowhead\" d=\"M2520,529.0 L2512,517.0 2528,517.0\" fill=\"currentColor\"/>\n",
       "</g>\n",
       "\n",
       "<g class=\"displacy-arrow\">\n",
       "    <path class=\"displacy-arc\" id=\"arrow-3a285ea4f1214ae5925df66065603c19-0-14\" stroke-width=\"2px\" d=\"M2695,527.0 C2695,439.5 2825.0,439.5 2825.0,527.0\" fill=\"none\" stroke=\"currentColor\"/>\n",
       "    <text dy=\"1.25em\" style=\"font-size: 0.8em; letter-spacing: 1px\">\n",
       "        <textPath xlink:href=\"#arrow-3a285ea4f1214ae5925df66065603c19-0-14\" class=\"displacy-label\" startOffset=\"50%\" side=\"left\" fill=\"currentColor\" text-anchor=\"middle\">nsubj</textPath>\n",
       "    </text>\n",
       "    <path class=\"displacy-arrowhead\" d=\"M2695,529.0 L2687,517.0 2703,517.0\" fill=\"currentColor\"/>\n",
       "</g>\n",
       "\n",
       "<g class=\"displacy-arrow\">\n",
       "    <path class=\"displacy-arc\" id=\"arrow-3a285ea4f1214ae5925df66065603c19-0-15\" stroke-width=\"2px\" d=\"M2345,527.0 C2345,264.5 2835.0,264.5 2835.0,527.0\" fill=\"none\" stroke=\"currentColor\"/>\n",
       "    <text dy=\"1.25em\" style=\"font-size: 0.8em; letter-spacing: 1px\">\n",
       "        <textPath xlink:href=\"#arrow-3a285ea4f1214ae5925df66065603c19-0-15\" class=\"displacy-label\" startOffset=\"50%\" side=\"left\" fill=\"currentColor\" text-anchor=\"middle\">xcomp</textPath>\n",
       "    </text>\n",
       "    <path class=\"displacy-arrowhead\" d=\"M2835.0,529.0 L2843.0,517.0 2827.0,517.0\" fill=\"currentColor\"/>\n",
       "</g>\n",
       "\n",
       "<g class=\"displacy-arrow\">\n",
       "    <path class=\"displacy-arc\" id=\"arrow-3a285ea4f1214ae5925df66065603c19-0-16\" stroke-width=\"2px\" d=\"M3045,527.0 C3045,439.5 3175.0,439.5 3175.0,527.0\" fill=\"none\" stroke=\"currentColor\"/>\n",
       "    <text dy=\"1.25em\" style=\"font-size: 0.8em; letter-spacing: 1px\">\n",
       "        <textPath xlink:href=\"#arrow-3a285ea4f1214ae5925df66065603c19-0-16\" class=\"displacy-label\" startOffset=\"50%\" side=\"left\" fill=\"currentColor\" text-anchor=\"middle\">case</textPath>\n",
       "    </text>\n",
       "    <path class=\"displacy-arrowhead\" d=\"M3045,529.0 L3037,517.0 3053,517.0\" fill=\"currentColor\"/>\n",
       "</g>\n",
       "\n",
       "<g class=\"displacy-arrow\">\n",
       "    <path class=\"displacy-arc\" id=\"arrow-3a285ea4f1214ae5925df66065603c19-0-17\" stroke-width=\"2px\" d=\"M2870,527.0 C2870,352.0 3180.0,352.0 3180.0,527.0\" fill=\"none\" stroke=\"currentColor\"/>\n",
       "    <text dy=\"1.25em\" style=\"font-size: 0.8em; letter-spacing: 1px\">\n",
       "        <textPath xlink:href=\"#arrow-3a285ea4f1214ae5925df66065603c19-0-17\" class=\"displacy-label\" startOffset=\"50%\" side=\"left\" fill=\"currentColor\" text-anchor=\"middle\">obl</textPath>\n",
       "    </text>\n",
       "    <path class=\"displacy-arrowhead\" d=\"M3180.0,529.0 L3188.0,517.0 3172.0,517.0\" fill=\"currentColor\"/>\n",
       "</g>\n",
       "\n",
       "<g class=\"displacy-arrow\">\n",
       "    <path class=\"displacy-arc\" id=\"arrow-3a285ea4f1214ae5925df66065603c19-0-18\" stroke-width=\"2px\" d=\"M3395,527.0 C3395,264.5 3885.0,264.5 3885.0,527.0\" fill=\"none\" stroke=\"currentColor\"/>\n",
       "    <text dy=\"1.25em\" style=\"font-size: 0.8em; letter-spacing: 1px\">\n",
       "        <textPath xlink:href=\"#arrow-3a285ea4f1214ae5925df66065603c19-0-18\" class=\"displacy-label\" startOffset=\"50%\" side=\"left\" fill=\"currentColor\" text-anchor=\"middle\">case</textPath>\n",
       "    </text>\n",
       "    <path class=\"displacy-arrowhead\" d=\"M3395,529.0 L3387,517.0 3403,517.0\" fill=\"currentColor\"/>\n",
       "</g>\n",
       "\n",
       "<g class=\"displacy-arrow\">\n",
       "    <path class=\"displacy-arc\" id=\"arrow-3a285ea4f1214ae5925df66065603c19-0-19\" stroke-width=\"2px\" d=\"M3395,527.0 C3395,439.5 3525.0,439.5 3525.0,527.0\" fill=\"none\" stroke=\"currentColor\"/>\n",
       "    <text dy=\"1.25em\" style=\"font-size: 0.8em; letter-spacing: 1px\">\n",
       "        <textPath xlink:href=\"#arrow-3a285ea4f1214ae5925df66065603c19-0-19\" class=\"displacy-label\" startOffset=\"50%\" side=\"left\" fill=\"currentColor\" text-anchor=\"middle\">fixed</textPath>\n",
       "    </text>\n",
       "    <path class=\"displacy-arrowhead\" d=\"M3525.0,529.0 L3533.0,517.0 3517.0,517.0\" fill=\"currentColor\"/>\n",
       "</g>\n",
       "\n",
       "<g class=\"displacy-arrow\">\n",
       "    <path class=\"displacy-arc\" id=\"arrow-3a285ea4f1214ae5925df66065603c19-0-20\" stroke-width=\"2px\" d=\"M3395,527.0 C3395,352.0 3705.0,352.0 3705.0,527.0\" fill=\"none\" stroke=\"currentColor\"/>\n",
       "    <text dy=\"1.25em\" style=\"font-size: 0.8em; letter-spacing: 1px\">\n",
       "        <textPath xlink:href=\"#arrow-3a285ea4f1214ae5925df66065603c19-0-20\" class=\"displacy-label\" startOffset=\"50%\" side=\"left\" fill=\"currentColor\" text-anchor=\"middle\">fixed</textPath>\n",
       "    </text>\n",
       "    <path class=\"displacy-arrowhead\" d=\"M3705.0,529.0 L3713.0,517.0 3697.0,517.0\" fill=\"currentColor\"/>\n",
       "</g>\n",
       "\n",
       "<g class=\"displacy-arrow\">\n",
       "    <path class=\"displacy-arc\" id=\"arrow-3a285ea4f1214ae5925df66065603c19-0-21\" stroke-width=\"2px\" d=\"M2870,527.0 C2870,177.0 3890.0,177.0 3890.0,527.0\" fill=\"none\" stroke=\"currentColor\"/>\n",
       "    <text dy=\"1.25em\" style=\"font-size: 0.8em; letter-spacing: 1px\">\n",
       "        <textPath xlink:href=\"#arrow-3a285ea4f1214ae5925df66065603c19-0-21\" class=\"displacy-label\" startOffset=\"50%\" side=\"left\" fill=\"currentColor\" text-anchor=\"middle\">obl</textPath>\n",
       "    </text>\n",
       "    <path class=\"displacy-arrowhead\" d=\"M3890.0,529.0 L3898.0,517.0 3882.0,517.0\" fill=\"currentColor\"/>\n",
       "</g>\n",
       "\n",
       "<g class=\"displacy-arrow\">\n",
       "    <path class=\"displacy-arc\" id=\"arrow-3a285ea4f1214ae5925df66065603c19-0-22\" stroke-width=\"2px\" d=\"M3920,527.0 C3920,439.5 4050.0,439.5 4050.0,527.0\" fill=\"none\" stroke=\"currentColor\"/>\n",
       "    <text dy=\"1.25em\" style=\"font-size: 0.8em; letter-spacing: 1px\">\n",
       "        <textPath xlink:href=\"#arrow-3a285ea4f1214ae5925df66065603c19-0-22\" class=\"displacy-label\" startOffset=\"50%\" side=\"left\" fill=\"currentColor\" text-anchor=\"middle\">nmod</textPath>\n",
       "    </text>\n",
       "    <path class=\"displacy-arrowhead\" d=\"M4050.0,529.0 L4058.0,517.0 4042.0,517.0\" fill=\"currentColor\"/>\n",
       "</g>\n",
       "\n",
       "<g class=\"displacy-arrow\">\n",
       "    <path class=\"displacy-arc\" id=\"arrow-3a285ea4f1214ae5925df66065603c19-0-23\" stroke-width=\"2px\" d=\"M4270,527.0 C4270,439.5 4400.0,439.5 4400.0,527.0\" fill=\"none\" stroke=\"currentColor\"/>\n",
       "    <text dy=\"1.25em\" style=\"font-size: 0.8em; letter-spacing: 1px\">\n",
       "        <textPath xlink:href=\"#arrow-3a285ea4f1214ae5925df66065603c19-0-23\" class=\"displacy-label\" startOffset=\"50%\" side=\"left\" fill=\"currentColor\" text-anchor=\"middle\">case</textPath>\n",
       "    </text>\n",
       "    <path class=\"displacy-arrowhead\" d=\"M4270,529.0 L4262,517.0 4278,517.0\" fill=\"currentColor\"/>\n",
       "</g>\n",
       "\n",
       "<g class=\"displacy-arrow\">\n",
       "    <path class=\"displacy-arc\" id=\"arrow-3a285ea4f1214ae5925df66065603c19-0-24\" stroke-width=\"2px\" d=\"M4095,527.0 C4095,352.0 4405.0,352.0 4405.0,527.0\" fill=\"none\" stroke=\"currentColor\"/>\n",
       "    <text dy=\"1.25em\" style=\"font-size: 0.8em; letter-spacing: 1px\">\n",
       "        <textPath xlink:href=\"#arrow-3a285ea4f1214ae5925df66065603c19-0-24\" class=\"displacy-label\" startOffset=\"50%\" side=\"left\" fill=\"currentColor\" text-anchor=\"middle\">nmod</textPath>\n",
       "    </text>\n",
       "    <path class=\"displacy-arrowhead\" d=\"M4405.0,529.0 L4413.0,517.0 4397.0,517.0\" fill=\"currentColor\"/>\n",
       "</g>\n",
       "\n",
       "<g class=\"displacy-arrow\">\n",
       "    <path class=\"displacy-arc\" id=\"arrow-3a285ea4f1214ae5925df66065603c19-0-25\" stroke-width=\"2px\" d=\"M4445,527.0 C4445,439.5 4575.0,439.5 4575.0,527.0\" fill=\"none\" stroke=\"currentColor\"/>\n",
       "    <text dy=\"1.25em\" style=\"font-size: 0.8em; letter-spacing: 1px\">\n",
       "        <textPath xlink:href=\"#arrow-3a285ea4f1214ae5925df66065603c19-0-25\" class=\"displacy-label\" startOffset=\"50%\" side=\"left\" fill=\"currentColor\" text-anchor=\"middle\">nmod</textPath>\n",
       "    </text>\n",
       "    <path class=\"displacy-arrowhead\" d=\"M4575.0,529.0 L4583.0,517.0 4567.0,517.0\" fill=\"currentColor\"/>\n",
       "</g>\n",
       "\n",
       "<g class=\"displacy-arrow\">\n",
       "    <path class=\"displacy-arc\" id=\"arrow-3a285ea4f1214ae5925df66065603c19-0-26\" stroke-width=\"2px\" d=\"M4795,527.0 C4795,439.5 4925.0,439.5 4925.0,527.0\" fill=\"none\" stroke=\"currentColor\"/>\n",
       "    <text dy=\"1.25em\" style=\"font-size: 0.8em; letter-spacing: 1px\">\n",
       "        <textPath xlink:href=\"#arrow-3a285ea4f1214ae5925df66065603c19-0-26\" class=\"displacy-label\" startOffset=\"50%\" side=\"left\" fill=\"currentColor\" text-anchor=\"middle\">amod</textPath>\n",
       "    </text>\n",
       "    <path class=\"displacy-arrowhead\" d=\"M4795,529.0 L4787,517.0 4803,517.0\" fill=\"currentColor\"/>\n",
       "</g>\n",
       "\n",
       "<g class=\"displacy-arrow\">\n",
       "    <path class=\"displacy-arc\" id=\"arrow-3a285ea4f1214ae5925df66065603c19-0-27\" stroke-width=\"2px\" d=\"M4445,527.0 C4445,352.0 4930.0,352.0 4930.0,527.0\" fill=\"none\" stroke=\"currentColor\"/>\n",
       "    <text dy=\"1.25em\" style=\"font-size: 0.8em; letter-spacing: 1px\">\n",
       "        <textPath xlink:href=\"#arrow-3a285ea4f1214ae5925df66065603c19-0-27\" class=\"displacy-label\" startOffset=\"50%\" side=\"left\" fill=\"currentColor\" text-anchor=\"middle\">nmod</textPath>\n",
       "    </text>\n",
       "    <path class=\"displacy-arrowhead\" d=\"M4930.0,529.0 L4938.0,517.0 4922.0,517.0\" fill=\"currentColor\"/>\n",
       "</g>\n",
       "\n",
       "<g class=\"displacy-arrow\">\n",
       "    <path class=\"displacy-arc\" id=\"arrow-3a285ea4f1214ae5925df66065603c19-0-28\" stroke-width=\"2px\" d=\"M5145,527.0 C5145,439.5 5275.0,439.5 5275.0,527.0\" fill=\"none\" stroke=\"currentColor\"/>\n",
       "    <text dy=\"1.25em\" style=\"font-size: 0.8em; letter-spacing: 1px\">\n",
       "        <textPath xlink:href=\"#arrow-3a285ea4f1214ae5925df66065603c19-0-28\" class=\"displacy-label\" startOffset=\"50%\" side=\"left\" fill=\"currentColor\" text-anchor=\"middle\">case</textPath>\n",
       "    </text>\n",
       "    <path class=\"displacy-arrowhead\" d=\"M5145,529.0 L5137,517.0 5153,517.0\" fill=\"currentColor\"/>\n",
       "</g>\n",
       "\n",
       "<g class=\"displacy-arrow\">\n",
       "    <path class=\"displacy-arc\" id=\"arrow-3a285ea4f1214ae5925df66065603c19-0-29\" stroke-width=\"2px\" d=\"M4970,527.0 C4970,352.0 5280.0,352.0 5280.0,527.0\" fill=\"none\" stroke=\"currentColor\"/>\n",
       "    <text dy=\"1.25em\" style=\"font-size: 0.8em; letter-spacing: 1px\">\n",
       "        <textPath xlink:href=\"#arrow-3a285ea4f1214ae5925df66065603c19-0-29\" class=\"displacy-label\" startOffset=\"50%\" side=\"left\" fill=\"currentColor\" text-anchor=\"middle\">nmod</textPath>\n",
       "    </text>\n",
       "    <path class=\"displacy-arrowhead\" d=\"M5280.0,529.0 L5288.0,517.0 5272.0,517.0\" fill=\"currentColor\"/>\n",
       "</g>\n",
       "\n",
       "<g class=\"displacy-arrow\">\n",
       "    <path class=\"displacy-arc\" id=\"arrow-3a285ea4f1214ae5925df66065603c19-0-30\" stroke-width=\"2px\" d=\"M3920,527.0 C3920,264.5 5460.0,264.5 5460.0,527.0\" fill=\"none\" stroke=\"currentColor\"/>\n",
       "    <text dy=\"1.25em\" style=\"font-size: 0.8em; letter-spacing: 1px\">\n",
       "        <textPath xlink:href=\"#arrow-3a285ea4f1214ae5925df66065603c19-0-30\" class=\"displacy-label\" startOffset=\"50%\" side=\"left\" fill=\"currentColor\" text-anchor=\"middle\">nmod</textPath>\n",
       "    </text>\n",
       "    <path class=\"displacy-arrowhead\" d=\"M5460.0,529.0 L5468.0,517.0 5452.0,517.0\" fill=\"currentColor\"/>\n",
       "</g>\n",
       "\n",
       "<g class=\"displacy-arrow\">\n",
       "    <path class=\"displacy-arc\" id=\"arrow-3a285ea4f1214ae5925df66065603c19-0-31\" stroke-width=\"2px\" d=\"M5670,527.0 C5670,89.5 7045.0,89.5 7045.0,527.0\" fill=\"none\" stroke=\"currentColor\"/>\n",
       "    <text dy=\"1.25em\" style=\"font-size: 0.8em; letter-spacing: 1px\">\n",
       "        <textPath xlink:href=\"#arrow-3a285ea4f1214ae5925df66065603c19-0-31\" class=\"displacy-label\" startOffset=\"50%\" side=\"left\" fill=\"currentColor\" text-anchor=\"middle\">nsubj</textPath>\n",
       "    </text>\n",
       "    <path class=\"displacy-arrowhead\" d=\"M5670,529.0 L5662,517.0 5678,517.0\" fill=\"currentColor\"/>\n",
       "</g>\n",
       "\n",
       "<g class=\"displacy-arrow\">\n",
       "    <path class=\"displacy-arc\" id=\"arrow-3a285ea4f1214ae5925df66065603c19-0-32\" stroke-width=\"2px\" d=\"M5670,527.0 C5670,439.5 5800.0,439.5 5800.0,527.0\" fill=\"none\" stroke=\"currentColor\"/>\n",
       "    <text dy=\"1.25em\" style=\"font-size: 0.8em; letter-spacing: 1px\">\n",
       "        <textPath xlink:href=\"#arrow-3a285ea4f1214ae5925df66065603c19-0-32\" class=\"displacy-label\" startOffset=\"50%\" side=\"left\" fill=\"currentColor\" text-anchor=\"middle\">appos</textPath>\n",
       "    </text>\n",
       "    <path class=\"displacy-arrowhead\" d=\"M5800.0,529.0 L5808.0,517.0 5792.0,517.0\" fill=\"currentColor\"/>\n",
       "</g>\n",
       "\n",
       "<g class=\"displacy-arrow\">\n",
       "    <path class=\"displacy-arc\" id=\"arrow-3a285ea4f1214ae5925df66065603c19-0-33\" stroke-width=\"2px\" d=\"M5845,527.0 C5845,439.5 5975.0,439.5 5975.0,527.0\" fill=\"none\" stroke=\"currentColor\"/>\n",
       "    <text dy=\"1.25em\" style=\"font-size: 0.8em; letter-spacing: 1px\">\n",
       "        <textPath xlink:href=\"#arrow-3a285ea4f1214ae5925df66065603c19-0-33\" class=\"displacy-label\" startOffset=\"50%\" side=\"left\" fill=\"currentColor\" text-anchor=\"middle\">nmod</textPath>\n",
       "    </text>\n",
       "    <path class=\"displacy-arrowhead\" d=\"M5975.0,529.0 L5983.0,517.0 5967.0,517.0\" fill=\"currentColor\"/>\n",
       "</g>\n",
       "\n",
       "<g class=\"displacy-arrow\">\n",
       "    <path class=\"displacy-arc\" id=\"arrow-3a285ea4f1214ae5925df66065603c19-0-34\" stroke-width=\"2px\" d=\"M6195,527.0 C6195,439.5 6325.0,439.5 6325.0,527.0\" fill=\"none\" stroke=\"currentColor\"/>\n",
       "    <text dy=\"1.25em\" style=\"font-size: 0.8em; letter-spacing: 1px\">\n",
       "        <textPath xlink:href=\"#arrow-3a285ea4f1214ae5925df66065603c19-0-34\" class=\"displacy-label\" startOffset=\"50%\" side=\"left\" fill=\"currentColor\" text-anchor=\"middle\">amod</textPath>\n",
       "    </text>\n",
       "    <path class=\"displacy-arrowhead\" d=\"M6195,529.0 L6187,517.0 6203,517.0\" fill=\"currentColor\"/>\n",
       "</g>\n",
       "\n",
       "<g class=\"displacy-arrow\">\n",
       "    <path class=\"displacy-arc\" id=\"arrow-3a285ea4f1214ae5925df66065603c19-0-35\" stroke-width=\"2px\" d=\"M6020,527.0 C6020,352.0 6330.0,352.0 6330.0,527.0\" fill=\"none\" stroke=\"currentColor\"/>\n",
       "    <text dy=\"1.25em\" style=\"font-size: 0.8em; letter-spacing: 1px\">\n",
       "        <textPath xlink:href=\"#arrow-3a285ea4f1214ae5925df66065603c19-0-35\" class=\"displacy-label\" startOffset=\"50%\" side=\"left\" fill=\"currentColor\" text-anchor=\"middle\">nmod</textPath>\n",
       "    </text>\n",
       "    <path class=\"displacy-arrowhead\" d=\"M6330.0,529.0 L6338.0,517.0 6322.0,517.0\" fill=\"currentColor\"/>\n",
       "</g>\n",
       "\n",
       "<g class=\"displacy-arrow\">\n",
       "    <path class=\"displacy-arc\" id=\"arrow-3a285ea4f1214ae5925df66065603c19-0-36\" stroke-width=\"2px\" d=\"M6020,527.0 C6020,264.5 6510.0,264.5 6510.0,527.0\" fill=\"none\" stroke=\"currentColor\"/>\n",
       "    <text dy=\"1.25em\" style=\"font-size: 0.8em; letter-spacing: 1px\">\n",
       "        <textPath xlink:href=\"#arrow-3a285ea4f1214ae5925df66065603c19-0-36\" class=\"displacy-label\" startOffset=\"50%\" side=\"left\" fill=\"currentColor\" text-anchor=\"middle\">nmod</textPath>\n",
       "    </text>\n",
       "    <path class=\"displacy-arrowhead\" d=\"M6510.0,529.0 L6518.0,517.0 6502.0,517.0\" fill=\"currentColor\"/>\n",
       "</g>\n",
       "\n",
       "<g class=\"displacy-arrow\">\n",
       "    <path class=\"displacy-arc\" id=\"arrow-3a285ea4f1214ae5925df66065603c19-0-37\" stroke-width=\"2px\" d=\"M5845,527.0 C5845,177.0 6690.0,177.0 6690.0,527.0\" fill=\"none\" stroke=\"currentColor\"/>\n",
       "    <text dy=\"1.25em\" style=\"font-size: 0.8em; letter-spacing: 1px\">\n",
       "        <textPath xlink:href=\"#arrow-3a285ea4f1214ae5925df66065603c19-0-37\" class=\"displacy-label\" startOffset=\"50%\" side=\"left\" fill=\"currentColor\" text-anchor=\"middle\">appos</textPath>\n",
       "    </text>\n",
       "    <path class=\"displacy-arrowhead\" d=\"M6690.0,529.0 L6698.0,517.0 6682.0,517.0\" fill=\"currentColor\"/>\n",
       "</g>\n",
       "\n",
       "<g class=\"displacy-arrow\">\n",
       "    <path class=\"displacy-arc\" id=\"arrow-3a285ea4f1214ae5925df66065603c19-0-38\" stroke-width=\"2px\" d=\"M6720,527.0 C6720,439.5 6850.0,439.5 6850.0,527.0\" fill=\"none\" stroke=\"currentColor\"/>\n",
       "    <text dy=\"1.25em\" style=\"font-size: 0.8em; letter-spacing: 1px\">\n",
       "        <textPath xlink:href=\"#arrow-3a285ea4f1214ae5925df66065603c19-0-38\" class=\"displacy-label\" startOffset=\"50%\" side=\"left\" fill=\"currentColor\" text-anchor=\"middle\">flat:name</textPath>\n",
       "    </text>\n",
       "    <path class=\"displacy-arrowhead\" d=\"M6850.0,529.0 L6858.0,517.0 6842.0,517.0\" fill=\"currentColor\"/>\n",
       "</g>\n",
       "\n",
       "<g class=\"displacy-arrow\">\n",
       "    <path class=\"displacy-arc\" id=\"arrow-3a285ea4f1214ae5925df66065603c19-0-39\" stroke-width=\"2px\" d=\"M245,527.0 C245,2.0 7050.0,2.0 7050.0,527.0\" fill=\"none\" stroke=\"currentColor\"/>\n",
       "    <text dy=\"1.25em\" style=\"font-size: 0.8em; letter-spacing: 1px\">\n",
       "        <textPath xlink:href=\"#arrow-3a285ea4f1214ae5925df66065603c19-0-39\" class=\"displacy-label\" startOffset=\"50%\" side=\"left\" fill=\"currentColor\" text-anchor=\"middle\">conj</textPath>\n",
       "    </text>\n",
       "    <path class=\"displacy-arrowhead\" d=\"M7050.0,529.0 L7058.0,517.0 7042.0,517.0\" fill=\"currentColor\"/>\n",
       "</g>\n",
       "\n",
       "<g class=\"displacy-arrow\">\n",
       "    <path class=\"displacy-arc\" id=\"arrow-3a285ea4f1214ae5925df66065603c19-0-40\" stroke-width=\"2px\" d=\"M7245,527.0 C7245,352.0 7555.0,352.0 7555.0,527.0\" fill=\"none\" stroke=\"currentColor\"/>\n",
       "    <text dy=\"1.25em\" style=\"font-size: 0.8em; letter-spacing: 1px\">\n",
       "        <textPath xlink:href=\"#arrow-3a285ea4f1214ae5925df66065603c19-0-40\" class=\"displacy-label\" startOffset=\"50%\" side=\"left\" fill=\"currentColor\" text-anchor=\"middle\">case</textPath>\n",
       "    </text>\n",
       "    <path class=\"displacy-arrowhead\" d=\"M7245,529.0 L7237,517.0 7253,517.0\" fill=\"currentColor\"/>\n",
       "</g>\n",
       "\n",
       "<g class=\"displacy-arrow\">\n",
       "    <path class=\"displacy-arc\" id=\"arrow-3a285ea4f1214ae5925df66065603c19-0-41\" stroke-width=\"2px\" d=\"M7420,527.0 C7420,439.5 7550.0,439.5 7550.0,527.0\" fill=\"none\" stroke=\"currentColor\"/>\n",
       "    <text dy=\"1.25em\" style=\"font-size: 0.8em; letter-spacing: 1px\">\n",
       "        <textPath xlink:href=\"#arrow-3a285ea4f1214ae5925df66065603c19-0-41\" class=\"displacy-label\" startOffset=\"50%\" side=\"left\" fill=\"currentColor\" text-anchor=\"middle\">amod</textPath>\n",
       "    </text>\n",
       "    <path class=\"displacy-arrowhead\" d=\"M7420,529.0 L7412,517.0 7428,517.0\" fill=\"currentColor\"/>\n",
       "</g>\n",
       "\n",
       "<g class=\"displacy-arrow\">\n",
       "    <path class=\"displacy-arc\" id=\"arrow-3a285ea4f1214ae5925df66065603c19-0-42\" stroke-width=\"2px\" d=\"M7070,527.0 C7070,264.5 7560.0,264.5 7560.0,527.0\" fill=\"none\" stroke=\"currentColor\"/>\n",
       "    <text dy=\"1.25em\" style=\"font-size: 0.8em; letter-spacing: 1px\">\n",
       "        <textPath xlink:href=\"#arrow-3a285ea4f1214ae5925df66065603c19-0-42\" class=\"displacy-label\" startOffset=\"50%\" side=\"left\" fill=\"currentColor\" text-anchor=\"middle\">obl</textPath>\n",
       "    </text>\n",
       "    <path class=\"displacy-arrowhead\" d=\"M7560.0,529.0 L7568.0,517.0 7552.0,517.0\" fill=\"currentColor\"/>\n",
       "</g>\n",
       "\n",
       "<g class=\"displacy-arrow\">\n",
       "    <path class=\"displacy-arc\" id=\"arrow-3a285ea4f1214ae5925df66065603c19-0-43\" stroke-width=\"2px\" d=\"M7770,527.0 C7770,439.5 7900.0,439.5 7900.0,527.0\" fill=\"none\" stroke=\"currentColor\"/>\n",
       "    <text dy=\"1.25em\" style=\"font-size: 0.8em; letter-spacing: 1px\">\n",
       "        <textPath xlink:href=\"#arrow-3a285ea4f1214ae5925df66065603c19-0-43\" class=\"displacy-label\" startOffset=\"50%\" side=\"left\" fill=\"currentColor\" text-anchor=\"middle\">case</textPath>\n",
       "    </text>\n",
       "    <path class=\"displacy-arrowhead\" d=\"M7770,529.0 L7762,517.0 7778,517.0\" fill=\"currentColor\"/>\n",
       "</g>\n",
       "\n",
       "<g class=\"displacy-arrow\">\n",
       "    <path class=\"displacy-arc\" id=\"arrow-3a285ea4f1214ae5925df66065603c19-0-44\" stroke-width=\"2px\" d=\"M7595,527.0 C7595,352.0 7905.0,352.0 7905.0,527.0\" fill=\"none\" stroke=\"currentColor\"/>\n",
       "    <text dy=\"1.25em\" style=\"font-size: 0.8em; letter-spacing: 1px\">\n",
       "        <textPath xlink:href=\"#arrow-3a285ea4f1214ae5925df66065603c19-0-44\" class=\"displacy-label\" startOffset=\"50%\" side=\"left\" fill=\"currentColor\" text-anchor=\"middle\">nmod</textPath>\n",
       "    </text>\n",
       "    <path class=\"displacy-arrowhead\" d=\"M7905.0,529.0 L7913.0,517.0 7897.0,517.0\" fill=\"currentColor\"/>\n",
       "</g>\n",
       "\n",
       "<g class=\"displacy-arrow\">\n",
       "    <path class=\"displacy-arc\" id=\"arrow-3a285ea4f1214ae5925df66065603c19-0-45\" stroke-width=\"2px\" d=\"M7945,527.0 C7945,439.5 8075.0,439.5 8075.0,527.0\" fill=\"none\" stroke=\"currentColor\"/>\n",
       "    <text dy=\"1.25em\" style=\"font-size: 0.8em; letter-spacing: 1px\">\n",
       "        <textPath xlink:href=\"#arrow-3a285ea4f1214ae5925df66065603c19-0-45\" class=\"displacy-label\" startOffset=\"50%\" side=\"left\" fill=\"currentColor\" text-anchor=\"middle\">nmod</textPath>\n",
       "    </text>\n",
       "    <path class=\"displacy-arrowhead\" d=\"M8075.0,529.0 L8083.0,517.0 8067.0,517.0\" fill=\"currentColor\"/>\n",
       "</g>\n",
       "\n",
       "<g class=\"displacy-arrow\">\n",
       "    <path class=\"displacy-arc\" id=\"arrow-3a285ea4f1214ae5925df66065603c19-0-46\" stroke-width=\"2px\" d=\"M8120,527.0 C8120,439.5 8250.0,439.5 8250.0,527.0\" fill=\"none\" stroke=\"currentColor\"/>\n",
       "    <text dy=\"1.25em\" style=\"font-size: 0.8em; letter-spacing: 1px\">\n",
       "        <textPath xlink:href=\"#arrow-3a285ea4f1214ae5925df66065603c19-0-46\" class=\"displacy-label\" startOffset=\"50%\" side=\"left\" fill=\"currentColor\" text-anchor=\"middle\">nmod</textPath>\n",
       "    </text>\n",
       "    <path class=\"displacy-arrowhead\" d=\"M8250.0,529.0 L8258.0,517.0 8242.0,517.0\" fill=\"currentColor\"/>\n",
       "</g>\n",
       "\n",
       "<g class=\"displacy-arrow\">\n",
       "    <path class=\"displacy-arc\" id=\"arrow-3a285ea4f1214ae5925df66065603c19-0-47\" stroke-width=\"2px\" d=\"M7945,527.0 C7945,352.0 8430.0,352.0 8430.0,527.0\" fill=\"none\" stroke=\"currentColor\"/>\n",
       "    <text dy=\"1.25em\" style=\"font-size: 0.8em; letter-spacing: 1px\">\n",
       "        <textPath xlink:href=\"#arrow-3a285ea4f1214ae5925df66065603c19-0-47\" class=\"displacy-label\" startOffset=\"50%\" side=\"left\" fill=\"currentColor\" text-anchor=\"middle\">appos</textPath>\n",
       "    </text>\n",
       "    <path class=\"displacy-arrowhead\" d=\"M8430.0,529.0 L8438.0,517.0 8422.0,517.0\" fill=\"currentColor\"/>\n",
       "</g>\n",
       "\n",
       "<g class=\"displacy-arrow\">\n",
       "    <path class=\"displacy-arc\" id=\"arrow-3a285ea4f1214ae5925df66065603c19-0-48\" stroke-width=\"2px\" d=\"M8470,527.0 C8470,439.5 8600.0,439.5 8600.0,527.0\" fill=\"none\" stroke=\"currentColor\"/>\n",
       "    <text dy=\"1.25em\" style=\"font-size: 0.8em; letter-spacing: 1px\">\n",
       "        <textPath xlink:href=\"#arrow-3a285ea4f1214ae5925df66065603c19-0-48\" class=\"displacy-label\" startOffset=\"50%\" side=\"left\" fill=\"currentColor\" text-anchor=\"middle\">flat:name</textPath>\n",
       "    </text>\n",
       "    <path class=\"displacy-arrowhead\" d=\"M8600.0,529.0 L8608.0,517.0 8592.0,517.0\" fill=\"currentColor\"/>\n",
       "</g>\n",
       "\n",
       "<g class=\"displacy-arrow\">\n",
       "    <path class=\"displacy-arc\" id=\"arrow-3a285ea4f1214ae5925df66065603c19-0-49\" stroke-width=\"2px\" d=\"M8820,527.0 C8820,352.0 9130.0,352.0 9130.0,527.0\" fill=\"none\" stroke=\"currentColor\"/>\n",
       "    <text dy=\"1.25em\" style=\"font-size: 0.8em; letter-spacing: 1px\">\n",
       "        <textPath xlink:href=\"#arrow-3a285ea4f1214ae5925df66065603c19-0-49\" class=\"displacy-label\" startOffset=\"50%\" side=\"left\" fill=\"currentColor\" text-anchor=\"middle\">case</textPath>\n",
       "    </text>\n",
       "    <path class=\"displacy-arrowhead\" d=\"M8820,529.0 L8812,517.0 8828,517.0\" fill=\"currentColor\"/>\n",
       "</g>\n",
       "\n",
       "<g class=\"displacy-arrow\">\n",
       "    <path class=\"displacy-arc\" id=\"arrow-3a285ea4f1214ae5925df66065603c19-0-50\" stroke-width=\"2px\" d=\"M8995,527.0 C8995,439.5 9125.0,439.5 9125.0,527.0\" fill=\"none\" stroke=\"currentColor\"/>\n",
       "    <text dy=\"1.25em\" style=\"font-size: 0.8em; letter-spacing: 1px\">\n",
       "        <textPath xlink:href=\"#arrow-3a285ea4f1214ae5925df66065603c19-0-50\" class=\"displacy-label\" startOffset=\"50%\" side=\"left\" fill=\"currentColor\" text-anchor=\"middle\">amod</textPath>\n",
       "    </text>\n",
       "    <path class=\"displacy-arrowhead\" d=\"M8995,529.0 L8987,517.0 9003,517.0\" fill=\"currentColor\"/>\n",
       "</g>\n",
       "\n",
       "<g class=\"displacy-arrow\">\n",
       "    <path class=\"displacy-arc\" id=\"arrow-3a285ea4f1214ae5925df66065603c19-0-51\" stroke-width=\"2px\" d=\"M9170,527.0 C9170,439.5 9300.0,439.5 9300.0,527.0\" fill=\"none\" stroke=\"currentColor\"/>\n",
       "    <text dy=\"1.25em\" style=\"font-size: 0.8em; letter-spacing: 1px\">\n",
       "        <textPath xlink:href=\"#arrow-3a285ea4f1214ae5925df66065603c19-0-51\" class=\"displacy-label\" startOffset=\"50%\" side=\"left\" fill=\"currentColor\" text-anchor=\"middle\">obl</textPath>\n",
       "    </text>\n",
       "    <path class=\"displacy-arrowhead\" d=\"M9170,529.0 L9162,517.0 9178,517.0\" fill=\"currentColor\"/>\n",
       "</g>\n",
       "\n",
       "<g class=\"displacy-arrow\">\n",
       "    <path class=\"displacy-arc\" id=\"arrow-3a285ea4f1214ae5925df66065603c19-0-52\" stroke-width=\"2px\" d=\"M7070,527.0 C7070,177.0 9315.0,177.0 9315.0,527.0\" fill=\"none\" stroke=\"currentColor\"/>\n",
       "    <text dy=\"1.25em\" style=\"font-size: 0.8em; letter-spacing: 1px\">\n",
       "        <textPath xlink:href=\"#arrow-3a285ea4f1214ae5925df66065603c19-0-52\" class=\"displacy-label\" startOffset=\"50%\" side=\"left\" fill=\"currentColor\" text-anchor=\"middle\">advcl</textPath>\n",
       "    </text>\n",
       "    <path class=\"displacy-arrowhead\" d=\"M9315.0,529.0 L9323.0,517.0 9307.0,517.0\" fill=\"currentColor\"/>\n",
       "</g>\n",
       "\n",
       "<g class=\"displacy-arrow\">\n",
       "    <path class=\"displacy-arc\" id=\"arrow-3a285ea4f1214ae5925df66065603c19-0-53\" stroke-width=\"2px\" d=\"M9520,527.0 C9520,439.5 9650.0,439.5 9650.0,527.0\" fill=\"none\" stroke=\"currentColor\"/>\n",
       "    <text dy=\"1.25em\" style=\"font-size: 0.8em; letter-spacing: 1px\">\n",
       "        <textPath xlink:href=\"#arrow-3a285ea4f1214ae5925df66065603c19-0-53\" class=\"displacy-label\" startOffset=\"50%\" side=\"left\" fill=\"currentColor\" text-anchor=\"middle\">amod</textPath>\n",
       "    </text>\n",
       "    <path class=\"displacy-arrowhead\" d=\"M9520,529.0 L9512,517.0 9528,517.0\" fill=\"currentColor\"/>\n",
       "</g>\n",
       "\n",
       "<g class=\"displacy-arrow\">\n",
       "    <path class=\"displacy-arc\" id=\"arrow-3a285ea4f1214ae5925df66065603c19-0-54\" stroke-width=\"2px\" d=\"M9345,527.0 C9345,352.0 9655.0,352.0 9655.0,527.0\" fill=\"none\" stroke=\"currentColor\"/>\n",
       "    <text dy=\"1.25em\" style=\"font-size: 0.8em; letter-spacing: 1px\">\n",
       "        <textPath xlink:href=\"#arrow-3a285ea4f1214ae5925df66065603c19-0-54\" class=\"displacy-label\" startOffset=\"50%\" side=\"left\" fill=\"currentColor\" text-anchor=\"middle\">nsubj:pass</textPath>\n",
       "    </text>\n",
       "    <path class=\"displacy-arrowhead\" d=\"M9655.0,529.0 L9663.0,517.0 9647.0,517.0\" fill=\"currentColor\"/>\n",
       "</g>\n",
       "\n",
       "<g class=\"displacy-arrow\">\n",
       "    <path class=\"displacy-arc\" id=\"arrow-3a285ea4f1214ae5925df66065603c19-0-55\" stroke-width=\"2px\" d=\"M9870,527.0 C9870,264.5 10535.0,264.5 10535.0,527.0\" fill=\"none\" stroke=\"currentColor\"/>\n",
       "    <text dy=\"1.25em\" style=\"font-size: 0.8em; letter-spacing: 1px\">\n",
       "        <textPath xlink:href=\"#arrow-3a285ea4f1214ae5925df66065603c19-0-55\" class=\"displacy-label\" startOffset=\"50%\" side=\"left\" fill=\"currentColor\" text-anchor=\"middle\">case</textPath>\n",
       "    </text>\n",
       "    <path class=\"displacy-arrowhead\" d=\"M9870,529.0 L9862,517.0 9878,517.0\" fill=\"currentColor\"/>\n",
       "</g>\n",
       "\n",
       "<g class=\"displacy-arrow\">\n",
       "    <path class=\"displacy-arc\" id=\"arrow-3a285ea4f1214ae5925df66065603c19-0-56\" stroke-width=\"2px\" d=\"M9870,527.0 C9870,439.5 10000.0,439.5 10000.0,527.0\" fill=\"none\" stroke=\"currentColor\"/>\n",
       "    <text dy=\"1.25em\" style=\"font-size: 0.8em; letter-spacing: 1px\">\n",
       "        <textPath xlink:href=\"#arrow-3a285ea4f1214ae5925df66065603c19-0-56\" class=\"displacy-label\" startOffset=\"50%\" side=\"left\" fill=\"currentColor\" text-anchor=\"middle\">fixed</textPath>\n",
       "    </text>\n",
       "    <path class=\"displacy-arrowhead\" d=\"M10000.0,529.0 L10008.0,517.0 9992.0,517.0\" fill=\"currentColor\"/>\n",
       "</g>\n",
       "\n",
       "<g class=\"displacy-arrow\">\n",
       "    <path class=\"displacy-arc\" id=\"arrow-3a285ea4f1214ae5925df66065603c19-0-57\" stroke-width=\"2px\" d=\"M9870,527.0 C9870,352.0 10180.0,352.0 10180.0,527.0\" fill=\"none\" stroke=\"currentColor\"/>\n",
       "    <text dy=\"1.25em\" style=\"font-size: 0.8em; letter-spacing: 1px\">\n",
       "        <textPath xlink:href=\"#arrow-3a285ea4f1214ae5925df66065603c19-0-57\" class=\"displacy-label\" startOffset=\"50%\" side=\"left\" fill=\"currentColor\" text-anchor=\"middle\">fixed</textPath>\n",
       "    </text>\n",
       "    <path class=\"displacy-arrowhead\" d=\"M10180.0,529.0 L10188.0,517.0 10172.0,517.0\" fill=\"currentColor\"/>\n",
       "</g>\n",
       "\n",
       "<g class=\"displacy-arrow\">\n",
       "    <path class=\"displacy-arc\" id=\"arrow-3a285ea4f1214ae5925df66065603c19-0-58\" stroke-width=\"2px\" d=\"M10395,527.0 C10395,439.5 10525.0,439.5 10525.0,527.0\" fill=\"none\" stroke=\"currentColor\"/>\n",
       "    <text dy=\"1.25em\" style=\"font-size: 0.8em; letter-spacing: 1px\">\n",
       "        <textPath xlink:href=\"#arrow-3a285ea4f1214ae5925df66065603c19-0-58\" class=\"displacy-label\" startOffset=\"50%\" side=\"left\" fill=\"currentColor\" text-anchor=\"middle\">amod</textPath>\n",
       "    </text>\n",
       "    <path class=\"displacy-arrowhead\" d=\"M10395,529.0 L10387,517.0 10403,517.0\" fill=\"currentColor\"/>\n",
       "</g>\n",
       "\n",
       "<g class=\"displacy-arrow\">\n",
       "    <path class=\"displacy-arc\" id=\"arrow-3a285ea4f1214ae5925df66065603c19-0-59\" stroke-width=\"2px\" d=\"M9345,527.0 C9345,177.0 10540.0,177.0 10540.0,527.0\" fill=\"none\" stroke=\"currentColor\"/>\n",
       "    <text dy=\"1.25em\" style=\"font-size: 0.8em; letter-spacing: 1px\">\n",
       "        <textPath xlink:href=\"#arrow-3a285ea4f1214ae5925df66065603c19-0-59\" class=\"displacy-label\" startOffset=\"50%\" side=\"left\" fill=\"currentColor\" text-anchor=\"middle\">obl</textPath>\n",
       "    </text>\n",
       "    <path class=\"displacy-arrowhead\" d=\"M10540.0,529.0 L10548.0,517.0 10532.0,517.0\" fill=\"currentColor\"/>\n",
       "</g>\n",
       "\n",
       "<g class=\"displacy-arrow\">\n",
       "    <path class=\"displacy-arc\" id=\"arrow-3a285ea4f1214ae5925df66065603c19-0-60\" stroke-width=\"2px\" d=\"M10570,527.0 C10570,439.5 10700.0,439.5 10700.0,527.0\" fill=\"none\" stroke=\"currentColor\"/>\n",
       "    <text dy=\"1.25em\" style=\"font-size: 0.8em; letter-spacing: 1px\">\n",
       "        <textPath xlink:href=\"#arrow-3a285ea4f1214ae5925df66065603c19-0-60\" class=\"displacy-label\" startOffset=\"50%\" side=\"left\" fill=\"currentColor\" text-anchor=\"middle\">nmod</textPath>\n",
       "    </text>\n",
       "    <path class=\"displacy-arrowhead\" d=\"M10700.0,529.0 L10708.0,517.0 10692.0,517.0\" fill=\"currentColor\"/>\n",
       "</g>\n",
       "\n",
       "<g class=\"displacy-arrow\">\n",
       "    <path class=\"displacy-arc\" id=\"arrow-3a285ea4f1214ae5925df66065603c19-0-61\" stroke-width=\"2px\" d=\"M10920,527.0 C10920,352.0 11230.0,352.0 11230.0,527.0\" fill=\"none\" stroke=\"currentColor\"/>\n",
       "    <text dy=\"1.25em\" style=\"font-size: 0.8em; letter-spacing: 1px\">\n",
       "        <textPath xlink:href=\"#arrow-3a285ea4f1214ae5925df66065603c19-0-61\" class=\"displacy-label\" startOffset=\"50%\" side=\"left\" fill=\"currentColor\" text-anchor=\"middle\">case</textPath>\n",
       "    </text>\n",
       "    <path class=\"displacy-arrowhead\" d=\"M10920,529.0 L10912,517.0 10928,517.0\" fill=\"currentColor\"/>\n",
       "</g>\n",
       "\n",
       "<g class=\"displacy-arrow\">\n",
       "    <path class=\"displacy-arc\" id=\"arrow-3a285ea4f1214ae5925df66065603c19-0-62\" stroke-width=\"2px\" d=\"M11095,527.0 C11095,439.5 11225.0,439.5 11225.0,527.0\" fill=\"none\" stroke=\"currentColor\"/>\n",
       "    <text dy=\"1.25em\" style=\"font-size: 0.8em; letter-spacing: 1px\">\n",
       "        <textPath xlink:href=\"#arrow-3a285ea4f1214ae5925df66065603c19-0-62\" class=\"displacy-label\" startOffset=\"50%\" side=\"left\" fill=\"currentColor\" text-anchor=\"middle\">amod</textPath>\n",
       "    </text>\n",
       "    <path class=\"displacy-arrowhead\" d=\"M11095,529.0 L11087,517.0 11103,517.0\" fill=\"currentColor\"/>\n",
       "</g>\n",
       "\n",
       "<g class=\"displacy-arrow\">\n",
       "    <path class=\"displacy-arc\" id=\"arrow-3a285ea4f1214ae5925df66065603c19-0-63\" stroke-width=\"2px\" d=\"M10745,527.0 C10745,264.5 11235.0,264.5 11235.0,527.0\" fill=\"none\" stroke=\"currentColor\"/>\n",
       "    <text dy=\"1.25em\" style=\"font-size: 0.8em; letter-spacing: 1px\">\n",
       "        <textPath xlink:href=\"#arrow-3a285ea4f1214ae5925df66065603c19-0-63\" class=\"displacy-label\" startOffset=\"50%\" side=\"left\" fill=\"currentColor\" text-anchor=\"middle\">nmod</textPath>\n",
       "    </text>\n",
       "    <path class=\"displacy-arrowhead\" d=\"M11235.0,529.0 L11243.0,517.0 11227.0,517.0\" fill=\"currentColor\"/>\n",
       "</g>\n",
       "\n",
       "<g class=\"displacy-arrow\">\n",
       "    <path class=\"displacy-arc\" id=\"arrow-3a285ea4f1214ae5925df66065603c19-0-64\" stroke-width=\"2px\" d=\"M10570,527.0 C10570,177.0 11415.0,177.0 11415.0,527.0\" fill=\"none\" stroke=\"currentColor\"/>\n",
       "    <text dy=\"1.25em\" style=\"font-size: 0.8em; letter-spacing: 1px\">\n",
       "        <textPath xlink:href=\"#arrow-3a285ea4f1214ae5925df66065603c19-0-64\" class=\"displacy-label\" startOffset=\"50%\" side=\"left\" fill=\"currentColor\" text-anchor=\"middle\">appos</textPath>\n",
       "    </text>\n",
       "    <path class=\"displacy-arrowhead\" d=\"M11415.0,529.0 L11423.0,517.0 11407.0,517.0\" fill=\"currentColor\"/>\n",
       "</g>\n",
       "\n",
       "<g class=\"displacy-arrow\">\n",
       "    <path class=\"displacy-arc\" id=\"arrow-3a285ea4f1214ae5925df66065603c19-0-65\" stroke-width=\"2px\" d=\"M10570,527.0 C10570,89.5 11595.0,89.5 11595.0,527.0\" fill=\"none\" stroke=\"currentColor\"/>\n",
       "    <text dy=\"1.25em\" style=\"font-size: 0.8em; letter-spacing: 1px\">\n",
       "        <textPath xlink:href=\"#arrow-3a285ea4f1214ae5925df66065603c19-0-65\" class=\"displacy-label\" startOffset=\"50%\" side=\"left\" fill=\"currentColor\" text-anchor=\"middle\">nmod</textPath>\n",
       "    </text>\n",
       "    <path class=\"displacy-arrowhead\" d=\"M11595.0,529.0 L11603.0,517.0 11587.0,517.0\" fill=\"currentColor\"/>\n",
       "</g>\n",
       "</svg></span>"
      ],
      "text/plain": [
       "<IPython.core.display.HTML object>"
      ]
     },
     "metadata": {},
     "output_type": "display_data"
    }
   ],
   "source": [
    "displacy.render(doc, style=\"dep\", jupyter=True)"
   ]
  },
  {
   "cell_type": "code",
   "execution_count": 81,
   "metadata": {
    "colab": {
     "base_uri": "https://localhost:8080/",
     "height": 122
    },
    "id": "9LmKDF_g5PJE",
    "outputId": "9e3bd794-eac7-4b38-b1c2-89e069b0bb5d"
   },
   "outputs": [
    {
     "data": {
      "text/html": [
       "<span class=\"tex2jax_ignore\"><div class=\"entities\" style=\"line-height: 2.5; direction: ltr\">\n",
       "<mark class=\"entity\" style=\"background: #ff9561; padding: 0.45em 0.6em; margin: 0 0.25em; line-height: 1; border-radius: 0.35em;\">\n",
       "    Россия\n",
       "    <span style=\"font-size: 0.8em; font-weight: bold; line-height: 1; border-radius: 0.35em; vertical-align: middle; margin-left: 0.5rem\">LOC</span>\n",
       "</mark>\n",
       " рассчитывает на конструктивное воздействие \n",
       "<mark class=\"entity\" style=\"background: #ff9561; padding: 0.45em 0.6em; margin: 0 0.25em; line-height: 1; border-radius: 0.35em;\">\n",
       "    США\n",
       "    <span style=\"font-size: 0.8em; font-weight: bold; line-height: 1; border-radius: 0.35em; vertical-align: middle; margin-left: 0.5rem\">LOC</span>\n",
       "</mark>\n",
       " на \n",
       "<mark class=\"entity\" style=\"background: #ff9561; padding: 0.45em 0.6em; margin: 0 0.25em; line-height: 1; border-radius: 0.35em;\">\n",
       "    Грузию\n",
       "    <span style=\"font-size: 0.8em; font-weight: bold; line-height: 1; border-radius: 0.35em; vertical-align: middle; margin-left: 0.5rem\">LOC</span>\n",
       "</mark>\n",
       " МОСКВА авг \n",
       "<mark class=\"entity\" style=\"background: #7aecec; padding: 0.45em 0.6em; margin: 0 0.25em; line-height: 1; border-radius: 0.35em;\">\n",
       "    РИА Новости\n",
       "    <span style=\"font-size: 0.8em; font-weight: bold; line-height: 1; border-radius: 0.35em; vertical-align: middle; margin-left: 0.5rem\">ORG</span>\n",
       "</mark>\n",
       " \n",
       "<mark class=\"entity\" style=\"background: #ff9561; padding: 0.45em 0.6em; margin: 0 0.25em; line-height: 1; border-radius: 0.35em;\">\n",
       "    Россия\n",
       "    <span style=\"font-size: 0.8em; font-weight: bold; line-height: 1; border-radius: 0.35em; vertical-align: middle; margin-left: 0.5rem\">LOC</span>\n",
       "</mark>\n",
       " рассчитывает что \n",
       "<mark class=\"entity\" style=\"background: #ff9561; padding: 0.45em 0.6em; margin: 0 0.25em; line-height: 1; border-radius: 0.35em;\">\n",
       "    США\n",
       "    <span style=\"font-size: 0.8em; font-weight: bold; line-height: 1; border-radius: 0.35em; vertical-align: middle; margin-left: 0.5rem\">LOC</span>\n",
       "</mark>\n",
       " воздействуют на \n",
       "<mark class=\"entity\" style=\"background: #ff9561; padding: 0.45em 0.6em; margin: 0 0.25em; line-height: 1; border-radius: 0.35em;\">\n",
       "    Тбилиси\n",
       "    <span style=\"font-size: 0.8em; font-weight: bold; line-height: 1; border-radius: 0.35em; vertical-align: middle; margin-left: 0.5rem\">LOC</span>\n",
       "</mark>\n",
       " в связи с обострением ситуации в зоне грузино осетинского конфликта Об этом статс секретарь заместитель министра иностранных дел \n",
       "<mark class=\"entity\" style=\"background: #ff9561; padding: 0.45em 0.6em; margin: 0 0.25em; line-height: 1; border-radius: 0.35em;\">\n",
       "    России\n",
       "    <span style=\"font-size: 0.8em; font-weight: bold; line-height: 1; border-radius: 0.35em; vertical-align: middle; margin-left: 0.5rem\">LOC</span>\n",
       "</mark>\n",
       " \n",
       "<mark class=\"entity\" style=\"background: #ddd; padding: 0.45em 0.6em; margin: 0 0.25em; line-height: 1; border-radius: 0.35em;\">\n",
       "    Григорий Карасин\n",
       "    <span style=\"font-size: 0.8em; font-weight: bold; line-height: 1; border-radius: 0.35em; vertical-align: middle; margin-left: 0.5rem\">PER</span>\n",
       "</mark>\n",
       " заявил в телефонном разговоре с заместителем госсекретаря \n",
       "<mark class=\"entity\" style=\"background: #ff9561; padding: 0.45em 0.6em; margin: 0 0.25em; line-height: 1; border-radius: 0.35em;\">\n",
       "    США\n",
       "    <span style=\"font-size: 0.8em; font-weight: bold; line-height: 1; border-radius: 0.35em; vertical-align: middle; margin-left: 0.5rem\">LOC</span>\n",
       "</mark>\n",
       " \n",
       "<mark class=\"entity\" style=\"background: #ddd; padding: 0.45em 0.6em; margin: 0 0.25em; line-height: 1; border-radius: 0.35em;\">\n",
       "    Дэниэлом Фридом\n",
       "    <span style=\"font-size: 0.8em; font-weight: bold; line-height: 1; border-radius: 0.35em; vertical-align: middle; margin-left: 0.5rem\">PER</span>\n",
       "</mark>\n",
       " С российской стороны выражена глубокая озабоченность в связи с новым витком напряженности вокруг \n",
       "<mark class=\"entity\" style=\"background: #ff9561; padding: 0.45em 0.6em; margin: 0 0.25em; line-height: 1; border-radius: 0.35em;\">\n",
       "    Южной Осетии\n",
       "    <span style=\"font-size: 0.8em; font-weight: bold; line-height: 1; border-radius: 0.35em; vertical-align: middle; margin-left: 0.5rem\">LOC</span>\n",
       "</mark>\n",
       " противозаконными дей</div></span>"
      ],
      "text/plain": [
       "<IPython.core.display.HTML object>"
      ]
     },
     "metadata": {},
     "output_type": "display_data"
    }
   ],
   "source": [
    "displacy.render(doc, style=\"ent\", jupyter=True)"
   ]
  },
  {
   "cell_type": "code",
   "execution_count": 97,
   "metadata": {
    "colab": {
     "base_uri": "https://localhost:8080/"
    },
    "id": "CDhErkYK7tXz",
    "outputId": "0bd25cd4-87a8-4523-ea23-889e3c3872f0"
   },
   "outputs": [
    {
     "name": "stdout",
     "output_type": "stream",
     "text": [
      "The virtual environment was not created successfully because ensurepip is not\n",
      "available.  On Debian/Ubuntu systems, you need to install the python3-venv\n",
      "package using the following command.\n",
      "\n",
      "    apt install python3.10-venv\n",
      "\n",
      "You may need to use sudo with that command.  After installing the python3-venv\n",
      "package, recreate your virtual environment.\n",
      "\n",
      "Failing command: /content/env/bin/python3\n",
      "\n",
      "/bin/bash: line 1: .envScriptsactivate.bat: command not found\n",
      "Requirement already satisfied: deeppavlov in /usr/local/lib/python3.10/dist-packages (1.3.0)\n",
      "Requirement already satisfied: fastapi<=0.89.1,>=0.47.0 in /usr/local/lib/python3.10/dist-packages (from deeppavlov) (0.89.1)\n",
      "Requirement already satisfied: filelock<3.10.0,>=3.0.0 in /usr/local/lib/python3.10/dist-packages (from deeppavlov) (3.9.1)\n",
      "Requirement already satisfied: nltk<3.10.0,>=3.2.4 in /usr/local/lib/python3.10/dist-packages (from deeppavlov) (3.8.1)\n",
      "Requirement already satisfied: numpy<1.24 in /usr/local/lib/python3.10/dist-packages (from deeppavlov) (1.23.5)\n",
      "Requirement already satisfied: pandas<1.6.0,>=1.0.0 in /usr/local/lib/python3.10/dist-packages (from deeppavlov) (1.5.3)\n",
      "Requirement already satisfied: prometheus-client<=1.16.0,>=0.13.0 in /usr/local/lib/python3.10/dist-packages (from deeppavlov) (0.17.1)\n",
      "Requirement already satisfied: pydantic in /usr/local/lib/python3.10/dist-packages (from deeppavlov) (1.10.12)\n",
      "Requirement already satisfied: pybind11==2.10.3 in /usr/local/lib/python3.10/dist-packages (from deeppavlov) (2.10.3)\n",
      "Requirement already satisfied: requests<3.0.0,>=2.19.0 in /usr/local/lib/python3.10/dist-packages (from deeppavlov) (2.31.0)\n",
      "Requirement already satisfied: scikit-learn<1.1.0,>=0.24 in /usr/local/lib/python3.10/dist-packages (from deeppavlov) (1.0.2)\n",
      "Requirement already satisfied: scipy<1.10.0 in /usr/local/lib/python3.10/dist-packages (from deeppavlov) (1.9.3)\n",
      "Requirement already satisfied: tqdm<4.65.0,>=4.42.0 in /usr/local/lib/python3.10/dist-packages (from deeppavlov) (4.64.1)\n",
      "Requirement already satisfied: uvicorn<0.19.0,>=0.13.0 in /usr/local/lib/python3.10/dist-packages (from deeppavlov) (0.18.3)\n",
      "Requirement already satisfied: wheel in /usr/local/lib/python3.10/dist-packages (from deeppavlov) (0.41.2)\n",
      "Requirement already satisfied: starlette==0.22.0 in /usr/local/lib/python3.10/dist-packages (from fastapi<=0.89.1,>=0.47.0->deeppavlov) (0.22.0)\n",
      "Requirement already satisfied: anyio<5,>=3.4.0 in /usr/local/lib/python3.10/dist-packages (from starlette==0.22.0->fastapi<=0.89.1,>=0.47.0->deeppavlov) (3.7.1)\n",
      "Requirement already satisfied: click in /usr/local/lib/python3.10/dist-packages (from nltk<3.10.0,>=3.2.4->deeppavlov) (8.1.7)\n",
      "Requirement already satisfied: joblib in /usr/local/lib/python3.10/dist-packages (from nltk<3.10.0,>=3.2.4->deeppavlov) (1.3.2)\n",
      "Requirement already satisfied: regex>=2021.8.3 in /usr/local/lib/python3.10/dist-packages (from nltk<3.10.0,>=3.2.4->deeppavlov) (2023.6.3)\n",
      "Requirement already satisfied: python-dateutil>=2.8.1 in /usr/local/lib/python3.10/dist-packages (from pandas<1.6.0,>=1.0.0->deeppavlov) (2.8.2)\n",
      "Requirement already satisfied: pytz>=2020.1 in /usr/local/lib/python3.10/dist-packages (from pandas<1.6.0,>=1.0.0->deeppavlov) (2023.3)\n",
      "Requirement already satisfied: typing-extensions>=4.2.0 in /usr/local/lib/python3.10/dist-packages (from pydantic->deeppavlov) (4.7.1)\n",
      "Requirement already satisfied: charset-normalizer<4,>=2 in /usr/local/lib/python3.10/dist-packages (from requests<3.0.0,>=2.19.0->deeppavlov) (3.2.0)\n",
      "Requirement already satisfied: idna<4,>=2.5 in /usr/local/lib/python3.10/dist-packages (from requests<3.0.0,>=2.19.0->deeppavlov) (3.4)\n",
      "Requirement already satisfied: urllib3<3,>=1.21.1 in /usr/local/lib/python3.10/dist-packages (from requests<3.0.0,>=2.19.0->deeppavlov) (2.0.4)\n",
      "Requirement already satisfied: certifi>=2017.4.17 in /usr/local/lib/python3.10/dist-packages (from requests<3.0.0,>=2.19.0->deeppavlov) (2023.7.22)\n",
      "Requirement already satisfied: threadpoolctl>=2.0.0 in /usr/local/lib/python3.10/dist-packages (from scikit-learn<1.1.0,>=0.24->deeppavlov) (3.2.0)\n",
      "Requirement already satisfied: h11>=0.8 in /usr/local/lib/python3.10/dist-packages (from uvicorn<0.19.0,>=0.13.0->deeppavlov) (0.14.0)\n",
      "Requirement already satisfied: six>=1.5 in /usr/local/lib/python3.10/dist-packages (from python-dateutil>=2.8.1->pandas<1.6.0,>=1.0.0->deeppavlov) (1.16.0)\n",
      "Requirement already satisfied: sniffio>=1.1 in /usr/local/lib/python3.10/dist-packages (from anyio<5,>=3.4.0->starlette==0.22.0->fastapi<=0.89.1,>=0.47.0->deeppavlov) (1.3.0)\n",
      "Requirement already satisfied: exceptiongroup in /usr/local/lib/python3.10/dist-packages (from anyio<5,>=3.4.0->starlette==0.22.0->fastapi<=0.89.1,>=0.47.0->deeppavlov) (1.1.3)\n",
      "Requirement already satisfied: torch<1.14.0,>=1.6.0 in /usr/local/lib/python3.10/dist-packages (1.13.1)\n",
      "Requirement already satisfied: typing-extensions in /usr/local/lib/python3.10/dist-packages (from torch<1.14.0,>=1.6.0) (4.7.1)\n",
      "Requirement already satisfied: nvidia-cuda-runtime-cu11==11.7.99 in /usr/local/lib/python3.10/dist-packages (from torch<1.14.0,>=1.6.0) (11.7.99)\n",
      "Requirement already satisfied: nvidia-cudnn-cu11==8.5.0.96 in /usr/local/lib/python3.10/dist-packages (from torch<1.14.0,>=1.6.0) (8.5.0.96)\n",
      "Requirement already satisfied: nvidia-cublas-cu11==11.10.3.66 in /usr/local/lib/python3.10/dist-packages (from torch<1.14.0,>=1.6.0) (11.10.3.66)\n",
      "Requirement already satisfied: nvidia-cuda-nvrtc-cu11==11.7.99 in /usr/local/lib/python3.10/dist-packages (from torch<1.14.0,>=1.6.0) (11.7.99)\n",
      "Requirement already satisfied: setuptools in /usr/local/lib/python3.10/dist-packages (from nvidia-cublas-cu11==11.10.3.66->torch<1.14.0,>=1.6.0) (67.7.2)\n",
      "Requirement already satisfied: wheel in /usr/local/lib/python3.10/dist-packages (from nvidia-cublas-cu11==11.10.3.66->torch<1.14.0,>=1.6.0) (0.41.2)\n",
      "Requirement already satisfied: transformers<4.25.0,>=4.13.0 in /usr/local/lib/python3.10/dist-packages (4.24.0)\n",
      "Requirement already satisfied: filelock in /usr/local/lib/python3.10/dist-packages (from transformers<4.25.0,>=4.13.0) (3.9.1)\n",
      "Requirement already satisfied: huggingface-hub<1.0,>=0.10.0 in /usr/local/lib/python3.10/dist-packages (from transformers<4.25.0,>=4.13.0) (0.16.4)\n",
      "Requirement already satisfied: numpy>=1.17 in /usr/local/lib/python3.10/dist-packages (from transformers<4.25.0,>=4.13.0) (1.23.5)\n",
      "Requirement already satisfied: packaging>=20.0 in /usr/local/lib/python3.10/dist-packages (from transformers<4.25.0,>=4.13.0) (23.1)\n",
      "Requirement already satisfied: pyyaml>=5.1 in /usr/local/lib/python3.10/dist-packages (from transformers<4.25.0,>=4.13.0) (6.0.1)\n",
      "Requirement already satisfied: regex!=2019.12.17 in /usr/local/lib/python3.10/dist-packages (from transformers<4.25.0,>=4.13.0) (2023.6.3)\n",
      "Requirement already satisfied: requests in /usr/local/lib/python3.10/dist-packages (from transformers<4.25.0,>=4.13.0) (2.31.0)\n",
      "Requirement already satisfied: tokenizers!=0.11.3,<0.14,>=0.11.1 in /usr/local/lib/python3.10/dist-packages (from transformers<4.25.0,>=4.13.0) (0.13.3)\n",
      "Requirement already satisfied: tqdm>=4.27 in /usr/local/lib/python3.10/dist-packages (from transformers<4.25.0,>=4.13.0) (4.64.1)\n",
      "Requirement already satisfied: fsspec in /usr/local/lib/python3.10/dist-packages (from huggingface-hub<1.0,>=0.10.0->transformers<4.25.0,>=4.13.0) (2023.6.0)\n",
      "Requirement already satisfied: typing-extensions>=3.7.4.3 in /usr/local/lib/python3.10/dist-packages (from huggingface-hub<1.0,>=0.10.0->transformers<4.25.0,>=4.13.0) (4.7.1)\n",
      "Requirement already satisfied: charset-normalizer<4,>=2 in /usr/local/lib/python3.10/dist-packages (from requests->transformers<4.25.0,>=4.13.0) (3.2.0)\n",
      "Requirement already satisfied: idna<4,>=2.5 in /usr/local/lib/python3.10/dist-packages (from requests->transformers<4.25.0,>=4.13.0) (3.4)\n",
      "Requirement already satisfied: urllib3<3,>=1.21.1 in /usr/local/lib/python3.10/dist-packages (from requests->transformers<4.25.0,>=4.13.0) (2.0.4)\n",
      "Requirement already satisfied: certifi>=2017.4.17 in /usr/local/lib/python3.10/dist-packages (from requests->transformers<4.25.0,>=4.13.0) (2023.7.22)\n",
      "2023-08-27 12:27:18.783 WARNING in 'deeppavlov.core.common.file'['file'] at line 39: \u001b[31;20m\n",
      "\n",
      "################################################################################\n",
      "# The model 'ner_ontonotes' has been removed from the DeepPavlov configs.\n",
      "# The model 'ner_ontonotes_bert' is used instead.\n",
      "# To disable this message please switch to 'ner_ontonotes_bert'.\n",
      "# Automatic name resolving will be disabled in the deeppavlov 1.2.0,\n",
      "# and if you try to use 'ner_ontonotes' you will get an ERROR.\n",
      "################################################################################\u001b[0m\n",
      "\n",
      "Requirement already satisfied: pytorch-crf==0.7.* in /usr/local/lib/python3.10/dist-packages (0.7.2)\n",
      "Requirement already satisfied: torch<1.14.0,>=1.6.0 in /usr/local/lib/python3.10/dist-packages (1.13.1)\n",
      "Requirement already satisfied: typing-extensions in /usr/local/lib/python3.10/dist-packages (from torch<1.14.0,>=1.6.0) (4.7.1)\n",
      "Requirement already satisfied: nvidia-cuda-runtime-cu11==11.7.99 in /usr/local/lib/python3.10/dist-packages (from torch<1.14.0,>=1.6.0) (11.7.99)\n",
      "Requirement already satisfied: nvidia-cudnn-cu11==8.5.0.96 in /usr/local/lib/python3.10/dist-packages (from torch<1.14.0,>=1.6.0) (8.5.0.96)\n",
      "Requirement already satisfied: nvidia-cublas-cu11==11.10.3.66 in /usr/local/lib/python3.10/dist-packages (from torch<1.14.0,>=1.6.0) (11.10.3.66)\n",
      "Requirement already satisfied: nvidia-cuda-nvrtc-cu11==11.7.99 in /usr/local/lib/python3.10/dist-packages (from torch<1.14.0,>=1.6.0) (11.7.99)\n",
      "Requirement already satisfied: setuptools in /usr/local/lib/python3.10/dist-packages (from nvidia-cublas-cu11==11.10.3.66->torch<1.14.0,>=1.6.0) (67.7.2)\n",
      "Requirement already satisfied: wheel in /usr/local/lib/python3.10/dist-packages (from nvidia-cublas-cu11==11.10.3.66->torch<1.14.0,>=1.6.0) (0.41.2)\n",
      "Requirement already satisfied: transformers<4.25.0,>=4.13.0 in /usr/local/lib/python3.10/dist-packages (4.24.0)\n",
      "Requirement already satisfied: filelock in /usr/local/lib/python3.10/dist-packages (from transformers<4.25.0,>=4.13.0) (3.9.1)\n",
      "Requirement already satisfied: huggingface-hub<1.0,>=0.10.0 in /usr/local/lib/python3.10/dist-packages (from transformers<4.25.0,>=4.13.0) (0.16.4)\n",
      "Requirement already satisfied: numpy>=1.17 in /usr/local/lib/python3.10/dist-packages (from transformers<4.25.0,>=4.13.0) (1.23.5)\n",
      "Requirement already satisfied: packaging>=20.0 in /usr/local/lib/python3.10/dist-packages (from transformers<4.25.0,>=4.13.0) (23.1)\n",
      "Requirement already satisfied: pyyaml>=5.1 in /usr/local/lib/python3.10/dist-packages (from transformers<4.25.0,>=4.13.0) (6.0.1)\n",
      "Requirement already satisfied: regex!=2019.12.17 in /usr/local/lib/python3.10/dist-packages (from transformers<4.25.0,>=4.13.0) (2023.6.3)\n",
      "Requirement already satisfied: requests in /usr/local/lib/python3.10/dist-packages (from transformers<4.25.0,>=4.13.0) (2.31.0)\n",
      "Requirement already satisfied: tokenizers!=0.11.3,<0.14,>=0.11.1 in /usr/local/lib/python3.10/dist-packages (from transformers<4.25.0,>=4.13.0) (0.13.3)\n",
      "Requirement already satisfied: tqdm>=4.27 in /usr/local/lib/python3.10/dist-packages (from transformers<4.25.0,>=4.13.0) (4.64.1)\n",
      "Requirement already satisfied: fsspec in /usr/local/lib/python3.10/dist-packages (from huggingface-hub<1.0,>=0.10.0->transformers<4.25.0,>=4.13.0) (2023.6.0)\n",
      "Requirement already satisfied: typing-extensions>=3.7.4.3 in /usr/local/lib/python3.10/dist-packages (from huggingface-hub<1.0,>=0.10.0->transformers<4.25.0,>=4.13.0) (4.7.1)\n",
      "Requirement already satisfied: charset-normalizer<4,>=2 in /usr/local/lib/python3.10/dist-packages (from requests->transformers<4.25.0,>=4.13.0) (3.2.0)\n",
      "Requirement already satisfied: idna<4,>=2.5 in /usr/local/lib/python3.10/dist-packages (from requests->transformers<4.25.0,>=4.13.0) (3.4)\n",
      "Requirement already satisfied: urllib3<3,>=1.21.1 in /usr/local/lib/python3.10/dist-packages (from requests->transformers<4.25.0,>=4.13.0) (2.0.4)\n",
      "Requirement already satisfied: certifi>=2017.4.17 in /usr/local/lib/python3.10/dist-packages (from requests->transformers<4.25.0,>=4.13.0) (2023.7.22)\n"
     ]
    }
   ],
   "source": [
    "!python -m venv env\n",
    "!.\\env\\Scripts\\activate.bat\n",
    "!pip install deeppavlov\n",
    "!python -m deeppavlov install squad_bert\n",
    "\n",
    "!python -m deeppavlov install ner_ontonotes_bert"
   ]
  },
  {
   "cell_type": "code",
   "execution_count": 102,
   "metadata": {
    "colab": {
     "base_uri": "https://localhost:8080/"
    },
    "id": "AdFopJYe9PQw",
    "outputId": "e8d82956-e7d2-40cd-fc7f-7913a210f855"
   },
   "outputs": [
    {
     "name": "stdout",
     "output_type": "stream",
     "text": [
      "Requirement already satisfied: transformers<4.25.0,>=4.13.0 in /usr/local/lib/python3.10/dist-packages (4.24.0)\n",
      "Requirement already satisfied: filelock in /usr/local/lib/python3.10/dist-packages (from transformers<4.25.0,>=4.13.0) (3.9.1)\n",
      "Requirement already satisfied: huggingface-hub<1.0,>=0.10.0 in /usr/local/lib/python3.10/dist-packages (from transformers<4.25.0,>=4.13.0) (0.16.4)\n",
      "Requirement already satisfied: numpy>=1.17 in /usr/local/lib/python3.10/dist-packages (from transformers<4.25.0,>=4.13.0) (1.23.5)\n",
      "Requirement already satisfied: packaging>=20.0 in /usr/local/lib/python3.10/dist-packages (from transformers<4.25.0,>=4.13.0) (23.1)\n",
      "Requirement already satisfied: pyyaml>=5.1 in /usr/local/lib/python3.10/dist-packages (from transformers<4.25.0,>=4.13.0) (6.0.1)\n",
      "Requirement already satisfied: regex!=2019.12.17 in /usr/local/lib/python3.10/dist-packages (from transformers<4.25.0,>=4.13.0) (2023.6.3)\n",
      "Requirement already satisfied: requests in /usr/local/lib/python3.10/dist-packages (from transformers<4.25.0,>=4.13.0) (2.31.0)\n",
      "Requirement already satisfied: tokenizers!=0.11.3,<0.14,>=0.11.1 in /usr/local/lib/python3.10/dist-packages (from transformers<4.25.0,>=4.13.0) (0.13.3)\n",
      "Requirement already satisfied: tqdm>=4.27 in /usr/local/lib/python3.10/dist-packages (from transformers<4.25.0,>=4.13.0) (4.64.1)\n",
      "Requirement already satisfied: fsspec in /usr/local/lib/python3.10/dist-packages (from huggingface-hub<1.0,>=0.10.0->transformers<4.25.0,>=4.13.0) (2023.6.0)\n",
      "Requirement already satisfied: typing-extensions>=3.7.4.3 in /usr/local/lib/python3.10/dist-packages (from huggingface-hub<1.0,>=0.10.0->transformers<4.25.0,>=4.13.0) (4.7.1)\n",
      "Requirement already satisfied: charset-normalizer<4,>=2 in /usr/local/lib/python3.10/dist-packages (from requests->transformers<4.25.0,>=4.13.0) (3.2.0)\n",
      "Requirement already satisfied: idna<4,>=2.5 in /usr/local/lib/python3.10/dist-packages (from requests->transformers<4.25.0,>=4.13.0) (3.4)\n",
      "Requirement already satisfied: urllib3<3,>=1.21.1 in /usr/local/lib/python3.10/dist-packages (from requests->transformers<4.25.0,>=4.13.0) (2.0.4)\n",
      "Requirement already satisfied: certifi>=2017.4.17 in /usr/local/lib/python3.10/dist-packages (from requests->transformers<4.25.0,>=4.13.0) (2023.7.22)\n",
      "Requirement already satisfied: torch<1.14.0,>=1.6.0 in /usr/local/lib/python3.10/dist-packages (1.13.1)\n",
      "Requirement already satisfied: typing-extensions in /usr/local/lib/python3.10/dist-packages (from torch<1.14.0,>=1.6.0) (4.7.1)\n",
      "Requirement already satisfied: nvidia-cuda-runtime-cu11==11.7.99 in /usr/local/lib/python3.10/dist-packages (from torch<1.14.0,>=1.6.0) (11.7.99)\n",
      "Requirement already satisfied: nvidia-cudnn-cu11==8.5.0.96 in /usr/local/lib/python3.10/dist-packages (from torch<1.14.0,>=1.6.0) (8.5.0.96)\n",
      "Requirement already satisfied: nvidia-cublas-cu11==11.10.3.66 in /usr/local/lib/python3.10/dist-packages (from torch<1.14.0,>=1.6.0) (11.10.3.66)\n",
      "Requirement already satisfied: nvidia-cuda-nvrtc-cu11==11.7.99 in /usr/local/lib/python3.10/dist-packages (from torch<1.14.0,>=1.6.0) (11.7.99)\n",
      "Requirement already satisfied: setuptools in /usr/local/lib/python3.10/dist-packages (from nvidia-cublas-cu11==11.10.3.66->torch<1.14.0,>=1.6.0) (67.7.2)\n",
      "Requirement already satisfied: wheel in /usr/local/lib/python3.10/dist-packages (from nvidia-cublas-cu11==11.10.3.66->torch<1.14.0,>=1.6.0) (0.41.2)\n",
      "Requirement already satisfied: pytorch-crf==0.7.* in /usr/local/lib/python3.10/dist-packages (0.7.2)\n"
     ]
    }
   ],
   "source": [
    "!pip install -q deeppavlov\n",
    "!python -m deeppavlov install ner_ontonotes_bert"
   ]
  },
  {
   "cell_type": "code",
   "execution_count": 104,
   "metadata": {
    "colab": {
     "base_uri": "https://localhost:8080/",
     "height": 415,
     "referenced_widgets": [
      "080e77e4bf7949c7be35e1a9572e72b5",
      "b9e07fcd9c184ce8996333f4ee20fbf7",
      "007497680efc4918b2ae359c65dc7d4f",
      "431f327c87b640d7b35d4219b4a5753d",
      "fabaf38b9acb4f0c96c2e1966372aeb8",
      "5955608082de48fb9a7729f717f246a0",
      "f0cd99b803044a8f8229cf7541d8548c",
      "59a99bbaa6404568967862b269a7ac9a",
      "e22eaa45e3eb4b06a6ea4c37d17344ff",
      "dee68691e29746f9b068ccbbac1ae983",
      "bfbfee7fdca2499ba5922738bfd458d7",
      "35b8a8c6ad994828871450e2a7005742",
      "5a48a695d32f42d7acd382cb6428d3ad",
      "cf64a0ab49d342cba34472c2b7b30b36",
      "227fccad8eff4af08c0881604a5fa397",
      "6af48ed35dd243c6bfbb97e63c114213",
      "4e8f336b0b814bfca8aeb6fb3c004bb5",
      "e8e13b99e0d4452ea8192e2893e67b56",
      "f4b4ef50eda043c4bc1b30d090d57e50",
      "d4ab3a0798a8463fade9572dc86c7940",
      "51f3ef401a6b4db8975a649371963a54",
      "96b2c5df53164d859985c0252e5511f9",
      "b5039e1917da42348dff541cba279346",
      "3c6f13b418bf424eb63560011665afaf",
      "8eb13309d29649a9be709f7cbbdb9d07",
      "3d55e35a7aa34db085abb51f2b84d727",
      "1e88f701a7f94ed2820d3e4a40bf4713",
      "6fb8b70485c84612b41f29dab3e9759f",
      "35b2febcd5da4f9bbaf5d3df1c231823",
      "57fd9f6e124d4804a5bbfdcf9731e070",
      "7ed9be54c0b34e6a8dca72271e7332f5",
      "d85ad27e179b4a4e8434d60472f1ae87",
      "9bf11df243b74c1d978ac5dc98a66122",
      "8e19c60602074c6682806c0707356daf",
      "ce85d7a9d0314c38bf17140d1d4592af",
      "5a497f7d04244982bc34eae358661442",
      "b7bd6cf94d1d4d0e8e70c3290bde452c",
      "a04353f0610a4ab0bd7ea70a12356e2f",
      "be918a5c4f6f4594ae6fdbdb45a912df",
      "e3aedb2a2bd646b5a29fa742a43961cb",
      "16b4ab2f10a443e7bcd9cd1c2c58aa82",
      "fc384f3fe16f4f868ff5c428ce86574e",
      "9698bcc7f7cc4b2388ee050f94b57582",
      "49da1e05ad83444c984bd6b108e3847d",
      "936440bbf4dc4dc1afc68d041086bf24",
      "f6796690c72c4f418179d81792883c65",
      "538ec7318d6441d8a53929551e76f5a6",
      "bc69f27b39d04b1da9fb36bcf9133b64",
      "69fb9abe472d4d95a54bd4fcd6eab363",
      "6aca8d63faed4da79dfd6da31fea2b87",
      "ae1ad0ab331c418c880cffe9f324f5f5",
      "ba992a548a1a4238a11e5b0c2ed9b3d9",
      "6cdba480e4f44c5c9567e8d0ed585f26",
      "4517abc743614e53863621e8c6622b74",
      "50e823e919734968a5a4249eab582419"
     ]
    },
    "id": "KXsbJvoI_AJU",
    "outputId": "0fcffc53-6569-4570-8620-a9f497c43e25"
   },
   "outputs": [
    {
     "name": "stderr",
     "output_type": "stream",
     "text": [
      "2023-08-27 12:34:07.619 INFO in 'deeppavlov.core.data.utils'['utils'] at line 95: Downloading from http://files.deeppavlov.ai/v1/ner/ner_ontonotes_bert_torch_crf.tar.gz to /root/.deeppavlov/models/ner_ontonotes_bert_torch_crf.tar.gz\n",
      "INFO:deeppavlov.core.data.utils:Downloading from http://files.deeppavlov.ai/v1/ner/ner_ontonotes_bert_torch_crf.tar.gz to /root/.deeppavlov/models/ner_ontonotes_bert_torch_crf.tar.gz\n",
      "100%|██████████| 1.13G/1.13G [00:36<00:00, 31.5MB/s]\n",
      "2023-08-27 12:34:44.432 INFO in 'deeppavlov.core.data.utils'['utils'] at line 276: Extracting /root/.deeppavlov/models/ner_ontonotes_bert_torch_crf.tar.gz archive into /root/.deeppavlov/models/ner_ontonotes_bert_torch_crf\n",
      "INFO:deeppavlov.core.data.utils:Extracting /root/.deeppavlov/models/ner_ontonotes_bert_torch_crf.tar.gz archive into /root/.deeppavlov/models/ner_ontonotes_bert_torch_crf\n"
     ]
    },
    {
     "data": {
      "application/vnd.jupyter.widget-view+json": {
       "model_id": "080e77e4bf7949c7be35e1a9572e72b5",
       "version_major": 2,
       "version_minor": 0
      },
      "text/plain": [
       "Downloading (…)okenizer_config.json:   0%|          | 0.00/29.0 [00:00<?, ?B/s]"
      ]
     },
     "metadata": {},
     "output_type": "display_data"
    },
    {
     "data": {
      "application/vnd.jupyter.widget-view+json": {
       "model_id": "35b8a8c6ad994828871450e2a7005742",
       "version_major": 2,
       "version_minor": 0
      },
      "text/plain": [
       "Downloading (…)lve/main/config.json:   0%|          | 0.00/570 [00:00<?, ?B/s]"
      ]
     },
     "metadata": {},
     "output_type": "display_data"
    },
    {
     "data": {
      "application/vnd.jupyter.widget-view+json": {
       "model_id": "b5039e1917da42348dff541cba279346",
       "version_major": 2,
       "version_minor": 0
      },
      "text/plain": [
       "Downloading (…)solve/main/vocab.txt:   0%|          | 0.00/213k [00:00<?, ?B/s]"
      ]
     },
     "metadata": {},
     "output_type": "display_data"
    },
    {
     "data": {
      "application/vnd.jupyter.widget-view+json": {
       "model_id": "8e19c60602074c6682806c0707356daf",
       "version_major": 2,
       "version_minor": 0
      },
      "text/plain": [
       "Downloading (…)/main/tokenizer.json:   0%|          | 0.00/436k [00:00<?, ?B/s]"
      ]
     },
     "metadata": {},
     "output_type": "display_data"
    },
    {
     "data": {
      "application/vnd.jupyter.widget-view+json": {
       "model_id": "936440bbf4dc4dc1afc68d041086bf24",
       "version_major": 2,
       "version_minor": 0
      },
      "text/plain": [
       "Downloading pytorch_model.bin:   0%|          | 0.00/436M [00:00<?, ?B/s]"
      ]
     },
     "metadata": {},
     "output_type": "display_data"
    },
    {
     "name": "stderr",
     "output_type": "stream",
     "text": [
      "Some weights of the model checkpoint at bert-base-cased were not used when initializing BertForTokenClassification: ['cls.predictions.transform.LayerNorm.bias', 'cls.predictions.transform.LayerNorm.weight', 'cls.predictions.transform.dense.weight', 'cls.predictions.transform.dense.bias', 'cls.predictions.decoder.weight', 'cls.seq_relationship.weight', 'cls.seq_relationship.bias', 'cls.predictions.bias']\n",
      "- This IS expected if you are initializing BertForTokenClassification from the checkpoint of a model trained on another task or with another architecture (e.g. initializing a BertForSequenceClassification model from a BertForPreTraining model).\n",
      "- This IS NOT expected if you are initializing BertForTokenClassification from the checkpoint of a model that you expect to be exactly identical (initializing a BertForSequenceClassification model from a BertForSequenceClassification model).\n",
      "Some weights of BertForTokenClassification were not initialized from the model checkpoint at bert-base-cased and are newly initialized: ['classifier.bias', 'classifier.weight']\n",
      "You should probably TRAIN this model on a down-stream task to be able to use it for predictions and inference.\n",
      "2023-08-27 12:35:07.176 WARNING in 'deeppavlov.core.models.torch_model'['torch_model'] at line 96: Unable to place component TorchTransformersSequenceTagger on GPU, since no CUDA GPUs are available. Using CPU.\n",
      "WARNING:deeppavlov.core.models.torch_model:Unable to place component TorchTransformersSequenceTagger on GPU, since no CUDA GPUs are available. Using CPU.\n"
     ]
    }
   ],
   "source": [
    "from deeppavlov import build_model\n",
    "\n",
    "ner_model = build_model('ner_ontonotes_bert', download=True, install=True)"
   ]
  },
  {
   "cell_type": "code",
   "execution_count": 110,
   "metadata": {
    "id": "0HGWbK1d_S_1"
   },
   "outputs": [],
   "source": [
    "sentences = [word for word in document[:100].split()]"
   ]
  },
  {
   "cell_type": "code",
   "execution_count": 111,
   "metadata": {
    "colab": {
     "base_uri": "https://localhost:8080/"
    },
    "id": "bsxLnbB-_pir",
    "outputId": "10a526d3-15c3-4867-f03b-70bac67df4dd"
   },
   "outputs": [
    {
     "data": {
      "text/plain": [
       "['Россия', 'рассчитывает', 'на', 'конструктивное', 'воздействие']"
      ]
     },
     "execution_count": 111,
     "metadata": {},
     "output_type": "execute_result"
    }
   ],
   "source": [
    "sentences[:5]"
   ]
  },
  {
   "cell_type": "code",
   "execution_count": 114,
   "metadata": {
    "colab": {
     "base_uri": "https://localhost:8080/"
    },
    "id": "FOp_2slv_Rog",
    "outputId": "68b896d3-d2be-4703-8de9-f544249659b6"
   },
   "outputs": [
    {
     "data": {
      "text/plain": [
       "[[['Россия'],\n",
       "  ['рассчитывает'],\n",
       "  ['на'],\n",
       "  ['конструктивное'],\n",
       "  ['воздействие'],\n",
       "  ['США'],\n",
       "  ['на'],\n",
       "  ['Грузию'],\n",
       "  ['МОСКВА'],\n",
       "  ['авг'],\n",
       "  ['РИА'],\n",
       "  ['Новости'],\n",
       "  ['Россия'],\n",
       "  ['рассчи']],\n",
       " [['O'],\n",
       "  ['O'],\n",
       "  ['O'],\n",
       "  ['O'],\n",
       "  ['O'],\n",
       "  ['B-PERSON'],\n",
       "  ['O'],\n",
       "  ['B-PERSON'],\n",
       "  ['B-PERSON'],\n",
       "  ['O'],\n",
       "  ['B-PERSON'],\n",
       "  ['B-PERSON'],\n",
       "  ['O'],\n",
       "  ['B-PERSON']]]"
      ]
     },
     "execution_count": 114,
     "metadata": {},
     "output_type": "execute_result"
    }
   ],
   "source": [
    "ner_model(sentences)"
   ]
  },
  {
   "cell_type": "markdown",
   "metadata": {
    "id": "v5aARAbWEibX"
   },
   "source": [
    "## NN NER"
   ]
  },
  {
   "cell_type": "markdown",
   "metadata": {
    "id": "gMqYevPAEGV2"
   },
   "source": [
    "Когда дело доходит до распознавания именованных объектов (NER), не существует однозначно «лучшей» архитектуры нейронной сети (NN), подходящей для всех сценариев. Выбор архитектуры зависит от различных факторов, таких как размер и сложность набора данных, доступные вычислительные ресурсы и конкретные требования поставленной задачи. Однако несколько NN-архитектур доказали свою эффективность для задач NER, и некоторые из них я рассмотрю подробно.\n",
    "\n",
    "1. Рекуррентные нейронные сети (RNN). RNN являются популярным выбором для NER из-за их способности эффективно обрабатывать последовательные данные. Длинная краткосрочная память (LSTM) и GRU (GRU) — два часто используемых варианта RNN. Эти архитектуры могут собирать контекстную информацию, поддерживая состояние внутренней памяти, что помогает распознавать именованные объекты на основе окружающих слов в предложении.\n",
    "\n",
    "2. Сверточные нейронные сети (CNN). CNN в основном использовались для задач обработки изображений, но также показали себя многообещающе в NER. В этой архитектуре сверточные слои используются для извлечения локальных функций из входных последовательностей с последующим объединением слоев для уменьшения размерности. Применяя несколько сверточных фильтров, CNN могут захватывать различные уровни контекста и изучать значимые представления для именованных объектов.\n",
    "\n",
    "3. Архитектуры на основе трансформаторов. В последние годы трансформеры привлекли к себе значительное внимание благодаря своим успехам в задачах обработки естественного языка. Механизм самообслуживания, используемый в преобразователях, позволяет им эффективно улавливать долгосрочные зависимости. Такие модели, как BERT (представления двунаправленного кодировщика из преобразователей) и GPT (генеративный предварительно обученный преобразователь), достигли современной производительности при решении различных задач НЛП, включая NER. Эти модели используют большие предварительно обученные языковые представления для улучшения обобщения и эффективного сбора контекстной информации.\n",
    "\n",
    "4. Гибридные архитектуры. Некоторые исследователи изучали возможность объединения нескольких архитектур нейронных сетей, чтобы извлечь выгоду из их индивидуальных сильных сторон. Например, гибридная архитектура может включать использование CNN для извлечения локальных признаков и RNN для фиксации последовательных зависимостей. Эти гибридные модели потенциально могут повысить производительность систем NER за счет использования преимуществ различных архитектур.\n",
    "\n",
    "Важно отметить, что выбор архитектуры сам по себе не гарантирует оптимальных результатов в NER. Другие факторы, такие как предварительная обработка данных, разработка функций, настройка гиперпараметров и стратегии обучения, также играют решающую роль в достижении высокой производительности. Кроме того, наличие помеченных обучающих данных важно для эффективного обучения архитектур нейронных сетей.\n",
    "\n",
    "В заключение отметим, что не существует универсального ответа на вопрос о лучшей архитектуре нейронной сети для NER. Выбор зависит от различных факторов и должен быть адаптирован к конкретным требованиям поставленной задачи. Исследователи и практики часто экспериментируют с различными архитектурами и методами, чтобы найти наиболее подходящее решение для своей конкретной проблемы NER."
   ]
  },
  {
   "cell_type": "code",
   "execution_count": 116,
   "metadata": {
    "colab": {
     "base_uri": "https://localhost:8080/"
    },
    "id": "0ofUq6G0GcTe",
    "outputId": "a7520ded-0305-44a8-9c61-14b8c08fc847"
   },
   "outputs": [
    {
     "name": "stdout",
     "output_type": "stream",
     "text": [
      "Collecting corus\n",
      "  Downloading corus-0.10.0-py3-none-any.whl (83 kB)\n",
      "\u001b[?25l     \u001b[90m━━━━━━━━━━━━━━━━━━━━━━━━━━━━━━━━━━━━━━━━\u001b[0m \u001b[32m0.0/83.7 kB\u001b[0m \u001b[31m?\u001b[0m eta \u001b[36m-:--:--\u001b[0m\r",
      "\u001b[2K     \u001b[91m━━━━━━━━━━━━━━━━━━━━━━━━━━━━━\u001b[0m\u001b[90m╺\u001b[0m\u001b[90m━━━━━━━━━━\u001b[0m \u001b[32m61.4/83.7 kB\u001b[0m \u001b[31m1.6 MB/s\u001b[0m eta \u001b[36m0:00:01\u001b[0m\r",
      "\u001b[2K     \u001b[90m━━━━━━━━━━━━━━━━━━━━━━━━━━━━━━━━━━━━━━━━\u001b[0m \u001b[32m83.7/83.7 kB\u001b[0m \u001b[31m1.6 MB/s\u001b[0m eta \u001b[36m0:00:00\u001b[0m\n",
      "\u001b[?25hInstalling collected packages: corus\n",
      "Successfully installed corus-0.10.0\n"
     ]
    }
   ],
   "source": [
    "!pip install corus"
   ]
  },
  {
   "cell_type": "code",
   "execution_count": 117,
   "metadata": {
    "id": "w38UC1CsEE-E"
   },
   "outputs": [],
   "source": [
    "import corus\n",
    "from corus import load_ne5\n"
   ]
  },
  {
   "cell_type": "code",
   "execution_count": 225,
   "metadata": {
    "id": "P2ZelGtHGbIs"
   },
   "outputs": [],
   "source": [
    "dir = '/content/Collection5'\n",
    "records = load_ne5(dir)\n"
   ]
  },
  {
   "cell_type": "code",
   "execution_count": 226,
   "metadata": {
    "colab": {
     "base_uri": "https://localhost:8080/"
    },
    "id": "Jc1kayTLGouB",
    "outputId": "23d6ad87-330c-4199-87e6-5f7d13035f1f"
   },
   "outputs": [
    {
     "data": {
      "text/plain": [
       "Ne5Markup(\n",
       "    id='2004',\n",
       "    text='Госдума заслушает отчет ЦБ и задаст вопросы министру энергетики\\r\\n\\r\\nСегодня, 19 июня, Государственная дума РФ заслушает годовой отчет Центрального банка РФ за 2012 год, передает корреспондент ИА REGNUM. Отчет представит глава ЦБ Сергей Игнатьев. Бюджетная политика в 2012 году была направлена на обеспечение условий для устойчивого экономического развития и сохранение макроэкономической стабильности при безусловном исполнении принятых расходных обязательств РФ, отмечает в отчете ЦБ.\\r\\n\\r\\nПо отчету федерального казначейства, федеральный бюджет за 2012 год исполнен по доходам в сумме 12855,5 млрд рублей, или на 99,5% к доходам, утвержденным законом \"О федеральном бюджете на 2012 год и на плановый период 2013 и 2014 годов\". Расходы федерального бюджета в 2012 году составили 12895 млрд рублей, дефицит федерального бюджета за 2012 год снизился и составил 39,4 млрд рублей.\\r\\n\\r\\nКроме того, в рамках \"правительственного часа\" на вопросы депутатов ответит министр энергетики Александр Новак, а также глава Федеральной службы по тарифам Сергей Новиков. \"У депутатов действительно много вопросов в адрес этих руководителей, особенно много вопросов, которые касаются тарифообразования в сфере энергетики\", - отметил спикер Госдумы Сергей Нарышкин. \"Рост тарифов, конечно, существенно сдерживает развитие малого сектора, малых и средних предприятий, является существенной преградой для развития предприятий агропромышленного комплекса\", - подчеркнул он.\\r\\n',\n",
       "    spans=[Ne5Span(\n",
       "         index='T1',\n",
       "         type='ORG',\n",
       "         start=24,\n",
       "         stop=26,\n",
       "         text='ЦБ'\n",
       "     ),\n",
       "     Ne5Span(\n",
       "         index='T2',\n",
       "         type='ORG',\n",
       "         start=85,\n",
       "         stop=105,\n",
       "         text='Государственная дума'\n",
       "     ),\n",
       "     Ne5Span(\n",
       "         index='T3',\n",
       "         type='GEOPOLIT',\n",
       "         start=106,\n",
       "         stop=108,\n",
       "         text='РФ'\n",
       "     ),\n",
       "     Ne5Span(\n",
       "         index='T4',\n",
       "         type='ORG',\n",
       "         start=133,\n",
       "         stop=151,\n",
       "         text='Центрального банка'\n",
       "     ),\n",
       "     Ne5Span(\n",
       "         index='T5',\n",
       "         type='GEOPOLIT',\n",
       "         start=152,\n",
       "         stop=154,\n",
       "         text='РФ'\n",
       "     ),\n",
       "     Ne5Span(\n",
       "         index='T6',\n",
       "         type='MEDIA',\n",
       "         start=191,\n",
       "         stop=200,\n",
       "         text='ИА REGNUM'\n",
       "     ),\n",
       "     Ne5Span(\n",
       "         index='T7',\n",
       "         type='ORG',\n",
       "         start=225,\n",
       "         stop=227,\n",
       "         text='ЦБ'\n",
       "     ),\n",
       "     Ne5Span(\n",
       "         index='T8',\n",
       "         type='PER',\n",
       "         start=228,\n",
       "         stop=243,\n",
       "         text='Сергей Игнатьев'\n",
       "     ),\n",
       "     Ne5Span(\n",
       "         index='T9',\n",
       "         type='GEOPOLIT',\n",
       "         start=459,\n",
       "         stop=461,\n",
       "         text='РФ'\n",
       "     ),\n",
       "     Ne5Span(\n",
       "         index='T10',\n",
       "         type='ORG',\n",
       "         start=481,\n",
       "         stop=483,\n",
       "         text='ЦБ'\n",
       "     ),\n",
       "     Ne5Span(\n",
       "         index='T11',\n",
       "         type='PER',\n",
       "         start=973,\n",
       "         stop=988,\n",
       "         text='Александр Новак'\n",
       "     ),\n",
       "     Ne5Span(\n",
       "         index='T12',\n",
       "         type='ORG',\n",
       "         start=1004,\n",
       "         stop=1022,\n",
       "         text='Федеральной службы'\n",
       "     ),\n",
       "     Ne5Span(\n",
       "         index='T13',\n",
       "         type='PER',\n",
       "         start=1034,\n",
       "         stop=1048,\n",
       "         text='Сергей Новиков'\n",
       "     ),\n",
       "     Ne5Span(\n",
       "         index='T14',\n",
       "         type='ORG',\n",
       "         start=1218,\n",
       "         stop=1225,\n",
       "         text='Госдумы'\n",
       "     ),\n",
       "     Ne5Span(\n",
       "         index='T15',\n",
       "         type='PER',\n",
       "         start=1226,\n",
       "         stop=1241,\n",
       "         text='Сергей Нарышкин'\n",
       "     )]\n",
       ")"
      ]
     },
     "execution_count": 226,
     "metadata": {},
     "output_type": "execute_result"
    }
   ],
   "source": [
    "next(records)"
   ]
  },
  {
   "cell_type": "code",
   "execution_count": 125,
   "metadata": {
    "id": "RvwTP9TXHNDJ"
   },
   "outputs": [],
   "source": [
    "from razdel import tokenize"
   ]
  },
  {
   "cell_type": "code",
   "execution_count": 128,
   "metadata": {
    "id": "wKiFIu5ZHVAi"
   },
   "outputs": [],
   "source": [
    "import pandas as pd\n"
   ]
  },
  {
   "cell_type": "code",
   "execution_count": 227,
   "metadata": {
    "id": "Sv0TSXVfG1F6"
   },
   "outputs": [],
   "source": [
    "X = []\n",
    "Y = []\n",
    "for ix, rec in enumerate(records):\n",
    "    words = []\n",
    "    tags = []\n",
    "    for token in tokenize(rec.text):\n",
    "        type_ent = 'OUT'\n",
    "        for ent in rec.spans:\n",
    "            if (token.start >= ent.start) and (token.stop <= ent.stop):\n",
    "                type_ent = ent.type\n",
    "                break\n",
    "        words.append(token.text)\n",
    "        tags.append(type_ent)\n",
    "    X.append(words)\n",
    "    Y.append(tags)"
   ]
  },
  {
   "cell_type": "code",
   "execution_count": 229,
   "metadata": {
    "colab": {
     "base_uri": "https://localhost:8080/"
    },
    "id": "gNNxPp78SvJ3",
    "outputId": "47c79315-d1aa-414f-a8cf-6d8e759d7011"
   },
   "outputs": [
    {
     "data": {
      "text/plain": [
       "True"
      ]
     },
     "execution_count": 229,
     "metadata": {},
     "output_type": "execute_result"
    }
   ],
   "source": [
    "len(X[0]) == len(Y[0])"
   ]
  },
  {
   "cell_type": "code",
   "execution_count": 230,
   "metadata": {
    "id": "6gOez3GyTrIz"
   },
   "outputs": [],
   "source": [
    "index_list_to_remove = []\n",
    "for i in range(len(X)):\n",
    "  for j in range(len(X[i])):\n",
    "    try:\n",
    "      if X[i][j] == None:\n",
    "        index_list_to_remove.append((i, j))\n",
    "        del X[i][j]\n",
    "        del Y[i][j]\n",
    "      elif Y[i][j] == None:\n",
    "        index_list_to_remove.append((i, j))\n",
    "        del X[i][j]\n",
    "        del Y[i][j]\n",
    "    except IndexError:\n",
    "      print('.', end=' ')"
   ]
  },
  {
   "cell_type": "code",
   "execution_count": 231,
   "metadata": {
    "colab": {
     "base_uri": "https://localhost:8080/"
    },
    "id": "F_EchHH8TtK9",
    "outputId": "52fb9d07-3f8a-466a-a607-22a6518b7b7f"
   },
   "outputs": [
    {
     "data": {
      "text/plain": [
       "0"
      ]
     },
     "execution_count": 231,
     "metadata": {},
     "output_type": "execute_result"
    }
   ],
   "source": [
    "len(index_list_to_remove)"
   ]
  },
  {
   "cell_type": "code",
   "execution_count": 232,
   "metadata": {
    "id": "ZrJ4zgerT9VS"
   },
   "outputs": [],
   "source": [
    "num_words = len(set([word.lower() for sentence in X for word in sentence]))\n",
    "num_tags   = len(set([word.lower() for sentence in Y for word in sentence]))"
   ]
  },
  {
   "cell_type": "code",
   "execution_count": 233,
   "metadata": {
    "colab": {
     "base_uri": "https://localhost:8080/"
    },
    "id": "kIjFz3z3UDdI",
    "outputId": "ee22c8e3-c3ed-4033-c6f9-a46b44a30463"
   },
   "outputs": [
    {
     "name": "stdout",
     "output_type": "stream",
     "text": [
      "Total number of tagged sentences: 999\n",
      "Vocabulary size: 32794\n",
      "Total number of tags: 6\n"
     ]
    }
   ],
   "source": [
    "print(f\"Total number of tagged sentences: {len(X)}\")\n",
    "print(f\"Vocabulary size: {num_words}\")\n",
    "print(f\"Total number of tags: {num_tags}\")"
   ]
  },
  {
   "cell_type": "code",
   "execution_count": 234,
   "metadata": {
    "id": "_SeLntx5Udu-"
   },
   "outputs": [],
   "source": [
    "# encode X\n",
    "word_tokenizer = Tokenizer()\n",
    "word_tokenizer.fit_on_texts(X)\n",
    "X_encoded = word_tokenizer.texts_to_sequences(X)"
   ]
  },
  {
   "cell_type": "code",
   "execution_count": 235,
   "metadata": {
    "id": "410C9PxbUn0l"
   },
   "outputs": [],
   "source": [
    "# encode Y\n",
    "tag_tokenizer = Tokenizer()\n",
    "tag_tokenizer.fit_on_texts(Y)\n",
    "Y_encoded = tag_tokenizer.texts_to_sequences(Y)"
   ]
  },
  {
   "cell_type": "code",
   "execution_count": 236,
   "metadata": {
    "colab": {
     "base_uri": "https://localhost:8080/"
    },
    "id": "FOwKMLCTUt9f",
    "outputId": "34cb7848-9706-4671-8789-0bd2237a969d"
   },
   "outputs": [
    {
     "name": "stdout",
     "output_type": "stream",
     "text": [
      "0\n"
     ]
    }
   ],
   "source": [
    "different_length = [1 if len(input) != len(output) else 0 for input, output in zip(X_encoded, Y_encoded)]\n",
    "print(sum(different_length))"
   ]
  },
  {
   "cell_type": "code",
   "execution_count": 237,
   "metadata": {
    "colab": {
     "base_uri": "https://localhost:8080/"
    },
    "id": "Fwvf90qBU8JR",
    "outputId": "0e496184-fc1c-4ff5-e589-ccbcc8a236cb"
   },
   "outputs": [
    {
     "name": "stdout",
     "output_type": "stream",
     "text": [
      "Length of longest sentence: 2005\n"
     ]
    }
   ],
   "source": [
    "lengths = [len(seq) for seq in X_encoded]\n",
    "print(f\"Length of longest sentence: {max(lengths)}\")"
   ]
  },
  {
   "cell_type": "code",
   "execution_count": 238,
   "metadata": {
    "colab": {
     "base_uri": "https://localhost:8080/",
     "height": 430
    },
    "id": "pBG2MJ9XVFMZ",
    "outputId": "b9c278ab-be31-45d4-938e-e873c1d842ed"
   },
   "outputs": [
    {
     "data": {
      "image/png": "[encoded data removed]",
      "text/plain": [
       "<Figure size 640x480 with 1 Axes>"
      ]
     },
     "metadata": {},
     "output_type": "display_data"
    }
   ],
   "source": [
    "sns.boxplot(lengths)\n",
    "plt.show()"
   ]
  },
  {
   "cell_type": "code",
   "execution_count": 239,
   "metadata": {
    "id": "m1z7ZVkzVMqF"
   },
   "outputs": [],
   "source": [
    "MAX_SEQ_LENGTH = 500\n",
    "\n",
    "X_padded = pad_sequences(X_encoded, maxlen=MAX_SEQ_LENGTH, padding=\"pre\", truncating=\"post\")\n",
    "Y_padded = pad_sequences(Y_encoded, maxlen=MAX_SEQ_LENGTH, padding=\"pre\", truncating=\"post\")"
   ]
  },
  {
   "cell_type": "code",
   "execution_count": 240,
   "metadata": {
    "id": "DUJHA9K-VOpX"
   },
   "outputs": [],
   "source": [
    "X, Y = X_padded, Y_padded"
   ]
  },
  {
   "cell_type": "code",
   "execution_count": 241,
   "metadata": {
    "colab": {
     "base_uri": "https://localhost:8080/",
     "height": 49,
     "referenced_widgets": [
      "3686d1e611104630abb7567f7767d3a3",
      "54b31ba4babf41af8de4aa35ae8e8491",
      "ca145d0196cd4441aab36593f51936f1",
      "0b6e5595e0b345eeaaf673fbc93b77bb",
      "9524e199463c42dc9173209a04ec6f83",
      "4d85cd038f87468d8cf899bb93549cd8",
      "9218b430242947e4a3575ad412e60275",
      "7ad526eeda86422d8d54758a03b8ca1d",
      "6829dbc49c4b43da81594fddde17cee4",
      "22a3a346a3ae47a3be80268a7dc8d097",
      "dcda14adb40941c3875635edf5e54c80"
     ]
    },
    "id": "OSxJ9RXqVXcd",
    "outputId": "a647b6ae-cb08-4e08-c72d-2cdc522d0a72"
   },
   "outputs": [
    {
     "data": {
      "application/vnd.jupyter.widget-view+json": {
       "model_id": "3686d1e611104630abb7567f7767d3a3",
       "version_major": 2,
       "version_minor": 0
      },
      "text/plain": [
       "  0%|          | 0/8906 [00:00<?, ?it/s]"
      ]
     },
     "metadata": {},
     "output_type": "display_data"
    }
   ],
   "source": [
    "sentences = []\n",
    "\n",
    "for line in tqdm(data['x']):\n",
    "    spls = preprocess_text(line)\n",
    "    sentences.append(spls)"
   ]
  },
  {
   "cell_type": "code",
   "execution_count": 242,
   "metadata": {
    "id": "dSRoOfoIVcs1"
   },
   "outputs": [],
   "source": [
    "window = 5\n",
    "min_count = 7\n",
    "vector_size = 300\n",
    "word2vec = Word2Vec(sentences=sentences, vector_size=vector_size, window=window, min_count=min_count)"
   ]
  },
  {
   "cell_type": "code",
   "execution_count": 243,
   "metadata": {
    "colab": {
     "base_uri": "https://localhost:8080/"
    },
    "id": "mISHbSIoVqz8",
    "outputId": "7eb59785-f1f7-489b-ddc9-acc480869cca"
   },
   "outputs": [
    {
     "name": "stderr",
     "output_type": "stream",
     "text": [
      "WARNING:gensim.models.keyedvectors:sorting after vectors have been allocated is expensive & error-prone\n"
     ]
    }
   ],
   "source": [
    "word2vec.build_vocab(sentences)"
   ]
  },
  {
   "cell_type": "code",
   "execution_count": 244,
   "metadata": {
    "colab": {
     "base_uri": "https://localhost:8080/"
    },
    "id": "XJwxA9vnV7qa",
    "outputId": "2b893986-8432-4585-8f34-ad870482a39d"
   },
   "outputs": [
    {
     "name": "stderr",
     "output_type": "stream",
     "text": [
      "WARNING:gensim.models.word2vec:Effective 'alpha' higher than previous training cycles\n"
     ]
    },
    {
     "data": {
      "text/plain": [
       "(2557141, 4599750)"
      ]
     },
     "execution_count": 244,
     "metadata": {},
     "output_type": "execute_result"
    }
   ],
   "source": [
    "word2vec.train(sentences, total_examples=word2vec.corpus_count, epochs=30, report_delay=1)"
   ]
  },
  {
   "cell_type": "code",
   "execution_count": 245,
   "metadata": {
    "id": "kQWP_JezWSKH"
   },
   "outputs": [],
   "source": [
    "EMBEDDING_SIZE  = 300\n",
    "VOCABULARY_SIZE = len(word_tokenizer.word_index) + 1\n",
    "\n",
    "embedding_weights = np.zeros((VOCABULARY_SIZE, EMBEDDING_SIZE))\n",
    "\n",
    "word2id = word_tokenizer.word_index\n",
    "\n",
    "for word, index in word2id.items():\n",
    "    try:\n",
    "        embedding_weights[index, :] = word2vec.wv[word]\n",
    "    except KeyError:\n",
    "        pass"
   ]
  },
  {
   "cell_type": "code",
   "execution_count": 246,
   "metadata": {
    "colab": {
     "base_uri": "https://localhost:8080/"
    },
    "id": "VgapxyX_WbK1",
    "outputId": "558f3dff-86f3-48b8-8be1-d3da65048269"
   },
   "outputs": [
    {
     "data": {
      "text/plain": [
       "(32795, 300)"
      ]
     },
     "execution_count": 246,
     "metadata": {},
     "output_type": "execute_result"
    }
   ],
   "source": [
    "embedding_weights.shape"
   ]
  },
  {
   "cell_type": "code",
   "execution_count": 247,
   "metadata": {
    "colab": {
     "base_uri": "https://localhost:8080/"
    },
    "id": "eNHbIFUOWjDj",
    "outputId": "d23ded8c-f1ac-46b1-c791-752b4b8a3695"
   },
   "outputs": [
    {
     "data": {
      "text/plain": [
       "(999, 500, 7)"
      ]
     },
     "execution_count": 247,
     "metadata": {},
     "output_type": "execute_result"
    }
   ],
   "source": [
    "Y = to_categorical(Y)\n",
    "Y.shape"
   ]
  },
  {
   "cell_type": "code",
   "execution_count": 248,
   "metadata": {
    "id": "hreXa5jTWrKi"
   },
   "outputs": [],
   "source": [
    "TEST_SIZE = 0.15\n",
    "X_train, X_test, Y_train, Y_test = train_test_split(X, Y, test_size=TEST_SIZE, random_state=42)"
   ]
  },
  {
   "cell_type": "code",
   "execution_count": 249,
   "metadata": {
    "id": "kt5rfDWHWzx6"
   },
   "outputs": [],
   "source": [
    "VALID_SIZE = 0.15\n",
    "X_train, X_validation, Y_train, Y_validation = train_test_split(X_train, Y_train, test_size=VALID_SIZE, random_state=42)"
   ]
  },
  {
   "cell_type": "code",
   "execution_count": 254,
   "metadata": {
    "id": "RtMNA7ItYJh8"
   },
   "outputs": [],
   "source": [
    "NUM_CLASSES = Y.shape[2]"
   ]
  },
  {
   "cell_type": "code",
   "execution_count": 250,
   "metadata": {
    "colab": {
     "base_uri": "https://localhost:8080/"
    },
    "id": "V3kjTt3cW4Fs",
    "outputId": "47e35e4c-c5f9-4efa-ab52-5dffd2ba35bb"
   },
   "outputs": [
    {
     "name": "stdout",
     "output_type": "stream",
     "text": [
      "(721, 500)\n",
      "(721, 500, 7)\n",
      "(150, 500)\n",
      "(150, 500, 7)\n",
      "(128, 500)\n",
      "(128, 500, 7)\n"
     ]
    }
   ],
   "source": [
    "for i in [X_train, Y_train, X_test, Y_test, X_validation, Y_validation]:\n",
    "  print(i.shape)"
   ]
  },
  {
   "cell_type": "code",
   "execution_count": 255,
   "metadata": {
    "colab": {
     "base_uri": "https://localhost:8080/"
    },
    "id": "YwFhkXlvW4pJ",
    "outputId": "7f9570d3-1f30-4e1c-e2a1-86ef89635533"
   },
   "outputs": [
    {
     "name": "stdout",
     "output_type": "stream",
     "text": [
      "Model: \"sequential_7\"\n",
      "_________________________________________________________________\n",
      " Layer (type)                Output Shape              Param #   \n",
      "=================================================================\n",
      " embedding_8 (Embedding)     (None, 500, 300)          9838500   \n",
      "                                                                 \n",
      " simple_rnn_5 (SimpleRNN)    (None, 500, 64)           23360     \n",
      "                                                                 \n",
      " time_distributed_7 (TimeDis  (None, 500, 7)           455       \n",
      " tributed)                                                       \n",
      "                                                                 \n",
      "=================================================================\n",
      "Total params: 9,862,315\n",
      "Trainable params: 9,862,315\n",
      "Non-trainable params: 0\n",
      "_________________________________________________________________\n"
     ]
    }
   ],
   "source": [
    "rnn_model = Sequential([\n",
    "    Embedding(input_dim = VOCABULARY_SIZE, output_dim = EMBEDDING_SIZE, input_length = MAX_SEQ_LENGTH, weights = [embedding_weights], trainable = True),\n",
    "    SimpleRNN(64, return_sequences=True),\n",
    "    TimeDistributed(Dense(NUM_CLASSES, activation='softmax'))\n",
    "])\n",
    "\n",
    "rnn_model.compile(loss = 'categorical_crossentropy', optimizer =  'adam', metrics = ['acc'])\n",
    "\n",
    "rnn_model.summary()"
   ]
  },
  {
   "cell_type": "code",
   "execution_count": 256,
   "metadata": {
    "colab": {
     "base_uri": "https://localhost:8080/"
    },
    "id": "jKHjPTQnXNe0",
    "outputId": "501e52e1-137a-4603-e3a9-945b98cb0289"
   },
   "outputs": [
    {
     "name": "stdout",
     "output_type": "stream",
     "text": [
      "Epoch 1/10\n",
      "6/6 [==============================] - 10s 1s/step - loss: 1.6905 - acc: 0.4768 - val_loss: 1.0654 - val_acc: 0.8422\n",
      "Epoch 2/10\n",
      "6/6 [==============================] - 6s 974ms/step - loss: 0.8272 - acc: 0.8856 - val_loss: 0.6001 - val_acc: 0.8951\n",
      "Epoch 3/10\n",
      "6/6 [==============================] - 9s 2s/step - loss: 0.5219 - acc: 0.8997 - val_loss: 0.4596 - val_acc: 0.8969\n",
      "Epoch 4/10\n",
      "6/6 [==============================] - 6s 979ms/step - loss: 0.4178 - acc: 0.9025 - val_loss: 0.4030 - val_acc: 0.9006\n",
      "Epoch 5/10\n",
      "6/6 [==============================] - 9s 2s/step - loss: 0.3713 - acc: 0.9055 - val_loss: 0.3737 - val_acc: 0.9030\n",
      "Epoch 6/10\n",
      "6/6 [==============================] - 5s 892ms/step - loss: 0.3444 - acc: 0.9074 - val_loss: 0.3527 - val_acc: 0.9039\n",
      "Epoch 7/10\n",
      "6/6 [==============================] - 7s 1s/step - loss: 0.3222 - acc: 0.9082 - val_loss: 0.3326 - val_acc: 0.9043\n",
      "Epoch 8/10\n",
      "6/6 [==============================] - 8s 1s/step - loss: 0.3019 - acc: 0.9085 - val_loss: 0.3147 - val_acc: 0.9047\n",
      "Epoch 9/10\n",
      "6/6 [==============================] - 6s 956ms/step - loss: 0.2823 - acc: 0.9097 - val_loss: 0.2971 - val_acc: 0.9079\n",
      "Epoch 10/10\n",
      "6/6 [==============================] - 9s 2s/step - loss: 0.2624 - acc: 0.9154 - val_loss: 0.2791 - val_acc: 0.9149\n"
     ]
    }
   ],
   "source": [
    "rnn_training = rnn_model.fit(X_train, Y_train, batch_size=128, epochs=10, validation_data=(X_validation, Y_validation))"
   ]
  },
  {
   "cell_type": "code",
   "execution_count": 257,
   "metadata": {
    "colab": {
     "base_uri": "https://localhost:8080/",
     "height": 472
    },
    "id": "wSw1LF55YpHP",
    "outputId": "20cd2787-81ff-4ece-f4a4-b2107f470141"
   },
   "outputs": [
    {
     "data": {
      "image/png": "[encoded data removed]",
      "text/plain": [
       "<Figure size 640x480 with 1 Axes>"
      ]
     },
     "metadata": {},
     "output_type": "display_data"
    }
   ],
   "source": [
    "plt.plot(rnn_training.history['acc'])\n",
    "plt.plot(rnn_training.history['val_acc'])\n",
    "plt.title('model accuracy')\n",
    "plt.ylabel('accuracy')\n",
    "plt.xlabel('epoch')\n",
    "plt.legend(['train', 'test'], loc=\"lower right\")\n",
    "plt.show()"
   ]
  },
  {
   "cell_type": "code",
   "execution_count": 258,
   "metadata": {
    "colab": {
     "base_uri": "https://localhost:8080/"
    },
    "id": "N7HlIeoUYZV3",
    "outputId": "684f4685-974f-4f55-e8cc-f7d6aa5358d8"
   },
   "outputs": [
    {
     "name": "stdout",
     "output_type": "stream",
     "text": [
      "Model: \"sequential_8\"\n",
      "_________________________________________________________________\n",
      " Layer (type)                Output Shape              Param #   \n",
      "=================================================================\n",
      " embedding_9 (Embedding)     (None, 500, 300)          9838500   \n",
      "                                                                 \n",
      " gru_1 (GRU)                 (None, 500, 64)           70272     \n",
      "                                                                 \n",
      " time_distributed_8 (TimeDis  (None, 500, 7)           455       \n",
      " tributed)                                                       \n",
      "                                                                 \n",
      "=================================================================\n",
      "Total params: 9,909,227\n",
      "Trainable params: 9,909,227\n",
      "Non-trainable params: 0\n",
      "_________________________________________________________________\n"
     ]
    }
   ],
   "source": [
    "gru_model = Sequential([\n",
    "    Embedding(input_dim = VOCABULARY_SIZE, output_dim = EMBEDDING_SIZE, input_length = MAX_SEQ_LENGTH, weights = [embedding_weights], trainable = True),\n",
    "    GRU(64, return_sequences=True),\n",
    "    TimeDistributed(Dense(NUM_CLASSES, activation='softmax'))\n",
    "])\n",
    "\n",
    "gru_model.compile(loss = 'categorical_crossentropy', optimizer = 'adam', metrics = ['acc'])\n",
    "\n",
    "gru_model.summary()"
   ]
  },
  {
   "cell_type": "code",
   "execution_count": 259,
   "metadata": {
    "colab": {
     "base_uri": "https://localhost:8080/"
    },
    "id": "iFIJDuEvYhl0",
    "outputId": "2656e700-87a6-46a0-8b59-95473debe07c"
   },
   "outputs": [
    {
     "name": "stdout",
     "output_type": "stream",
     "text": [
      "Epoch 1/10\n",
      "6/6 [==============================] - 16s 2s/step - loss: 1.7979 - acc: 0.7909 - val_loss: 1.5281 - val_acc: 0.9042\n",
      "Epoch 2/10\n",
      "6/6 [==============================] - 13s 2s/step - loss: 1.3921 - acc: 0.9092 - val_loss: 1.1133 - val_acc: 0.9053\n",
      "Epoch 3/10\n",
      "6/6 [==============================] - 10s 2s/step - loss: 0.9843 - acc: 0.9095 - val_loss: 0.7212 - val_acc: 0.9052\n",
      "Epoch 4/10\n",
      "6/6 [==============================] - 12s 2s/step - loss: 0.5913 - acc: 0.9090 - val_loss: 0.4269 - val_acc: 0.9042\n",
      "Epoch 5/10\n",
      "6/6 [==============================] - 12s 2s/step - loss: 0.3711 - acc: 0.9075 - val_loss: 0.3551 - val_acc: 0.9027\n",
      "Epoch 6/10\n",
      "6/6 [==============================] - 10s 2s/step - loss: 0.3270 - acc: 0.9059 - val_loss: 0.3398 - val_acc: 0.9017\n",
      "Epoch 7/10\n",
      "6/6 [==============================] - 12s 2s/step - loss: 0.3122 - acc: 0.9066 - val_loss: 0.3277 - val_acc: 0.9041\n",
      "Epoch 8/10\n",
      "6/6 [==============================] - 12s 2s/step - loss: 0.2933 - acc: 0.9091 - val_loss: 0.3052 - val_acc: 0.9057\n",
      "Epoch 9/10\n",
      "6/6 [==============================] - 12s 2s/step - loss: 0.2712 - acc: 0.9105 - val_loss: 0.2865 - val_acc: 0.9068\n",
      "Epoch 10/10\n",
      "6/6 [==============================] - 11s 2s/step - loss: 0.2523 - acc: 0.9125 - val_loss: 0.2689 - val_acc: 0.9095\n"
     ]
    }
   ],
   "source": [
    "gru_training = gru_model.fit(X_train, Y_train, batch_size=128, epochs=10, validation_data=(X_validation, Y_validation))"
   ]
  },
  {
   "cell_type": "code",
   "execution_count": 260,
   "metadata": {
    "colab": {
     "base_uri": "https://localhost:8080/",
     "height": 472
    },
    "id": "D-0GzrPIYons",
    "outputId": "c5217938-6797-42ec-ff4f-b3389f68ccb3"
   },
   "outputs": [
    {
     "data": {
      "image/png": "[encoded data removed]",
      "text/plain": [
       "<Figure size 640x480 with 1 Axes>"
      ]
     },
     "metadata": {},
     "output_type": "display_data"
    }
   ],
   "source": [
    "plt.plot(gru_training.history['acc'])\n",
    "plt.plot(gru_training.history['val_acc'])\n",
    "plt.title('model accuracy')\n",
    "plt.ylabel('accuracy')\n",
    "plt.xlabel('epoch')\n",
    "plt.legend(['train', 'test'], loc=\"lower right\")\n",
    "plt.show()"
   ]
  },
  {
   "cell_type": "code",
   "execution_count": 261,
   "metadata": {
    "colab": {
     "base_uri": "https://localhost:8080/"
    },
    "id": "ls6XEVnMY-kl",
    "outputId": "fb436987-72ca-4aed-ca02-a10facdf3097"
   },
   "outputs": [
    {
     "name": "stdout",
     "output_type": "stream",
     "text": [
      "Model: \"sequential_9\"\n",
      "_________________________________________________________________\n",
      " Layer (type)                Output Shape              Param #   \n",
      "=================================================================\n",
      " embedding_10 (Embedding)    (None, 500, 300)          9838500   \n",
      "                                                                 \n",
      " lstm_2 (LSTM)               (None, 500, 64)           93440     \n",
      "                                                                 \n",
      " time_distributed_9 (TimeDis  (None, 500, 7)           455       \n",
      " tributed)                                                       \n",
      "                                                                 \n",
      "=================================================================\n",
      "Total params: 9,932,395\n",
      "Trainable params: 9,932,395\n",
      "Non-trainable params: 0\n",
      "_________________________________________________________________\n"
     ]
    }
   ],
   "source": [
    "lstm_model = Sequential([\n",
    "    Embedding(input_dim = VOCABULARY_SIZE, output_dim = EMBEDDING_SIZE, input_length = MAX_SEQ_LENGTH, weights = [embedding_weights], trainable = True),\n",
    "    LSTM(64, return_sequences=True),\n",
    "    TimeDistributed(Dense(NUM_CLASSES, activation='softmax'))\n",
    "])\n",
    "\n",
    "lstm_model.compile(loss = 'categorical_crossentropy', optimizer = 'adam', metrics = ['acc'])\n",
    "\n",
    "lstm_model.summary()"
   ]
  },
  {
   "cell_type": "code",
   "execution_count": 263,
   "metadata": {
    "colab": {
     "base_uri": "https://localhost:8080/"
    },
    "id": "PsFlOx3VZG8V",
    "outputId": "316145f3-77af-48e0-f9ff-774ec3a95f6d"
   },
   "outputs": [
    {
     "name": "stdout",
     "output_type": "stream",
     "text": [
      "Epoch 1/10\n",
      "6/6 [==============================] - 16s 2s/step - loss: 1.7687 - acc: 0.8210 - val_loss: 1.4455 - val_acc: 0.9047\n",
      "Epoch 2/10\n",
      "6/6 [==============================] - 12s 2s/step - loss: 1.2922 - acc: 0.9084 - val_loss: 0.9863 - val_acc: 0.9039\n",
      "Epoch 3/10\n",
      "6/6 [==============================] - 14s 2s/step - loss: 0.8308 - acc: 0.9058 - val_loss: 0.5526 - val_acc: 0.8972\n",
      "Epoch 4/10\n",
      "6/6 [==============================] - 14s 2s/step - loss: 0.4828 - acc: 0.8967 - val_loss: 0.4461 - val_acc: 0.8895\n",
      "Epoch 5/10\n",
      "6/6 [==============================] - 14s 2s/step - loss: 0.4152 - acc: 0.8951 - val_loss: 0.4081 - val_acc: 0.8962\n",
      "Epoch 6/10\n",
      "6/6 [==============================] - 11s 2s/step - loss: 0.3765 - acc: 0.9030 - val_loss: 0.3790 - val_acc: 0.9020\n",
      "Epoch 7/10\n",
      "6/6 [==============================] - 15s 2s/step - loss: 0.3547 - acc: 0.9068 - val_loss: 0.3625 - val_acc: 0.9031\n",
      "Epoch 8/10\n",
      "6/6 [==============================] - 14s 2s/step - loss: 0.3397 - acc: 0.9071 - val_loss: 0.3517 - val_acc: 0.9030\n",
      "Epoch 9/10\n",
      "6/6 [==============================] - 14s 2s/step - loss: 0.3278 - acc: 0.9074 - val_loss: 0.3406 - val_acc: 0.9037\n",
      "Epoch 10/10\n",
      "6/6 [==============================] - 13s 2s/step - loss: 0.3159 - acc: 0.9083 - val_loss: 0.3303 - val_acc: 0.9045\n"
     ]
    }
   ],
   "source": [
    "lstm_training = lstm_model.fit(X_train, Y_train, batch_size=128, epochs=10, validation_data=(X_validation, Y_validation))"
   ]
  },
  {
   "cell_type": "code",
   "execution_count": 264,
   "metadata": {
    "colab": {
     "base_uri": "https://localhost:8080/",
     "height": 472
    },
    "id": "9Cf9XDkaZc1A",
    "outputId": "333e4d94-e4b3-42cc-d351-e3c5a3847b3b"
   },
   "outputs": [
    {
     "data": {
      "image/png": "[encoded data removed]",
      "text/plain": [
       "<Figure size 640x480 with 1 Axes>"
      ]
     },
     "metadata": {},
     "output_type": "display_data"
    }
   ],
   "source": [
    "plt.plot(lstm_training.history['acc'])\n",
    "plt.plot(lstm_training.history['val_acc'])\n",
    "plt.title('model accuracy')\n",
    "plt.ylabel('accuracy')\n",
    "plt.xlabel('epoch')\n",
    "plt.legend(['train', 'test'], loc=\"lower right\")\n",
    "plt.show()"
   ]
  },
  {
   "cell_type": "code",
   "execution_count": 265,
   "metadata": {
    "colab": {
     "base_uri": "https://localhost:8080/"
    },
    "id": "EUi04NbBZZI2",
    "outputId": "27d1452a-712f-406b-a4ef-4b7b8cf3d4da"
   },
   "outputs": [
    {
     "name": "stdout",
     "output_type": "stream",
     "text": [
      "Model: \"sequential_10\"\n",
      "_________________________________________________________________\n",
      " Layer (type)                Output Shape              Param #   \n",
      "=================================================================\n",
      " embedding_11 (Embedding)    (None, 500, 300)          9838500   \n",
      "                                                                 \n",
      " bidirectional_1 (Bidirectio  (None, 500, 128)         186880    \n",
      " nal)                                                            \n",
      "                                                                 \n",
      " time_distributed_10 (TimeDi  (None, 500, 7)           903       \n",
      " stributed)                                                      \n",
      "                                                                 \n",
      "=================================================================\n",
      "Total params: 10,026,283\n",
      "Trainable params: 10,026,283\n",
      "Non-trainable params: 0\n",
      "_________________________________________________________________\n"
     ]
    }
   ],
   "source": [
    "blstm_model = Sequential([\n",
    "    Embedding(input_dim = VOCABULARY_SIZE, output_dim = EMBEDDING_SIZE, input_length = MAX_SEQ_LENGTH, weights = [embedding_weights], trainable = True),\n",
    "    Bidirectional(LSTM(64, return_sequences=True)),\n",
    "    TimeDistributed(Dense(NUM_CLASSES, activation='softmax'))\n",
    "])\n",
    "\n",
    "blstm_model.compile(loss = 'categorical_crossentropy', optimizer = 'adam', metrics = ['acc'])\n",
    "\n",
    "blstm_model.summary()"
   ]
  },
  {
   "cell_type": "code",
   "execution_count": 266,
   "metadata": {
    "colab": {
     "base_uri": "https://localhost:8080/"
    },
    "id": "TxIzzC77Zyyy",
    "outputId": "51d33bc0-b4b8-4eae-eafb-f7d203656fae"
   },
   "outputs": [
    {
     "name": "stdout",
     "output_type": "stream",
     "text": [
      "Epoch 1/10\n",
      "6/6 [==============================] - 36s 4s/step - loss: 1.7419 - acc: 0.7915 - val_loss: 1.3519 - val_acc: 0.9020\n",
      "Epoch 2/10\n",
      "6/6 [==============================] - 24s 4s/step - loss: 1.2039 - acc: 0.9066 - val_loss: 0.8910 - val_acc: 0.9049\n",
      "Epoch 3/10\n",
      "6/6 [==============================] - 27s 4s/step - loss: 0.6887 - acc: 0.9068 - val_loss: 0.4611 - val_acc: 0.8961\n",
      "Epoch 4/10\n",
      "6/6 [==============================] - 24s 4s/step - loss: 0.4204 - acc: 0.8947 - val_loss: 0.3971 - val_acc: 0.8914\n",
      "Epoch 5/10\n",
      "6/6 [==============================] - 27s 4s/step - loss: 0.3595 - acc: 0.8990 - val_loss: 0.3634 - val_acc: 0.9009\n",
      "Epoch 6/10\n",
      "6/6 [==============================] - 23s 4s/step - loss: 0.3371 - acc: 0.9069 - val_loss: 0.3455 - val_acc: 0.9047\n",
      "Epoch 7/10\n",
      "6/6 [==============================] - 28s 5s/step - loss: 0.3195 - acc: 0.9094 - val_loss: 0.3324 - val_acc: 0.9059\n",
      "Epoch 8/10\n",
      "6/6 [==============================] - 24s 4s/step - loss: 0.3099 - acc: 0.9102 - val_loss: 0.3227 - val_acc: 0.9059\n",
      "Epoch 9/10\n",
      "6/6 [==============================] - 27s 5s/step - loss: 0.2984 - acc: 0.9099 - val_loss: 0.3117 - val_acc: 0.9055\n",
      "Epoch 10/10\n",
      "6/6 [==============================] - 24s 4s/step - loss: 0.2871 - acc: 0.9097 - val_loss: 0.3019 - val_acc: 0.9053\n"
     ]
    }
   ],
   "source": [
    "blstm_training = blstm_model.fit(X_train, Y_train, batch_size=128, epochs=10, validation_data=(X_validation, Y_validation))"
   ]
  },
  {
   "cell_type": "code",
   "execution_count": 267,
   "metadata": {
    "colab": {
     "base_uri": "https://localhost:8080/",
     "height": 472
    },
    "id": "fk1P3jx2Z2yy",
    "outputId": "cb098e77-3387-4b9c-cd62-bda0e9802d97"
   },
   "outputs": [
    {
     "data": {
      "image/png": "[encoded data removed]",
      "text/plain": [
       "<Figure size 640x480 with 1 Axes>"
      ]
     },
     "metadata": {},
     "output_type": "display_data"
    }
   ],
   "source": [
    "plt.plot(blstm_training.history['acc'])\n",
    "plt.plot(blstm_training.history['val_acc'])\n",
    "plt.title('model accuracy')\n",
    "plt.ylabel('accuracy')\n",
    "plt.xlabel('epoch')\n",
    "plt.legend(['train', 'test'], loc=\"lower right\")\n",
    "plt.show()"
   ]
  },
  {
   "cell_type": "markdown",
   "metadata": {
    "id": "LPIWOS7MZ5R-"
   },
   "source": [
    "Оценка результатов"
   ]
  },
  {
   "cell_type": "code",
   "execution_count": 268,
   "metadata": {
    "id": "IjYNkAgRaIw0"
   },
   "outputs": [],
   "source": [
    "result_df = pd.DataFrame(columns=['loss', 'accuracy'])"
   ]
  },
  {
   "cell_type": "code",
   "execution_count": 269,
   "metadata": {
    "colab": {
     "base_uri": "https://localhost:8080/"
    },
    "id": "QtS3g7n6atsc",
    "outputId": "6c936eab-1183-4655-917b-82985ef636cf"
   },
   "outputs": [
    {
     "name": "stdout",
     "output_type": "stream",
     "text": [
      "5/5 [==============================] - 1s 55ms/step - loss: 0.2629 - acc: 0.9204\n"
     ]
    }
   ],
   "source": [
    "\n",
    "loss, accuracy = rnn_model.evaluate(X_test, Y_test, verbose = 1)\n",
    "result_df.loc['RNN'] = [loss, accuracy]"
   ]
  },
  {
   "cell_type": "code",
   "execution_count": 270,
   "metadata": {
    "colab": {
     "base_uri": "https://localhost:8080/"
    },
    "id": "iPXSkC7Yatse",
    "outputId": "e895607e-8623-447b-c000-8c35cb5d4b1f"
   },
   "outputs": [
    {
     "name": "stdout",
     "output_type": "stream",
     "text": [
      "5/5 [==============================] - 2s 243ms/step - loss: 0.3109 - acc: 0.9102\n"
     ]
    }
   ],
   "source": [
    "loss, accuracy = lstm_model.evaluate(X_test, Y_test, verbose = 1)\n",
    "result_df.loc['LSTM'] = [loss, accuracy]"
   ]
  },
  {
   "cell_type": "code",
   "execution_count": 271,
   "metadata": {
    "colab": {
     "base_uri": "https://localhost:8080/"
    },
    "id": "aqt6QHIeatse",
    "outputId": "3ae467e3-1269-426a-b924-04dacefa4e04"
   },
   "outputs": [
    {
     "name": "stdout",
     "output_type": "stream",
     "text": [
      "5/5 [==============================] - 2s 263ms/step - loss: 0.1612 - acc: 0.9538\n"
     ]
    }
   ],
   "source": [
    "loss, accuracy = gru_model.evaluate(X_test, Y_test, verbose = 1)\n",
    "result_df.loc['GRU'] = [loss, accuracy]"
   ]
  },
  {
   "cell_type": "code",
   "execution_count": 272,
   "metadata": {
    "colab": {
     "base_uri": "https://localhost:8080/"
    },
    "id": "Fj2xhid6atse",
    "outputId": "c064fbaa-8034-4fa2-cd34-365ff3be9d19"
   },
   "outputs": [
    {
     "name": "stdout",
     "output_type": "stream",
     "text": [
      "5/5 [==============================] - 4s 543ms/step - loss: 0.2831 - acc: 0.9110\n"
     ]
    }
   ],
   "source": [
    "loss, accuracy = blstm_model.evaluate(X_test, Y_test, verbose = 1)\n",
    "result_df.loc['BLSTM'] = [loss, accuracy]"
   ]
  },
  {
   "cell_type": "code",
   "execution_count": 273,
   "metadata": {
    "colab": {
     "base_uri": "https://localhost:8080/",
     "height": 175
    },
    "id": "kf62sbn2atse",
    "outputId": "f34463a1-92b3-454c-eb97-e5617f273be9"
   },
   "outputs": [
    {
     "data": {
      "text/html": [
       "\n",
       "  <div id=\"df-26efd4c3-31fa-4360-a8ea-a98f19601f22\" class=\"colab-df-container\">\n",
       "    <div>\n",
       "<style scoped>\n",
       "    .dataframe tbody tr th:only-of-type {\n",
       "        vertical-align: middle;\n",
       "    }\n",
       "\n",
       "    .dataframe tbody tr th {\n",
       "        vertical-align: top;\n",
       "    }\n",
       "\n",
       "    .dataframe thead th {\n",
       "        text-align: right;\n",
       "    }\n",
       "</style>\n",
       "<table border=\"1\" class=\"dataframe\">\n",
       "  <thead>\n",
       "    <tr style=\"text-align: right;\">\n",
       "      <th></th>\n",
       "      <th>loss</th>\n",
       "      <th>accuracy</th>\n",
       "    </tr>\n",
       "  </thead>\n",
       "  <tbody>\n",
       "    <tr>\n",
       "      <th>GRU</th>\n",
       "      <td>0.161201</td>\n",
       "      <td>0.953787</td>\n",
       "    </tr>\n",
       "    <tr>\n",
       "      <th>RNN</th>\n",
       "      <td>0.262870</td>\n",
       "      <td>0.920387</td>\n",
       "    </tr>\n",
       "    <tr>\n",
       "      <th>BLSTM</th>\n",
       "      <td>0.283131</td>\n",
       "      <td>0.911040</td>\n",
       "    </tr>\n",
       "    <tr>\n",
       "      <th>LSTM</th>\n",
       "      <td>0.310921</td>\n",
       "      <td>0.910240</td>\n",
       "    </tr>\n",
       "  </tbody>\n",
       "</table>\n",
       "</div>\n",
       "    <div class=\"colab-df-buttons\">\n",
       "\n",
       "  <div class=\"colab-df-container\">\n",
       "    <button class=\"colab-df-convert\" onclick=\"convertToInteractive('df-26efd4c3-31fa-4360-a8ea-a98f19601f22')\"\n",
       "            title=\"Convert this dataframe to an interactive table.\"\n",
       "            style=\"display:none;\">\n",
       "\n",
       "  <svg xmlns=\"http://www.w3.org/2000/svg\" height=\"24px\" viewBox=\"0 -960 960 960\">\n",
       "    <path d=\"M120-120v-720h720v720H120Zm60-500h600v-160H180v160Zm220 220h160v-160H400v160Zm0 220h160v-160H400v160ZM180-400h160v-160H180v160Zm440 0h160v-160H620v160ZM180-180h160v-160H180v160Zm440 0h160v-160H620v160Z\"/>\n",
       "  </svg>\n",
       "    </button>\n",
       "\n",
       "  <style>\n",
       "    .colab-df-container {\n",
       "      display:flex;\n",
       "      gap: 12px;\n",
       "    }\n",
       "\n",
       "    .colab-df-convert {\n",
       "      background-color: #E8F0FE;\n",
       "      border: none;\n",
       "      border-radius: 50%;\n",
       "      cursor: pointer;\n",
       "      display: none;\n",
       "      fill: #1967D2;\n",
       "      height: 32px;\n",
       "      padding: 0 0 0 0;\n",
       "      width: 32px;\n",
       "    }\n",
       "\n",
       "    .colab-df-convert:hover {\n",
       "      background-color: #E2EBFA;\n",
       "      box-shadow: 0px 1px 2px rgba(60, 64, 67, 0.3), 0px 1px 3px 1px rgba(60, 64, 67, 0.15);\n",
       "      fill: #174EA6;\n",
       "    }\n",
       "\n",
       "    .colab-df-buttons div {\n",
       "      margin-bottom: 4px;\n",
       "    }\n",
       "\n",
       "    [theme=dark] .colab-df-convert {\n",
       "      background-color: #3B4455;\n",
       "      fill: #D2E3FC;\n",
       "    }\n",
       "\n",
       "    [theme=dark] .colab-df-convert:hover {\n",
       "      background-color: #434B5C;\n",
       "      box-shadow: 0px 1px 3px 1px rgba(0, 0, 0, 0.15);\n",
       "      filter: drop-shadow(0px 1px 2px rgba(0, 0, 0, 0.3));\n",
       "      fill: #FFFFFF;\n",
       "    }\n",
       "  </style>\n",
       "\n",
       "    <script>\n",
       "      const buttonEl =\n",
       "        document.querySelector('#df-26efd4c3-31fa-4360-a8ea-a98f19601f22 button.colab-df-convert');\n",
       "      buttonEl.style.display =\n",
       "        google.colab.kernel.accessAllowed ? 'block' : 'none';\n",
       "\n",
       "      async function convertToInteractive(key) {\n",
       "        const element = document.querySelector('#df-26efd4c3-31fa-4360-a8ea-a98f19601f22');\n",
       "        const dataTable =\n",
       "          await google.colab.kernel.invokeFunction('convertToInteractive',\n",
       "                                                    [key], {});\n",
       "        if (!dataTable) return;\n",
       "\n",
       "        const docLinkHtml = 'Like what you see? Visit the ' +\n",
       "          '<a target=\"_blank\" href=https://colab.research.google.com/notebooks/data_table.ipynb>data table notebook</a>'\n",
       "          + ' to learn more about interactive tables.';\n",
       "        element.innerHTML = '';\n",
       "        dataTable['output_type'] = 'display_data';\n",
       "        await google.colab.output.renderOutput(dataTable, element);\n",
       "        const docLink = document.createElement('div');\n",
       "        docLink.innerHTML = docLinkHtml;\n",
       "        element.appendChild(docLink);\n",
       "      }\n",
       "    </script>\n",
       "  </div>\n",
       "\n",
       "    </div>\n",
       "  </div>\n"
      ],
      "text/plain": [
       "           loss  accuracy\n",
       "GRU    0.161201  0.953787\n",
       "RNN    0.262870  0.920387\n",
       "BLSTM  0.283131  0.911040\n",
       "LSTM   0.310921  0.910240"
      ]
     },
     "execution_count": 273,
     "metadata": {},
     "output_type": "execute_result"
    }
   ],
   "source": [
    "result_df.sort_values('accuracy', ascending=False)"
   ]
  },
  {
   "cell_type": "markdown",
   "metadata": {
    "id": "ypXyhN4abj1w"
   },
   "source": [
    "В этой задаче лучше справляется GRU"
   ]
  }
 ],
 "metadata": {
  "colab": {
   "provenance": []
  },
  "kernelspec": {
   "display_name": "Python 3",
   "language": "python",
   "name": "python3"
  },
  "language_info": {
   "codemirror_mode": {
    "name": "ipython",
    "version": 3
   },
   "file_extension": ".py",
   "mimetype": "text/x-python",
   "name": "python",
   "nbconvert_exporter": "python",
   "pygments_lexer": "ipython3",
   "version": "3.7.6"
  },
  "widgets": {
   "application/vnd.jupyter.widget-state+json": {
    "007497680efc4918b2ae359c65dc7d4f": {
     "model_module": "@jupyter-widgets/controls",
     "model_module_version": "1.5.0",
     "model_name": "FloatProgressModel",
     "state": {
      "_dom_classes": [],
      "_model_module": "@jupyter-widgets/controls",
      "_model_module_version": "1.5.0",
      "_model_name": "FloatProgressModel",
      "_view_count": null,
      "_view_module": "@jupyter-widgets/controls",
      "_view_module_version": "1.5.0",
      "_view_name": "ProgressView",
      "bar_style": "success",
      "description": "",
      "description_tooltip": null,
      "layout": "IPY_MODEL_59a99bbaa6404568967862b269a7ac9a",
      "max": 29,
      "min": 0,
      "orientation": "horizontal",
      "style": "IPY_MODEL_e22eaa45e3eb4b06a6ea4c37d17344ff",
      "value": 29
     }
    },
    "05da59582aa944039e4664ff86aa3381": {
     "model_module": "@jupyter-widgets/controls",
     "model_module_version": "1.5.0",
     "model_name": "HTMLModel",
     "state": {
      "_dom_classes": [],
      "_model_module": "@jupyter-widgets/controls",
      "_model_module_version": "1.5.0",
      "_model_name": "HTMLModel",
      "_view_count": null,
      "_view_module": "@jupyter-widgets/controls",
      "_view_module_version": "1.5.0",
      "_view_name": "HTMLView",
      "description": "",
      "description_tooltip": null,
      "layout": "IPY_MODEL_2003a7e8bcec422b9a20620b6c885a8f",
      "placeholder": "​",
      "style": "IPY_MODEL_91250d8267d64c819453bdc4cf2699e9",
      "value": " 8906/8906 [00:41&lt;00:00, 371.21it/s]"
     }
    },
    "080e77e4bf7949c7be35e1a9572e72b5": {
     "model_module": "@jupyter-widgets/controls",
     "model_module_version": "1.5.0",
     "model_name": "HBoxModel",
     "state": {
      "_dom_classes": [],
      "_model_module": "@jupyter-widgets/controls",
      "_model_module_version": "1.5.0",
      "_model_name": "HBoxModel",
      "_view_count": null,
      "_view_module": "@jupyter-widgets/controls",
      "_view_module_version": "1.5.0",
      "_view_name": "HBoxView",
      "box_style": "",
      "children": [
       "IPY_MODEL_b9e07fcd9c184ce8996333f4ee20fbf7",
       "IPY_MODEL_007497680efc4918b2ae359c65dc7d4f",
       "IPY_MODEL_431f327c87b640d7b35d4219b4a5753d"
      ],
      "layout": "IPY_MODEL_fabaf38b9acb4f0c96c2e1966372aeb8"
     }
    },
    "0b6e5595e0b345eeaaf673fbc93b77bb": {
     "model_module": "@jupyter-widgets/controls",
     "model_module_version": "1.5.0",
     "model_name": "HTMLModel",
     "state": {
      "_dom_classes": [],
      "_model_module": "@jupyter-widgets/controls",
      "_model_module_version": "1.5.0",
      "_model_name": "HTMLModel",
      "_view_count": null,
      "_view_module": "@jupyter-widgets/controls",
      "_view_module_version": "1.5.0",
      "_view_name": "HTMLView",
      "description": "",
      "description_tooltip": null,
      "layout": "IPY_MODEL_22a3a346a3ae47a3be80268a7dc8d097",
      "placeholder": "​",
      "style": "IPY_MODEL_dcda14adb40941c3875635edf5e54c80",
      "value": " 8906/8906 [00:42&lt;00:00, 362.87it/s]"
     }
    },
    "151d3b75e6b34881b46f54fed8234fd6": {
     "model_module": "@jupyter-widgets/controls",
     "model_module_version": "1.5.0",
     "model_name": "ProgressStyleModel",
     "state": {
      "_model_module": "@jupyter-widgets/controls",
      "_model_module_version": "1.5.0",
      "_model_name": "ProgressStyleModel",
      "_view_count": null,
      "_view_module": "@jupyter-widgets/base",
      "_view_module_version": "1.2.0",
      "_view_name": "StyleView",
      "bar_color": null,
      "description_width": ""
     }
    },
    "16b4ab2f10a443e7bcd9cd1c2c58aa82": {
     "model_module": "@jupyter-widgets/base",
     "model_module_version": "1.2.0",
     "model_name": "LayoutModel",
     "state": {
      "_model_module": "@jupyter-widgets/base",
      "_model_module_version": "1.2.0",
      "_model_name": "LayoutModel",
      "_view_count": null,
      "_view_module": "@jupyter-widgets/base",
      "_view_module_version": "1.2.0",
      "_view_name": "LayoutView",
      "align_content": null,
      "align_items": null,
      "align_self": null,
      "border": null,
      "bottom": null,
      "display": null,
      "flex": null,
      "flex_flow": null,
      "grid_area": null,
      "grid_auto_columns": null,
      "grid_auto_flow": null,
      "grid_auto_rows": null,
      "grid_column": null,
      "grid_gap": null,
      "grid_row": null,
      "grid_template_areas": null,
      "grid_template_columns": null,
      "grid_template_rows": null,
      "height": null,
      "justify_content": null,
      "justify_items": null,
      "left": null,
      "margin": null,
      "max_height": null,
      "max_width": null,
      "min_height": null,
      "min_width": null,
      "object_fit": null,
      "object_position": null,
      "order": null,
      "overflow": null,
      "overflow_x": null,
      "overflow_y": null,
      "padding": null,
      "right": null,
      "top": null,
      "visibility": null,
      "width": null
     }
    },
    "1e88f701a7f94ed2820d3e4a40bf4713": {
     "model_module": "@jupyter-widgets/base",
     "model_module_version": "1.2.0",
     "model_name": "LayoutModel",
     "state": {
      "_model_module": "@jupyter-widgets/base",
      "_model_module_version": "1.2.0",
      "_model_name": "LayoutModel",
      "_view_count": null,
      "_view_module": "@jupyter-widgets/base",
      "_view_module_version": "1.2.0",
      "_view_name": "LayoutView",
      "align_content": null,
      "align_items": null,
      "align_self": null,
      "border": null,
      "bottom": null,
      "display": null,
      "flex": null,
      "flex_flow": null,
      "grid_area": null,
      "grid_auto_columns": null,
      "grid_auto_flow": null,
      "grid_auto_rows": null,
      "grid_column": null,
      "grid_gap": null,
      "grid_row": null,
      "grid_template_areas": null,
      "grid_template_columns": null,
      "grid_template_rows": null,
      "height": null,
      "justify_content": null,
      "justify_items": null,
      "left": null,
      "margin": null,
      "max_height": null,
      "max_width": null,
      "min_height": null,
      "min_width": null,
      "object_fit": null,
      "object_position": null,
      "order": null,
      "overflow": null,
      "overflow_x": null,
      "overflow_y": null,
      "padding": null,
      "right": null,
      "top": null,
      "visibility": null,
      "width": null
     }
    },
    "2003a7e8bcec422b9a20620b6c885a8f": {
     "model_module": "@jupyter-widgets/base",
     "model_module_version": "1.2.0",
     "model_name": "LayoutModel",
     "state": {
      "_model_module": "@jupyter-widgets/base",
      "_model_module_version": "1.2.0",
      "_model_name": "LayoutModel",
      "_view_count": null,
      "_view_module": "@jupyter-widgets/base",
      "_view_module_version": "1.2.0",
      "_view_name": "LayoutView",
      "align_content": null,
      "align_items": null,
      "align_self": null,
      "border": null,
      "bottom": null,
      "display": null,
      "flex": null,
      "flex_flow": null,
      "grid_area": null,
      "grid_auto_columns": null,
      "grid_auto_flow": null,
      "grid_auto_rows": null,
      "grid_column": null,
      "grid_gap": null,
      "grid_row": null,
      "grid_template_areas": null,
      "grid_template_columns": null,
      "grid_template_rows": null,
      "height": null,
      "justify_content": null,
      "justify_items": null,
      "left": null,
      "margin": null,
      "max_height": null,
      "max_width": null,
      "min_height": null,
      "min_width": null,
      "object_fit": null,
      "object_position": null,
      "order": null,
      "overflow": null,
      "overflow_x": null,
      "overflow_y": null,
      "padding": null,
      "right": null,
      "top": null,
      "visibility": null,
      "width": null
     }
    },
    "227fccad8eff4af08c0881604a5fa397": {
     "model_module": "@jupyter-widgets/controls",
     "model_module_version": "1.5.0",
     "model_name": "HTMLModel",
     "state": {
      "_dom_classes": [],
      "_model_module": "@jupyter-widgets/controls",
      "_model_module_version": "1.5.0",
      "_model_name": "HTMLModel",
      "_view_count": null,
      "_view_module": "@jupyter-widgets/controls",
      "_view_module_version": "1.5.0",
      "_view_name": "HTMLView",
      "description": "",
      "description_tooltip": null,
      "layout": "IPY_MODEL_51f3ef401a6b4db8975a649371963a54",
      "placeholder": "​",
      "style": "IPY_MODEL_96b2c5df53164d859985c0252e5511f9",
      "value": " 570/570 [00:00&lt;00:00, 30.0kB/s]"
     }
    },
    "22a3a346a3ae47a3be80268a7dc8d097": {
     "model_module": "@jupyter-widgets/base",
     "model_module_version": "1.2.0",
     "model_name": "LayoutModel",
     "state": {
      "_model_module": "@jupyter-widgets/base",
      "_model_module_version": "1.2.0",
      "_model_name": "LayoutModel",
      "_view_count": null,
      "_view_module": "@jupyter-widgets/base",
      "_view_module_version": "1.2.0",
      "_view_name": "LayoutView",
      "align_content": null,
      "align_items": null,
      "align_self": null,
      "border": null,
      "bottom": null,
      "display": null,
      "flex": null,
      "flex_flow": null,
      "grid_area": null,
      "grid_auto_columns": null,
      "grid_auto_flow": null,
      "grid_auto_rows": null,
      "grid_column": null,
      "grid_gap": null,
      "grid_row": null,
      "grid_template_areas": null,
      "grid_template_columns": null,
      "grid_template_rows": null,
      "height": null,
      "justify_content": null,
      "justify_items": null,
      "left": null,
      "margin": null,
      "max_height": null,
      "max_width": null,
      "min_height": null,
      "min_width": null,
      "object_fit": null,
      "object_position": null,
      "order": null,
      "overflow": null,
      "overflow_x": null,
      "overflow_y": null,
      "padding": null,
      "right": null,
      "top": null,
      "visibility": null,
      "width": null
     }
    },
    "30e80fa318b348f693f3de8d64a11932": {
     "model_module": "@jupyter-widgets/controls",
     "model_module_version": "1.5.0",
     "model_name": "DescriptionStyleModel",
     "state": {
      "_model_module": "@jupyter-widgets/controls",
      "_model_module_version": "1.5.0",
      "_model_name": "DescriptionStyleModel",
      "_view_count": null,
      "_view_module": "@jupyter-widgets/base",
      "_view_module_version": "1.2.0",
      "_view_name": "StyleView",
      "description_width": ""
     }
    },
    "35b2febcd5da4f9bbaf5d3df1c231823": {
     "model_module": "@jupyter-widgets/controls",
     "model_module_version": "1.5.0",
     "model_name": "DescriptionStyleModel",
     "state": {
      "_model_module": "@jupyter-widgets/controls",
      "_model_module_version": "1.5.0",
      "_model_name": "DescriptionStyleModel",
      "_view_count": null,
      "_view_module": "@jupyter-widgets/base",
      "_view_module_version": "1.2.0",
      "_view_name": "StyleView",
      "description_width": ""
     }
    },
    "35b8a8c6ad994828871450e2a7005742": {
     "model_module": "@jupyter-widgets/controls",
     "model_module_version": "1.5.0",
     "model_name": "HBoxModel",
     "state": {
      "_dom_classes": [],
      "_model_module": "@jupyter-widgets/controls",
      "_model_module_version": "1.5.0",
      "_model_name": "HBoxModel",
      "_view_count": null,
      "_view_module": "@jupyter-widgets/controls",
      "_view_module_version": "1.5.0",
      "_view_name": "HBoxView",
      "box_style": "",
      "children": [
       "IPY_MODEL_5a48a695d32f42d7acd382cb6428d3ad",
       "IPY_MODEL_cf64a0ab49d342cba34472c2b7b30b36",
       "IPY_MODEL_227fccad8eff4af08c0881604a5fa397"
      ],
      "layout": "IPY_MODEL_6af48ed35dd243c6bfbb97e63c114213"
     }
    },
    "3686d1e611104630abb7567f7767d3a3": {
     "model_module": "@jupyter-widgets/controls",
     "model_module_version": "1.5.0",
     "model_name": "HBoxModel",
     "state": {
      "_dom_classes": [],
      "_model_module": "@jupyter-widgets/controls",
      "_model_module_version": "1.5.0",
      "_model_name": "HBoxModel",
      "_view_count": null,
      "_view_module": "@jupyter-widgets/controls",
      "_view_module_version": "1.5.0",
      "_view_name": "HBoxView",
      "box_style": "",
      "children": [
       "IPY_MODEL_54b31ba4babf41af8de4aa35ae8e8491",
       "IPY_MODEL_ca145d0196cd4441aab36593f51936f1",
       "IPY_MODEL_0b6e5595e0b345eeaaf673fbc93b77bb"
      ],
      "layout": "IPY_MODEL_9524e199463c42dc9173209a04ec6f83"
     }
    },
    "3c6f13b418bf424eb63560011665afaf": {
     "model_module": "@jupyter-widgets/controls",
     "model_module_version": "1.5.0",
     "model_name": "HTMLModel",
     "state": {
      "_dom_classes": [],
      "_model_module": "@jupyter-widgets/controls",
      "_model_module_version": "1.5.0",
      "_model_name": "HTMLModel",
      "_view_count": null,
      "_view_module": "@jupyter-widgets/controls",
      "_view_module_version": "1.5.0",
      "_view_name": "HTMLView",
      "description": "",
      "description_tooltip": null,
      "layout": "IPY_MODEL_6fb8b70485c84612b41f29dab3e9759f",
      "placeholder": "​",
      "style": "IPY_MODEL_35b2febcd5da4f9bbaf5d3df1c231823",
      "value": "Downloading (…)solve/main/vocab.txt: 100%"
     }
    },
    "3d55e35a7aa34db085abb51f2b84d727": {
     "model_module": "@jupyter-widgets/controls",
     "model_module_version": "1.5.0",
     "model_name": "HTMLModel",
     "state": {
      "_dom_classes": [],
      "_model_module": "@jupyter-widgets/controls",
      "_model_module_version": "1.5.0",
      "_model_name": "HTMLModel",
      "_view_count": null,
      "_view_module": "@jupyter-widgets/controls",
      "_view_module_version": "1.5.0",
      "_view_name": "HTMLView",
      "description": "",
      "description_tooltip": null,
      "layout": "IPY_MODEL_d85ad27e179b4a4e8434d60472f1ae87",
      "placeholder": "​",
      "style": "IPY_MODEL_9bf11df243b74c1d978ac5dc98a66122",
      "value": " 213k/213k [00:00&lt;00:00, 6.77MB/s]"
     }
    },
    "431f327c87b640d7b35d4219b4a5753d": {
     "model_module": "@jupyter-widgets/controls",
     "model_module_version": "1.5.0",
     "model_name": "HTMLModel",
     "state": {
      "_dom_classes": [],
      "_model_module": "@jupyter-widgets/controls",
      "_model_module_version": "1.5.0",
      "_model_name": "HTMLModel",
      "_view_count": null,
      "_view_module": "@jupyter-widgets/controls",
      "_view_module_version": "1.5.0",
      "_view_name": "HTMLView",
      "description": "",
      "description_tooltip": null,
      "layout": "IPY_MODEL_dee68691e29746f9b068ccbbac1ae983",
      "placeholder": "​",
      "style": "IPY_MODEL_bfbfee7fdca2499ba5922738bfd458d7",
      "value": " 29.0/29.0 [00:00&lt;00:00, 919B/s]"
     }
    },
    "4517abc743614e53863621e8c6622b74": {
     "model_module": "@jupyter-widgets/base",
     "model_module_version": "1.2.0",
     "model_name": "LayoutModel",
     "state": {
      "_model_module": "@jupyter-widgets/base",
      "_model_module_version": "1.2.0",
      "_model_name": "LayoutModel",
      "_view_count": null,
      "_view_module": "@jupyter-widgets/base",
      "_view_module_version": "1.2.0",
      "_view_name": "LayoutView",
      "align_content": null,
      "align_items": null,
      "align_self": null,
      "border": null,
      "bottom": null,
      "display": null,
      "flex": null,
      "flex_flow": null,
      "grid_area": null,
      "grid_auto_columns": null,
      "grid_auto_flow": null,
      "grid_auto_rows": null,
      "grid_column": null,
      "grid_gap": null,
      "grid_row": null,
      "grid_template_areas": null,
      "grid_template_columns": null,
      "grid_template_rows": null,
      "height": null,
      "justify_content": null,
      "justify_items": null,
      "left": null,
      "margin": null,
      "max_height": null,
      "max_width": null,
      "min_height": null,
      "min_width": null,
      "object_fit": null,
      "object_position": null,
      "order": null,
      "overflow": null,
      "overflow_x": null,
      "overflow_y": null,
      "padding": null,
      "right": null,
      "top": null,
      "visibility": null,
      "width": null
     }
    },
    "49da1e05ad83444c984bd6b108e3847d": {
     "model_module": "@jupyter-widgets/controls",
     "model_module_version": "1.5.0",
     "model_name": "DescriptionStyleModel",
     "state": {
      "_model_module": "@jupyter-widgets/controls",
      "_model_module_version": "1.5.0",
      "_model_name": "DescriptionStyleModel",
      "_view_count": null,
      "_view_module": "@jupyter-widgets/base",
      "_view_module_version": "1.2.0",
      "_view_name": "StyleView",
      "description_width": ""
     }
    },
    "4d85cd038f87468d8cf899bb93549cd8": {
     "model_module": "@jupyter-widgets/base",
     "model_module_version": "1.2.0",
     "model_name": "LayoutModel",
     "state": {
      "_model_module": "@jupyter-widgets/base",
      "_model_module_version": "1.2.0",
      "_model_name": "LayoutModel",
      "_view_count": null,
      "_view_module": "@jupyter-widgets/base",
      "_view_module_version": "1.2.0",
      "_view_name": "LayoutView",
      "align_content": null,
      "align_items": null,
      "align_self": null,
      "border": null,
      "bottom": null,
      "display": null,
      "flex": null,
      "flex_flow": null,
      "grid_area": null,
      "grid_auto_columns": null,
      "grid_auto_flow": null,
      "grid_auto_rows": null,
      "grid_column": null,
      "grid_gap": null,
      "grid_row": null,
      "grid_template_areas": null,
      "grid_template_columns": null,
      "grid_template_rows": null,
      "height": null,
      "justify_content": null,
      "justify_items": null,
      "left": null,
      "margin": null,
      "max_height": null,
      "max_width": null,
      "min_height": null,
      "min_width": null,
      "object_fit": null,
      "object_position": null,
      "order": null,
      "overflow": null,
      "overflow_x": null,
      "overflow_y": null,
      "padding": null,
      "right": null,
      "top": null,
      "visibility": null,
      "width": null
     }
    },
    "4e8f336b0b814bfca8aeb6fb3c004bb5": {
     "model_module": "@jupyter-widgets/base",
     "model_module_version": "1.2.0",
     "model_name": "LayoutModel",
     "state": {
      "_model_module": "@jupyter-widgets/base",
      "_model_module_version": "1.2.0",
      "_model_name": "LayoutModel",
      "_view_count": null,
      "_view_module": "@jupyter-widgets/base",
      "_view_module_version": "1.2.0",
      "_view_name": "LayoutView",
      "align_content": null,
      "align_items": null,
      "align_self": null,
      "border": null,
      "bottom": null,
      "display": null,
      "flex": null,
      "flex_flow": null,
      "grid_area": null,
      "grid_auto_columns": null,
      "grid_auto_flow": null,
      "grid_auto_rows": null,
      "grid_column": null,
      "grid_gap": null,
      "grid_row": null,
      "grid_template_areas": null,
      "grid_template_columns": null,
      "grid_template_rows": null,
      "height": null,
      "justify_content": null,
      "justify_items": null,
      "left": null,
      "margin": null,
      "max_height": null,
      "max_width": null,
      "min_height": null,
      "min_width": null,
      "object_fit": null,
      "object_position": null,
      "order": null,
      "overflow": null,
      "overflow_x": null,
      "overflow_y": null,
      "padding": null,
      "right": null,
      "top": null,
      "visibility": null,
      "width": null
     }
    },
    "50e823e919734968a5a4249eab582419": {
     "model_module": "@jupyter-widgets/controls",
     "model_module_version": "1.5.0",
     "model_name": "DescriptionStyleModel",
     "state": {
      "_model_module": "@jupyter-widgets/controls",
      "_model_module_version": "1.5.0",
      "_model_name": "DescriptionStyleModel",
      "_view_count": null,
      "_view_module": "@jupyter-widgets/base",
      "_view_module_version": "1.2.0",
      "_view_name": "StyleView",
      "description_width": ""
     }
    },
    "51f3ef401a6b4db8975a649371963a54": {
     "model_module": "@jupyter-widgets/base",
     "model_module_version": "1.2.0",
     "model_name": "LayoutModel",
     "state": {
      "_model_module": "@jupyter-widgets/base",
      "_model_module_version": "1.2.0",
      "_model_name": "LayoutModel",
      "_view_count": null,
      "_view_module": "@jupyter-widgets/base",
      "_view_module_version": "1.2.0",
      "_view_name": "LayoutView",
      "align_content": null,
      "align_items": null,
      "align_self": null,
      "border": null,
      "bottom": null,
      "display": null,
      "flex": null,
      "flex_flow": null,
      "grid_area": null,
      "grid_auto_columns": null,
      "grid_auto_flow": null,
      "grid_auto_rows": null,
      "grid_column": null,
      "grid_gap": null,
      "grid_row": null,
      "grid_template_areas": null,
      "grid_template_columns": null,
      "grid_template_rows": null,
      "height": null,
      "justify_content": null,
      "justify_items": null,
      "left": null,
      "margin": null,
      "max_height": null,
      "max_width": null,
      "min_height": null,
      "min_width": null,
      "object_fit": null,
      "object_position": null,
      "order": null,
      "overflow": null,
      "overflow_x": null,
      "overflow_y": null,
      "padding": null,
      "right": null,
      "top": null,
      "visibility": null,
      "width": null
     }
    },
    "538ec7318d6441d8a53929551e76f5a6": {
     "model_module": "@jupyter-widgets/controls",
     "model_module_version": "1.5.0",
     "model_name": "FloatProgressModel",
     "state": {
      "_dom_classes": [],
      "_model_module": "@jupyter-widgets/controls",
      "_model_module_version": "1.5.0",
      "_model_name": "FloatProgressModel",
      "_view_count": null,
      "_view_module": "@jupyter-widgets/controls",
      "_view_module_version": "1.5.0",
      "_view_name": "ProgressView",
      "bar_style": "success",
      "description": "",
      "description_tooltip": null,
      "layout": "IPY_MODEL_ba992a548a1a4238a11e5b0c2ed9b3d9",
      "max": 435779157,
      "min": 0,
      "orientation": "horizontal",
      "style": "IPY_MODEL_6cdba480e4f44c5c9567e8d0ed585f26",
      "value": 435779157
     }
    },
    "54b31ba4babf41af8de4aa35ae8e8491": {
     "model_module": "@jupyter-widgets/controls",
     "model_module_version": "1.5.0",
     "model_name": "HTMLModel",
     "state": {
      "_dom_classes": [],
      "_model_module": "@jupyter-widgets/controls",
      "_model_module_version": "1.5.0",
      "_model_name": "HTMLModel",
      "_view_count": null,
      "_view_module": "@jupyter-widgets/controls",
      "_view_module_version": "1.5.0",
      "_view_name": "HTMLView",
      "description": "",
      "description_tooltip": null,
      "layout": "IPY_MODEL_4d85cd038f87468d8cf899bb93549cd8",
      "placeholder": "​",
      "style": "IPY_MODEL_9218b430242947e4a3575ad412e60275",
      "value": "100%"
     }
    },
    "57fd9f6e124d4804a5bbfdcf9731e070": {
     "model_module": "@jupyter-widgets/base",
     "model_module_version": "1.2.0",
     "model_name": "LayoutModel",
     "state": {
      "_model_module": "@jupyter-widgets/base",
      "_model_module_version": "1.2.0",
      "_model_name": "LayoutModel",
      "_view_count": null,
      "_view_module": "@jupyter-widgets/base",
      "_view_module_version": "1.2.0",
      "_view_name": "LayoutView",
      "align_content": null,
      "align_items": null,
      "align_self": null,
      "border": null,
      "bottom": null,
      "display": null,
      "flex": null,
      "flex_flow": null,
      "grid_area": null,
      "grid_auto_columns": null,
      "grid_auto_flow": null,
      "grid_auto_rows": null,
      "grid_column": null,
      "grid_gap": null,
      "grid_row": null,
      "grid_template_areas": null,
      "grid_template_columns": null,
      "grid_template_rows": null,
      "height": null,
      "justify_content": null,
      "justify_items": null,
      "left": null,
      "margin": null,
      "max_height": null,
      "max_width": null,
      "min_height": null,
      "min_width": null,
      "object_fit": null,
      "object_position": null,
      "order": null,
      "overflow": null,
      "overflow_x": null,
      "overflow_y": null,
      "padding": null,
      "right": null,
      "top": null,
      "visibility": null,
      "width": null
     }
    },
    "5955608082de48fb9a7729f717f246a0": {
     "model_module": "@jupyter-widgets/base",
     "model_module_version": "1.2.0",
     "model_name": "LayoutModel",
     "state": {
      "_model_module": "@jupyter-widgets/base",
      "_model_module_version": "1.2.0",
      "_model_name": "LayoutModel",
      "_view_count": null,
      "_view_module": "@jupyter-widgets/base",
      "_view_module_version": "1.2.0",
      "_view_name": "LayoutView",
      "align_content": null,
      "align_items": null,
      "align_self": null,
      "border": null,
      "bottom": null,
      "display": null,
      "flex": null,
      "flex_flow": null,
      "grid_area": null,
      "grid_auto_columns": null,
      "grid_auto_flow": null,
      "grid_auto_rows": null,
      "grid_column": null,
      "grid_gap": null,
      "grid_row": null,
      "grid_template_areas": null,
      "grid_template_columns": null,
      "grid_template_rows": null,
      "height": null,
      "justify_content": null,
      "justify_items": null,
      "left": null,
      "margin": null,
      "max_height": null,
      "max_width": null,
      "min_height": null,
      "min_width": null,
      "object_fit": null,
      "object_position": null,
      "order": null,
      "overflow": null,
      "overflow_x": null,
      "overflow_y": null,
      "padding": null,
      "right": null,
      "top": null,
      "visibility": null,
      "width": null
     }
    },
    "59a99bbaa6404568967862b269a7ac9a": {
     "model_module": "@jupyter-widgets/base",
     "model_module_version": "1.2.0",
     "model_name": "LayoutModel",
     "state": {
      "_model_module": "@jupyter-widgets/base",
      "_model_module_version": "1.2.0",
      "_model_name": "LayoutModel",
      "_view_count": null,
      "_view_module": "@jupyter-widgets/base",
      "_view_module_version": "1.2.0",
      "_view_name": "LayoutView",
      "align_content": null,
      "align_items": null,
      "align_self": null,
      "border": null,
      "bottom": null,
      "display": null,
      "flex": null,
      "flex_flow": null,
      "grid_area": null,
      "grid_auto_columns": null,
      "grid_auto_flow": null,
      "grid_auto_rows": null,
      "grid_column": null,
      "grid_gap": null,
      "grid_row": null,
      "grid_template_areas": null,
      "grid_template_columns": null,
      "grid_template_rows": null,
      "height": null,
      "justify_content": null,
      "justify_items": null,
      "left": null,
      "margin": null,
      "max_height": null,
      "max_width": null,
      "min_height": null,
      "min_width": null,
      "object_fit": null,
      "object_position": null,
      "order": null,
      "overflow": null,
      "overflow_x": null,
      "overflow_y": null,
      "padding": null,
      "right": null,
      "top": null,
      "visibility": null,
      "width": null
     }
    },
    "5a48a695d32f42d7acd382cb6428d3ad": {
     "model_module": "@jupyter-widgets/controls",
     "model_module_version": "1.5.0",
     "model_name": "HTMLModel",
     "state": {
      "_dom_classes": [],
      "_model_module": "@jupyter-widgets/controls",
      "_model_module_version": "1.5.0",
      "_model_name": "HTMLModel",
      "_view_count": null,
      "_view_module": "@jupyter-widgets/controls",
      "_view_module_version": "1.5.0",
      "_view_name": "HTMLView",
      "description": "",
      "description_tooltip": null,
      "layout": "IPY_MODEL_4e8f336b0b814bfca8aeb6fb3c004bb5",
      "placeholder": "​",
      "style": "IPY_MODEL_e8e13b99e0d4452ea8192e2893e67b56",
      "value": "Downloading (…)lve/main/config.json: 100%"
     }
    },
    "5a497f7d04244982bc34eae358661442": {
     "model_module": "@jupyter-widgets/controls",
     "model_module_version": "1.5.0",
     "model_name": "FloatProgressModel",
     "state": {
      "_dom_classes": [],
      "_model_module": "@jupyter-widgets/controls",
      "_model_module_version": "1.5.0",
      "_model_name": "FloatProgressModel",
      "_view_count": null,
      "_view_module": "@jupyter-widgets/controls",
      "_view_module_version": "1.5.0",
      "_view_name": "ProgressView",
      "bar_style": "success",
      "description": "",
      "description_tooltip": null,
      "layout": "IPY_MODEL_16b4ab2f10a443e7bcd9cd1c2c58aa82",
      "max": 435797,
      "min": 0,
      "orientation": "horizontal",
      "style": "IPY_MODEL_fc384f3fe16f4f868ff5c428ce86574e",
      "value": 435797
     }
    },
    "5aacf06cbeff4d86acc7ecdac9ccdb59": {
     "model_module": "@jupyter-widgets/controls",
     "model_module_version": "1.5.0",
     "model_name": "FloatProgressModel",
     "state": {
      "_dom_classes": [],
      "_model_module": "@jupyter-widgets/controls",
      "_model_module_version": "1.5.0",
      "_model_name": "FloatProgressModel",
      "_view_count": null,
      "_view_module": "@jupyter-widgets/controls",
      "_view_module_version": "1.5.0",
      "_view_name": "ProgressView",
      "bar_style": "success",
      "description": "",
      "description_tooltip": null,
      "layout": "IPY_MODEL_f1c950cdf94d44de80615acf9882a78a",
      "max": 8906,
      "min": 0,
      "orientation": "horizontal",
      "style": "IPY_MODEL_151d3b75e6b34881b46f54fed8234fd6",
      "value": 8906
     }
    },
    "6829dbc49c4b43da81594fddde17cee4": {
     "model_module": "@jupyter-widgets/controls",
     "model_module_version": "1.5.0",
     "model_name": "ProgressStyleModel",
     "state": {
      "_model_module": "@jupyter-widgets/controls",
      "_model_module_version": "1.5.0",
      "_model_name": "ProgressStyleModel",
      "_view_count": null,
      "_view_module": "@jupyter-widgets/base",
      "_view_module_version": "1.2.0",
      "_view_name": "StyleView",
      "bar_color": null,
      "description_width": ""
     }
    },
    "69fb9abe472d4d95a54bd4fcd6eab363": {
     "model_module": "@jupyter-widgets/base",
     "model_module_version": "1.2.0",
     "model_name": "LayoutModel",
     "state": {
      "_model_module": "@jupyter-widgets/base",
      "_model_module_version": "1.2.0",
      "_model_name": "LayoutModel",
      "_view_count": null,
      "_view_module": "@jupyter-widgets/base",
      "_view_module_version": "1.2.0",
      "_view_name": "LayoutView",
      "align_content": null,
      "align_items": null,
      "align_self": null,
      "border": null,
      "bottom": null,
      "display": null,
      "flex": null,
      "flex_flow": null,
      "grid_area": null,
      "grid_auto_columns": null,
      "grid_auto_flow": null,
      "grid_auto_rows": null,
      "grid_column": null,
      "grid_gap": null,
      "grid_row": null,
      "grid_template_areas": null,
      "grid_template_columns": null,
      "grid_template_rows": null,
      "height": null,
      "justify_content": null,
      "justify_items": null,
      "left": null,
      "margin": null,
      "max_height": null,
      "max_width": null,
      "min_height": null,
      "min_width": null,
      "object_fit": null,
      "object_position": null,
      "order": null,
      "overflow": null,
      "overflow_x": null,
      "overflow_y": null,
      "padding": null,
      "right": null,
      "top": null,
      "visibility": null,
      "width": null
     }
    },
    "6aca8d63faed4da79dfd6da31fea2b87": {
     "model_module": "@jupyter-widgets/base",
     "model_module_version": "1.2.0",
     "model_name": "LayoutModel",
     "state": {
      "_model_module": "@jupyter-widgets/base",
      "_model_module_version": "1.2.0",
      "_model_name": "LayoutModel",
      "_view_count": null,
      "_view_module": "@jupyter-widgets/base",
      "_view_module_version": "1.2.0",
      "_view_name": "LayoutView",
      "align_content": null,
      "align_items": null,
      "align_self": null,
      "border": null,
      "bottom": null,
      "display": null,
      "flex": null,
      "flex_flow": null,
      "grid_area": null,
      "grid_auto_columns": null,
      "grid_auto_flow": null,
      "grid_auto_rows": null,
      "grid_column": null,
      "grid_gap": null,
      "grid_row": null,
      "grid_template_areas": null,
      "grid_template_columns": null,
      "grid_template_rows": null,
      "height": null,
      "justify_content": null,
      "justify_items": null,
      "left": null,
      "margin": null,
      "max_height": null,
      "max_width": null,
      "min_height": null,
      "min_width": null,
      "object_fit": null,
      "object_position": null,
      "order": null,
      "overflow": null,
      "overflow_x": null,
      "overflow_y": null,
      "padding": null,
      "right": null,
      "top": null,
      "visibility": null,
      "width": null
     }
    },
    "6af48ed35dd243c6bfbb97e63c114213": {
     "model_module": "@jupyter-widgets/base",
     "model_module_version": "1.2.0",
     "model_name": "LayoutModel",
     "state": {
      "_model_module": "@jupyter-widgets/base",
      "_model_module_version": "1.2.0",
      "_model_name": "LayoutModel",
      "_view_count": null,
      "_view_module": "@jupyter-widgets/base",
      "_view_module_version": "1.2.0",
      "_view_name": "LayoutView",
      "align_content": null,
      "align_items": null,
      "align_self": null,
      "border": null,
      "bottom": null,
      "display": null,
      "flex": null,
      "flex_flow": null,
      "grid_area": null,
      "grid_auto_columns": null,
      "grid_auto_flow": null,
      "grid_auto_rows": null,
      "grid_column": null,
      "grid_gap": null,
      "grid_row": null,
      "grid_template_areas": null,
      "grid_template_columns": null,
      "grid_template_rows": null,
      "height": null,
      "justify_content": null,
      "justify_items": null,
      "left": null,
      "margin": null,
      "max_height": null,
      "max_width": null,
      "min_height": null,
      "min_width": null,
      "object_fit": null,
      "object_position": null,
      "order": null,
      "overflow": null,
      "overflow_x": null,
      "overflow_y": null,
      "padding": null,
      "right": null,
      "top": null,
      "visibility": null,
      "width": null
     }
    },
    "6cdba480e4f44c5c9567e8d0ed585f26": {
     "model_module": "@jupyter-widgets/controls",
     "model_module_version": "1.5.0",
     "model_name": "ProgressStyleModel",
     "state": {
      "_model_module": "@jupyter-widgets/controls",
      "_model_module_version": "1.5.0",
      "_model_name": "ProgressStyleModel",
      "_view_count": null,
      "_view_module": "@jupyter-widgets/base",
      "_view_module_version": "1.2.0",
      "_view_name": "StyleView",
      "bar_color": null,
      "description_width": ""
     }
    },
    "6fb8b70485c84612b41f29dab3e9759f": {
     "model_module": "@jupyter-widgets/base",
     "model_module_version": "1.2.0",
     "model_name": "LayoutModel",
     "state": {
      "_model_module": "@jupyter-widgets/base",
      "_model_module_version": "1.2.0",
      "_model_name": "LayoutModel",
      "_view_count": null,
      "_view_module": "@jupyter-widgets/base",
      "_view_module_version": "1.2.0",
      "_view_name": "LayoutView",
      "align_content": null,
      "align_items": null,
      "align_self": null,
      "border": null,
      "bottom": null,
      "display": null,
      "flex": null,
      "flex_flow": null,
      "grid_area": null,
      "grid_auto_columns": null,
      "grid_auto_flow": null,
      "grid_auto_rows": null,
      "grid_column": null,
      "grid_gap": null,
      "grid_row": null,
      "grid_template_areas": null,
      "grid_template_columns": null,
      "grid_template_rows": null,
      "height": null,
      "justify_content": null,
      "justify_items": null,
      "left": null,
      "margin": null,
      "max_height": null,
      "max_width": null,
      "min_height": null,
      "min_width": null,
      "object_fit": null,
      "object_position": null,
      "order": null,
      "overflow": null,
      "overflow_x": null,
      "overflow_y": null,
      "padding": null,
      "right": null,
      "top": null,
      "visibility": null,
      "width": null
     }
    },
    "7ad526eeda86422d8d54758a03b8ca1d": {
     "model_module": "@jupyter-widgets/base",
     "model_module_version": "1.2.0",
     "model_name": "LayoutModel",
     "state": {
      "_model_module": "@jupyter-widgets/base",
      "_model_module_version": "1.2.0",
      "_model_name": "LayoutModel",
      "_view_count": null,
      "_view_module": "@jupyter-widgets/base",
      "_view_module_version": "1.2.0",
      "_view_name": "LayoutView",
      "align_content": null,
      "align_items": null,
      "align_self": null,
      "border": null,
      "bottom": null,
      "display": null,
      "flex": null,
      "flex_flow": null,
      "grid_area": null,
      "grid_auto_columns": null,
      "grid_auto_flow": null,
      "grid_auto_rows": null,
      "grid_column": null,
      "grid_gap": null,
      "grid_row": null,
      "grid_template_areas": null,
      "grid_template_columns": null,
      "grid_template_rows": null,
      "height": null,
      "justify_content": null,
      "justify_items": null,
      "left": null,
      "margin": null,
      "max_height": null,
      "max_width": null,
      "min_height": null,
      "min_width": null,
      "object_fit": null,
      "object_position": null,
      "order": null,
      "overflow": null,
      "overflow_x": null,
      "overflow_y": null,
      "padding": null,
      "right": null,
      "top": null,
      "visibility": null,
      "width": null
     }
    },
    "7ed9be54c0b34e6a8dca72271e7332f5": {
     "model_module": "@jupyter-widgets/controls",
     "model_module_version": "1.5.0",
     "model_name": "ProgressStyleModel",
     "state": {
      "_model_module": "@jupyter-widgets/controls",
      "_model_module_version": "1.5.0",
      "_model_name": "ProgressStyleModel",
      "_view_count": null,
      "_view_module": "@jupyter-widgets/base",
      "_view_module_version": "1.2.0",
      "_view_name": "StyleView",
      "bar_color": null,
      "description_width": ""
     }
    },
    "8e19c60602074c6682806c0707356daf": {
     "model_module": "@jupyter-widgets/controls",
     "model_module_version": "1.5.0",
     "model_name": "HBoxModel",
     "state": {
      "_dom_classes": [],
      "_model_module": "@jupyter-widgets/controls",
      "_model_module_version": "1.5.0",
      "_model_name": "HBoxModel",
      "_view_count": null,
      "_view_module": "@jupyter-widgets/controls",
      "_view_module_version": "1.5.0",
      "_view_name": "HBoxView",
      "box_style": "",
      "children": [
       "IPY_MODEL_ce85d7a9d0314c38bf17140d1d4592af",
       "IPY_MODEL_5a497f7d04244982bc34eae358661442",
       "IPY_MODEL_b7bd6cf94d1d4d0e8e70c3290bde452c"
      ],
      "layout": "IPY_MODEL_a04353f0610a4ab0bd7ea70a12356e2f"
     }
    },
    "8eb13309d29649a9be709f7cbbdb9d07": {
     "model_module": "@jupyter-widgets/controls",
     "model_module_version": "1.5.0",
     "model_name": "FloatProgressModel",
     "state": {
      "_dom_classes": [],
      "_model_module": "@jupyter-widgets/controls",
      "_model_module_version": "1.5.0",
      "_model_name": "FloatProgressModel",
      "_view_count": null,
      "_view_module": "@jupyter-widgets/controls",
      "_view_module_version": "1.5.0",
      "_view_name": "ProgressView",
      "bar_style": "success",
      "description": "",
      "description_tooltip": null,
      "layout": "IPY_MODEL_57fd9f6e124d4804a5bbfdcf9731e070",
      "max": 213450,
      "min": 0,
      "orientation": "horizontal",
      "style": "IPY_MODEL_7ed9be54c0b34e6a8dca72271e7332f5",
      "value": 213450
     }
    },
    "91250d8267d64c819453bdc4cf2699e9": {
     "model_module": "@jupyter-widgets/controls",
     "model_module_version": "1.5.0",
     "model_name": "DescriptionStyleModel",
     "state": {
      "_model_module": "@jupyter-widgets/controls",
      "_model_module_version": "1.5.0",
      "_model_name": "DescriptionStyleModel",
      "_view_count": null,
      "_view_module": "@jupyter-widgets/base",
      "_view_module_version": "1.2.0",
      "_view_name": "StyleView",
      "description_width": ""
     }
    },
    "9218b430242947e4a3575ad412e60275": {
     "model_module": "@jupyter-widgets/controls",
     "model_module_version": "1.5.0",
     "model_name": "DescriptionStyleModel",
     "state": {
      "_model_module": "@jupyter-widgets/controls",
      "_model_module_version": "1.5.0",
      "_model_name": "DescriptionStyleModel",
      "_view_count": null,
      "_view_module": "@jupyter-widgets/base",
      "_view_module_version": "1.2.0",
      "_view_name": "StyleView",
      "description_width": ""
     }
    },
    "936440bbf4dc4dc1afc68d041086bf24": {
     "model_module": "@jupyter-widgets/controls",
     "model_module_version": "1.5.0",
     "model_name": "HBoxModel",
     "state": {
      "_dom_classes": [],
      "_model_module": "@jupyter-widgets/controls",
      "_model_module_version": "1.5.0",
      "_model_name": "HBoxModel",
      "_view_count": null,
      "_view_module": "@jupyter-widgets/controls",
      "_view_module_version": "1.5.0",
      "_view_name": "HBoxView",
      "box_style": "",
      "children": [
       "IPY_MODEL_f6796690c72c4f418179d81792883c65",
       "IPY_MODEL_538ec7318d6441d8a53929551e76f5a6",
       "IPY_MODEL_bc69f27b39d04b1da9fb36bcf9133b64"
      ],
      "layout": "IPY_MODEL_69fb9abe472d4d95a54bd4fcd6eab363"
     }
    },
    "9524e199463c42dc9173209a04ec6f83": {
     "model_module": "@jupyter-widgets/base",
     "model_module_version": "1.2.0",
     "model_name": "LayoutModel",
     "state": {
      "_model_module": "@jupyter-widgets/base",
      "_model_module_version": "1.2.0",
      "_model_name": "LayoutModel",
      "_view_count": null,
      "_view_module": "@jupyter-widgets/base",
      "_view_module_version": "1.2.0",
      "_view_name": "LayoutView",
      "align_content": null,
      "align_items": null,
      "align_self": null,
      "border": null,
      "bottom": null,
      "display": null,
      "flex": null,
      "flex_flow": null,
      "grid_area": null,
      "grid_auto_columns": null,
      "grid_auto_flow": null,
      "grid_auto_rows": null,
      "grid_column": null,
      "grid_gap": null,
      "grid_row": null,
      "grid_template_areas": null,
      "grid_template_columns": null,
      "grid_template_rows": null,
      "height": null,
      "justify_content": null,
      "justify_items": null,
      "left": null,
      "margin": null,
      "max_height": null,
      "max_width": null,
      "min_height": null,
      "min_width": null,
      "object_fit": null,
      "object_position": null,
      "order": null,
      "overflow": null,
      "overflow_x": null,
      "overflow_y": null,
      "padding": null,
      "right": null,
      "top": null,
      "visibility": null,
      "width": null
     }
    },
    "9698bcc7f7cc4b2388ee050f94b57582": {
     "model_module": "@jupyter-widgets/base",
     "model_module_version": "1.2.0",
     "model_name": "LayoutModel",
     "state": {
      "_model_module": "@jupyter-widgets/base",
      "_model_module_version": "1.2.0",
      "_model_name": "LayoutModel",
      "_view_count": null,
      "_view_module": "@jupyter-widgets/base",
      "_view_module_version": "1.2.0",
      "_view_name": "LayoutView",
      "align_content": null,
      "align_items": null,
      "align_self": null,
      "border": null,
      "bottom": null,
      "display": null,
      "flex": null,
      "flex_flow": null,
      "grid_area": null,
      "grid_auto_columns": null,
      "grid_auto_flow": null,
      "grid_auto_rows": null,
      "grid_column": null,
      "grid_gap": null,
      "grid_row": null,
      "grid_template_areas": null,
      "grid_template_columns": null,
      "grid_template_rows": null,
      "height": null,
      "justify_content": null,
      "justify_items": null,
      "left": null,
      "margin": null,
      "max_height": null,
      "max_width": null,
      "min_height": null,
      "min_width": null,
      "object_fit": null,
      "object_position": null,
      "order": null,
      "overflow": null,
      "overflow_x": null,
      "overflow_y": null,
      "padding": null,
      "right": null,
      "top": null,
      "visibility": null,
      "width": null
     }
    },
    "96b2c5df53164d859985c0252e5511f9": {
     "model_module": "@jupyter-widgets/controls",
     "model_module_version": "1.5.0",
     "model_name": "DescriptionStyleModel",
     "state": {
      "_model_module": "@jupyter-widgets/controls",
      "_model_module_version": "1.5.0",
      "_model_name": "DescriptionStyleModel",
      "_view_count": null,
      "_view_module": "@jupyter-widgets/base",
      "_view_module_version": "1.2.0",
      "_view_name": "StyleView",
      "description_width": ""
     }
    },
    "9bf11df243b74c1d978ac5dc98a66122": {
     "model_module": "@jupyter-widgets/controls",
     "model_module_version": "1.5.0",
     "model_name": "DescriptionStyleModel",
     "state": {
      "_model_module": "@jupyter-widgets/controls",
      "_model_module_version": "1.5.0",
      "_model_name": "DescriptionStyleModel",
      "_view_count": null,
      "_view_module": "@jupyter-widgets/base",
      "_view_module_version": "1.2.0",
      "_view_name": "StyleView",
      "description_width": ""
     }
    },
    "a04353f0610a4ab0bd7ea70a12356e2f": {
     "model_module": "@jupyter-widgets/base",
     "model_module_version": "1.2.0",
     "model_name": "LayoutModel",
     "state": {
      "_model_module": "@jupyter-widgets/base",
      "_model_module_version": "1.2.0",
      "_model_name": "LayoutModel",
      "_view_count": null,
      "_view_module": "@jupyter-widgets/base",
      "_view_module_version": "1.2.0",
      "_view_name": "LayoutView",
      "align_content": null,
      "align_items": null,
      "align_self": null,
      "border": null,
      "bottom": null,
      "display": null,
      "flex": null,
      "flex_flow": null,
      "grid_area": null,
      "grid_auto_columns": null,
      "grid_auto_flow": null,
      "grid_auto_rows": null,
      "grid_column": null,
      "grid_gap": null,
      "grid_row": null,
      "grid_template_areas": null,
      "grid_template_columns": null,
      "grid_template_rows": null,
      "height": null,
      "justify_content": null,
      "justify_items": null,
      "left": null,
      "margin": null,
      "max_height": null,
      "max_width": null,
      "min_height": null,
      "min_width": null,
      "object_fit": null,
      "object_position": null,
      "order": null,
      "overflow": null,
      "overflow_x": null,
      "overflow_y": null,
      "padding": null,
      "right": null,
      "top": null,
      "visibility": null,
      "width": null
     }
    },
    "ae1ad0ab331c418c880cffe9f324f5f5": {
     "model_module": "@jupyter-widgets/controls",
     "model_module_version": "1.5.0",
     "model_name": "DescriptionStyleModel",
     "state": {
      "_model_module": "@jupyter-widgets/controls",
      "_model_module_version": "1.5.0",
      "_model_name": "DescriptionStyleModel",
      "_view_count": null,
      "_view_module": "@jupyter-widgets/base",
      "_view_module_version": "1.2.0",
      "_view_name": "StyleView",
      "description_width": ""
     }
    },
    "b5039e1917da42348dff541cba279346": {
     "model_module": "@jupyter-widgets/controls",
     "model_module_version": "1.5.0",
     "model_name": "HBoxModel",
     "state": {
      "_dom_classes": [],
      "_model_module": "@jupyter-widgets/controls",
      "_model_module_version": "1.5.0",
      "_model_name": "HBoxModel",
      "_view_count": null,
      "_view_module": "@jupyter-widgets/controls",
      "_view_module_version": "1.5.0",
      "_view_name": "HBoxView",
      "box_style": "",
      "children": [
       "IPY_MODEL_3c6f13b418bf424eb63560011665afaf",
       "IPY_MODEL_8eb13309d29649a9be709f7cbbdb9d07",
       "IPY_MODEL_3d55e35a7aa34db085abb51f2b84d727"
      ],
      "layout": "IPY_MODEL_1e88f701a7f94ed2820d3e4a40bf4713"
     }
    },
    "b7bd6cf94d1d4d0e8e70c3290bde452c": {
     "model_module": "@jupyter-widgets/controls",
     "model_module_version": "1.5.0",
     "model_name": "HTMLModel",
     "state": {
      "_dom_classes": [],
      "_model_module": "@jupyter-widgets/controls",
      "_model_module_version": "1.5.0",
      "_model_name": "HTMLModel",
      "_view_count": null,
      "_view_module": "@jupyter-widgets/controls",
      "_view_module_version": "1.5.0",
      "_view_name": "HTMLView",
      "description": "",
      "description_tooltip": null,
      "layout": "IPY_MODEL_9698bcc7f7cc4b2388ee050f94b57582",
      "placeholder": "​",
      "style": "IPY_MODEL_49da1e05ad83444c984bd6b108e3847d",
      "value": " 436k/436k [00:00&lt;00:00, 17.4MB/s]"
     }
    },
    "b9e07fcd9c184ce8996333f4ee20fbf7": {
     "model_module": "@jupyter-widgets/controls",
     "model_module_version": "1.5.0",
     "model_name": "HTMLModel",
     "state": {
      "_dom_classes": [],
      "_model_module": "@jupyter-widgets/controls",
      "_model_module_version": "1.5.0",
      "_model_name": "HTMLModel",
      "_view_count": null,
      "_view_module": "@jupyter-widgets/controls",
      "_view_module_version": "1.5.0",
      "_view_name": "HTMLView",
      "description": "",
      "description_tooltip": null,
      "layout": "IPY_MODEL_5955608082de48fb9a7729f717f246a0",
      "placeholder": "​",
      "style": "IPY_MODEL_f0cd99b803044a8f8229cf7541d8548c",
      "value": "Downloading (…)okenizer_config.json: 100%"
     }
    },
    "ba992a548a1a4238a11e5b0c2ed9b3d9": {
     "model_module": "@jupyter-widgets/base",
     "model_module_version": "1.2.0",
     "model_name": "LayoutModel",
     "state": {
      "_model_module": "@jupyter-widgets/base",
      "_model_module_version": "1.2.0",
      "_model_name": "LayoutModel",
      "_view_count": null,
      "_view_module": "@jupyter-widgets/base",
      "_view_module_version": "1.2.0",
      "_view_name": "LayoutView",
      "align_content": null,
      "align_items": null,
      "align_self": null,
      "border": null,
      "bottom": null,
      "display": null,
      "flex": null,
      "flex_flow": null,
      "grid_area": null,
      "grid_auto_columns": null,
      "grid_auto_flow": null,
      "grid_auto_rows": null,
      "grid_column": null,
      "grid_gap": null,
      "grid_row": null,
      "grid_template_areas": null,
      "grid_template_columns": null,
      "grid_template_rows": null,
      "height": null,
      "justify_content": null,
      "justify_items": null,
      "left": null,
      "margin": null,
      "max_height": null,
      "max_width": null,
      "min_height": null,
      "min_width": null,
      "object_fit": null,
      "object_position": null,
      "order": null,
      "overflow": null,
      "overflow_x": null,
      "overflow_y": null,
      "padding": null,
      "right": null,
      "top": null,
      "visibility": null,
      "width": null
     }
    },
    "bc69f27b39d04b1da9fb36bcf9133b64": {
     "model_module": "@jupyter-widgets/controls",
     "model_module_version": "1.5.0",
     "model_name": "HTMLModel",
     "state": {
      "_dom_classes": [],
      "_model_module": "@jupyter-widgets/controls",
      "_model_module_version": "1.5.0",
      "_model_name": "HTMLModel",
      "_view_count": null,
      "_view_module": "@jupyter-widgets/controls",
      "_view_module_version": "1.5.0",
      "_view_name": "HTMLView",
      "description": "",
      "description_tooltip": null,
      "layout": "IPY_MODEL_4517abc743614e53863621e8c6622b74",
      "placeholder": "​",
      "style": "IPY_MODEL_50e823e919734968a5a4249eab582419",
      "value": " 436M/436M [00:01&lt;00:00, 233MB/s]"
     }
    },
    "be918a5c4f6f4594ae6fdbdb45a912df": {
     "model_module": "@jupyter-widgets/base",
     "model_module_version": "1.2.0",
     "model_name": "LayoutModel",
     "state": {
      "_model_module": "@jupyter-widgets/base",
      "_model_module_version": "1.2.0",
      "_model_name": "LayoutModel",
      "_view_count": null,
      "_view_module": "@jupyter-widgets/base",
      "_view_module_version": "1.2.0",
      "_view_name": "LayoutView",
      "align_content": null,
      "align_items": null,
      "align_self": null,
      "border": null,
      "bottom": null,
      "display": null,
      "flex": null,
      "flex_flow": null,
      "grid_area": null,
      "grid_auto_columns": null,
      "grid_auto_flow": null,
      "grid_auto_rows": null,
      "grid_column": null,
      "grid_gap": null,
      "grid_row": null,
      "grid_template_areas": null,
      "grid_template_columns": null,
      "grid_template_rows": null,
      "height": null,
      "justify_content": null,
      "justify_items": null,
      "left": null,
      "margin": null,
      "max_height": null,
      "max_width": null,
      "min_height": null,
      "min_width": null,
      "object_fit": null,
      "object_position": null,
      "order": null,
      "overflow": null,
      "overflow_x": null,
      "overflow_y": null,
      "padding": null,
      "right": null,
      "top": null,
      "visibility": null,
      "width": null
     }
    },
    "bfbfee7fdca2499ba5922738bfd458d7": {
     "model_module": "@jupyter-widgets/controls",
     "model_module_version": "1.5.0",
     "model_name": "DescriptionStyleModel",
     "state": {
      "_model_module": "@jupyter-widgets/controls",
      "_model_module_version": "1.5.0",
      "_model_name": "DescriptionStyleModel",
      "_view_count": null,
      "_view_module": "@jupyter-widgets/base",
      "_view_module_version": "1.2.0",
      "_view_name": "StyleView",
      "description_width": ""
     }
    },
    "c9e7726e2d2a49b8b3bf2e1e51f1c713": {
     "model_module": "@jupyter-widgets/controls",
     "model_module_version": "1.5.0",
     "model_name": "HTMLModel",
     "state": {
      "_dom_classes": [],
      "_model_module": "@jupyter-widgets/controls",
      "_model_module_version": "1.5.0",
      "_model_name": "HTMLModel",
      "_view_count": null,
      "_view_module": "@jupyter-widgets/controls",
      "_view_module_version": "1.5.0",
      "_view_name": "HTMLView",
      "description": "",
      "description_tooltip": null,
      "layout": "IPY_MODEL_d63856d2f23748c3b1c739c6b11ad01f",
      "placeholder": "​",
      "style": "IPY_MODEL_30e80fa318b348f693f3de8d64a11932",
      "value": "100%"
     }
    },
    "ca145d0196cd4441aab36593f51936f1": {
     "model_module": "@jupyter-widgets/controls",
     "model_module_version": "1.5.0",
     "model_name": "FloatProgressModel",
     "state": {
      "_dom_classes": [],
      "_model_module": "@jupyter-widgets/controls",
      "_model_module_version": "1.5.0",
      "_model_name": "FloatProgressModel",
      "_view_count": null,
      "_view_module": "@jupyter-widgets/controls",
      "_view_module_version": "1.5.0",
      "_view_name": "ProgressView",
      "bar_style": "success",
      "description": "",
      "description_tooltip": null,
      "layout": "IPY_MODEL_7ad526eeda86422d8d54758a03b8ca1d",
      "max": 8906,
      "min": 0,
      "orientation": "horizontal",
      "style": "IPY_MODEL_6829dbc49c4b43da81594fddde17cee4",
      "value": 8906
     }
    },
    "ce85d7a9d0314c38bf17140d1d4592af": {
     "model_module": "@jupyter-widgets/controls",
     "model_module_version": "1.5.0",
     "model_name": "HTMLModel",
     "state": {
      "_dom_classes": [],
      "_model_module": "@jupyter-widgets/controls",
      "_model_module_version": "1.5.0",
      "_model_name": "HTMLModel",
      "_view_count": null,
      "_view_module": "@jupyter-widgets/controls",
      "_view_module_version": "1.5.0",
      "_view_name": "HTMLView",
      "description": "",
      "description_tooltip": null,
      "layout": "IPY_MODEL_be918a5c4f6f4594ae6fdbdb45a912df",
      "placeholder": "​",
      "style": "IPY_MODEL_e3aedb2a2bd646b5a29fa742a43961cb",
      "value": "Downloading (…)/main/tokenizer.json: 100%"
     }
    },
    "cf64a0ab49d342cba34472c2b7b30b36": {
     "model_module": "@jupyter-widgets/controls",
     "model_module_version": "1.5.0",
     "model_name": "FloatProgressModel",
     "state": {
      "_dom_classes": [],
      "_model_module": "@jupyter-widgets/controls",
      "_model_module_version": "1.5.0",
      "_model_name": "FloatProgressModel",
      "_view_count": null,
      "_view_module": "@jupyter-widgets/controls",
      "_view_module_version": "1.5.0",
      "_view_name": "ProgressView",
      "bar_style": "success",
      "description": "",
      "description_tooltip": null,
      "layout": "IPY_MODEL_f4b4ef50eda043c4bc1b30d090d57e50",
      "max": 570,
      "min": 0,
      "orientation": "horizontal",
      "style": "IPY_MODEL_d4ab3a0798a8463fade9572dc86c7940",
      "value": 570
     }
    },
    "d4ab3a0798a8463fade9572dc86c7940": {
     "model_module": "@jupyter-widgets/controls",
     "model_module_version": "1.5.0",
     "model_name": "ProgressStyleModel",
     "state": {
      "_model_module": "@jupyter-widgets/controls",
      "_model_module_version": "1.5.0",
      "_model_name": "ProgressStyleModel",
      "_view_count": null,
      "_view_module": "@jupyter-widgets/base",
      "_view_module_version": "1.2.0",
      "_view_name": "StyleView",
      "bar_color": null,
      "description_width": ""
     }
    },
    "d63856d2f23748c3b1c739c6b11ad01f": {
     "model_module": "@jupyter-widgets/base",
     "model_module_version": "1.2.0",
     "model_name": "LayoutModel",
     "state": {
      "_model_module": "@jupyter-widgets/base",
      "_model_module_version": "1.2.0",
      "_model_name": "LayoutModel",
      "_view_count": null,
      "_view_module": "@jupyter-widgets/base",
      "_view_module_version": "1.2.0",
      "_view_name": "LayoutView",
      "align_content": null,
      "align_items": null,
      "align_self": null,
      "border": null,
      "bottom": null,
      "display": null,
      "flex": null,
      "flex_flow": null,
      "grid_area": null,
      "grid_auto_columns": null,
      "grid_auto_flow": null,
      "grid_auto_rows": null,
      "grid_column": null,
      "grid_gap": null,
      "grid_row": null,
      "grid_template_areas": null,
      "grid_template_columns": null,
      "grid_template_rows": null,
      "height": null,
      "justify_content": null,
      "justify_items": null,
      "left": null,
      "margin": null,
      "max_height": null,
      "max_width": null,
      "min_height": null,
      "min_width": null,
      "object_fit": null,
      "object_position": null,
      "order": null,
      "overflow": null,
      "overflow_x": null,
      "overflow_y": null,
      "padding": null,
      "right": null,
      "top": null,
      "visibility": null,
      "width": null
     }
    },
    "d85ad27e179b4a4e8434d60472f1ae87": {
     "model_module": "@jupyter-widgets/base",
     "model_module_version": "1.2.0",
     "model_name": "LayoutModel",
     "state": {
      "_model_module": "@jupyter-widgets/base",
      "_model_module_version": "1.2.0",
      "_model_name": "LayoutModel",
      "_view_count": null,
      "_view_module": "@jupyter-widgets/base",
      "_view_module_version": "1.2.0",
      "_view_name": "LayoutView",
      "align_content": null,
      "align_items": null,
      "align_self": null,
      "border": null,
      "bottom": null,
      "display": null,
      "flex": null,
      "flex_flow": null,
      "grid_area": null,
      "grid_auto_columns": null,
      "grid_auto_flow": null,
      "grid_auto_rows": null,
      "grid_column": null,
      "grid_gap": null,
      "grid_row": null,
      "grid_template_areas": null,
      "grid_template_columns": null,
      "grid_template_rows": null,
      "height": null,
      "justify_content": null,
      "justify_items": null,
      "left": null,
      "margin": null,
      "max_height": null,
      "max_width": null,
      "min_height": null,
      "min_width": null,
      "object_fit": null,
      "object_position": null,
      "order": null,
      "overflow": null,
      "overflow_x": null,
      "overflow_y": null,
      "padding": null,
      "right": null,
      "top": null,
      "visibility": null,
      "width": null
     }
    },
    "dcda14adb40941c3875635edf5e54c80": {
     "model_module": "@jupyter-widgets/controls",
     "model_module_version": "1.5.0",
     "model_name": "DescriptionStyleModel",
     "state": {
      "_model_module": "@jupyter-widgets/controls",
      "_model_module_version": "1.5.0",
      "_model_name": "DescriptionStyleModel",
      "_view_count": null,
      "_view_module": "@jupyter-widgets/base",
      "_view_module_version": "1.2.0",
      "_view_name": "StyleView",
      "description_width": ""
     }
    },
    "dee68691e29746f9b068ccbbac1ae983": {
     "model_module": "@jupyter-widgets/base",
     "model_module_version": "1.2.0",
     "model_name": "LayoutModel",
     "state": {
      "_model_module": "@jupyter-widgets/base",
      "_model_module_version": "1.2.0",
      "_model_name": "LayoutModel",
      "_view_count": null,
      "_view_module": "@jupyter-widgets/base",
      "_view_module_version": "1.2.0",
      "_view_name": "LayoutView",
      "align_content": null,
      "align_items": null,
      "align_self": null,
      "border": null,
      "bottom": null,
      "display": null,
      "flex": null,
      "flex_flow": null,
      "grid_area": null,
      "grid_auto_columns": null,
      "grid_auto_flow": null,
      "grid_auto_rows": null,
      "grid_column": null,
      "grid_gap": null,
      "grid_row": null,
      "grid_template_areas": null,
      "grid_template_columns": null,
      "grid_template_rows": null,
      "height": null,
      "justify_content": null,
      "justify_items": null,
      "left": null,
      "margin": null,
      "max_height": null,
      "max_width": null,
      "min_height": null,
      "min_width": null,
      "object_fit": null,
      "object_position": null,
      "order": null,
      "overflow": null,
      "overflow_x": null,
      "overflow_y": null,
      "padding": null,
      "right": null,
      "top": null,
      "visibility": null,
      "width": null
     }
    },
    "e22eaa45e3eb4b06a6ea4c37d17344ff": {
     "model_module": "@jupyter-widgets/controls",
     "model_module_version": "1.5.0",
     "model_name": "ProgressStyleModel",
     "state": {
      "_model_module": "@jupyter-widgets/controls",
      "_model_module_version": "1.5.0",
      "_model_name": "ProgressStyleModel",
      "_view_count": null,
      "_view_module": "@jupyter-widgets/base",
      "_view_module_version": "1.2.0",
      "_view_name": "StyleView",
      "bar_color": null,
      "description_width": ""
     }
    },
    "e3aedb2a2bd646b5a29fa742a43961cb": {
     "model_module": "@jupyter-widgets/controls",
     "model_module_version": "1.5.0",
     "model_name": "DescriptionStyleModel",
     "state": {
      "_model_module": "@jupyter-widgets/controls",
      "_model_module_version": "1.5.0",
      "_model_name": "DescriptionStyleModel",
      "_view_count": null,
      "_view_module": "@jupyter-widgets/base",
      "_view_module_version": "1.2.0",
      "_view_name": "StyleView",
      "description_width": ""
     }
    },
    "e84544c8e68f4a66b68eb2e38ed90c19": {
     "model_module": "@jupyter-widgets/base",
     "model_module_version": "1.2.0",
     "model_name": "LayoutModel",
     "state": {
      "_model_module": "@jupyter-widgets/base",
      "_model_module_version": "1.2.0",
      "_model_name": "LayoutModel",
      "_view_count": null,
      "_view_module": "@jupyter-widgets/base",
      "_view_module_version": "1.2.0",
      "_view_name": "LayoutView",
      "align_content": null,
      "align_items": null,
      "align_self": null,
      "border": null,
      "bottom": null,
      "display": null,
      "flex": null,
      "flex_flow": null,
      "grid_area": null,
      "grid_auto_columns": null,
      "grid_auto_flow": null,
      "grid_auto_rows": null,
      "grid_column": null,
      "grid_gap": null,
      "grid_row": null,
      "grid_template_areas": null,
      "grid_template_columns": null,
      "grid_template_rows": null,
      "height": null,
      "justify_content": null,
      "justify_items": null,
      "left": null,
      "margin": null,
      "max_height": null,
      "max_width": null,
      "min_height": null,
      "min_width": null,
      "object_fit": null,
      "object_position": null,
      "order": null,
      "overflow": null,
      "overflow_x": null,
      "overflow_y": null,
      "padding": null,
      "right": null,
      "top": null,
      "visibility": null,
      "width": null
     }
    },
    "e8e13b99e0d4452ea8192e2893e67b56": {
     "model_module": "@jupyter-widgets/controls",
     "model_module_version": "1.5.0",
     "model_name": "DescriptionStyleModel",
     "state": {
      "_model_module": "@jupyter-widgets/controls",
      "_model_module_version": "1.5.0",
      "_model_name": "DescriptionStyleModel",
      "_view_count": null,
      "_view_module": "@jupyter-widgets/base",
      "_view_module_version": "1.2.0",
      "_view_name": "StyleView",
      "description_width": ""
     }
    },
    "f0cd99b803044a8f8229cf7541d8548c": {
     "model_module": "@jupyter-widgets/controls",
     "model_module_version": "1.5.0",
     "model_name": "DescriptionStyleModel",
     "state": {
      "_model_module": "@jupyter-widgets/controls",
      "_model_module_version": "1.5.0",
      "_model_name": "DescriptionStyleModel",
      "_view_count": null,
      "_view_module": "@jupyter-widgets/base",
      "_view_module_version": "1.2.0",
      "_view_name": "StyleView",
      "description_width": ""
     }
    },
    "f1c950cdf94d44de80615acf9882a78a": {
     "model_module": "@jupyter-widgets/base",
     "model_module_version": "1.2.0",
     "model_name": "LayoutModel",
     "state": {
      "_model_module": "@jupyter-widgets/base",
      "_model_module_version": "1.2.0",
      "_model_name": "LayoutModel",
      "_view_count": null,
      "_view_module": "@jupyter-widgets/base",
      "_view_module_version": "1.2.0",
      "_view_name": "LayoutView",
      "align_content": null,
      "align_items": null,
      "align_self": null,
      "border": null,
      "bottom": null,
      "display": null,
      "flex": null,
      "flex_flow": null,
      "grid_area": null,
      "grid_auto_columns": null,
      "grid_auto_flow": null,
      "grid_auto_rows": null,
      "grid_column": null,
      "grid_gap": null,
      "grid_row": null,
      "grid_template_areas": null,
      "grid_template_columns": null,
      "grid_template_rows": null,
      "height": null,
      "justify_content": null,
      "justify_items": null,
      "left": null,
      "margin": null,
      "max_height": null,
      "max_width": null,
      "min_height": null,
      "min_width": null,
      "object_fit": null,
      "object_position": null,
      "order": null,
      "overflow": null,
      "overflow_x": null,
      "overflow_y": null,
      "padding": null,
      "right": null,
      "top": null,
      "visibility": null,
      "width": null
     }
    },
    "f4b4ef50eda043c4bc1b30d090d57e50": {
     "model_module": "@jupyter-widgets/base",
     "model_module_version": "1.2.0",
     "model_name": "LayoutModel",
     "state": {
      "_model_module": "@jupyter-widgets/base",
      "_model_module_version": "1.2.0",
      "_model_name": "LayoutModel",
      "_view_count": null,
      "_view_module": "@jupyter-widgets/base",
      "_view_module_version": "1.2.0",
      "_view_name": "LayoutView",
      "align_content": null,
      "align_items": null,
      "align_self": null,
      "border": null,
      "bottom": null,
      "display": null,
      "flex": null,
      "flex_flow": null,
      "grid_area": null,
      "grid_auto_columns": null,
      "grid_auto_flow": null,
      "grid_auto_rows": null,
      "grid_column": null,
      "grid_gap": null,
      "grid_row": null,
      "grid_template_areas": null,
      "grid_template_columns": null,
      "grid_template_rows": null,
      "height": null,
      "justify_content": null,
      "justify_items": null,
      "left": null,
      "margin": null,
      "max_height": null,
      "max_width": null,
      "min_height": null,
      "min_width": null,
      "object_fit": null,
      "object_position": null,
      "order": null,
      "overflow": null,
      "overflow_x": null,
      "overflow_y": null,
      "padding": null,
      "right": null,
      "top": null,
      "visibility": null,
      "width": null
     }
    },
    "f6796690c72c4f418179d81792883c65": {
     "model_module": "@jupyter-widgets/controls",
     "model_module_version": "1.5.0",
     "model_name": "HTMLModel",
     "state": {
      "_dom_classes": [],
      "_model_module": "@jupyter-widgets/controls",
      "_model_module_version": "1.5.0",
      "_model_name": "HTMLModel",
      "_view_count": null,
      "_view_module": "@jupyter-widgets/controls",
      "_view_module_version": "1.5.0",
      "_view_name": "HTMLView",
      "description": "",
      "description_tooltip": null,
      "layout": "IPY_MODEL_6aca8d63faed4da79dfd6da31fea2b87",
      "placeholder": "​",
      "style": "IPY_MODEL_ae1ad0ab331c418c880cffe9f324f5f5",
      "value": "Downloading pytorch_model.bin: 100%"
     }
    },
    "fabaf38b9acb4f0c96c2e1966372aeb8": {
     "model_module": "@jupyter-widgets/base",
     "model_module_version": "1.2.0",
     "model_name": "LayoutModel",
     "state": {
      "_model_module": "@jupyter-widgets/base",
      "_model_module_version": "1.2.0",
      "_model_name": "LayoutModel",
      "_view_count": null,
      "_view_module": "@jupyter-widgets/base",
      "_view_module_version": "1.2.0",
      "_view_name": "LayoutView",
      "align_content": null,
      "align_items": null,
      "align_self": null,
      "border": null,
      "bottom": null,
      "display": null,
      "flex": null,
      "flex_flow": null,
      "grid_area": null,
      "grid_auto_columns": null,
      "grid_auto_flow": null,
      "grid_auto_rows": null,
      "grid_column": null,
      "grid_gap": null,
      "grid_row": null,
      "grid_template_areas": null,
      "grid_template_columns": null,
      "grid_template_rows": null,
      "height": null,
      "justify_content": null,
      "justify_items": null,
      "left": null,
      "margin": null,
      "max_height": null,
      "max_width": null,
      "min_height": null,
      "min_width": null,
      "object_fit": null,
      "object_position": null,
      "order": null,
      "overflow": null,
      "overflow_x": null,
      "overflow_y": null,
      "padding": null,
      "right": null,
      "top": null,
      "visibility": null,
      "width": null
     }
    },
    "fad10565e0a64a1dac8d3b28734ae18d": {
     "model_module": "@jupyter-widgets/controls",
     "model_module_version": "1.5.0",
     "model_name": "HBoxModel",
     "state": {
      "_dom_classes": [],
      "_model_module": "@jupyter-widgets/controls",
      "_model_module_version": "1.5.0",
      "_model_name": "HBoxModel",
      "_view_count": null,
      "_view_module": "@jupyter-widgets/controls",
      "_view_module_version": "1.5.0",
      "_view_name": "HBoxView",
      "box_style": "",
      "children": [
       "IPY_MODEL_c9e7726e2d2a49b8b3bf2e1e51f1c713",
       "IPY_MODEL_5aacf06cbeff4d86acc7ecdac9ccdb59",
       "IPY_MODEL_05da59582aa944039e4664ff86aa3381"
      ],
      "layout": "IPY_MODEL_e84544c8e68f4a66b68eb2e38ed90c19"
     }
    },
    "fc384f3fe16f4f868ff5c428ce86574e": {
     "model_module": "@jupyter-widgets/controls",
     "model_module_version": "1.5.0",
     "model_name": "ProgressStyleModel",
     "state": {
      "_model_module": "@jupyter-widgets/controls",
      "_model_module_version": "1.5.0",
      "_model_name": "ProgressStyleModel",
      "_view_count": null,
      "_view_module": "@jupyter-widgets/base",
      "_view_module_version": "1.2.0",
      "_view_name": "StyleView",
      "bar_color": null,
      "description_width": ""
     }
    }
   }
  }
 },
 "nbformat": 4,
 "nbformat_minor": 1
}
