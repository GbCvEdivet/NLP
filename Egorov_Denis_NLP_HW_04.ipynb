{
 "cells": [
  {
   "cell_type": "code",
   "execution_count": 1,
   "metadata": {
    "id": "0cy-wwh8f_EO"
   },
   "outputs": [],
   "source": [
    "import requests\n",
    "from bs4 import BeautifulSoup\n",
    "import time\n",
    "from tqdm.notebook import tqdm\n",
    "from time import sleep"
   ]
  },
  {
   "cell_type": "code",
   "execution_count": 24,
   "metadata": {
    "id": "pSYb33ch7gjR"
   },
   "outputs": [],
   "source": [
    "from IPython.display import display, HTML"
   ]
  },
  {
   "cell_type": "code",
   "execution_count": 14,
   "metadata": {
    "colab": {
     "base_uri": "https://localhost:8080/"
    },
    "id": "vQ0R4jq26pSj",
    "outputId": "8b5a3b62-60c3-475a-84a5-17e5c9977f5d"
   },
   "outputs": [
    {
     "name": "stderr",
     "output_type": "stream",
     "text": [
      "/usr/local/lib/python3.10/dist-packages/ipykernel/ipkernel.py:283: DeprecationWarning: `should_run_async` will not call `transform_cell` automatically in the future. Please pass the result to `transformed_cell` argument and any exception that happen during thetransform in `preprocessing_exc_tuple` in IPython 7.17 and above.\n",
      "  and should_run_async(code)\n"
     ]
    }
   ],
   "source": [
    "import warnings\n",
    "warnings.filterwarnings(\"ignore\", category=DeprecationWarning)"
   ]
  },
  {
   "cell_type": "code",
   "execution_count": 2,
   "metadata": {
    "colab": {
     "base_uri": "https://localhost:8080/"
    },
    "id": "SwH5pARf5nHK",
    "outputId": "a3a331ec-69c8-44a1-dccc-411a3af3c76b"
   },
   "outputs": [
    {
     "name": "stdout",
     "output_type": "stream",
     "text": [
      "Requirement already satisfied: pyLDAvis in /usr/local/lib/python3.10/dist-packages (3.4.1)\n",
      "Requirement already satisfied: numpy>=1.24.2 in /usr/local/lib/python3.10/dist-packages (from pyLDAvis) (1.25.2)\n",
      "Requirement already satisfied: scipy in /usr/local/lib/python3.10/dist-packages (from pyLDAvis) (1.10.1)\n",
      "Requirement already satisfied: pandas>=2.0.0 in /usr/local/lib/python3.10/dist-packages (from pyLDAvis) (2.0.3)\n",
      "Requirement already satisfied: joblib>=1.2.0 in /usr/local/lib/python3.10/dist-packages (from pyLDAvis) (1.3.2)\n",
      "Requirement already satisfied: jinja2 in /usr/local/lib/python3.10/dist-packages (from pyLDAvis) (3.1.2)\n",
      "Requirement already satisfied: numexpr in /usr/local/lib/python3.10/dist-packages (from pyLDAvis) (2.8.5)\n",
      "Requirement already satisfied: funcy in /usr/local/lib/python3.10/dist-packages (from pyLDAvis) (2.0)\n",
      "Requirement already satisfied: scikit-learn>=1.0.0 in /usr/local/lib/python3.10/dist-packages (from pyLDAvis) (1.2.2)\n",
      "Requirement already satisfied: gensim in /usr/local/lib/python3.10/dist-packages (from pyLDAvis) (4.3.1)\n",
      "Requirement already satisfied: setuptools in /usr/local/lib/python3.10/dist-packages (from pyLDAvis) (67.7.2)\n",
      "Requirement already satisfied: python-dateutil>=2.8.2 in /usr/local/lib/python3.10/dist-packages (from pandas>=2.0.0->pyLDAvis) (2.8.2)\n",
      "Requirement already satisfied: pytz>=2020.1 in /usr/local/lib/python3.10/dist-packages (from pandas>=2.0.0->pyLDAvis) (2023.3)\n",
      "Requirement already satisfied: tzdata>=2022.1 in /usr/local/lib/python3.10/dist-packages (from pandas>=2.0.0->pyLDAvis) (2023.3)\n",
      "Requirement already satisfied: threadpoolctl>=2.0.0 in /usr/local/lib/python3.10/dist-packages (from scikit-learn>=1.0.0->pyLDAvis) (3.2.0)\n",
      "Requirement already satisfied: smart-open>=1.8.1 in /usr/local/lib/python3.10/dist-packages (from gensim->pyLDAvis) (6.3.0)\n",
      "Requirement already satisfied: MarkupSafe>=2.0 in /usr/local/lib/python3.10/dist-packages (from jinja2->pyLDAvis) (2.1.3)\n",
      "Requirement already satisfied: six>=1.5 in /usr/local/lib/python3.10/dist-packages (from python-dateutil>=2.8.2->pandas>=2.0.0->pyLDAvis) (1.16.0)\n"
     ]
    }
   ],
   "source": [
    "!pip install pyLDAvis\n",
    "import pyLDAvis.gensim_models"
   ]
  },
  {
   "cell_type": "code",
   "execution_count": 3,
   "metadata": {
    "colab": {
     "base_uri": "https://localhost:8080/"
    },
    "id": "rQAsDsHWzy5t",
    "outputId": "864db287-9ab1-4985-af93-bc8cd9e319ac"
   },
   "outputs": [
    {
     "name": "stderr",
     "output_type": "stream",
     "text": [
      "/usr/local/lib/python3.10/dist-packages/ipykernel/ipkernel.py:283: DeprecationWarning: `should_run_async` will not call `transform_cell` automatically in the future. Please pass the result to `transformed_cell` argument and any exception that happen during thetransform in `preprocessing_exc_tuple` in IPython 7.17 and above.\n",
      "  and should_run_async(code)\n"
     ]
    },
    {
     "name": "stdout",
     "output_type": "stream",
     "text": [
      "Requirement already satisfied: pymorphy2 in /usr/local/lib/python3.10/dist-packages (0.9.1)\n",
      "Requirement already satisfied: dawg-python>=0.7.1 in /usr/local/lib/python3.10/dist-packages (from pymorphy2) (0.7.2)\n",
      "Requirement already satisfied: pymorphy2-dicts-ru<3.0,>=2.4 in /usr/local/lib/python3.10/dist-packages (from pymorphy2) (2.4.417127.4579844)\n",
      "Requirement already satisfied: docopt>=0.6 in /usr/local/lib/python3.10/dist-packages (from pymorphy2) (0.6.2)\n"
     ]
    }
   ],
   "source": [
    "!pip install pymorphy2\n",
    "import pymorphy2"
   ]
  },
  {
   "cell_type": "code",
   "execution_count": 4,
   "metadata": {
    "colab": {
     "base_uri": "https://localhost:8080/"
    },
    "id": "PQ4xwQQR2KGf",
    "outputId": "adf9a2d2-7061-48af-9911-0b52d06d7e1a"
   },
   "outputs": [
    {
     "name": "stderr",
     "output_type": "stream",
     "text": [
      "/usr/local/lib/python3.10/dist-packages/ipykernel/ipkernel.py:283: DeprecationWarning: `should_run_async` will not call `transform_cell` automatically in the future. Please pass the result to `transformed_cell` argument and any exception that happen during thetransform in `preprocessing_exc_tuple` in IPython 7.17 and above.\n",
      "  and should_run_async(code)\n"
     ]
    },
    {
     "name": "stdout",
     "output_type": "stream",
     "text": [
      "Requirement already satisfied: gensim in /usr/local/lib/python3.10/dist-packages (4.3.1)\n",
      "Requirement already satisfied: numpy>=1.18.5 in /usr/local/lib/python3.10/dist-packages (from gensim) (1.25.2)\n",
      "Requirement already satisfied: scipy>=1.7.0 in /usr/local/lib/python3.10/dist-packages (from gensim) (1.10.1)\n",
      "Requirement already satisfied: smart-open>=1.8.1 in /usr/local/lib/python3.10/dist-packages (from gensim) (6.3.0)\n"
     ]
    },
    {
     "name": "stderr",
     "output_type": "stream",
     "text": [
      "/usr/local/lib/python3.10/dist-packages/google/rpc/__init__.py:20: DeprecationWarning: Deprecated call to `pkg_resources.declare_namespace('google.rpc')`.\n",
      "Implementing implicit namespace packages (as specified in PEP 420) is preferred to `pkg_resources.declare_namespace`. See https://setuptools.pypa.io/en/latest/references/keywords.html#keyword-namespace-packages\n",
      "  pkg_resources.declare_namespace(__name__)\n",
      "/usr/local/lib/python3.10/dist-packages/pkg_resources/__init__.py:2349: DeprecationWarning: Deprecated call to `pkg_resources.declare_namespace('google')`.\n",
      "Implementing implicit namespace packages (as specified in PEP 420) is preferred to `pkg_resources.declare_namespace`. See https://setuptools.pypa.io/en/latest/references/keywords.html#keyword-namespace-packages\n",
      "  declare_namespace(parent)\n"
     ]
    }
   ],
   "source": [
    "!pip install -U gensim\n",
    "from gensim.models import *\n",
    "from gensim import corpora"
   ]
  },
  {
   "cell_type": "code",
   "execution_count": 5,
   "metadata": {
    "colab": {
     "base_uri": "https://localhost:8080/"
    },
    "id": "6-c_oY2cx0Eb",
    "outputId": "99087928-e34d-4157-adec-c5d0dd1a47a0"
   },
   "outputs": [
    {
     "name": "stderr",
     "output_type": "stream",
     "text": [
      "/usr/local/lib/python3.10/dist-packages/ipykernel/ipkernel.py:283: DeprecationWarning: `should_run_async` will not call `transform_cell` automatically in the future. Please pass the result to `transformed_cell` argument and any exception that happen during thetransform in `preprocessing_exc_tuple` in IPython 7.17 and above.\n",
      "  and should_run_async(code)\n",
      "[nltk_data] Downloading package wordnet to /root/nltk_data...\n",
      "[nltk_data]   Package wordnet is already up-to-date!\n",
      "[nltk_data] Downloading package stopwords to /root/nltk_data...\n",
      "[nltk_data]   Package stopwords is already up-to-date!\n"
     ]
    },
    {
     "data": {
      "text/plain": [
       "True"
      ]
     },
     "execution_count": 5,
     "metadata": {},
     "output_type": "execute_result"
    }
   ],
   "source": [
    "import nltk\n",
    "from nltk.stem.wordnet import WordNetLemmatizer\n",
    "from nltk.corpus import stopwords\n",
    "nltk.download('wordnet')\n",
    "nltk.download('stopwords')"
   ]
  },
  {
   "cell_type": "code",
   "execution_count": 6,
   "metadata": {
    "colab": {
     "base_uri": "https://localhost:8080/"
    },
    "id": "IZdQ-keQyUx4",
    "outputId": "5210eab3-8c4f-4d2c-a85d-d48794e4b4ea"
   },
   "outputs": [
    {
     "name": "stderr",
     "output_type": "stream",
     "text": [
      "/usr/local/lib/python3.10/dist-packages/ipykernel/ipkernel.py:283: DeprecationWarning: `should_run_async` will not call `transform_cell` automatically in the future. Please pass the result to `transformed_cell` argument and any exception that happen during thetransform in `preprocessing_exc_tuple` in IPython 7.17 and above.\n",
      "  and should_run_async(code)\n"
     ]
    }
   ],
   "source": [
    "import re"
   ]
  },
  {
   "cell_type": "code",
   "execution_count": 7,
   "metadata": {
    "colab": {
     "base_uri": "https://localhost:8080/"
    },
    "id": "1DZGn9WtyFpL",
    "outputId": "7c468b6b-4fe7-4a6b-877a-7acc8a55c436"
   },
   "outputs": [
    {
     "name": "stderr",
     "output_type": "stream",
     "text": [
      "/usr/local/lib/python3.10/dist-packages/ipykernel/ipkernel.py:283: DeprecationWarning: `should_run_async` will not call `transform_cell` automatically in the future. Please pass the result to `transformed_cell` argument and any exception that happen during thetransform in `preprocessing_exc_tuple` in IPython 7.17 and above.\n",
      "  and should_run_async(code)\n"
     ]
    }
   ],
   "source": [
    "stop_words = set(stopwords.words('russian'))\n",
    "lemmatiser = WordNetLemmatizer()"
   ]
  },
  {
   "cell_type": "markdown",
   "metadata": {
    "id": "R-bkaR4WsP9p"
   },
   "source": [
    "Тот парсер сильно замороченный, сделал попроще. Из коллаба роспотребнадзор не отвечает, парсить надо с локальной машины. В цикле for i в range надо указать номера обращений, они там просто по порядку, но некоторых страниц нехватает, поэтому через try-except"
   ]
  },
  {
   "cell_type": "code",
   "execution_count": null,
   "metadata": {
    "id": "45u-zN_PsLGu"
   },
   "outputs": [],
   "source": [
    "# можно не запускать, сайт роспотреба все равно не ответит\n",
    "'''\n",
    "questions = []\n",
    "lost_counter = 0\n",
    "\n",
    "for page in tqdm(range(38350, 39350), desc='Pages'):\n",
    "    url = 'https://zpp.rospotrebnadzor.ru/Forum/Appeals/Details/'\n",
    "    headers = {\n",
    "        'User-Agent': 'Mozilla/5.0 (Windows NT 10.0; Win64; x64) AppleWebKit/537.36 (KHTML, like Gecko) Chrome/108.0.0.0 YaBrowser/23.1.2.931 Yowser/2.5 Safari/537.36'\n",
    "    }\n",
    "    res = requests.get(f'{url}{page}')\n",
    "    soup = BeautifulSoup(res.text)\n",
    "    try:\n",
    "        question = soup.find('p', {'class':'appeal-details-message'}).text\n",
    "        questions.append(question)\n",
    "    except AttributeError:\n",
    "        lost_counter += 1\n",
    "    sleep(0.5)\n",
    "print(f'Страниц потеряно: {lost_counter}')\n",
    "print(f'Страниц собрано: {len(questions)}')\n",
    "'''"
   ]
  },
  {
   "cell_type": "markdown",
   "metadata": {
    "id": "2peq91lluQAT"
   },
   "source": [
    "Страниц потеряно: 231\n",
    "Страниц собрано: 769"
   ]
  },
  {
   "cell_type": "code",
   "execution_count": 8,
   "metadata": {
    "colab": {
     "base_uri": "https://localhost:8080/",
     "height": 127
    },
    "id": "g2F_Ijb8uQeG",
    "outputId": "e75be443-e18a-48b6-baec-d0c69eab5e64"
   },
   "outputs": [
    {
     "name": "stderr",
     "output_type": "stream",
     "text": [
      "/usr/local/lib/python3.10/dist-packages/ipykernel/ipkernel.py:283: DeprecationWarning: `should_run_async` will not call `transform_cell` automatically in the future. Please pass the result to `transformed_cell` argument and any exception that happen during thetransform in `preprocessing_exc_tuple` in IPython 7.17 and above.\n",
      "  and should_run_async(code)\n"
     ]
    },
    {
     "data": {
      "text/html": [
       "\n",
       "     <input type=\"file\" id=\"files-b9a169c7-c293-4ba9-a86d-e9e806627637\" name=\"files[]\" multiple disabled\n",
       "        style=\"border:none\" />\n",
       "     <output id=\"result-b9a169c7-c293-4ba9-a86d-e9e806627637\">\n",
       "      Upload widget is only available when the cell has been executed in the\n",
       "      current browser session. Please rerun this cell to enable.\n",
       "      </output>\n",
       "      <script>// Copyright 2017 Google LLC\n",
       "//\n",
       "// Licensed under the Apache License, Version 2.0 (the \"License\");\n",
       "// you may not use this file except in compliance with the License.\n",
       "// You may obtain a copy of the License at\n",
       "//\n",
       "//      http://www.apache.org/licenses/LICENSE-2.0\n",
       "//\n",
       "// Unless required by applicable law or agreed to in writing, software\n",
       "// distributed under the License is distributed on an \"AS IS\" BASIS,\n",
       "// WITHOUT WARRANTIES OR CONDITIONS OF ANY KIND, either express or implied.\n",
       "// See the License for the specific language governing permissions and\n",
       "// limitations under the License.\n",
       "\n",
       "/**\n",
       " * @fileoverview Helpers for google.colab Python module.\n",
       " */\n",
       "(function(scope) {\n",
       "function span(text, styleAttributes = {}) {\n",
       "  const element = document.createElement('span');\n",
       "  element.textContent = text;\n",
       "  for (const key of Object.keys(styleAttributes)) {\n",
       "    element.style[key] = styleAttributes[key];\n",
       "  }\n",
       "  return element;\n",
       "}\n",
       "\n",
       "// Max number of bytes which will be uploaded at a time.\n",
       "const MAX_PAYLOAD_SIZE = 100 * 1024;\n",
       "\n",
       "function _uploadFiles(inputId, outputId) {\n",
       "  const steps = uploadFilesStep(inputId, outputId);\n",
       "  const outputElement = document.getElementById(outputId);\n",
       "  // Cache steps on the outputElement to make it available for the next call\n",
       "  // to uploadFilesContinue from Python.\n",
       "  outputElement.steps = steps;\n",
       "\n",
       "  return _uploadFilesContinue(outputId);\n",
       "}\n",
       "\n",
       "// This is roughly an async generator (not supported in the browser yet),\n",
       "// where there are multiple asynchronous steps and the Python side is going\n",
       "// to poll for completion of each step.\n",
       "// This uses a Promise to block the python side on completion of each step,\n",
       "// then passes the result of the previous step as the input to the next step.\n",
       "function _uploadFilesContinue(outputId) {\n",
       "  const outputElement = document.getElementById(outputId);\n",
       "  const steps = outputElement.steps;\n",
       "\n",
       "  const next = steps.next(outputElement.lastPromiseValue);\n",
       "  return Promise.resolve(next.value.promise).then((value) => {\n",
       "    // Cache the last promise value to make it available to the next\n",
       "    // step of the generator.\n",
       "    outputElement.lastPromiseValue = value;\n",
       "    return next.value.response;\n",
       "  });\n",
       "}\n",
       "\n",
       "/**\n",
       " * Generator function which is called between each async step of the upload\n",
       " * process.\n",
       " * @param {string} inputId Element ID of the input file picker element.\n",
       " * @param {string} outputId Element ID of the output display.\n",
       " * @return {!Iterable<!Object>} Iterable of next steps.\n",
       " */\n",
       "function* uploadFilesStep(inputId, outputId) {\n",
       "  const inputElement = document.getElementById(inputId);\n",
       "  inputElement.disabled = false;\n",
       "\n",
       "  const outputElement = document.getElementById(outputId);\n",
       "  outputElement.innerHTML = '';\n",
       "\n",
       "  const pickedPromise = new Promise((resolve) => {\n",
       "    inputElement.addEventListener('change', (e) => {\n",
       "      resolve(e.target.files);\n",
       "    });\n",
       "  });\n",
       "\n",
       "  const cancel = document.createElement('button');\n",
       "  inputElement.parentElement.appendChild(cancel);\n",
       "  cancel.textContent = 'Cancel upload';\n",
       "  const cancelPromise = new Promise((resolve) => {\n",
       "    cancel.onclick = () => {\n",
       "      resolve(null);\n",
       "    };\n",
       "  });\n",
       "\n",
       "  // Wait for the user to pick the files.\n",
       "  const files = yield {\n",
       "    promise: Promise.race([pickedPromise, cancelPromise]),\n",
       "    response: {\n",
       "      action: 'starting',\n",
       "    }\n",
       "  };\n",
       "\n",
       "  cancel.remove();\n",
       "\n",
       "  // Disable the input element since further picks are not allowed.\n",
       "  inputElement.disabled = true;\n",
       "\n",
       "  if (!files) {\n",
       "    return {\n",
       "      response: {\n",
       "        action: 'complete',\n",
       "      }\n",
       "    };\n",
       "  }\n",
       "\n",
       "  for (const file of files) {\n",
       "    const li = document.createElement('li');\n",
       "    li.append(span(file.name, {fontWeight: 'bold'}));\n",
       "    li.append(span(\n",
       "        `(${file.type || 'n/a'}) - ${file.size} bytes, ` +\n",
       "        `last modified: ${\n",
       "            file.lastModifiedDate ? file.lastModifiedDate.toLocaleDateString() :\n",
       "                                    'n/a'} - `));\n",
       "    const percent = span('0% done');\n",
       "    li.appendChild(percent);\n",
       "\n",
       "    outputElement.appendChild(li);\n",
       "\n",
       "    const fileDataPromise = new Promise((resolve) => {\n",
       "      const reader = new FileReader();\n",
       "      reader.onload = (e) => {\n",
       "        resolve(e.target.result);\n",
       "      };\n",
       "      reader.readAsArrayBuffer(file);\n",
       "    });\n",
       "    // Wait for the data to be ready.\n",
       "    let fileData = yield {\n",
       "      promise: fileDataPromise,\n",
       "      response: {\n",
       "        action: 'continue',\n",
       "      }\n",
       "    };\n",
       "\n",
       "    // Use a chunked sending to avoid message size limits. See b/62115660.\n",
       "    let position = 0;\n",
       "    do {\n",
       "      const length = Math.min(fileData.byteLength - position, MAX_PAYLOAD_SIZE);\n",
       "      const chunk = new Uint8Array(fileData, position, length);\n",
       "      position += length;\n",
       "\n",
       "      const base64 = btoa(String.fromCharCode.apply(null, chunk));\n",
       "      yield {\n",
       "        response: {\n",
       "          action: 'append',\n",
       "          file: file.name,\n",
       "          data: base64,\n",
       "        },\n",
       "      };\n",
       "\n",
       "      let percentDone = fileData.byteLength === 0 ?\n",
       "          100 :\n",
       "          Math.round((position / fileData.byteLength) * 100);\n",
       "      percent.textContent = `${percentDone}% done`;\n",
       "\n",
       "    } while (position < fileData.byteLength);\n",
       "  }\n",
       "\n",
       "  // All done.\n",
       "  yield {\n",
       "    response: {\n",
       "      action: 'complete',\n",
       "    }\n",
       "  };\n",
       "}\n",
       "\n",
       "scope.google = scope.google || {};\n",
       "scope.google.colab = scope.google.colab || {};\n",
       "scope.google.colab._files = {\n",
       "  _uploadFiles,\n",
       "  _uploadFilesContinue,\n",
       "};\n",
       "})(self);\n",
       "</script> "
      ],
      "text/plain": [
       "<IPython.core.display.HTML object>"
      ]
     },
     "metadata": {},
     "output_type": "display_data"
    },
    {
     "name": "stdout",
     "output_type": "stream",
     "text": [
      "Saving questions_list.ob to questions_list (1).ob\n"
     ]
    }
   ],
   "source": [
    "from google.colab import files\n",
    "uploaded = files.upload()"
   ]
  },
  {
   "cell_type": "code",
   "execution_count": 9,
   "metadata": {
    "colab": {
     "base_uri": "https://localhost:8080/"
    },
    "id": "rQy9qKarvDO9",
    "outputId": "0ff90629-4889-4c70-ab8e-e81a952103b5"
   },
   "outputs": [
    {
     "name": "stderr",
     "output_type": "stream",
     "text": [
      "/usr/local/lib/python3.10/dist-packages/ipykernel/ipkernel.py:283: DeprecationWarning: `should_run_async` will not call `transform_cell` automatically in the future. Please pass the result to `transformed_cell` argument and any exception that happen during thetransform in `preprocessing_exc_tuple` in IPython 7.17 and above.\n",
      "  and should_run_async(code)\n"
     ]
    }
   ],
   "source": [
    "import pickle\n",
    "with open ('/content/questions_list.ob', 'rb') as fp:\n",
    "    questions = pickle.load(fp)"
   ]
  },
  {
   "cell_type": "code",
   "execution_count": 10,
   "metadata": {
    "colab": {
     "base_uri": "https://localhost:8080/",
     "height": 159
    },
    "id": "pibOG8gEvQdA",
    "outputId": "7f502099-086c-484d-9a30-02a981a6af8c"
   },
   "outputs": [
    {
     "name": "stderr",
     "output_type": "stream",
     "text": [
      "/usr/local/lib/python3.10/dist-packages/ipykernel/ipkernel.py:283: DeprecationWarning: `should_run_async` will not call `transform_cell` automatically in the future. Please pass the result to `transformed_cell` argument and any exception that happen during thetransform in `preprocessing_exc_tuple` in IPython 7.17 and above.\n",
      "  and should_run_async(code)\n"
     ]
    },
    {
     "data": {
      "application/vnd.google.colaboratory.intrinsic+json": {
       "type": "string"
      },
      "text/plain": [
       "'Добрый вечер, Валдбериз, не возвращает средства, списанные за обратную доставку бракованного товара, заказывала 3 раза! В надежде, что придут без брака , сковородки, но присылали 1 оаз качественный товар, а еще 2 раза ( хотела купить еще 5 сковородок) с браком крепежа ручек, необдноскратно писала обращения в личном кабинете, на их официальную почту, напрямую продавцу через личный кабинет, отвечает чат борт, что возврат за обратную дрставку с браком будут возвращать, но, механизм еще не отлажен, написала им заявление по форме на возврат средств....ответа нет, прошу помочь, как вернуть , списанные ни за что средства.... я много лет клиент этого сервиса и с таким сталкиваюсь впервые...3 месяца пыталась вернут деньги....общаясь с валдбериз'"
      ]
     },
     "execution_count": 10,
     "metadata": {},
     "output_type": "execute_result"
    }
   ],
   "source": [
    "questions[42]"
   ]
  },
  {
   "cell_type": "code",
   "execution_count": 11,
   "metadata": {
    "colab": {
     "base_uri": "https://localhost:8080/"
    },
    "id": "aFI2w0Llxk7m",
    "outputId": "8da948cf-ceb9-4c82-8ebd-a4fb0ea678f8"
   },
   "outputs": [
    {
     "name": "stderr",
     "output_type": "stream",
     "text": [
      "/usr/local/lib/python3.10/dist-packages/ipykernel/ipkernel.py:283: DeprecationWarning: `should_run_async` will not call `transform_cell` automatically in the future. Please pass the result to `transformed_cell` argument and any exception that happen during thetransform in `preprocessing_exc_tuple` in IPython 7.17 and above.\n",
      "  and should_run_async(code)\n"
     ]
    }
   ],
   "source": [
    "emoticon_dict = {\n",
    "\":)\": \"happy\",\n",
    "\":-)\": \"happy\",\n",
    "\":-]\": \"happy\",\n",
    "\":-3\": \"happy\",\n",
    "\":->\": \"happy\",\n",
    "\"8-)\": \"happy\",\n",
    "\":-}\": \"happy\",\n",
    "\":o)\": \"happy\",\n",
    "\":c)\": \"happy\",\n",
    "\":^)\": \"happy\",\n",
    "\"=]\": \"happy\",\n",
    "\"=)\": \"happy\",\n",
    "\"<3\": \"happy\",\n",
    "\":-(\": \"sad\",\n",
    "\":(\": \"sad\",\n",
    "\":c\": \"sad\",\n",
    "\":<\": \"sad\",\n",
    "\":[\": \"sad\",\n",
    "\">:[\": \"sad\",\n",
    "\":{\": \"sad\",\n",
    "\">:(\": \"sad\",\n",
    "\":-c\": \"sad\",\n",
    "\":-< \": \"sad\",\n",
    "\":-[\": \"sad\",\n",
    "\":-||\": \"sad\"\n",
    "}"
   ]
  },
  {
   "cell_type": "code",
   "execution_count": 12,
   "metadata": {
    "colab": {
     "base_uri": "https://localhost:8080/"
    },
    "id": "nuUHxVVl0hdx",
    "outputId": "61030702-04d9-4027-e6b2-5237288415db"
   },
   "outputs": [
    {
     "name": "stderr",
     "output_type": "stream",
     "text": [
      "/usr/local/lib/python3.10/dist-packages/ipykernel/ipkernel.py:283: DeprecationWarning: `should_run_async` will not call `transform_cell` automatically in the future. Please pass the result to `transformed_cell` argument and any exception that happen during thetransform in `preprocessing_exc_tuple` in IPython 7.17 and above.\n",
      "  and should_run_async(code)\n",
      "/usr/local/lib/python3.10/dist-packages/pymorphy2/units/base.py:70: DeprecationWarning: inspect.getargspec() is deprecated since Python 3.0, use inspect.signature() or inspect.getfullargspec()\n",
      "  args, varargs, kw, default = inspect.getargspec(cls.__init__)\n",
      "/usr/local/lib/python3.10/dist-packages/pymorphy2/units/base.py:70: DeprecationWarning: inspect.getargspec() is deprecated since Python 3.0, use inspect.signature() or inspect.getfullargspec()\n",
      "  args, varargs, kw, default = inspect.getargspec(cls.__init__)\n",
      "/usr/local/lib/python3.10/dist-packages/pymorphy2/units/base.py:70: DeprecationWarning: inspect.getargspec() is deprecated since Python 3.0, use inspect.signature() or inspect.getfullargspec()\n",
      "  args, varargs, kw, default = inspect.getargspec(cls.__init__)\n",
      "/usr/local/lib/python3.10/dist-packages/pymorphy2/units/base.py:70: DeprecationWarning: inspect.getargspec() is deprecated since Python 3.0, use inspect.signature() or inspect.getfullargspec()\n",
      "  args, varargs, kw, default = inspect.getargspec(cls.__init__)\n",
      "/usr/local/lib/python3.10/dist-packages/pymorphy2/units/base.py:70: DeprecationWarning: inspect.getargspec() is deprecated since Python 3.0, use inspect.signature() or inspect.getfullargspec()\n",
      "  args, varargs, kw, default = inspect.getargspec(cls.__init__)\n",
      "/usr/local/lib/python3.10/dist-packages/pymorphy2/units/base.py:70: DeprecationWarning: inspect.getargspec() is deprecated since Python 3.0, use inspect.signature() or inspect.getfullargspec()\n",
      "  args, varargs, kw, default = inspect.getargspec(cls.__init__)\n",
      "/usr/local/lib/python3.10/dist-packages/pymorphy2/units/base.py:70: DeprecationWarning: inspect.getargspec() is deprecated since Python 3.0, use inspect.signature() or inspect.getfullargspec()\n",
      "  args, varargs, kw, default = inspect.getargspec(cls.__init__)\n",
      "/usr/local/lib/python3.10/dist-packages/pymorphy2/units/base.py:70: DeprecationWarning: inspect.getargspec() is deprecated since Python 3.0, use inspect.signature() or inspect.getfullargspec()\n",
      "  args, varargs, kw, default = inspect.getargspec(cls.__init__)\n",
      "/usr/local/lib/python3.10/dist-packages/pymorphy2/units/base.py:70: DeprecationWarning: inspect.getargspec() is deprecated since Python 3.0, use inspect.signature() or inspect.getfullargspec()\n",
      "  args, varargs, kw, default = inspect.getargspec(cls.__init__)\n",
      "/usr/local/lib/python3.10/dist-packages/pymorphy2/units/base.py:70: DeprecationWarning: inspect.getargspec() is deprecated since Python 3.0, use inspect.signature() or inspect.getfullargspec()\n",
      "  args, varargs, kw, default = inspect.getargspec(cls.__init__)\n",
      "/usr/local/lib/python3.10/dist-packages/pymorphy2/units/base.py:70: DeprecationWarning: inspect.getargspec() is deprecated since Python 3.0, use inspect.signature() or inspect.getfullargspec()\n",
      "  args, varargs, kw, default = inspect.getargspec(cls.__init__)\n",
      "/usr/local/lib/python3.10/dist-packages/pymorphy2/units/base.py:70: DeprecationWarning: inspect.getargspec() is deprecated since Python 3.0, use inspect.signature() or inspect.getfullargspec()\n",
      "  args, varargs, kw, default = inspect.getargspec(cls.__init__)\n"
     ]
    }
   ],
   "source": [
    "morph = pymorphy2.MorphAnalyzer()"
   ]
  },
  {
   "cell_type": "code",
   "execution_count": 44,
   "metadata": {
    "id": "OAiYbOvuviqr"
   },
   "outputs": [],
   "source": [
    "def clean_text(text):\n",
    "  text = re.sub('@[\\w]*', '', text)\n",
    "  text = text.lower()\n",
    "  text = re.sub(r'[^\\w\\s]', ' ', text)\n",
    "  text = re.sub(r'[^а-яА-Я]', ' ', text)\n",
    "  text = \" \".join([w for w in text.split() if (len(w) > 3) and len(w) < 11])\n",
    "  text = ' '.join(emoticon_dict[word] if word in emoticon_dict.keys() else word for word in text.split())\n",
    "  text = [w for w in text.split() if w not in stop_words]\n",
    "  #text = set([morph.parse(w)[0].normal_form for w in text])\n",
    "  text = [morph.parse(w)[0].normal_form for w in text]\n",
    "  return text"
   ]
  },
  {
   "cell_type": "code",
   "execution_count": 45,
   "metadata": {
    "colab": {
     "base_uri": "https://localhost:8080/"
    },
    "id": "JBL1u3b90qrH",
    "outputId": "13c07c51-a226-44c7-c7bf-d907a79cb89c"
   },
   "outputs": [
    {
     "name": "stdout",
     "output_type": "stream",
     "text": [
      "CPU times: user 5 µs, sys: 0 ns, total: 5 µs\n",
      "Wall time: 9.3 µs\n"
     ]
    },
    {
     "data": {
      "text/plain": [
       "['добрый',\n",
       " 'вечер',\n",
       " 'валдбериз',\n",
       " 'возвращать',\n",
       " 'средство',\n",
       " 'списать',\n",
       " 'обратный',\n",
       " 'доставка',\n",
       " 'товар',\n",
       " 'заказывать',\n",
       " 'раз',\n",
       " 'надежда',\n",
       " 'прийти',\n",
       " 'брак',\n",
       " 'сковородка',\n",
       " 'присылать',\n",
       " 'товар',\n",
       " 'раз',\n",
       " 'хотеть',\n",
       " 'купить',\n",
       " 'сковородка',\n",
       " 'брак',\n",
       " 'крепёж',\n",
       " 'ручка',\n",
       " 'писать',\n",
       " 'обращение',\n",
       " 'личный',\n",
       " 'кабинет',\n",
       " 'почта',\n",
       " 'напрямую',\n",
       " 'продавец',\n",
       " 'личный',\n",
       " 'кабинет',\n",
       " 'отвечать',\n",
       " 'борт',\n",
       " 'возврат',\n",
       " 'обратный',\n",
       " 'дрставка',\n",
       " 'брак',\n",
       " 'быть',\n",
       " 'возвращать',\n",
       " 'механизм',\n",
       " 'отладить',\n",
       " 'написать',\n",
       " 'заявление',\n",
       " 'форма',\n",
       " 'возврат',\n",
       " 'средство',\n",
       " 'ответ',\n",
       " 'просить',\n",
       " 'помочь',\n",
       " 'вернуть',\n",
       " 'списать',\n",
       " 'средство',\n",
       " 'клиент',\n",
       " 'сервис',\n",
       " 'такой',\n",
       " 'впервые',\n",
       " 'месяц',\n",
       " 'пытаться',\n",
       " 'вернуть',\n",
       " 'деньга',\n",
       " 'общаться',\n",
       " 'валдбериз']"
      ]
     },
     "execution_count": 45,
     "metadata": {},
     "output_type": "execute_result"
    }
   ],
   "source": [
    "%time\n",
    "clean_text(questions[42]) #долго"
   ]
  },
  {
   "cell_type": "code",
   "execution_count": 46,
   "metadata": {
    "id": "WzGItNqY1vBM"
   },
   "outputs": [],
   "source": [
    "preprocessed_questions = [clean_text(text) for text in questions]"
   ]
  },
  {
   "cell_type": "code",
   "execution_count": 47,
   "metadata": {
    "colab": {
     "base_uri": "https://localhost:8080/"
    },
    "id": "FquACsZF115w",
    "outputId": "6a7d184c-63be-4dc1-aaaf-47baa0d5e467"
   },
   "outputs": [
    {
     "data": {
      "text/plain": [
       "['добрый',\n",
       " 'вечер',\n",
       " 'валдбериз',\n",
       " 'возвращать',\n",
       " 'средство',\n",
       " 'списать',\n",
       " 'обратный',\n",
       " 'доставка',\n",
       " 'товар',\n",
       " 'заказывать',\n",
       " 'раз',\n",
       " 'надежда',\n",
       " 'прийти',\n",
       " 'брак',\n",
       " 'сковородка',\n",
       " 'присылать',\n",
       " 'товар',\n",
       " 'раз',\n",
       " 'хотеть',\n",
       " 'купить',\n",
       " 'сковородка',\n",
       " 'брак',\n",
       " 'крепёж',\n",
       " 'ручка',\n",
       " 'писать',\n",
       " 'обращение',\n",
       " 'личный',\n",
       " 'кабинет',\n",
       " 'почта',\n",
       " 'напрямую',\n",
       " 'продавец',\n",
       " 'личный',\n",
       " 'кабинет',\n",
       " 'отвечать',\n",
       " 'борт',\n",
       " 'возврат',\n",
       " 'обратный',\n",
       " 'дрставка',\n",
       " 'брак',\n",
       " 'быть',\n",
       " 'возвращать',\n",
       " 'механизм',\n",
       " 'отладить',\n",
       " 'написать',\n",
       " 'заявление',\n",
       " 'форма',\n",
       " 'возврат',\n",
       " 'средство',\n",
       " 'ответ',\n",
       " 'просить',\n",
       " 'помочь',\n",
       " 'вернуть',\n",
       " 'списать',\n",
       " 'средство',\n",
       " 'клиент',\n",
       " 'сервис',\n",
       " 'такой',\n",
       " 'впервые',\n",
       " 'месяц',\n",
       " 'пытаться',\n",
       " 'вернуть',\n",
       " 'деньга',\n",
       " 'общаться',\n",
       " 'валдбериз']"
      ]
     },
     "execution_count": 47,
     "metadata": {},
     "output_type": "execute_result"
    }
   ],
   "source": [
    "preprocessed_questions[42]"
   ]
  },
  {
   "cell_type": "code",
   "execution_count": 48,
   "metadata": {
    "id": "eIcIRNAN2GMw"
   },
   "outputs": [],
   "source": [
    "dictionary = corpora.Dictionary(preprocessed_questions)\n",
    "\n",
    "dictionary.filter_extremes(no_below = 10, no_above = 0.9, keep_n=None)\n",
    "dictionary.save('rospotreb.dict')\n",
    "\n",
    "corpus = [dictionary.doc2bow(text) for text in preprocessed_questions]\n",
    "corpora.MmCorpus.serialize('rospotreb.model', corpus)"
   ]
  },
  {
   "cell_type": "code",
   "execution_count": 49,
   "metadata": {
    "colab": {
     "base_uri": "https://localhost:8080/",
     "height": 35
    },
    "id": "IpGQ-WdP2kkX",
    "outputId": "b6829266-5e66-4984-bce0-51edb35668a9"
   },
   "outputs": [
    {
     "data": {
      "application/vnd.google.colaboratory.intrinsic+json": {
       "type": "string"
      },
      "text/plain": [
       "'сегодня'"
      ]
     },
     "execution_count": 49,
     "metadata": {},
     "output_type": "execute_result"
    }
   ],
   "source": [
    "dictionary[42]"
   ]
  },
  {
   "cell_type": "code",
   "execution_count": 50,
   "metadata": {
    "colab": {
     "base_uri": "https://localhost:8080/"
    },
    "id": "4UaNMABb3Wqu",
    "outputId": "fd0aae9a-4884-4213-8037-c1d983f241a4"
   },
   "outputs": [
    {
     "data": {
      "text/plain": [
       "[(1, 1),\n",
       " (2, 1),\n",
       " (9, 1),\n",
       " (13, 1),\n",
       " (17, 1),\n",
       " (18, 1),\n",
       " (20, 3),\n",
       " (22, 2),\n",
       " (28, 1),\n",
       " (38, 1),\n",
       " (58, 1),\n",
       " (68, 2),\n",
       " (70, 2),\n",
       " (77, 2),\n",
       " (80, 2),\n",
       " (81, 1),\n",
       " (82, 1),\n",
       " (96, 1),\n",
       " (116, 1),\n",
       " (129, 1),\n",
       " (185, 2),\n",
       " (221, 1),\n",
       " (296, 1),\n",
       " (314, 1),\n",
       " (322, 1),\n",
       " (326, 1),\n",
       " (339, 1),\n",
       " (342, 2),\n",
       " (346, 3),\n",
       " (349, 1),\n",
       " (426, 1),\n",
       " (438, 1),\n",
       " (443, 2),\n",
       " (444, 1),\n",
       " (445, 2),\n",
       " (446, 1),\n",
       " (447, 1)]"
      ]
     },
     "execution_count": 50,
     "metadata": {},
     "output_type": "execute_result"
    }
   ],
   "source": [
    "corpus[42]"
   ]
  },
  {
   "cell_type": "code",
   "execution_count": 104,
   "metadata": {
    "colab": {
     "base_uri": "https://localhost:8080/"
    },
    "id": "1M1dkwWH3gha",
    "outputId": "a33f788d-255d-4266-981f-4987769dff52"
   },
   "outputs": [
    {
     "name": "stdout",
     "output_type": "stream",
     "text": [
      "CPU times: user 5 µs, sys: 0 ns, total: 5 µs\n",
      "Wall time: 9.06 µs\n"
     ]
    }
   ],
   "source": [
    "%time\n",
    "lda = ldamodel.LdaModel(corpus, id2word=dictionary, num_topics=3, chunksize=50, passes=5, update_every=1)"
   ]
  },
  {
   "cell_type": "code",
   "execution_count": 105,
   "metadata": {
    "colab": {
     "base_uri": "https://localhost:8080/"
    },
    "id": "1TBA9URg4YCJ",
    "outputId": "4c2a120b-5042-4bcf-eb6e-84754995d8dd"
   },
   "outputs": [
    {
     "data": {
      "text/plain": [
       "[(0,\n",
       "  '0.023*\"просить\" + 0.023*\"услуга\" + 0.018*\"адрес\" + 0.017*\"вода\" + 0.015*\"дом\" + 0.013*\"дать\" + 0.012*\"который\" + 0.011*\"день\" + 0.011*\"работа\" + 0.009*\"свой\"'),\n",
       " (1,\n",
       "  '0.030*\"заказ\" + 0.026*\"товар\" + 0.024*\"деньга\" + 0.019*\"день\" + 0.019*\"карта\" + 0.014*\"возврат\" + 0.013*\"доставка\" + 0.011*\"оплата\" + 0.011*\"сказать\" + 0.011*\"средство\"'),\n",
       " (2,\n",
       "  '0.049*\"товар\" + 0.045*\"магазин\" + 0.023*\"возврат\" + 0.022*\"продавец\" + 0.012*\"вернуть\" + 0.011*\"данный\" + 0.011*\"цена\" + 0.011*\"обувь\" + 0.011*\"купить\" + 0.010*\"право\"')]"
      ]
     },
     "execution_count": 105,
     "metadata": {},
     "output_type": "execute_result"
    }
   ],
   "source": [
    "lda.show_topics(num_topics=3, num_words=10, formatted=True)"
   ]
  },
  {
   "cell_type": "code",
   "execution_count": 106,
   "metadata": {
    "colab": {
     "base_uri": "https://localhost:8080/",
     "height": 861
    },
    "id": "X3tJphEI4s8p",
    "outputId": "e5645529-806c-4c53-8ec0-a9a0d441300f"
   },
   "outputs": [
    {
     "data": {
      "text/html": [
       "\n",
       "<link rel=\"stylesheet\" type=\"text/css\" href=\"https://cdn.jsdelivr.net/gh/bmabey/pyLDAvis@3.4.0/pyLDAvis/js/ldavis.v1.0.0.css\">\n",
       "\n",
       "\n",
       "<div id=\"ldavis_el27316135021554273856822625160\" style=\"background-color:white;\"></div>\n",
       "<script type=\"text/javascript\">\n",
       "\n",
       "var ldavis_el27316135021554273856822625160_data = {\"mdsDat\": {\"x\": [0.08525611675291303, -0.21873621822801478, 0.13348010147510167], \"y\": [0.16432374896613336, -0.022498520131932008, -0.14182522883420132], \"topics\": [1, 2, 3], \"cluster\": [1, 1, 1], \"Freq\": [39.38406608488535, 31.666060740516226, 28.949873174598434]}, \"tinfo\": {\"Term\": [\"\\u043c\\u0430\\u0433\\u0430\\u0437\\u0438\\u043d\", \"\\u0442\\u043e\\u0432\\u0430\\u0440\", \"\\u0437\\u0430\\u043a\\u0430\\u0437\", \"\\u0443\\u0441\\u043b\\u0443\\u0433\\u0430\", \"\\u043a\\u0430\\u0440\\u0442\\u0430\", \"\\u043f\\u0440\\u043e\\u0434\\u0430\\u0432\\u0435\\u0446\", \"\\u0432\\u043e\\u0434\\u0430\", \"\\u0432\\u043e\\u0437\\u0432\\u0440\\u0430\\u0442\", \"\\u0434\\u043e\\u043c\", \"\\u0434\\u0435\\u043d\\u044c\\u0433\\u0430\", \"\\u0434\\u043e\\u0441\\u0442\\u0430\\u0432\\u043a\\u0430\", \"\\u0446\\u0435\\u043d\\u0430\", \"\\u043e\\u0431\\u0443\\u0432\\u044c\", \"\\u043a\\u0443\\u043f\\u0438\\u0442\\u044c\", \"\\u0437\\u0430\\u043a\\u0430\\u0437\\u0430\\u0442\\u044c\", \"\\u0446\\u0435\\u043d\\u0442\\u0440\", \"\\u0440\\u0430\\u0431\\u043e\\u0442\\u0430\", \"\\u0430\\u0434\\u0440\\u0435\\u0441\", \"\\u0442\\u0435\\u0440\\u0440\\u0438\\u0442\\u043e\\u0440\\u0438\\u044f\", \"\\u043a\\u0430\\u0447\\u0435\\u0441\\u0442\\u0432\\u043e\", \"\\u043f\\u0440\\u043e\\u0441\\u0438\\u0442\\u044c\", \"\\u0432\\u0435\\u0440\\u043d\\u0443\\u0442\\u044c\", \"\\u043f\\u043e\\u0434\\u0434\\u0435\\u0440\\u0436\\u043a\\u0430\", \"\\u0436\\u0430\\u043b\\u043e\\u0431\\u0430\", \"\\u0440\\u0435\\u0431\\u0451\\u043d\\u043e\\u043a\", \"\\u0441\\u0434\\u0435\\u043b\\u0430\\u0442\\u044c\", \"\\u043f\\u0440\\u0430\\u0432\\u043e\", \"\\u0431\\u0430\\u043d\\u043a\", \"\\u043e\\u0437\\u043e\\u043d\", \"\\u043f\\u0440\\u043e\\u0432\\u0435\\u0441\\u0442\\u0438\", \"\\u0437\\u0430\\u043a\\u0430\\u0437\", \"\\u0434\\u043e\\u0441\\u0442\\u0430\\u0432\\u043a\\u0430\", \"\\u043a\\u0430\\u0440\\u0442\\u0430\", \"\\u0437\\u0430\\u043a\\u0430\\u0437\\u0430\\u0442\\u044c\", \"\\u043f\\u043e\\u0434\\u0434\\u0435\\u0440\\u0436\\u043a\\u0430\", \"\\u043e\\u0437\\u043e\\u043d\", \"\\u043e\\u0442\\u043c\\u0435\\u043d\\u0438\\u0442\\u044c\", \"\\u0441\\u0442\\u0430\\u0442\\u0443\\u0441\", \"\\u043f\\u0440\\u0438\\u043b\\u043e\\u0436\\u0435\\u043d\\u0438\\u0435\", \"\\u0441\\u043f\\u0438\\u0441\\u0430\\u0442\\u044c\", \"\\u043a\\u0443\\u0440\\u044c\\u0435\\u0440\", \"\\u043e\\u0442\\u043c\\u0435\\u043d\\u0430\", \"\\u043c\\u0435\\u043d\\u0435\\u0434\\u0436\\u0435\\u0440\", \"\\u0438\\u0442\\u043e\\u0433\", \"\\u0436\\u0434\\u0430\\u0442\\u044c\", \"\\u043f\\u0440\\u043e\\u0439\\u0442\\u0438\", \"\\u043f\\u043e\\u0441\\u044b\\u043b\\u043a\\u0430\", \"\\u0432\\u043e\\u0437\\u0432\\u0440\\u0430\\u0442\\u0438\\u0442\\u044c\", \"\\u0437\\u0430\\u043a\\u0430\\u0437\\u044b\\u0432\\u0430\\u0442\\u044c\", \"\\u0432\\u044b\\u0431\\u0440\\u0430\\u0442\\u044c\", \"\\u0432\\u043e\\u0437\\u0432\\u0440\\u0430\\u0449\\u0430\\u0442\\u044c\", \"\\u0432\\u0435\\u0440\\u043d\\u0443\\u0442\\u044c\\u0441\\u044f\", \"\\u0434\\u043e\\u0441\\u0442\\u0430\\u0432\\u0438\\u0442\\u044c\", \"\\u043d\\u0435\\u0437\\u0430\\u043a\\u043e\\u043d\\u043d\\u043e\", \"\\u0441\\u043e\\u0437\\u0434\\u0430\\u0442\\u044c\", \"\\u044f\\u043d\\u0434\\u0435\\u043a\\u0441\", \"\\u0447\\u0430\\u0442\", \"\\u0441\\u043f\\u0443\\u0441\\u0442\\u044f\", \"\\u043e\\u0436\\u0438\\u0434\\u0430\\u0442\\u044c\", \"\\u043f\\u0440\\u0438\\u0439\\u0442\\u0438\\u0441\\u044c\", \"\\u043f\\u0438\\u0441\\u0430\\u0442\\u044c\", \"\\u0441\\u0434\\u0435\\u043b\\u0430\\u0442\\u044c\", \"\\u043a\\u0430\\u0431\\u0438\\u043d\\u0435\\u0442\", \"\\u0441\\u0432\\u044f\\u0437\\u0430\\u0442\\u044c\\u0441\\u044f\", \"\\u0441\\u043d\\u043e\\u0432\\u0430\", \"\\u043d\\u0443\\u0436\\u043d\\u043e\", \"\\u0441\\u043b\\u0443\\u0436\\u0431\\u0430\", \"\\u0434\\u0435\\u043d\\u044c\\u0433\\u0430\", \"\\u0440\\u0435\\u043a\\u0432\\u0438\\u0437\\u0438\\u0442\", \"\\u043b\\u0438\\u043d\\u0438\\u044f\", \"\\u043f\\u0440\\u0438\\u0432\\u0435\\u0437\\u0442\\u0438\", \"\\u0441\\u0440\\u0435\\u0434\\u0441\\u0442\\u0432\\u043e\", \"\\u043e\\u0442\\u0432\\u0435\\u0447\\u0430\\u0442\\u044c\", \"\\u0441\\u0443\\u043c\\u043c\\u0430\", \"\\u043d\\u0430\\u043f\\u0438\\u0441\\u0430\\u0442\\u044c\", \"\\u043e\\u043f\\u043b\\u0430\\u0442\\u0430\", \"\\u043f\\u0443\\u043d\\u043a\\u0442\", \"\\u0434\\u0435\\u043d\\u044c\", \"\\u0441\\u043a\\u0430\\u0437\\u0430\\u0442\\u044c\", \"\\u0442\\u043e\\u0432\\u0430\\u0440\", \"\\u0441\\u0440\\u043e\\u043a\", \"\\u0437\\u0430\\u044f\\u0432\\u043a\\u0430\", \"\\u0432\\u043e\\u0437\\u0432\\u0440\\u0430\\u0442\", \"\\u0434\\u0435\\u043d\\u0435\\u0436\\u043d\\u044b\\u0439\", \"\\u043e\\u0442\\u0432\\u0435\\u0442\", \"\\u0432\\u044b\\u0434\\u0430\\u0447\\u0430\", \"\\u0438\\u044e\\u043b\\u044c\", \"\\u0432\\u0435\\u0440\\u043d\\u0443\\u0442\\u044c\", \"\\u043a\\u043e\\u0442\\u043e\\u0440\\u044b\\u0439\", \"\\u0441\\u0430\\u0439\\u0442\", \"\\u0440\\u0443\\u0431\\u043b\\u044c\", \"\\u0441\\u0438\\u0442\\u0443\\u0430\\u0446\\u0438\\u044f\", \"\\u043f\\u0440\\u043e\\u0441\\u0438\\u0442\\u044c\", \"\\u043e\\u0431\\u0440\\u0430\\u0449\\u0435\\u043d\\u0438\\u0435\", \"\\u0443\\u0441\\u043b\\u0443\\u0433\\u0430\", \"\\u0432\\u043e\\u0434\\u0430\", \"\\u0434\\u043e\\u043c\", \"\\u0442\\u0435\\u0440\\u0440\\u0438\\u0442\\u043e\\u0440\\u0438\\u044f\", \"\\u0440\\u0435\\u0431\\u0451\\u043d\\u043e\\u043a\", \"\\u043e\\u0442\\u043a\\u043b\\u044e\\u0447\\u0435\\u043d\\u0438\\u0435\", \"\\u0440\\u0430\\u0439\\u043e\\u043d\", \"\\u043e\\u0431\\u043b\\u0430\\u0441\\u0442\\u044c\", \"\\u043a\\u0432\\u0430\\u0440\\u0442\\u0438\\u0440\\u0430\", \"\\u0436\\u0438\\u043b\\u043e\\u0439\", \"\\u043d\\u043e\\u0440\\u043c\\u0430\", \"\\u0443\\u043b\\u0438\\u0446\\u0430\", \"\\u043f\\u043e\\u043c\\u0435\\u0449\\u0435\\u043d\\u0438\\u0435\", \"\\u0433\\u043e\\u0440\\u043e\\u0434\", \"\\u0436\\u0438\\u0442\\u0435\\u043b\\u044c\", \"\\u0432\\u0440\\u0430\\u0447\", \"\\u0436\\u0438\\u043b\\u0435\\u0446\", \"\\u043c\\u0430\\u0448\\u0438\\u043d\\u0430\", \"\\u043f\\u043e\\u0434\\u044a\\u0435\\u0437\\u0434\", \"\\u043f\\u0440\\u043e\\u0436\\u0438\\u0432\\u0430\\u0442\\u044c\", \"\\u044d\\u0442\\u0430\\u0436\", \"\\u0433\\u0440\\u0430\\u0436\\u0434\\u0430\\u043d\\u0438\\u043d\", \"\\u043e\\u0444\\u0438\\u0441\", \"\\u0447\\u0435\\u043b\\u043e\\u0432\\u0435\\u043a\", \"\\u0442\\u0430\\u0440\\u0430\\u043a\\u0430\\u043d\", \"\\u0441\\u0430\\u043d\\u0438\\u0442\\u0430\\u0440\\u043d\\u044b\\u0439\", \"\\u043e\\u043a\\u0430\\u0437\\u0430\\u043d\\u0438\\u0435\", \"\\u043f\\u043e\\u0441\\u0451\\u043b\\u043e\\u043a\", \"\\u0442\\u0430\\u0440\\u0438\\u0444\", \"\\u0441\\u043e\\u0441\\u0435\\u0434\", \"\\u0436\\u0430\\u043b\\u043e\\u0431\\u0430\", \"\\u043e\\u043f\\u0435\\u0440\\u0430\\u0442\\u043e\\u0440\", \"\\u043e\\u0441\\u043d\\u043e\\u0432\\u0430\\u043d\\u0438\\u0435\", \"\\u0440\\u0430\\u0431\\u043e\\u0442\\u0430\", \"\\u043f\\u0440\\u043e\\u0432\\u0435\\u0441\\u0442\\u0438\", \"\\u043d\\u0430\\u0445\\u043e\\u0434\\u0438\\u0442\\u044c\\u0441\\u044f\", \"\\u043d\\u0430\\u0440\\u0443\\u0448\\u0435\\u043d\\u0438\\u0435\", \"\\u0431\\u0430\\u043d\\u043a\", \"\\u043f\\u0440\\u043e\\u0431\\u043b\\u0435\\u043c\\u0430\", \"\\u0430\\u0434\\u0440\\u0435\\u0441\", \"\\u043f\\u0440\\u043e\\u0441\\u0438\\u0442\\u044c\", \"\\u043a\\u043e\\u043c\\u043f\\u0430\\u043d\\u0438\\u044f\", \"\\u043d\\u0430\\u0448\", \"\\u0441\\u0432\\u043e\\u0439\", \"\\u0434\\u0430\\u0442\\u044c\", \"\\u0433\\u043e\\u0440\\u044f\\u0447\\u0438\\u0439\", \"\\u0434\\u0440\\u0443\\u0433\\u043e\\u0439\", \"\\u043a\\u043e\\u0442\\u043e\\u0440\\u044b\\u0439\", \"\\u0432\\u0440\\u0435\\u043c\\u044f\", \"\\u0441\\u0432\\u044f\\u0437\\u044c\", \"\\u0434\\u0435\\u043d\\u044c\", \"\\u0434\\u043e\\u0431\\u0440\\u044b\\u0439\", \"\\u0434\\u043e\\u043b\\u0436\\u043d\\u044b\\u0439\", \"\\u0433\\u043e\\u0434\", \"\\u043f\\u0440\\u0438\\u043d\\u044f\\u0442\\u044c\", \"\\u0434\\u0430\\u043d\\u043d\\u044b\\u0439\", \"\\u043c\\u0435\\u0441\\u044f\\u0446\", \"\\u0446\\u0435\\u043d\\u0430\", \"\\u0446\\u0435\\u043d\\u0442\\u0440\", \"\\u043f\\u043e\\u043a\\u0443\\u043f\\u0430\\u0442\\u0435\\u043b\\u044c\", \"\\u043f\\u0440\\u043e\\u0434\\u0430\\u0436\\u0430\", \"\\u0441\\u0435\\u0440\\u0432\\u0438\\u0441\\u043d\\u044b\\u0439\", \"\\u043e\\u0431\\u0443\\u0432\\u044c\", \"\\u0437\\u0430\\u044f\\u0432\\u0438\\u0442\\u044c\", \"\\u043f\\u043e\\u043a\\u0443\\u043f\\u0430\\u0442\\u044c\", \"\\u0431\\u0438\\u043b\\u0435\\u0442\", \"\\u0441\\u0434\\u0430\\u0442\\u044c\", \"\\u0437\\u0430\\u0449\\u0438\\u0442\\u0430\", \"\\u0437\\u0430\\u043a\\u043b\\u044e\\u0447\\u0435\\u043d\\u0438\\u0435\", \"\\u0434\\u0435\\u043b\\u043e\", \"\\u0430\\u043f\\u0442\\u0435\\u043a\\u0430\", \"\\u0441\\u0435\\u0442\\u044c\", \"\\u0447\\u0435\\u043a\", \"\\u0434\\u0435\\u0444\\u0435\\u043a\\u0442\", \"\\u043f\\u0440\\u043e\\u0434\\u0443\\u043a\\u0446\\u0438\\u044f\", \"\\u043b\\u0438\\u0446\\u043e\", \"\\u0430\\u0432\\u0442\\u043e\\u043c\\u043e\\u0431\\u0438\\u043b\\u044c\", \"\\u0443\\u0441\\u0442\\u0440\\u043e\\u0439\\u0441\\u0442\\u0432\\u043e\", \"\\u043e\\u0431\\u043c\\u0435\\u043d\", \"\\u043f\\u043e\\u0434\\u043e\\u0439\\u0442\\u0438\", \"\\u043f\\u0440\\u043e\\u0434\\u0430\\u0442\\u044c\", \"\\u044d\\u043a\\u0441\\u043f\\u0435\\u0440\\u0442\\u0438\\u0437\\u0430\", \"\\u043e\\u0442\\u043a\\u0430\\u0437\\u044b\\u0432\\u0430\\u0442\\u044c\", \"\\u043f\\u0430\\u0441\\u043f\\u043e\\u0440\\u0442\", \"\\u043e\\u0441\\u043c\\u043e\\u0442\\u0440\", \"\\u043e\\u0431\\u044a\\u044f\\u0432\\u043b\\u0435\\u043d\\u0438\\u0435\", \"\\u043f\\u0440\\u043e\\u0434\\u0430\\u0432\\u0430\\u0442\\u044c\", \"\\u043a\\u0430\\u0447\\u0435\\u0441\\u0442\\u0432\\u043e\", \"\\u043c\\u0430\\u0433\\u0430\\u0437\\u0438\\u043d\", \"\\u043a\\u0443\\u043f\\u0438\\u0442\\u044c\", \"\\u043f\\u0440\\u043e\\u0434\\u0430\\u0432\\u0435\\u0446\", \"\\u043f\\u0440\\u0438\\u043e\\u0431\\u0440\\u0435\\u0441\\u0442\\u0438\", \"\\u0442\\u0440\\u0435\\u0431\\u043e\\u0432\\u0430\\u0442\\u044c\", \"\\u0442\\u043e\\u0432\\u0430\\u0440\", \"\\u043f\\u043e\\u043a\\u0443\\u043f\\u043a\\u0430\", \"\\u043f\\u0440\\u0430\\u0432\\u043e\", \"\\u0437\\u0430\\u043a\\u043e\\u043d\", \"\\u0432\\u043e\\u0437\\u0432\\u0440\\u0430\\u0442\", \"\\u0441\\u0442\\u043e\\u0438\\u043c\\u043e\\u0441\\u0442\\u044c\", \"\\u043e\\u0442\\u043a\\u0430\\u0437\\u0430\\u0442\\u044c\", \"\\u0434\\u043e\\u043a\\u0443\\u043c\\u0435\\u043d\\u0442\", \"\\u043c\\u043e\\u043c\\u0435\\u043d\\u0442\", \"\\u0432\\u0435\\u0440\\u043d\\u0443\\u0442\\u044c\", \"\\u0434\\u0430\\u043d\\u043d\\u044b\\u0439\", \"\\u043f\\u0440\\u0435\\u0442\\u0435\\u043d\\u0437\\u0438\\u044f\", \"\\u0441\\u043b\\u0443\\u0447\\u0430\\u0439\", \"\\u0442\\u0435\\u043b\\u0435\\u0444\\u043e\\u043d\", \"\\u0438\\u043d\\u0444\\u043e\\u0440\\u043c\\u0430\\u0446\\u0438\\u044f\", \"\\u043f\\u043e\\u043b\\u0443\\u0447\\u0438\\u0442\\u044c\", \"\\u043a\\u043e\\u0442\\u043e\\u0440\\u044b\\u0439\", \"\\u0433\\u043e\\u0434\", \"\\u0441\\u0430\\u0439\\u0442\", \"\\u0434\\u0435\\u043d\\u044c\", \"\\u0434\\u0430\\u0442\\u044c\", \"\\u0434\\u0435\\u043d\\u044c\\u0433\\u0430\"], \"Freq\": [436.0, 741.0, 358.0, 220.0, 226.0, 229.0, 163.0, 365.0, 147.0, 350.0, 153.0, 98.0, 95.0, 100.0, 112.0, 80.0, 115.0, 251.0, 82.0, 85.0, 355.0, 213.0, 99.0, 88.0, 77.0, 124.0, 125.0, 94.0, 85.0, 87.0, 358.0923335609435, 153.24177937334287, 225.2758118335271, 111.54156293551885, 98.65078877024105, 84.25002184540807, 77.15955985221638, 69.08164993467354, 55.24063108544503, 48.239753014411654, 48.30604354634185, 45.29014685012488, 54.215946267830105, 79.59274039361284, 54.612730352806636, 67.06445804558831, 31.169727907585894, 30.058257964278784, 29.599283387886565, 27.023972782662618, 66.98215996833882, 26.56352869790542, 26.56423821244042, 26.066952655563455, 24.740710138546984, 22.99183252871353, 23.358795970180473, 23.40979548233956, 30.555299537896676, 24.360359868491802, 52.89701763977522, 117.34910486440825, 57.869430112511125, 40.984038635886236, 32.83327587806576, 85.81698329375375, 69.15349879786211, 286.1222078882043, 46.09059142181636, 53.006232398870296, 51.01723600043683, 127.02607545309367, 79.74529443185375, 126.71916133961366, 81.8243234572898, 138.22295517839262, 106.53757285936751, 233.30352289661732, 129.2770593924747, 310.4935666341912, 121.5331541433846, 76.17265037367835, 164.56981552462165, 69.25046391470865, 108.48526597688601, 71.32992481855729, 90.81331173468921, 109.3344062418018, 122.93413406102464, 84.86920648644654, 78.70400753500087, 80.42743236254316, 85.47963016540065, 78.84510838209181, 220.02916015813327, 163.13448972508502, 146.8364078862764, 81.52516969015727, 76.90999679429925, 53.715735575909214, 54.53950702170399, 57.04163138885638, 55.828197848193625, 50.38815314833481, 49.44178195586641, 51.276241433203346, 43.45661348722364, 60.229075983432814, 40.218065371375026, 40.67415031876842, 36.36985116442977, 40.46450051287163, 33.147416080835434, 29.333096514366854, 28.844636683527213, 31.036085734410477, 33.40744109714264, 60.05775832815495, 24.804385166478365, 24.285909006871723, 25.50422651448981, 25.28543336325422, 24.862408768353454, 23.314423491250768, 84.61737467427244, 53.00774526364266, 38.083514761004565, 104.7509715040095, 79.18946097266831, 59.15592909470572, 75.13873124950616, 82.87444335328391, 91.05014992052465, 173.52513618704123, 225.87110618306943, 80.26720771946968, 67.31256879926214, 91.54320960943855, 123.91847186753616, 71.13580848266298, 72.48887477386849, 111.90906319460801, 75.45417328144637, 65.54495157327503, 106.16405692375467, 73.9835941454376, 63.92151734959237, 70.30175500117276, 63.60933580528716, 68.79866118210961, 61.11634801897641, 97.46697204486823, 80.0133084489788, 60.7797513254933, 57.667321686649565, 55.33876834675732, 94.57087214505718, 45.11387650315007, 42.0951302448411, 39.636505304698396, 45.189122526040535, 36.47552505681635, 49.70092369759251, 33.27991498211559, 26.112538558849554, 35.86279212843118, 32.60151133565411, 27.529623890108496, 28.545193705655617, 30.753254872955385, 42.233534112488506, 24.22365147012565, 20.604415068208958, 29.954144666021847, 20.314791472843186, 23.079312872980925, 21.318308154429417, 17.655470617502143, 27.419764531774664, 18.98279339271642, 15.371378025560741, 81.01576143685479, 400.72079633357345, 93.16681293890494, 193.81498778068143, 55.67855664452404, 45.41446067885962, 430.3578757556427, 66.8498802739342, 92.172358268075, 82.35485286980513, 200.52361330865224, 81.42802932929656, 59.1760310379461, 54.126924366028305, 68.90451186921835, 103.82157721814295, 100.6434665541133, 68.6514517144314, 58.94212973847514, 74.03723805986195, 62.22831250803476, 66.75578048617179, 86.12691690853707, 66.47045495550731, 62.05818335705263, 73.5812185486095, 65.07446415474637, 63.78884188353327], \"Total\": [436.0, 741.0, 358.0, 220.0, 226.0, 229.0, 163.0, 365.0, 147.0, 350.0, 153.0, 98.0, 95.0, 100.0, 112.0, 80.0, 115.0, 251.0, 82.0, 85.0, 355.0, 213.0, 99.0, 88.0, 77.0, 124.0, 125.0, 94.0, 85.0, 87.0, 358.77376476379845, 153.93332065545542, 226.47324175038204, 112.27734836858838, 99.35723453530613, 85.02059796034332, 77.86761384792929, 69.92724311785533, 55.98517660226377, 48.91637669156412, 49.01425016949607, 45.98202015560382, 55.0952536461716, 80.97937763677832, 55.62209922535693, 68.30584090830095, 31.843339411809282, 30.75955301868806, 30.297756857270883, 27.716901629675863, 68.73753445692684, 27.282871692615654, 27.2953533458063, 26.802375520346928, 25.475128677832195, 23.683697110610723, 24.064164123482048, 24.13293962596988, 31.50024851777152, 25.121337591135855, 54.70286535682003, 124.17606351285701, 60.43841544793507, 42.61227524428569, 34.08738638882106, 92.39463283521022, 75.92194268229215, 350.2069074217283, 49.29631778478587, 57.40707932111577, 55.23134877454155, 151.56315020756745, 93.7447158306968, 161.47298417334568, 99.75650848692723, 199.23916699091347, 143.34097299080707, 413.0487983689815, 199.07725358981466, 741.1279956798726, 188.6894488084525, 97.0267320574904, 365.3729668343768, 84.39932181373325, 188.61382023903667, 89.27491029160254, 145.7390993933525, 213.4382829437054, 320.97011416416973, 147.50654209820118, 124.45112904070784, 175.6710756752734, 355.0930292863812, 166.8703976916221, 220.87091229017253, 163.9197783967716, 147.75335841976673, 82.31299701082023, 77.71708220378669, 54.50504554799693, 55.346553493536376, 57.8976386752669, 56.669894881349656, 51.16262785903335, 50.25192392091248, 52.18050311006491, 44.24602101883593, 61.405364915025245, 41.00769981485362, 41.47514933139768, 37.13993231517625, 41.383976464018154, 33.93353612922686, 30.111669478612388, 29.64497292002314, 31.92153266253998, 34.37224124269666, 61.87342780418692, 25.57898564475235, 25.05127822450867, 26.31195781154013, 26.09777283696006, 25.66585603105758, 24.08247808763967, 88.0407875993671, 55.358858334726776, 39.954878400851996, 115.58712268631379, 87.3929182087707, 65.05058913389841, 84.83154795058701, 94.66369729889225, 107.03879156526042, 251.7675985610883, 355.0930292863812, 110.0035018240236, 87.0617411363511, 144.24358354021416, 242.24573173307863, 104.33789383699575, 120.54458306986174, 320.97011416416973, 141.60574837765034, 101.12142515520489, 413.0487983689815, 178.36926844124207, 110.23973490680785, 183.565739583123, 116.44468256000069, 219.93570835696616, 127.28752297717779, 98.19567699412885, 80.76539346358445, 61.48773865654249, 58.353144752359775, 56.018992209326896, 95.73665539031387, 45.82272630393657, 42.80554389006228, 40.32655581188536, 45.995287390775324, 37.192750890435356, 50.83397534787095, 34.11797312321119, 26.794183030204817, 36.80182624577819, 33.47838911512121, 28.271529861784806, 29.32838845136769, 31.61023161111705, 43.45489258655157, 24.962717169405703, 21.26049163596622, 30.942324575300823, 21.016188864668617, 24.004977837038894, 22.181686470189508, 18.402990415051104, 28.58852449552333, 19.79585241480053, 16.034029777080075, 85.4669553137471, 436.93857777858034, 100.43964659931535, 229.5889629324377, 61.383190532556306, 52.12636356027305, 741.1279956798726, 84.34650268731559, 125.72053298971831, 111.16735456687518, 365.3729668343768, 118.5575337123309, 79.57920203139574, 71.19089899072922, 109.99656186520025, 213.4382829437054, 219.93570835696616, 120.95172414196401, 90.91628582051058, 168.55074550983332, 120.89210293488944, 148.3204941778232, 320.97011416416973, 183.565739583123, 147.50654209820118, 413.0487983689815, 242.24573173307863, 350.2069074217283], \"Category\": [\"Default\", \"Default\", \"Default\", \"Default\", \"Default\", \"Default\", \"Default\", \"Default\", \"Default\", \"Default\", \"Default\", \"Default\", \"Default\", \"Default\", \"Default\", \"Default\", \"Default\", \"Default\", \"Default\", \"Default\", \"Default\", \"Default\", \"Default\", \"Default\", \"Default\", \"Default\", \"Default\", \"Default\", \"Default\", \"Default\", \"Topic1\", \"Topic1\", \"Topic1\", \"Topic1\", \"Topic1\", \"Topic1\", \"Topic1\", \"Topic1\", \"Topic1\", \"Topic1\", \"Topic1\", \"Topic1\", \"Topic1\", \"Topic1\", \"Topic1\", \"Topic1\", \"Topic1\", \"Topic1\", \"Topic1\", \"Topic1\", \"Topic1\", \"Topic1\", \"Topic1\", \"Topic1\", \"Topic1\", \"Topic1\", \"Topic1\", \"Topic1\", \"Topic1\", \"Topic1\", \"Topic1\", \"Topic1\", \"Topic1\", \"Topic1\", \"Topic1\", \"Topic1\", \"Topic1\", \"Topic1\", \"Topic1\", \"Topic1\", \"Topic1\", \"Topic1\", \"Topic1\", \"Topic1\", \"Topic1\", \"Topic1\", \"Topic1\", \"Topic1\", \"Topic1\", \"Topic1\", \"Topic1\", \"Topic1\", \"Topic1\", \"Topic1\", \"Topic1\", \"Topic1\", \"Topic1\", \"Topic1\", \"Topic1\", \"Topic1\", \"Topic1\", \"Topic1\", \"Topic1\", \"Topic1\", \"Topic2\", \"Topic2\", \"Topic2\", \"Topic2\", \"Topic2\", \"Topic2\", \"Topic2\", \"Topic2\", \"Topic2\", \"Topic2\", \"Topic2\", \"Topic2\", \"Topic2\", \"Topic2\", \"Topic2\", \"Topic2\", \"Topic2\", \"Topic2\", \"Topic2\", \"Topic2\", \"Topic2\", \"Topic2\", \"Topic2\", \"Topic2\", \"Topic2\", \"Topic2\", \"Topic2\", \"Topic2\", \"Topic2\", \"Topic2\", \"Topic2\", \"Topic2\", \"Topic2\", \"Topic2\", \"Topic2\", \"Topic2\", \"Topic2\", \"Topic2\", \"Topic2\", \"Topic2\", \"Topic2\", \"Topic2\", \"Topic2\", \"Topic2\", \"Topic2\", \"Topic2\", \"Topic2\", \"Topic2\", \"Topic2\", \"Topic2\", \"Topic2\", \"Topic2\", \"Topic2\", \"Topic2\", \"Topic2\", \"Topic2\", \"Topic2\", \"Topic3\", \"Topic3\", \"Topic3\", \"Topic3\", \"Topic3\", \"Topic3\", \"Topic3\", \"Topic3\", \"Topic3\", \"Topic3\", \"Topic3\", \"Topic3\", \"Topic3\", \"Topic3\", \"Topic3\", \"Topic3\", \"Topic3\", \"Topic3\", \"Topic3\", \"Topic3\", \"Topic3\", \"Topic3\", \"Topic3\", \"Topic3\", \"Topic3\", \"Topic3\", \"Topic3\", \"Topic3\", \"Topic3\", \"Topic3\", \"Topic3\", \"Topic3\", \"Topic3\", \"Topic3\", \"Topic3\", \"Topic3\", \"Topic3\", \"Topic3\", \"Topic3\", \"Topic3\", \"Topic3\", \"Topic3\", \"Topic3\", \"Topic3\", \"Topic3\", \"Topic3\", \"Topic3\", \"Topic3\", \"Topic3\", \"Topic3\", \"Topic3\", \"Topic3\", \"Topic3\", \"Topic3\", \"Topic3\", \"Topic3\", \"Topic3\", \"Topic3\"], \"logprob\": [30.0, 29.0, 28.0, 27.0, 26.0, 25.0, 24.0, 23.0, 22.0, 21.0, 20.0, 19.0, 18.0, 17.0, 16.0, 15.0, 14.0, 13.0, 12.0, 11.0, 10.0, 9.0, 8.0, 7.0, 6.0, 5.0, 4.0, 3.0, 2.0, 1.0, -3.5156, -4.3644, -3.9791, -4.682, -4.8048, -4.9626, -5.0505, -5.1611, -5.3847, -5.5202, -5.5188, -5.5833, -5.4034, -5.0195, -5.3961, -5.1907, -5.9569, -5.9933, -6.0086, -6.0997, -5.192, -6.1169, -6.1168, -6.1357, -6.1879, -6.2613, -6.2454, -6.2432, -5.9769, -6.2034, -5.428, -4.6312, -5.3382, -5.6832, -5.9049, -4.9442, -5.1601, -3.74, -5.5658, -5.426, -5.4642, -4.552, -5.0176, -4.5544, -4.9918, -4.4675, -4.7279, -3.9441, -4.5344, -3.6582, -4.5962, -5.0634, -4.2931, -5.1587, -4.7098, -5.1291, -4.8876, -4.702, -4.5847, -4.9553, -5.0307, -5.009, -4.9481, -5.0289, -3.7845, -4.0837, -4.189, -4.7774, -4.8356, -5.1946, -5.1793, -5.1345, -5.156, -5.2585, -5.2775, -5.241, -5.4065, -5.0801, -5.484, -5.4727, -5.5845, -5.4778, -5.6773, -5.7996, -5.8164, -5.7431, -5.6695, -5.083, -5.9673, -5.9884, -5.9394, -5.948, -5.9649, -6.0292, -4.7401, -5.2078, -5.5385, -4.5267, -4.8064, -5.0981, -4.8589, -4.7609, -4.6669, -4.022, -3.7583, -4.7929, -4.9689, -4.6615, -4.3587, -4.9137, -4.8948, -4.4606, -4.8547, -4.9955, -4.5133, -4.8744, -5.0206, -4.9255, -5.0255, -4.9471, -5.0655, -4.5091, -4.7064, -4.9813, -5.0339, -5.0751, -4.5392, -5.2794, -5.3487, -5.4088, -5.2777, -5.492, -5.1826, -5.5836, -5.8262, -5.5089, -5.6042, -5.7733, -5.7371, -5.6626, -5.3454, -5.9013, -6.0631, -5.6889, -6.0772, -5.9497, -6.029, -6.2175, -5.7773, -6.1451, -6.3561, -4.694, -3.0953, -4.5542, -3.8217, -5.069, -5.2728, -3.024, -4.8861, -4.5649, -4.6776, -3.7877, -4.6889, -5.0081, -5.0973, -4.8559, -4.4459, -4.477, -4.8596, -5.012, -4.784, -4.9578, -4.8876, -4.6328, -4.8918, -4.9605, -4.7902, -4.9131, -4.933], \"loglift\": [30.0, 29.0, 28.0, 27.0, 26.0, 25.0, 24.0, 23.0, 22.0, 21.0, 20.0, 19.0, 18.0, 17.0, 16.0, 15.0, 14.0, 13.0, 12.0, 11.0, 10.0, 9.0, 8.0, 7.0, 6.0, 5.0, 4.0, 3.0, 2.0, 1.0, 0.9299, 0.9273, 0.9265, 0.9252, 0.9247, 0.9227, 0.9227, 0.9196, 0.9184, 0.9179, 0.9173, 0.9166, 0.9157, 0.9145, 0.9135, 0.9135, 0.9104, 0.9087, 0.9085, 0.9065, 0.9059, 0.9051, 0.9047, 0.904, 0.9026, 0.9022, 0.9021, 0.9014, 0.9014, 0.901, 0.8982, 0.8753, 0.8884, 0.8928, 0.8943, 0.858, 0.8384, 0.7297, 0.8646, 0.8521, 0.8524, 0.7552, 0.7701, 0.6894, 0.7337, 0.5662, 0.6351, 0.3606, 0.5001, 0.0618, 0.4919, 0.6898, 0.1342, 0.734, 0.3787, 0.7074, 0.4588, 0.2629, -0.0279, 0.379, 0.4736, 0.1506, -0.4923, 0.1821, 1.1461, 1.1451, 1.1437, 1.1403, 1.1395, 1.1353, 1.1352, 1.135, 1.135, 1.1347, 1.1337, 1.1324, 1.1319, 1.1306, 1.1305, 1.1304, 1.129, 1.1275, 1.1265, 1.1237, 1.1226, 1.1218, 1.1215, 1.1201, 1.1192, 1.1189, 1.1187, 1.1183, 1.1181, 1.1175, 1.1103, 1.1065, 1.102, 1.0515, 1.0514, 1.0549, 1.0286, 1.0169, 0.9881, 0.7777, 0.6975, 0.8348, 0.8927, 0.6952, 0.4796, 0.7669, 0.6413, 0.0963, 0.5204, 0.7163, -0.2087, 0.2699, 0.6049, 0.1901, 0.5453, -0.0122, 0.4163, 1.2322, 1.2302, 1.228, 1.2278, 1.2274, 1.2274, 1.224, 1.2229, 1.2223, 1.2219, 1.2201, 1.2171, 1.2147, 1.2138, 1.2138, 1.2131, 1.213, 1.2125, 1.2121, 1.2111, 1.2096, 1.2083, 1.2071, 1.2057, 1.2003, 1.1999, 1.1981, 1.1979, 1.1977, 1.1974, 1.1861, 1.1531, 1.1644, 1.0702, 1.1421, 1.1018, 0.696, 1.0071, 0.9292, 0.9396, 0.6396, 0.8639, 0.9434, 0.9656, 0.7719, 0.5189, 0.4579, 0.6733, 0.8062, 0.4169, 0.5755, 0.4413, -0.0759, 0.2238, 0.3738, -0.4856, -0.0748, -0.4633]}, \"token.table\": {\"Topic\": [2, 3, 1, 2, 3, 3, 1, 2, 3, 1, 3, 1, 2, 1, 3, 1, 1, 3, 2, 1, 2, 3, 1, 1, 3, 1, 2, 3, 1, 2, 1, 2, 2, 1, 2, 3, 1, 2, 3, 3, 1, 3, 1, 2, 3, 1, 3, 3, 1, 2, 3, 1, 2, 3, 1, 2, 3, 2, 1, 1, 1, 2, 3, 1, 2, 1, 2, 2, 2, 2, 1, 1, 1, 1, 3, 1, 2, 3, 3, 3, 1, 2, 3, 1, 2, 3, 1, 3, 1, 2, 3, 1, 2, 1, 2, 1, 2, 3, 2, 1, 2, 1, 2, 3, 1, 3, 1, 1, 2, 3, 1, 3, 2, 1, 3, 1, 2, 3, 1, 2, 3, 1, 2, 3, 1, 2, 3, 1, 2, 1, 2, 3, 1, 2, 1, 2, 3, 2, 3, 1, 2, 3, 1, 3, 3, 1, 3, 1, 2, 1, 2, 1, 2, 3, 2, 3, 2, 3, 1, 2, 3, 1, 2, 1, 2, 3, 3, 2, 1, 1, 1, 2, 3, 1, 2, 1, 1, 3, 2, 3, 3, 1, 3, 1, 2, 3, 2, 1, 2, 1, 2, 3, 1, 2, 3, 1, 3, 1, 1, 1, 2, 3, 1, 3, 1, 2, 3, 1, 2, 3, 3, 1, 3, 3, 3, 3, 2, 1, 3, 1, 2, 3, 1, 3, 1, 2, 3, 2, 2, 1, 2, 3, 1, 2, 3, 1, 2, 3, 2, 1, 2, 3, 1, 2, 1, 2, 3, 3, 1, 2, 3, 3, 3, 1, 2, 3, 1, 2, 3, 1, 2, 3, 1, 2, 3, 1, 2, 1, 2, 1, 1, 1, 3, 1, 2, 3, 1, 1, 2, 3, 1, 2, 3, 2, 2, 1, 2, 3, 2, 1, 3, 1, 2, 3, 2, 3, 2, 3, 3, 3, 1, 1, 3, 2, 3, 1, 3, 2, 1], \"Freq\": [0.023012368469401766, 0.9665194757148742, 0.0834102566018026, 0.6911135547006501, 0.23037118490021669, 0.9703598714202429, 0.11620082791894842, 0.8767880652066108, 0.9919022141784517, 0.5106862672276504, 0.48726029166674906, 0.9896318944793405, 0.9943888504134916, 0.4515933442738645, 0.550122801206344, 0.9753067602046561, 0.9747221882388634, 0.01454809236177408, 0.9885437583937045, 0.40958789219007546, 0.5296395157630286, 0.05649488168138972, 0.9741348568012994, 0.7952962346093612, 0.2016243975065986, 0.25603906320829145, 0.38133477499107243, 0.359544216420154, 0.01628522200598975, 0.9771133203593849, 0.3162801048251463, 0.6804814376541026, 0.9711313152697896, 0.2273391636743571, 0.3137280458706128, 0.45922511062220134, 0.21878610459233472, 0.5118769239518774, 0.26832258110380675, 0.9672321354151424, 0.8175421142871374, 0.17772654658416032, 0.5640979974280382, 0.2566282735080345, 0.17915558716598637, 0.8166600770543664, 0.18274910815202605, 0.990395643139502, 0.42608236645336534, 0.41486967259932944, 0.15697771395650303, 0.028093478637774307, 0.21070108978330732, 0.7585239232199064, 0.2721341812492634, 0.5805529199984286, 0.14513822999960715, 0.9949012433434749, 0.9891793543734549, 0.9939368510243183, 0.04977411549486793, 0.5972893859384152, 0.3484188084640755, 0.03407511543003922, 0.9654616038511113, 0.9888156104494285, 0.017978465644535063, 0.9693070976677454, 0.9772758377025375, 0.9754265706342149, 0.9978433072877894, 0.9975297923168092, 0.9901723134595878, 0.019671882695711355, 0.9835941347855677, 0.008995446584981276, 0.2518725043794757, 0.7376266199684647, 0.967930554694676, 0.9820454527633401, 0.7832892893369673, 0.19582232233424182, 0.020612876035183348, 0.14062126133380218, 0.34741723388351126, 0.5128540119232785, 0.9879058389264094, 0.012348822986580117, 0.6244034742824185, 0.006861576640466137, 0.3705251385851714, 0.9596545437225161, 0.03309153599043159, 0.9934948529062615, 0.004415532679583384, 0.011700428502794144, 0.046801714011176575, 0.9477347087263256, 0.988178999047868, 0.2636279711021591, 0.727249575454232, 0.3832132481253005, 0.34894214463441997, 0.2679377182014296, 0.06969359448191961, 0.9259291838312177, 0.9793070348727422, 0.9232310827648266, 0.06967781756715673, 0.9806951236984155, 0.08239144317040159, 0.9177491308703066, 0.9665576732283938, 0.9801207259484556, 0.018150383813860287, 0.5106549210770193, 0.479230002856895, 0.007856229555031066, 0.17273267162008502, 0.20000625134957212, 0.6272923337782035, 0.8220015038993254, 0.010024408584138115, 0.17041494593034795, 0.011788067342381678, 0.8841050506786258, 0.10609260608143509, 0.07686325468487507, 0.9069864052815257, 0.2182359294910412, 0.7695688039947243, 0.011486101552160063, 0.9700632684689532, 0.9750870449680138, 0.9307899967889334, 0.05411569748772869, 0.010823139497545738, 0.9844961090675645, 0.9877476193671106, 0.47342129636433583, 0.3355897797013013, 0.19176558840074362, 0.010445319986613766, 0.9923053987283078, 0.9597970121152497, 0.9841192199645887, 0.03174578128918028, 0.9879958741195943, 0.9881438768724649, 0.0361279126803342, 0.9573896860288562, 0.6926348974661877, 0.19574464493609653, 0.11543914957769795, 0.034979070016593186, 0.9444348904480161, 0.9510728481954206, 0.02502823284724791, 0.5725985501122237, 0.20677169865163636, 0.21737537550556643, 0.8533814337277442, 0.14934175090235524, 0.18849146029489178, 0.0753965841179567, 0.7413997438265743, 0.9467269329688883, 0.9907339670498544, 0.9786433881704055, 0.9888578344056659, 0.029093243962160245, 0.9600770507512881, 0.9781019059423346, 0.9688706369271071, 0.018280578055228435, 0.9964045442993968, 0.03231819243465091, 0.9695457730395273, 0.9724892765177277, 0.9920677086651878, 0.9811813186597707, 0.20154955402266533, 0.794342359971681, 0.4719509625964175, 0.080905879302243, 0.45172449277085674, 0.971838800639147, 0.9735159870984974, 0.9579361486584258, 0.007954150179126127, 0.26248695591116217, 0.7317818164796036, 0.3968525487380504, 0.03307104572817087, 0.5704755388109475, 0.923388639451587, 0.07242263838835976, 0.9553631415099679, 0.9824029026600599, 0.25763306095614835, 0.5496171967064498, 0.1975186800663804, 0.08145552482072611, 0.9123018779921324, 0.056054444489331355, 0.850159074754859, 0.0934240741488856, 0.09154059807099021, 0.9039634059510283, 0.011442574758873777, 0.9355102995656043, 0.15244635261626066, 0.8449883545015592, 0.9939481453166156, 0.9516473290560791, 0.9888030516265077, 0.9630817720219073, 0.980882441516912, 0.014640036440550924, 0.23937389075426715, 0.6364529330642869, 0.12391119050809124, 0.7464718410057274, 0.2511494044505251, 0.0778633449023959, 0.9084056905279522, 0.017302965533865754, 0.9937384810496493, 0.9907731713099266, 0.9331325759628399, 0.04057098156360174, 0.02028549078180087, 0.6347873306489584, 0.03214113066577005, 0.3374818719905855, 0.5762456280983931, 0.0067793603305693305, 0.4203203404952985, 0.9580349467565227, 0.048529021729749565, 0.6378099998767086, 0.3189049999383543, 0.9621640657523469, 0.02346741623786212, 0.23733842717469533, 0.6526806747304121, 0.10878011245506869, 0.9783611007293121, 0.9422105733597038, 0.048318490941523275, 0.008053081823587212, 0.9818098796651105, 0.9782123245617418, 0.4553965397688995, 0.2732379238613397, 0.2732379238613397, 0.647989650619733, 0.135625740827386, 0.21599655020657768, 0.9088281669601348, 0.07902853625740303, 0.013171422709567171, 0.23098171917690055, 0.12099042433075743, 0.6489486395922444, 0.9681000362885649, 0.02933636473601712, 0.9813493119567384, 0.9550512167518486, 0.9812664642489322, 0.9530542220082172, 0.8379345495661186, 0.1583498361384791, 0.6465650346132915, 0.1589914019540881, 0.1960893957433753, 0.9867398873956384, 0.22773753092328194, 0.08434723367528961, 0.6832125927698459, 0.7865092767695555, 0.006192986431256343, 0.21056153866271565, 0.9773647926155691, 0.9740567378601421, 0.2313843221638241, 0.33224415490190123, 0.4390369189775124, 0.9961974776501081, 0.4182813249627981, 0.5801966765613006, 0.01918415043174291, 0.09592075215871454, 0.8632867694284309, 0.9773765479498183, 0.01916424603823173, 0.9960569172230866, 0.9614337989381376, 0.9878235271579182, 0.9905232497390166, 0.9557780557836362, 0.0298700154467208, 0.9857105097417863, 0.9697216095717887, 0.01616202682619648, 0.04165802638055482, 0.9581346067527609, 0.9782434302853587, 0.9711321628790628], \"Term\": [\"\\u0430\\u0432\\u0442\\u043e\\u043c\\u043e\\u0431\\u0438\\u043b\\u044c\", \"\\u0430\\u0432\\u0442\\u043e\\u043c\\u043e\\u0431\\u0438\\u043b\\u044c\", \"\\u0430\\u0434\\u0440\\u0435\\u0441\", \"\\u0430\\u0434\\u0440\\u0435\\u0441\", \"\\u0430\\u0434\\u0440\\u0435\\u0441\", \"\\u0430\\u043f\\u0442\\u0435\\u043a\\u0430\", \"\\u0431\\u0430\\u043d\\u043a\", \"\\u0431\\u0430\\u043d\\u043a\", \"\\u0431\\u0438\\u043b\\u0435\\u0442\", \"\\u0432\\u0435\\u0440\\u043d\\u0443\\u0442\\u044c\", \"\\u0432\\u0435\\u0440\\u043d\\u0443\\u0442\\u044c\", \"\\u0432\\u0435\\u0440\\u043d\\u0443\\u0442\\u044c\\u0441\\u044f\", \"\\u0432\\u043e\\u0434\\u0430\", \"\\u0432\\u043e\\u0437\\u0432\\u0440\\u0430\\u0442\", \"\\u0432\\u043e\\u0437\\u0432\\u0440\\u0430\\u0442\", \"\\u0432\\u043e\\u0437\\u0432\\u0440\\u0430\\u0442\\u0438\\u0442\\u044c\", \"\\u0432\\u043e\\u0437\\u0432\\u0440\\u0430\\u0449\\u0430\\u0442\\u044c\", \"\\u0432\\u043e\\u0437\\u0432\\u0440\\u0430\\u0449\\u0430\\u0442\\u044c\", \"\\u0432\\u0440\\u0430\\u0447\", \"\\u0432\\u0440\\u0435\\u043c\\u044f\", \"\\u0432\\u0440\\u0435\\u043c\\u044f\", \"\\u0432\\u0440\\u0435\\u043c\\u044f\", \"\\u0432\\u044b\\u0431\\u0440\\u0430\\u0442\\u044c\", \"\\u0432\\u044b\\u0434\\u0430\\u0447\\u0430\", \"\\u0432\\u044b\\u0434\\u0430\\u0447\\u0430\", \"\\u0433\\u043e\\u0434\", \"\\u0433\\u043e\\u0434\", \"\\u0433\\u043e\\u0434\", \"\\u0433\\u043e\\u0440\\u043e\\u0434\", \"\\u0433\\u043e\\u0440\\u043e\\u0434\", \"\\u0433\\u043e\\u0440\\u044f\\u0447\\u0438\\u0439\", \"\\u0433\\u043e\\u0440\\u044f\\u0447\\u0438\\u0439\", \"\\u0433\\u0440\\u0430\\u0436\\u0434\\u0430\\u043d\\u0438\\u043d\", \"\\u0434\\u0430\\u043d\\u043d\\u044b\\u0439\", \"\\u0434\\u0430\\u043d\\u043d\\u044b\\u0439\", \"\\u0434\\u0430\\u043d\\u043d\\u044b\\u0439\", \"\\u0434\\u0430\\u0442\\u044c\", \"\\u0434\\u0430\\u0442\\u044c\", \"\\u0434\\u0430\\u0442\\u044c\", \"\\u0434\\u0435\\u043b\\u043e\", \"\\u0434\\u0435\\u043d\\u0435\\u0436\\u043d\\u044b\\u0439\", \"\\u0434\\u0435\\u043d\\u0435\\u0436\\u043d\\u044b\\u0439\", \"\\u0434\\u0435\\u043d\\u044c\", \"\\u0434\\u0435\\u043d\\u044c\", \"\\u0434\\u0435\\u043d\\u044c\", \"\\u0434\\u0435\\u043d\\u044c\\u0433\\u0430\", \"\\u0434\\u0435\\u043d\\u044c\\u0433\\u0430\", \"\\u0434\\u0435\\u0444\\u0435\\u043a\\u0442\", \"\\u0434\\u043e\\u0431\\u0440\\u044b\\u0439\", \"\\u0434\\u043e\\u0431\\u0440\\u044b\\u0439\", \"\\u0434\\u043e\\u0431\\u0440\\u044b\\u0439\", \"\\u0434\\u043e\\u043a\\u0443\\u043c\\u0435\\u043d\\u0442\", \"\\u0434\\u043e\\u043a\\u0443\\u043c\\u0435\\u043d\\u0442\", \"\\u0434\\u043e\\u043a\\u0443\\u043c\\u0435\\u043d\\u0442\", \"\\u0434\\u043e\\u043b\\u0436\\u043d\\u044b\\u0439\", \"\\u0434\\u043e\\u043b\\u0436\\u043d\\u044b\\u0439\", \"\\u0434\\u043e\\u043b\\u0436\\u043d\\u044b\\u0439\", \"\\u0434\\u043e\\u043c\", \"\\u0434\\u043e\\u0441\\u0442\\u0430\\u0432\\u0438\\u0442\\u044c\", \"\\u0434\\u043e\\u0441\\u0442\\u0430\\u0432\\u043a\\u0430\", \"\\u0434\\u0440\\u0443\\u0433\\u043e\\u0439\", \"\\u0434\\u0440\\u0443\\u0433\\u043e\\u0439\", \"\\u0434\\u0440\\u0443\\u0433\\u043e\\u0439\", \"\\u0436\\u0430\\u043b\\u043e\\u0431\\u0430\", \"\\u0436\\u0430\\u043b\\u043e\\u0431\\u0430\", \"\\u0436\\u0434\\u0430\\u0442\\u044c\", \"\\u0436\\u0434\\u0430\\u0442\\u044c\", \"\\u0436\\u0438\\u043b\\u0435\\u0446\", \"\\u0436\\u0438\\u043b\\u043e\\u0439\", \"\\u0436\\u0438\\u0442\\u0435\\u043b\\u044c\", \"\\u0437\\u0430\\u043a\\u0430\\u0437\", \"\\u0437\\u0430\\u043a\\u0430\\u0437\\u0430\\u0442\\u044c\", \"\\u0437\\u0430\\u043a\\u0430\\u0437\\u044b\\u0432\\u0430\\u0442\\u044c\", \"\\u0437\\u0430\\u043a\\u043b\\u044e\\u0447\\u0435\\u043d\\u0438\\u0435\", \"\\u0437\\u0430\\u043a\\u043b\\u044e\\u0447\\u0435\\u043d\\u0438\\u0435\", \"\\u0437\\u0430\\u043a\\u043e\\u043d\", \"\\u0437\\u0430\\u043a\\u043e\\u043d\", \"\\u0437\\u0430\\u043a\\u043e\\u043d\", \"\\u0437\\u0430\\u0449\\u0438\\u0442\\u0430\", \"\\u0437\\u0430\\u044f\\u0432\\u0438\\u0442\\u044c\", \"\\u0437\\u0430\\u044f\\u0432\\u043a\\u0430\", \"\\u0437\\u0430\\u044f\\u0432\\u043a\\u0430\", \"\\u0437\\u0430\\u044f\\u0432\\u043a\\u0430\", \"\\u0438\\u043d\\u0444\\u043e\\u0440\\u043c\\u0430\\u0446\\u0438\\u044f\", \"\\u0438\\u043d\\u0444\\u043e\\u0440\\u043c\\u0430\\u0446\\u0438\\u044f\", \"\\u0438\\u043d\\u0444\\u043e\\u0440\\u043c\\u0430\\u0446\\u0438\\u044f\", \"\\u0438\\u0442\\u043e\\u0433\", \"\\u0438\\u0442\\u043e\\u0433\", \"\\u0438\\u044e\\u043b\\u044c\", \"\\u0438\\u044e\\u043b\\u044c\", \"\\u0438\\u044e\\u043b\\u044c\", \"\\u043a\\u0430\\u0431\\u0438\\u043d\\u0435\\u0442\", \"\\u043a\\u0430\\u0431\\u0438\\u043d\\u0435\\u0442\", \"\\u043a\\u0430\\u0440\\u0442\\u0430\", \"\\u043a\\u0430\\u0440\\u0442\\u0430\", \"\\u043a\\u0430\\u0447\\u0435\\u0441\\u0442\\u0432\\u043e\", \"\\u043a\\u0430\\u0447\\u0435\\u0441\\u0442\\u0432\\u043e\", \"\\u043a\\u0430\\u0447\\u0435\\u0441\\u0442\\u0432\\u043e\", \"\\u043a\\u0432\\u0430\\u0440\\u0442\\u0438\\u0440\\u0430\", \"\\u043a\\u043e\\u043c\\u043f\\u0430\\u043d\\u0438\\u044f\", \"\\u043a\\u043e\\u043c\\u043f\\u0430\\u043d\\u0438\\u044f\", \"\\u043a\\u043e\\u0442\\u043e\\u0440\\u044b\\u0439\", \"\\u043a\\u043e\\u0442\\u043e\\u0440\\u044b\\u0439\", \"\\u043a\\u043e\\u0442\\u043e\\u0440\\u044b\\u0439\", \"\\u043a\\u0443\\u043f\\u0438\\u0442\\u044c\", \"\\u043a\\u0443\\u043f\\u0438\\u0442\\u044c\", \"\\u043a\\u0443\\u0440\\u044c\\u0435\\u0440\", \"\\u043b\\u0438\\u043d\\u0438\\u044f\", \"\\u043b\\u0438\\u043d\\u0438\\u044f\", \"\\u043b\\u0438\\u0446\\u043e\", \"\\u043c\\u0430\\u0433\\u0430\\u0437\\u0438\\u043d\", \"\\u043c\\u0430\\u0433\\u0430\\u0437\\u0438\\u043d\", \"\\u043c\\u0430\\u0448\\u0438\\u043d\\u0430\", \"\\u043c\\u0435\\u043d\\u0435\\u0434\\u0436\\u0435\\u0440\", \"\\u043c\\u0435\\u043d\\u0435\\u0434\\u0436\\u0435\\u0440\", \"\\u043c\\u0435\\u0441\\u044f\\u0446\", \"\\u043c\\u0435\\u0441\\u044f\\u0446\", \"\\u043c\\u0435\\u0441\\u044f\\u0446\", \"\\u043c\\u043e\\u043c\\u0435\\u043d\\u0442\", \"\\u043c\\u043e\\u043c\\u0435\\u043d\\u0442\", \"\\u043c\\u043e\\u043c\\u0435\\u043d\\u0442\", \"\\u043d\\u0430\\u043f\\u0438\\u0441\\u0430\\u0442\\u044c\", \"\\u043d\\u0430\\u043f\\u0438\\u0441\\u0430\\u0442\\u044c\", \"\\u043d\\u0430\\u043f\\u0438\\u0441\\u0430\\u0442\\u044c\", \"\\u043d\\u0430\\u0440\\u0443\\u0448\\u0435\\u043d\\u0438\\u0435\", \"\\u043d\\u0430\\u0440\\u0443\\u0448\\u0435\\u043d\\u0438\\u0435\", \"\\u043d\\u0430\\u0440\\u0443\\u0448\\u0435\\u043d\\u0438\\u0435\", \"\\u043d\\u0430\\u0445\\u043e\\u0434\\u0438\\u0442\\u044c\\u0441\\u044f\", \"\\u043d\\u0430\\u0445\\u043e\\u0434\\u0438\\u0442\\u044c\\u0441\\u044f\", \"\\u043d\\u0430\\u0448\", \"\\u043d\\u0430\\u0448\", \"\\u043d\\u0430\\u0448\", \"\\u043d\\u0435\\u0437\\u0430\\u043a\\u043e\\u043d\\u043d\\u043e\", \"\\u043d\\u043e\\u0440\\u043c\\u0430\", \"\\u043d\\u0443\\u0436\\u043d\\u043e\", \"\\u043d\\u0443\\u0436\\u043d\\u043e\", \"\\u043d\\u0443\\u0436\\u043d\\u043e\", \"\\u043e\\u0431\\u043b\\u0430\\u0441\\u0442\\u044c\", \"\\u043e\\u0431\\u043c\\u0435\\u043d\", \"\\u043e\\u0431\\u0440\\u0430\\u0449\\u0435\\u043d\\u0438\\u0435\", \"\\u043e\\u0431\\u0440\\u0430\\u0449\\u0435\\u043d\\u0438\\u0435\", \"\\u043e\\u0431\\u0440\\u0430\\u0449\\u0435\\u043d\\u0438\\u0435\", \"\\u043e\\u0431\\u0443\\u0432\\u044c\", \"\\u043e\\u0431\\u0443\\u0432\\u044c\", \"\\u043e\\u0431\\u044a\\u044f\\u0432\\u043b\\u0435\\u043d\\u0438\\u0435\", \"\\u043e\\u0436\\u0438\\u0434\\u0430\\u0442\\u044c\", \"\\u043e\\u0436\\u0438\\u0434\\u0430\\u0442\\u044c\", \"\\u043e\\u0437\\u043e\\u043d\", \"\\u043e\\u043a\\u0430\\u0437\\u0430\\u043d\\u0438\\u0435\", \"\\u043e\\u043f\\u0435\\u0440\\u0430\\u0442\\u043e\\u0440\", \"\\u043e\\u043f\\u0435\\u0440\\u0430\\u0442\\u043e\\u0440\", \"\\u043e\\u043f\\u043b\\u0430\\u0442\\u0430\", \"\\u043e\\u043f\\u043b\\u0430\\u0442\\u0430\", \"\\u043e\\u043f\\u043b\\u0430\\u0442\\u0430\", \"\\u043e\\u0441\\u043c\\u043e\\u0442\\u0440\", \"\\u043e\\u0441\\u043c\\u043e\\u0442\\u0440\", \"\\u043e\\u0441\\u043d\\u043e\\u0432\\u0430\\u043d\\u0438\\u0435\", \"\\u043e\\u0441\\u043d\\u043e\\u0432\\u0430\\u043d\\u0438\\u0435\", \"\\u043e\\u0442\\u0432\\u0435\\u0442\", \"\\u043e\\u0442\\u0432\\u0435\\u0442\", \"\\u043e\\u0442\\u0432\\u0435\\u0442\", \"\\u043e\\u0442\\u0432\\u0435\\u0447\\u0430\\u0442\\u044c\", \"\\u043e\\u0442\\u0432\\u0435\\u0447\\u0430\\u0442\\u044c\", \"\\u043e\\u0442\\u043a\\u0430\\u0437\\u0430\\u0442\\u044c\", \"\\u043e\\u0442\\u043a\\u0430\\u0437\\u0430\\u0442\\u044c\", \"\\u043e\\u0442\\u043a\\u0430\\u0437\\u0430\\u0442\\u044c\", \"\\u043e\\u0442\\u043a\\u0430\\u0437\\u044b\\u0432\\u0430\\u0442\\u044c\", \"\\u043e\\u0442\\u043a\\u043b\\u044e\\u0447\\u0435\\u043d\\u0438\\u0435\", \"\\u043e\\u0442\\u043c\\u0435\\u043d\\u0430\", \"\\u043e\\u0442\\u043c\\u0435\\u043d\\u0438\\u0442\\u044c\", \"\\u043e\\u0444\\u0438\\u0441\", \"\\u043e\\u0444\\u0438\\u0441\", \"\\u043f\\u0430\\u0441\\u043f\\u043e\\u0440\\u0442\", \"\\u043f\\u0438\\u0441\\u0430\\u0442\\u044c\", \"\\u043f\\u0438\\u0441\\u0430\\u0442\\u044c\", \"\\u043f\\u043e\\u0434\\u0434\\u0435\\u0440\\u0436\\u043a\\u0430\", \"\\u043f\\u043e\\u0434\\u043e\\u0439\\u0442\\u0438\", \"\\u043f\\u043e\\u0434\\u043e\\u0439\\u0442\\u0438\", \"\\u043f\\u043e\\u0434\\u044a\\u0435\\u0437\\u0434\", \"\\u043f\\u043e\\u043a\\u0443\\u043f\\u0430\\u0442\\u0435\\u043b\\u044c\", \"\\u043f\\u043e\\u043a\\u0443\\u043f\\u0430\\u0442\\u044c\", \"\\u043f\\u043e\\u043a\\u0443\\u043f\\u043a\\u0430\", \"\\u043f\\u043e\\u043a\\u0443\\u043f\\u043a\\u0430\", \"\\u043f\\u043e\\u043b\\u0443\\u0447\\u0438\\u0442\\u044c\", \"\\u043f\\u043e\\u043b\\u0443\\u0447\\u0438\\u0442\\u044c\", \"\\u043f\\u043e\\u043b\\u0443\\u0447\\u0438\\u0442\\u044c\", \"\\u043f\\u043e\\u043c\\u0435\\u0449\\u0435\\u043d\\u0438\\u0435\", \"\\u043f\\u043e\\u0441\\u044b\\u043b\\u043a\\u0430\", \"\\u043f\\u043e\\u0441\\u0451\\u043b\\u043e\\u043a\", \"\\u043f\\u0440\\u0430\\u0432\\u043e\", \"\\u043f\\u0440\\u0430\\u0432\\u043e\", \"\\u043f\\u0440\\u0430\\u0432\\u043e\", \"\\u043f\\u0440\\u0435\\u0442\\u0435\\u043d\\u0437\\u0438\\u044f\", \"\\u043f\\u0440\\u0435\\u0442\\u0435\\u043d\\u0437\\u0438\\u044f\", \"\\u043f\\u0440\\u0435\\u0442\\u0435\\u043d\\u0437\\u0438\\u044f\", \"\\u043f\\u0440\\u0438\\u0432\\u0435\\u0437\\u0442\\u0438\", \"\\u043f\\u0440\\u0438\\u0432\\u0435\\u0437\\u0442\\u0438\", \"\\u043f\\u0440\\u0438\\u0439\\u0442\\u0438\\u0441\\u044c\", \"\\u043f\\u0440\\u0438\\u043b\\u043e\\u0436\\u0435\\u043d\\u0438\\u0435\", \"\\u043f\\u0440\\u0438\\u043d\\u044f\\u0442\\u044c\", \"\\u043f\\u0440\\u0438\\u043d\\u044f\\u0442\\u044c\", \"\\u043f\\u0440\\u0438\\u043d\\u044f\\u0442\\u044c\", \"\\u043f\\u0440\\u0438\\u043e\\u0431\\u0440\\u0435\\u0441\\u0442\\u0438\", \"\\u043f\\u0440\\u0438\\u043e\\u0431\\u0440\\u0435\\u0441\\u0442\\u0438\", \"\\u043f\\u0440\\u043e\\u0431\\u043b\\u0435\\u043c\\u0430\", \"\\u043f\\u0440\\u043e\\u0431\\u043b\\u0435\\u043c\\u0430\", \"\\u043f\\u0440\\u043e\\u0431\\u043b\\u0435\\u043c\\u0430\", \"\\u043f\\u0440\\u043e\\u0432\\u0435\\u0441\\u0442\\u0438\", \"\\u043f\\u0440\\u043e\\u0432\\u0435\\u0441\\u0442\\u0438\", \"\\u043f\\u0440\\u043e\\u0432\\u0435\\u0441\\u0442\\u0438\", \"\\u043f\\u0440\\u043e\\u0434\\u0430\\u0432\\u0430\\u0442\\u044c\", \"\\u043f\\u0440\\u043e\\u0434\\u0430\\u0432\\u0435\\u0446\", \"\\u043f\\u0440\\u043e\\u0434\\u0430\\u0432\\u0435\\u0446\", \"\\u043f\\u0440\\u043e\\u0434\\u0430\\u0436\\u0430\", \"\\u043f\\u0440\\u043e\\u0434\\u0430\\u0442\\u044c\", \"\\u043f\\u0440\\u043e\\u0434\\u0443\\u043a\\u0446\\u0438\\u044f\", \"\\u043f\\u0440\\u043e\\u0436\\u0438\\u0432\\u0430\\u0442\\u044c\", \"\\u043f\\u0440\\u043e\\u0439\\u0442\\u0438\", \"\\u043f\\u0440\\u043e\\u0439\\u0442\\u0438\", \"\\u043f\\u0440\\u043e\\u0441\\u0438\\u0442\\u044c\", \"\\u043f\\u0440\\u043e\\u0441\\u0438\\u0442\\u044c\", \"\\u043f\\u0440\\u043e\\u0441\\u0438\\u0442\\u044c\", \"\\u043f\\u0443\\u043d\\u043a\\u0442\", \"\\u043f\\u0443\\u043d\\u043a\\u0442\", \"\\u0440\\u0430\\u0431\\u043e\\u0442\\u0430\", \"\\u0440\\u0430\\u0431\\u043e\\u0442\\u0430\", \"\\u0440\\u0430\\u0431\\u043e\\u0442\\u0430\", \"\\u0440\\u0430\\u0439\\u043e\\u043d\", \"\\u0440\\u0435\\u0431\\u0451\\u043d\\u043e\\u043a\", \"\\u0440\\u0435\\u043a\\u0432\\u0438\\u0437\\u0438\\u0442\", \"\\u0440\\u0435\\u043a\\u0432\\u0438\\u0437\\u0438\\u0442\", \"\\u0440\\u0435\\u043a\\u0432\\u0438\\u0437\\u0438\\u0442\", \"\\u0440\\u0443\\u0431\\u043b\\u044c\", \"\\u0440\\u0443\\u0431\\u043b\\u044c\", \"\\u0440\\u0443\\u0431\\u043b\\u044c\", \"\\u0441\\u0430\\u0439\\u0442\", \"\\u0441\\u0430\\u0439\\u0442\", \"\\u0441\\u0430\\u0439\\u0442\", \"\\u0441\\u0430\\u043d\\u0438\\u0442\\u0430\\u0440\\u043d\\u044b\\u0439\", \"\\u0441\\u0432\\u043e\\u0439\", \"\\u0441\\u0432\\u043e\\u0439\", \"\\u0441\\u0432\\u043e\\u0439\", \"\\u0441\\u0432\\u044f\\u0437\\u0430\\u0442\\u044c\\u0441\\u044f\", \"\\u0441\\u0432\\u044f\\u0437\\u0430\\u0442\\u044c\\u0441\\u044f\", \"\\u0441\\u0432\\u044f\\u0437\\u044c\", \"\\u0441\\u0432\\u044f\\u0437\\u044c\", \"\\u0441\\u0432\\u044f\\u0437\\u044c\", \"\\u0441\\u0434\\u0430\\u0442\\u044c\", \"\\u0441\\u0434\\u0435\\u043b\\u0430\\u0442\\u044c\", \"\\u0441\\u0434\\u0435\\u043b\\u0430\\u0442\\u044c\", \"\\u0441\\u0434\\u0435\\u043b\\u0430\\u0442\\u044c\", \"\\u0441\\u0435\\u0440\\u0432\\u0438\\u0441\\u043d\\u044b\\u0439\", \"\\u0441\\u0435\\u0442\\u044c\", \"\\u0441\\u0438\\u0442\\u0443\\u0430\\u0446\\u0438\\u044f\", \"\\u0441\\u0438\\u0442\\u0443\\u0430\\u0446\\u0438\\u044f\", \"\\u0441\\u0438\\u0442\\u0443\\u0430\\u0446\\u0438\\u044f\", \"\\u0441\\u043a\\u0430\\u0437\\u0430\\u0442\\u044c\", \"\\u0441\\u043a\\u0430\\u0437\\u0430\\u0442\\u044c\", \"\\u0441\\u043a\\u0430\\u0437\\u0430\\u0442\\u044c\", \"\\u0441\\u043b\\u0443\\u0436\\u0431\\u0430\", \"\\u0441\\u043b\\u0443\\u0436\\u0431\\u0430\", \"\\u0441\\u043b\\u0443\\u0436\\u0431\\u0430\", \"\\u0441\\u043b\\u0443\\u0447\\u0430\\u0439\", \"\\u0441\\u043b\\u0443\\u0447\\u0430\\u0439\", \"\\u0441\\u043b\\u0443\\u0447\\u0430\\u0439\", \"\\u0441\\u043d\\u043e\\u0432\\u0430\", \"\\u0441\\u043d\\u043e\\u0432\\u0430\", \"\\u0441\\u043e\\u0437\\u0434\\u0430\\u0442\\u044c\", \"\\u0441\\u043e\\u0441\\u0435\\u0434\", \"\\u0441\\u043f\\u0438\\u0441\\u0430\\u0442\\u044c\", \"\\u0441\\u043f\\u0443\\u0441\\u0442\\u044f\", \"\\u0441\\u0440\\u0435\\u0434\\u0441\\u0442\\u0432\\u043e\", \"\\u0441\\u0440\\u0435\\u0434\\u0441\\u0442\\u0432\\u043e\", \"\\u0441\\u0440\\u043e\\u043a\", \"\\u0441\\u0440\\u043e\\u043a\", \"\\u0441\\u0440\\u043e\\u043a\", \"\\u0441\\u0442\\u0430\\u0442\\u0443\\u0441\", \"\\u0441\\u0442\\u043e\\u0438\\u043c\\u043e\\u0441\\u0442\\u044c\", \"\\u0441\\u0442\\u043e\\u0438\\u043c\\u043e\\u0441\\u0442\\u044c\", \"\\u0441\\u0442\\u043e\\u0438\\u043c\\u043e\\u0441\\u0442\\u044c\", \"\\u0441\\u0443\\u043c\\u043c\\u0430\", \"\\u0441\\u0443\\u043c\\u043c\\u0430\", \"\\u0441\\u0443\\u043c\\u043c\\u0430\", \"\\u0442\\u0430\\u0440\\u0430\\u043a\\u0430\\u043d\", \"\\u0442\\u0430\\u0440\\u0438\\u0444\", \"\\u0442\\u0435\\u043b\\u0435\\u0444\\u043e\\u043d\", \"\\u0442\\u0435\\u043b\\u0435\\u0444\\u043e\\u043d\", \"\\u0442\\u0435\\u043b\\u0435\\u0444\\u043e\\u043d\", \"\\u0442\\u0435\\u0440\\u0440\\u0438\\u0442\\u043e\\u0440\\u0438\\u044f\", \"\\u0442\\u043e\\u0432\\u0430\\u0440\", \"\\u0442\\u043e\\u0432\\u0430\\u0440\", \"\\u0442\\u0440\\u0435\\u0431\\u043e\\u0432\\u0430\\u0442\\u044c\", \"\\u0442\\u0440\\u0435\\u0431\\u043e\\u0432\\u0430\\u0442\\u044c\", \"\\u0442\\u0440\\u0435\\u0431\\u043e\\u0432\\u0430\\u0442\\u044c\", \"\\u0443\\u043b\\u0438\\u0446\\u0430\", \"\\u0443\\u043b\\u0438\\u0446\\u0430\", \"\\u0443\\u0441\\u043b\\u0443\\u0433\\u0430\", \"\\u0443\\u0441\\u0442\\u0440\\u043e\\u0439\\u0441\\u0442\\u0432\\u043e\", \"\\u0446\\u0435\\u043d\\u0430\", \"\\u0446\\u0435\\u043d\\u0442\\u0440\", \"\\u0447\\u0430\\u0442\", \"\\u0447\\u0435\\u043a\", \"\\u0447\\u0435\\u043a\", \"\\u0447\\u0435\\u043b\\u043e\\u0432\\u0435\\u043a\", \"\\u0447\\u0435\\u043b\\u043e\\u0432\\u0435\\u043a\", \"\\u044d\\u043a\\u0441\\u043f\\u0435\\u0440\\u0442\\u0438\\u0437\\u0430\", \"\\u044d\\u043a\\u0441\\u043f\\u0435\\u0440\\u0442\\u0438\\u0437\\u0430\", \"\\u044d\\u0442\\u0430\\u0436\", \"\\u044f\\u043d\\u0434\\u0435\\u043a\\u0441\"]}, \"R\": 30, \"lambda.step\": 0.01, \"plot.opts\": {\"xlab\": \"PC1\", \"ylab\": \"PC2\"}, \"topic.order\": [2, 1, 3]};\n",
       "\n",
       "function LDAvis_load_lib(url, callback){\n",
       "  var s = document.createElement('script');\n",
       "  s.src = url;\n",
       "  s.async = true;\n",
       "  s.onreadystatechange = s.onload = callback;\n",
       "  s.onerror = function(){console.warn(\"failed to load library \" + url);};\n",
       "  document.getElementsByTagName(\"head\")[0].appendChild(s);\n",
       "}\n",
       "\n",
       "if(typeof(LDAvis) !== \"undefined\"){\n",
       "   // already loaded: just create the visualization\n",
       "   !function(LDAvis){\n",
       "       new LDAvis(\"#\" + \"ldavis_el27316135021554273856822625160\", ldavis_el27316135021554273856822625160_data);\n",
       "   }(LDAvis);\n",
       "}else if(typeof define === \"function\" && define.amd){\n",
       "   // require.js is available: use it to load d3/LDAvis\n",
       "   require.config({paths: {d3: \"https://d3js.org/d3.v5\"}});\n",
       "   require([\"d3\"], function(d3){\n",
       "      window.d3 = d3;\n",
       "      LDAvis_load_lib(\"https://cdn.jsdelivr.net/gh/bmabey/pyLDAvis@3.4.0/pyLDAvis/js/ldavis.v3.0.0.js\", function(){\n",
       "        new LDAvis(\"#\" + \"ldavis_el27316135021554273856822625160\", ldavis_el27316135021554273856822625160_data);\n",
       "      });\n",
       "    });\n",
       "}else{\n",
       "    // require.js not available: dynamically load d3 & LDAvis\n",
       "    LDAvis_load_lib(\"https://d3js.org/d3.v5.js\", function(){\n",
       "         LDAvis_load_lib(\"https://cdn.jsdelivr.net/gh/bmabey/pyLDAvis@3.4.0/pyLDAvis/js/ldavis.v3.0.0.js\", function(){\n",
       "                 new LDAvis(\"#\" + \"ldavis_el27316135021554273856822625160\", ldavis_el27316135021554273856822625160_data);\n",
       "            })\n",
       "         });\n",
       "}\n",
       "</script>"
      ],
      "text/plain": [
       "<IPython.core.display.HTML object>"
      ]
     },
     "metadata": {},
     "output_type": "display_data"
    }
   ],
   "source": [
    "lda_vis_data = pyLDAvis.gensim_models.prepare(lda, corpus, dictionary)\n",
    "pyLDAvis.save_html(lda_vis_data, 'lda_visualization.html')\n",
    "\n",
    "lda_visualization_path = 'lda_visualization.html'\n",
    "\n",
    "# Открываем и отображаем визуализацию LDA\n",
    "with open(lda_visualization_path, 'r') as f:\n",
    "    html_content = f.read()\n",
    "    display(HTML(html_content))"
   ]
  },
  {
   "cell_type": "code",
   "execution_count": 62,
   "metadata": {
    "colab": {
     "base_uri": "https://localhost:8080/",
     "height": 49,
     "referenced_widgets": [
      "bae0a808f502488e8db54edc118de626",
      "4c19777fbd464264a0da1b762508b125",
      "81015509703442c79fb038252f218fc3",
      "550f20997c1a46efa47aea36979b465e",
      "81ab761b3d124d9ebf8c17fb267ab762",
      "4fa0f01673a54c9db5e2fa3ae14531da",
      "18cc5736b740404198e06dc6ac3d8642",
      "0c6b51c4eda245c9af004c446d01efad",
      "2177cdb4d4e64b6aaf44a6caf77daaf5",
      "1a5ca1804aa04b2ab5a759692b387342",
      "e1c0f3cae67d4dd6ad08b6e5b5077638"
     ]
    },
    "id": "h4mpvi1e8pEz",
    "outputId": "67c994c2-84ec-4469-b69a-3f0419ebb749"
   },
   "outputs": [
    {
     "data": {
      "application/vnd.jupyter.widget-view+json": {
       "model_id": "bae0a808f502488e8db54edc118de626",
       "version_major": 2,
       "version_minor": 0
      },
      "text/plain": [
       "  0%|          | 0/13 [00:00<?, ?it/s]"
      ]
     },
     "metadata": {},
     "output_type": "display_data"
    }
   ],
   "source": [
    "import matplotlib.pyplot as plt\n",
    "%matplotlib inline\n",
    "\n",
    "topics_list = [1, 2, 3, 5, 10, 15, 20, 25, 30, 35, 40, 45, 50]\n",
    "coherences = []\n",
    "perplexities = []\n",
    "\n",
    "for num in tqdm(topics_list):\n",
    "    lda = ldamodel.LdaModel(corpus, id2word=dictionary, num_topics=num, chunksize=50, update_every=1, passes=2)\n",
    "    coherences.append(CoherenceModel(model=lda, texts=preprocessed_questions, dictionary=dictionary, coherence='c_v').get_coherence())\n",
    "    perplexities.append(lda.log_perplexity(corpus))"
   ]
  },
  {
   "cell_type": "code",
   "execution_count": 63,
   "metadata": {
    "colab": {
     "base_uri": "https://localhost:8080/",
     "height": 542
    },
    "id": "DEUSdmBQ-RBb",
    "outputId": "1dad4c91-ec11-49d0-fe0a-d7dd3e9986a5"
   },
   "outputs": [
    {
     "data": {
      "image/png": "[encoded data removed]",
      "text/plain": [
       "<Figure size 1400x600 with 2 Axes>"
      ]
     },
     "metadata": {},
     "output_type": "display_data"
    }
   ],
   "source": [
    "fig, axs = plt.subplots(1, 2, figsize=(14,6))\n",
    "# График когерентности\n",
    "axs[0].plot(topics_list, coherences, label=\"Когерентность (C_V)\")\n",
    "axs[0].set_xlabel(\"Число тем\")\n",
    "axs[0].set_ylabel(\"Средняя когерентность\")\n",
    "axs[0].legend()\n",
    "axs[0].grid()\n",
    "\n",
    "# График перплексии\n",
    "axs[1].plot(topics_list, perplexities, label=\"Перплексия\")\n",
    "axs[1].set_xlabel(\"Число тем\")\n",
    "axs[1].set_ylabel(\"Перплексия\")\n",
    "axs[1].legend()\n",
    "axs[1].grid()\n",
    "\n",
    "plt.show()"
   ]
  },
  {
   "cell_type": "markdown",
   "metadata": {
    "id": "aOi3GQUACIpj"
   },
   "source": [
    "Я эксперементировал с разным количеством тем. Исходя из простого логического анализа - это сайт роспотребнадзора, соответственно в обращениях будут жалобы. Жаловаться могут на некачетсвенную услугу, некачественный товар или могут быть обращения не по адресу. Примерно на такое количество тем указывает когерентность, хотя при этом высокий уровень неопределенности, что в целом логично при таком малом наборе тем. Я так понимаю чем больше тем, тем меньше вариативность внутри одной темы, тем ниже перплексия, но в реальной жизни это не всегда правильно. Я бы разделил все тексты датасета на две категории - жалоба на товар и жалоба на услугу, с человеческой точки зрения это наиболее точное распределение, хотя внутри тех же услуг могут быть разные ветви - медицина, коммуналка, бытовые услуги и т.д."
   ]
  },
  {
   "cell_type": "markdown",
   "metadata": {
    "id": "pkTQWM6aG0Yx"
   },
   "source": [
    "Попробуем с биграммами"
   ]
  },
  {
   "cell_type": "code",
   "execution_count": 107,
   "metadata": {
    "id": "QKfyh5E6Fw_3"
   },
   "outputs": [],
   "source": [
    "bigram = Phrases(preprocessed_questions, min_count=3, threshold=10)\n",
    "\n",
    "# Обработка текстов вопросов с биграммами\n",
    "texts_bigrams = [bigram[q] for q in preprocessed_questions]\n",
    "\n",
    "# Создание словаря и корпуса для биграмм:\n",
    "dictionary_bigram = corpora.Dictionary(texts_bigrams)\n",
    "corpus_bigram = [dictionary_bigram.doc2bow(text) for text in texts_bigrams]"
   ]
  },
  {
   "cell_type": "code",
   "execution_count": 97,
   "metadata": {
    "colab": {
     "base_uri": "https://localhost:8080/",
     "height": 35
    },
    "id": "LFYZaD6vJeyx",
    "outputId": "44533148-08d9-45c8-8a6e-6541d79c58e6"
   },
   "outputs": [
    {
     "data": {
      "application/vnd.google.colaboratory.intrinsic+json": {
       "type": "string"
      },
      "text/plain": [
       "'отправить'"
      ]
     },
     "execution_count": 97,
     "metadata": {},
     "output_type": "execute_result"
    }
   ],
   "source": [
    "dictionary_bigram[42]"
   ]
  },
  {
   "cell_type": "code",
   "execution_count": 108,
   "metadata": {
    "id": "GY_x3L0fHANq"
   },
   "outputs": [],
   "source": [
    "num_topics = 3  # Количество тематик для биграмм\n",
    "lda_model_bigram = ldamodel.LdaModel(corpus=corpus_bigram, id2word=dictionary_bigram, num_topics=num_topics, chunksize=50, passes=5, update_every=1, random_state=42)"
   ]
  },
  {
   "cell_type": "code",
   "execution_count": 109,
   "metadata": {
    "colab": {
     "base_uri": "https://localhost:8080/",
     "height": 861
    },
    "id": "iCdBO3ruHf9t",
    "outputId": "68dbb90a-8d2b-4cd1-9ccd-368ade8e5834"
   },
   "outputs": [
    {
     "data": {
      "text/html": [
       "\n",
       "<link rel=\"stylesheet\" type=\"text/css\" href=\"https://cdn.jsdelivr.net/gh/bmabey/pyLDAvis@3.4.0/pyLDAvis/js/ldavis.v1.0.0.css\">\n",
       "\n",
       "\n",
       "<div id=\"ldavis_el273161350215445231369961772203\" style=\"background-color:white;\"></div>\n",
       "<script type=\"text/javascript\">\n",
       "\n",
       "var ldavis_el273161350215445231369961772203_data = {\"mdsDat\": {\"x\": [0.15920220329876916, 0.051901487673087325, -0.21110369097185647], \"y\": [0.11151603330344433, -0.15701228641468312, 0.04549625311123874], \"topics\": [1, 2, 3], \"cluster\": [1, 1, 1], \"Freq\": [50.10976078222762, 29.612269934917272, 20.277969282855103]}, \"tinfo\": {\"Term\": [\"\\u0442\\u043e\\u0432\\u0430\\u0440\", \"\\u0443\\u0441\\u043b\\u0443\\u0433\\u0430\", \"\\u0432\\u043e\\u0437\\u0432\\u0440\\u0430\\u0442\", \"\\u0437\\u0430\\u043a\\u0430\\u0437\", \"\\u043f\\u0440\\u043e\\u0434\\u0430\\u0432\\u0435\\u0446\", \"\\u043c\\u0430\\u0433\\u0430\\u0437\\u0438\\u043d\", \"\\u0442\\u0435\\u0440\\u0440\\u0438\\u0442\\u043e\\u0440\\u0438\\u044f\", \"\\u0440\\u0435\\u0431\\u0451\\u043d\\u043e\\u043a\", \"\\u0434\\u0435\\u043d\\u044c\\u0433\\u0430\", \"\\u0431\\u0430\\u043d\\u043a\", \"\\u0434\\u043e\\u0433\\u043e\\u0432\\u043e\\u0440\", \"\\u043f\\u0430\\u0440\\u043a\\u043e\\u0432\\u043a\\u0430\", \"\\u0432\\u0435\\u0440\\u043d\\u0443\\u0442\\u044c\", \"\\u0432\\u043e\\u0434\\u0430\", \"\\u043f\\u0440\\u043e\\u0431\\u043b\\u0435\\u043c\\u0430\", \"\\u043c\\u0435\\u0441\\u0442\\u043e\", \"\\u0443\\u043b\\u0438\\u0446\\u0430\", \"\\u043d\\u043e\\u043c\\u0435\\u0440\", \"\\u0434\\u043e\\u0441\\u0442\\u0430\\u0432\\u043a\\u0430\", \"\\u0437\\u0430\\u043a\\u0430\\u0437\\u0430\\u0442\\u044c\", \"\\u043a\\u043e\\u043c\\u043f\\u0430\\u043d\\u0438\\u044f\", \"\\u0438\\u043d\\u0444\\u043e\\u0440\\u043c\\u0430\\u0446\\u0438\\u044f\", \"\\u043a\\u0443\\u043f\\u0438\\u0442\\u044c\", \"\\u0447\\u0435\\u043b\\u043e\\u0432\\u0435\\u043a\", \"\\u0430\\u043d\\u0430\\u043f\\u0430\", \"\\u0434\\u043e\\u043c\", \"\\u0440\\u0430\\u0439\\u043e\\u043d\", \"\\u0432\\u0440\\u0430\\u0447\", \"\\u0441\\u0432\\u044f\\u0437\\u044c\", \"\\u043e\\u0431\\u0443\\u0432\\u044c\", \"\\u0442\\u043e\\u0432\\u0430\\u0440\", \"\\u0432\\u043e\\u0437\\u0432\\u0440\\u0430\\u0442\", \"\\u0437\\u0430\\u043a\\u0430\\u0437\", \"\\u043f\\u0440\\u043e\\u0434\\u0430\\u0432\\u0435\\u0446\", \"\\u0432\\u0435\\u0440\\u043d\\u0443\\u0442\\u044c\", \"\\u0434\\u043e\\u0441\\u0442\\u0430\\u0432\\u043a\\u0430\", \"\\u0437\\u0430\\u043a\\u0430\\u0437\\u0430\\u0442\\u044c\", \"\\u043a\\u0443\\u043f\\u0438\\u0442\\u044c\", \"\\u043e\\u0431\\u0443\\u0432\\u044c\", \"\\u043f\\u043e\\u043a\\u0443\\u043f\\u043a\\u0430\", \"\\u043f\\u0443\\u043d\\u043a\\u0442_\\u0432\\u044b\\u0434\\u0430\\u0447\\u0430\", \"\\u043e\\u0437\\u043e\\u043d\", \"\\u0437\\u0430\\u0431\\u0440\\u0430\\u0442\\u044c\", \"\\u0438\\u043d\\u0442\\u0435\\u0440\\u043d\\u0435\\u0442_\\u043c\\u0430\\u0433\\u0430\\u0437\\u0438\\u043d\", \"\\u0431\\u0440\\u0430\\u043a\", \"\\u043f\\u043e\\u043a\\u0443\\u043f\\u0430\\u0442\\u0435\\u043b\\u044c\", \"\\u043f\\u0440\\u0438\\u043e\\u0431\\u0440\\u0435\\u0441\\u0442\\u0438\", \"\\u0432\\u0435\\u0440\\u043d\\u0443\\u0442\\u044c_\\u0434\\u0435\\u043d\\u044c\\u0433\\u0430\", \"\\u0432\\u0430\\u0439\\u043b\\u0434\\u0431\\u0435\\u0440\\u0438\\u0437\", \"\\u0443\\u043f\\u0430\\u043a\\u043e\\u0432\\u043a\\u0430\", \"\\u043e\\u0442\\u043a\\u0430\\u0437\", \"\\u0441\\u0434\\u0435\\u043b\\u0430\\u0442\\u044c_\\u0437\\u0430\\u043a\\u0430\\u0437\", \"\\u043a\\u0443\\u0440\\u044c\\u0435\\u0440\", \"\\u0441\\u043f\\u0438\\u0441\\u0430\\u0442\\u044c\", \"\\u0430\\u0440\\u0442\\u0438\\u043a\\u0443\\u043b\", \"\\u0441\\u0440\\u0430\\u0437\\u0443\", \"\\u043f\\u043e\\u0434\\u0434\\u0435\\u0440\\u0436\\u043a\\u0430\", \"\\u043f\\u0440\\u0438\\u0432\\u0435\\u0437\\u0442\\u0438\", \"\\u0441\\u0435\\u0440\\u0432\\u0438\\u0441\\u043d\\u044b\\u0439_\\u0446\\u0435\\u043d\\u0442\\u0440\", \"\\u043f\\u0440\\u0438\\u0439\\u0442\\u0438\", \"\\u0438\\u0442\\u043e\\u0433\", \"\\u0434\\u0435\\u043d\\u044c\\u0433\\u0430\", \"\\u043e\\u0442\\u043a\\u0430\\u0437\\u0430\\u0442\\u044c\\u0441\\u044f\", \"\\u043c\\u0430\\u0433\\u0430\\u0437\\u0438\\u043d\", \"\\u0446\\u0435\\u043d\\u0430\", \"\\u0436\\u0434\\u0430\\u0442\\u044c\", \"\\u0441\\u043a\\u0430\\u0437\\u0430\\u0442\\u044c\", \"\\u043d\\u0443\\u0436\\u043d\\u043e\", \"\\u0434\\u0435\\u043d\\u044c\", \"\\u043e\\u0442\\u043f\\u0440\\u0430\\u0432\\u0438\\u0442\\u044c\", \"\\u043d\\u0430\\u043f\\u0438\\u0441\\u0430\\u0442\\u044c\", \"\\u043c\\u043e\\u0447\\u044c\", \"\\u043a\\u043e\\u0442\\u043e\\u0440\\u044b\\u0439\", \"\\u0441\\u0443\\u043c\\u043c\\u0430\", \"\\u043e\\u043f\\u043b\\u0430\\u0442\\u0430\", \"\\u0441\\u0440\\u043e\\u043a\", \"\\u0441\\u0430\\u0439\\u0442\", \"\\u043a\\u0430\\u0440\\u0442\\u0430\", \"\\u0442\\u0435\\u043b\\u0435\\u0444\\u043e\\u043d\", \"\\u0434\\u0430\\u043d\\u043d\\u044b\\u0439\", \"\\u0434\\u043e\\u0431\\u0440\\u044b\\u0439_\\u0434\\u0435\\u043d\\u044c\", \"\\u043e\\u0442\\u0432\\u0435\\u0442\", \"\\u043f\\u043e\\u043b\\u0443\\u0447\\u0438\\u0442\\u044c\", \"\\u043f\\u0440\\u0435\\u0442\\u0435\\u043d\\u0437\\u0438\\u044f\", \"\\u0443\\u0441\\u043b\\u0443\\u0433\\u0430\", \"\\u0431\\u0430\\u043d\\u043a\", \"\\u0434\\u043e\\u0433\\u043e\\u0432\\u043e\\u0440\", \"\\u043e\\u043f\\u0435\\u0440\\u0430\\u0442\\u043e\\u0440\", \"\\u0433\\u043e\\u0440\\u044f\\u0447\\u0438\\u0439_\\u0432\\u043e\\u0434\\u0430\", \"\\u043d\\u043e\\u043c\\u0435\\u0440\", \"\\u0441\\u0431\\u0435\\u0440\\u0431\\u0430\\u043d\\u043a\", \"\\u0433\\u043e\\u0440\\u044f\\u0447\\u0435\\u0435\", \"\\u043e\\u0444\\u0438\\u0441\", \"\\u043e\\u0442\\u043a\\u043b\\u044e\\u0447\\u0435\\u043d\\u0438\\u0435\", \"\\u043d\\u0435\\u0441\\u043c\\u043e\\u0442\\u0440\\u044f\", \"\\u043e\\u0441\\u043d\\u043e\\u0432\\u0430\\u043d\\u0438\\u0435\", \"\\u043f\\u0435\\u0440\\u0438\\u043e\\u0434\", \"\\u0442\\u0430\\u0440\\u0438\\u0444\", \"\\u0430\\u0432\\u0430\\u0440\\u0438\\u044f\", \"\\u043c\\u0430\\u0441\\u0442\\u0435\\u0440\", \"\\u0440\\u0435\\u043a\\u0432\\u0438\\u0437\\u0438\\u0442\", \"\\u0441\\u0447\\u0451\\u0442\", \"\\u043f\\u043e\\u043b\\u043d\\u044b\\u0439\", \"\\u043e\\u0442\\u043a\\u043b\\u044e\\u0447\\u0438\\u0442\\u044c\", \"\\u043a\\u0440\\u0435\\u0434\\u0438\\u0442\", \"\\u043f\\u043b\\u0430\\u043d\\u043e\\u0432\\u044b\\u0439_\\u043e\\u0442\\u043a\\u043b\\u044e\\u0447\\u0435\\u043d\\u0438\\u0435\", \"\\u043d\\u0430\\u0447\\u0438\\u0441\\u043b\\u0435\\u043d\\u0438\\u0435\", \"\\u043e\\u043a\\u0430\\u0437\\u0430\\u043d\\u0438\\u0435_\\u0443\\u0441\\u043b\\u0443\\u0433\\u0430\", \"\\u043f\\u043e\\u0434\\u043a\\u043b\\u044e\\u0447\\u0438\\u0442\\u044c\", \"\\u043f\\u043b\\u0430\\u0442\\u0430\", \"\\u0431\\u0438\\u043b\\u0435\\u0442\", \"\\u0431\\u0440\\u043e\\u043d\\u044c\", \"\\u043e\\u0441\\u043c\\u043e\\u0442\\u0440\", \"\\u0430\\u0432\\u0430\\u0440\\u0438\\u0439\\u043d\\u044b\\u0439\", \"\\u0434\\u0430\\u043d\\u043d\\u044b\\u0435\", \"\\u0438\\u043c\\u0435\\u043d\\u043d\\u043e\", \"\\u043f\\u0440\\u043e\\u0431\\u043b\\u0435\\u043c\\u0430\", \"\\u0441\\u043e\\u0433\\u043b\\u0430\\u0441\\u043d\\u043e\", \"\\u0442\\u0430\\u043a\\u043e\\u0439_\\u043e\\u0431\\u0440\\u0430\\u0437\", \"\\u0441\\u0432\\u044f\\u0437\\u044c\", \"\\u043d\\u0435\\u043e\\u0431\\u0445\\u043e\\u0434\\u0438\\u043c\\u043e\", \"\\u043a\\u043e\\u043c\\u043f\\u0430\\u043d\\u0438\\u044f\", \"\\u0438\\u043d\\u0444\\u043e\\u0440\\u043c\\u0430\\u0446\\u0438\\u044f\", \"\\u0434\\u0430\\u0442\\u044c\", \"\\u0433\\u043e\\u0434\", \"\\u0440\\u0430\\u0431\\u043e\\u0442\\u0430\", \"\\u0434\\u043e\\u043c\", \"\\u0441\\u0432\\u043e\\u0439\", \"\\u044f\\u0432\\u043b\\u044f\\u0442\\u044c\\u0441\\u044f\", \"\\u043f\\u043b\\u0430\\u0442\\u043d\\u044b\\u0439\", \"\\u0430\\u0432\\u0433\\u0443\\u0441\\u0442\", \"\\u0432\\u043e\\u0434\\u0430\", \"\\u0433\\u043e\\u0432\\u043e\\u0440\\u0438\\u0442\\u044c\", \"\\u043a\\u043e\\u0442\\u043e\\u0440\\u044b\\u0439\", \"\\u043e\\u0431\\u0440\\u0430\\u0449\\u0435\\u043d\\u0438\\u0435\", \"\\u043e\\u0442\\u0432\\u0435\\u0442\", \"\\u0434\\u043e\\u043b\\u0436\\u043d\\u044b\\u0439\", \"\\u043f\\u0440\\u043e\\u0441\\u0438\\u0442\\u044c\", \"\\u043e\\u043f\\u043b\\u0430\\u0442\\u0430\", \"\\u043c\\u0435\\u0441\\u044f\\u0446\", \"\\u043a\\u0430\\u0440\\u0442\\u0430\", \"\\u0434\\u043e\\u0431\\u0440\\u044b\\u0439_\\u0434\\u0435\\u043d\\u044c\", \"\\u0441\\u0438\\u0442\\u0443\\u0430\\u0446\\u0438\\u044f\", \"\\u0441\\u0442\\u043e\\u0438\\u043c\\u043e\\u0441\\u0442\\u044c\", \"\\u0442\\u0435\\u043b\\u0435\\u0444\\u043e\\u043d\", \"\\u0430\\u0434\\u0440\\u0435\\u0441\", \"\\u0440\\u0435\\u0431\\u0451\\u043d\\u043e\\u043a\", \"\\u0442\\u0435\\u0440\\u0440\\u0438\\u0442\\u043e\\u0440\\u0438\\u044f\", \"\\u0432\\u0440\\u0430\\u0447\", \"\\u0430\\u043d\\u0430\\u043f\\u0430\", \"\\u0443\\u043b\\u0438\\u0446\\u0430\", \"\\u043f\\u0430\\u0440\\u043a\\u043e\\u0432\\u043a\\u0430\", \"\\u043f\\u043e\\u043c\\u0435\\u0449\\u0435\\u043d\\u0438\\u0435\", \"\\u044d\\u0442\\u0430\\u0436\", \"\\u043a\\u0440\\u0430\\u0439\\u043d\\u0435\", \"\\u043c\\u043e\\u0441\\u043a\\u043e\\u0432\\u0441\\u043a\\u0438\\u0439_\\u043e\\u0431\\u043b\\u0430\\u0441\\u0442\\u044c\", \"\\u043e\\u0440\\u0443\\u0436\\u0438\\u0435\", \"\\u043c\\u0443\\u0441\\u043e\\u0440\", \"\\u0441\\u043e\\u0441\\u0435\\u0434\", \"\\u0436\\u0438\\u043b\\u0435\\u0446\", \"\\u0442\\u0430\\u0440\\u0430\\u043a\\u0430\\u043d\", \"\\u0436\\u0430\\u0440\\u0430\", \"\\u0432\\u044b\\u0432\\u043e\\u0437\", \"\\u0441\\u043e\\u0441\\u0435\\u0434\\u043d\\u0438\\u0439\", \"\\u0441\\u043e\\u043b\\u043d\\u0435\\u0447\\u043d\\u044b\\u0439\", \"\\u043f\\u043f\\u0446\\u0435\\u043d\\u0442\\u0440\", \"\\u0431\\u043e\\u043b\\u044c\\u0448\\u043e\\u0439\", \"\\u043f\\u043b\\u043e\\u0445\\u043e\", \"\\u0448\\u0443\\u043c\", \"\\u0443\\u0442\\u0440\\u043e\", \"\\u0437\\u0430\\u043f\\u0430\\u0445\", \"\\u0440\\u044f\\u0434\\u043e\\u043c\", \"\\u0441\\u0430\\u043d\\u043f\\u0438\\u043d\", \"\\u043a\\u0430\\u0444\\u0435\", \"\\u043f\\u0440\\u043e\\u0436\\u0438\\u0432\\u0430\\u043d\\u0438\\u0435\", \"\\u0432\\u043e\\u0434\\u0438\\u0442\\u0435\\u043b\\u044c\", \"\\u0442\\u0438\\u0448\\u0438\\u043d\\u0430\", \"\\u0442\\u0435\\u043a\\u0443\\u0449\\u0438\\u0439_\\u043c\\u043e\\u043c\\u0435\\u043d\\u0442\", \"\\u0432\\u044b\\u0435\\u0437\\u0434\", \"\\u0431\\u0443\\u0440\\u0433\\u043e\\u043c\\u0438\\u0441\\u0442\\u0440\", \"\\u0433\\u0430\\u0437\\u043e\\u0432\\u044b\\u0439\", \"\\u043c\\u0435\\u0441\\u0442\\u043e\", \"\\u0440\\u0430\\u0439\\u043e\\u043d\", \"\\u0447\\u0435\\u043b\\u043e\\u0432\\u0435\\u043a\", \"\\u0436\\u0438\\u0442\\u0435\\u043b\\u044c\", \"\\u043a\\u0432\\u0430\\u0440\\u0442\\u0438\\u0440\\u0430\", \"\\u0433\\u043e\\u0440\\u043e\\u0434\", \"\\u043d\\u0430\\u0445\\u043e\\u0434\\u0438\\u0442\\u044c\\u0441\\u044f\", \"\\u043d\\u0430\\u0440\\u0443\\u0448\\u0435\\u043d\\u0438\\u0435\", \"\\u043f\\u0440\\u043e\\u0441\\u0438\\u0442\\u044c_\\u043f\\u0440\\u043e\\u0432\\u0435\\u0441\\u0442\\u0438\", \"\\u0432\\u043e\\u0434\\u0430\", \"\\u043d\\u043e\\u0440\\u043c\\u0430\", \"\\u0430\\u0434\\u0440\\u0435\\u0441\", \"\\u043f\\u043e\\u0434\\u044a\\u0435\\u0437\\u0434\", \"\\u043c\\u0435\\u0440\\u0430\", \"\\u0434\\u0440\\u0443\\u0433\\u043e\\u0439\", \"\\u0436\\u0430\\u043b\\u043e\\u0431\\u0430\", \"\\u043f\\u0440\\u043e\\u0441\\u0438\\u0442\\u044c\", \"\\u0434\\u043e\\u043c\", \"\\u043a\\u043e\\u0442\\u043e\\u0440\\u044b\\u0439\", \"\\u043f\\u0440\\u043e\\u0432\\u0435\\u0440\\u043a\\u0430\", \"\\u043c\\u0430\\u0433\\u0430\\u0437\\u0438\\u043d\", \"\\u0440\\u0430\\u0431\\u043e\\u0442\\u0430\"], \"Freq\": [637.0, 172.0, 256.0, 219.0, 212.0, 316.0, 71.0, 67.0, 210.0, 80.0, 71.0, 52.0, 120.0, 101.0, 70.0, 59.0, 45.0, 59.0, 104.0, 99.0, 100.0, 91.0, 90.0, 50.0, 36.0, 93.0, 48.0, 35.0, 70.0, 88.0, 637.1979771492096, 256.2420893427196, 219.21109907786914, 211.76529800757118, 120.25399111476268, 103.93870480944645, 99.08067041535351, 89.79120261571332, 87.5475847140452, 72.04579911177882, 66.96267805251787, 66.67056825824469, 65.73946539227971, 61.50965290937508, 59.10771192560795, 56.042811574553795, 53.10268334566555, 47.63187929904113, 40.33887205332041, 37.4385795062425, 62.60585022813422, 37.10899080086293, 34.02306722087431, 33.93683073296227, 33.50444557560919, 50.004982864283086, 33.129679638298704, 39.63680466007462, 42.38740403075809, 60.9827188388247, 73.88006193205844, 202.95165224834707, 67.12085745734684, 286.1904205199601, 83.23773935696944, 45.3944626937386, 159.06060069995723, 71.79942040213885, 124.85952429361107, 66.09098342034521, 61.191426295206455, 87.68913926830363, 167.41019668540847, 86.28457808475252, 109.49847752948926, 91.86292688538822, 80.3423735498292, 94.41651691032278, 84.42192741676048, 82.91371466974151, 84.22014891259589, 81.74109494756519, 72.92514571726956, 67.21629624266835, 171.53688433030132, 79.50072225295942, 70.58147588921786, 45.90139305918344, 39.91397737187039, 58.37654427675718, 36.73186900138524, 35.79206296285634, 31.923313045626358, 29.833241363090224, 35.82312753574497, 29.873741437089887, 30.222772811279867, 23.68396506353952, 23.816609858548905, 24.1226405455275, 33.89259388055762, 23.707086834331783, 28.90754612332012, 21.137326052569016, 24.83318718768513, 21.43003748210118, 19.425875420929117, 18.69374352935028, 22.70881629457905, 18.809286649776993, 18.575784701527358, 23.150734630940168, 18.98593319895163, 15.641561598329458, 41.33361082393829, 36.86291154148898, 65.946423598011, 32.598955180916356, 20.480024942878448, 57.70933794507298, 23.21250772007173, 77.41794425386558, 68.86016659683798, 89.70636293305093, 68.92744486949152, 60.01129345967025, 61.60160677320005, 70.97748209056468, 41.946691067681634, 35.086410730128435, 43.89212706294014, 55.55232487424809, 48.28588798204837, 90.99721069636936, 60.708375682825896, 61.41829785640492, 49.63533171365982, 61.33842065628818, 60.36498369812434, 51.38952420671866, 55.4658195427268, 49.288954330928945, 44.65765159009103, 42.15082382045562, 43.22454824122659, 42.18636101259369, 66.36485972746712, 69.85197868132668, 35.11421947741153, 36.01281019440189, 43.89634820612645, 50.76357851896684, 22.042202896165396, 22.852387717123836, 20.769488840218198, 21.024426642109106, 25.640307485159223, 19.321966078955356, 20.077287329166907, 19.57288270295479, 18.123377485987056, 17.93660465111465, 22.60996358076087, 15.422384743289822, 16.17307995093173, 31.53981995715386, 17.52225452884797, 17.678463410866172, 14.029088803756075, 14.206296336741122, 12.934536935433274, 13.159142414819595, 12.589654349236223, 12.554738184023265, 19.27343623849741, 12.611842098516128, 19.085166715212036, 14.053892006659886, 14.401772658556338, 29.999054257983122, 15.375415359924089, 47.40621007188527, 39.60292681854507, 40.33723066229588, 29.889088921716848, 34.817290000235104, 34.917039218975795, 35.52740300795783, 34.7646095689778, 28.949883182692993, 45.15252741865424, 24.394734504430073, 54.633662151606195, 23.18465254480182, 27.34722247811346, 37.20677368257524, 28.24373696192944, 35.12469629630228, 28.084649111598083, 32.57538579717125, 26.61117437343025, 29.881102832415596, 25.25065647280523], \"Total\": [637.0, 172.0, 256.0, 219.0, 212.0, 316.0, 71.0, 67.0, 210.0, 80.0, 71.0, 52.0, 120.0, 101.0, 70.0, 59.0, 45.0, 59.0, 104.0, 99.0, 100.0, 91.0, 90.0, 50.0, 36.0, 93.0, 48.0, 35.0, 70.0, 88.0, 637.7051129336298, 256.7644367692824, 219.72150529891542, 212.28806200523783, 120.77864330127962, 104.45821416777294, 99.6280707297602, 90.33158257438323, 88.18327941331772, 72.57208103126716, 67.46011813745322, 67.17776633347769, 66.27336407543287, 62.02909038330902, 59.6087790665963, 56.582070657108815, 53.6322120816236, 48.138590534739784, 40.84372432380306, 37.94628128664764, 63.48777328769682, 37.63753420990061, 34.532291504958835, 34.44544707153025, 34.008967542107335, 50.82020579626543, 33.671674737559215, 40.29739468414527, 43.098620878220075, 62.01578479652836, 75.65624122463616, 210.93024136975046, 69.41342701698915, 316.3438435847102, 88.66733606416679, 46.6899088302838, 185.83715124818755, 79.62946327702086, 153.8828111782361, 73.10996661911527, 66.91010980284308, 110.46232612539366, 290.98279317894907, 111.54107177675768, 170.14020630600746, 129.72681119463562, 104.8537444948034, 150.13008676870828, 127.91563129647012, 138.73154871282878, 156.2483634481114, 144.02694153745554, 108.00962325766409, 97.17503503847666, 172.1798950518605, 80.15368599633241, 71.24352963801526, 46.622390268724665, 40.54443967684818, 59.37963075421992, 37.36566402654779, 36.42332194081777, 32.55126063120146, 30.458484006247126, 36.61277521748261, 30.56047187393377, 30.98394234070782, 24.293871737739714, 24.46125540179374, 24.779439593560916, 34.81549373630913, 24.36887783519807, 29.71718657227919, 21.760610694272046, 25.575346643144414, 22.07517915104885, 20.04292089982698, 19.30187125442179, 23.449416504369086, 19.43662648526935, 19.203295699243245, 23.954063499871395, 19.650465256801724, 16.244298644042615, 43.0881380568578, 38.5016928374128, 70.0891092008101, 34.737300040074224, 21.281607424535498, 70.21816494447138, 24.612376677352927, 100.57980973713995, 91.72568556479891, 150.25493507899733, 106.2323193430061, 90.00642945965575, 93.40358660835716, 117.86089809500147, 56.28489880106339, 43.44245899667925, 62.206350724274635, 101.07366710175519, 79.70788647535667, 290.98279317894907, 127.97919784984526, 144.02694153745554, 91.26384137345964, 163.59447675490324, 170.14020630600746, 109.79437374733708, 150.13008676870828, 156.2483634481114, 99.86601326456986, 88.33994402033952, 127.91563129647012, 160.63414361648657, 67.02651652571294, 71.03476289436088, 35.74408268997721, 36.777244792515, 45.025563455324395, 52.12734533678891, 22.692030372893335, 23.562712426476438, 21.418250870794967, 21.681287612031877, 26.454533148569286, 19.96247443231274, 20.743841177251173, 20.243376601771008, 18.7636957868506, 18.611882573290885, 23.476321771275227, 16.072574228449565, 16.86474915695355, 32.89804267389504, 18.281855125525837, 18.450298272076886, 14.683813054693683, 14.878113623465463, 13.562217621693309, 13.808493451178625, 13.21488366857838, 13.178655100286203, 20.261575246849265, 13.263221458491211, 20.07856179594408, 14.785660135969682, 15.172274406397179, 33.06225135657596, 16.279784545320815, 59.156612348779845, 48.21193462154291, 50.52893518377179, 35.83778457077358, 50.23931684360218, 54.179186821010575, 58.02357322734086, 58.028173654110624, 43.354748389401166, 101.07366710175519, 32.70764176440951, 160.63414361648657, 29.80390071290882, 45.80752843431576, 101.51691268511885, 65.47944575540822, 163.59447675490324, 93.40358660835716, 290.98279317894907, 80.95170247539563, 316.3438435847102, 90.00642945965575], \"Category\": [\"Default\", \"Default\", \"Default\", \"Default\", \"Default\", \"Default\", \"Default\", \"Default\", \"Default\", \"Default\", \"Default\", \"Default\", \"Default\", \"Default\", \"Default\", \"Default\", \"Default\", \"Default\", \"Default\", \"Default\", \"Default\", \"Default\", \"Default\", \"Default\", \"Default\", \"Default\", \"Default\", \"Default\", \"Default\", \"Default\", \"Topic1\", \"Topic1\", \"Topic1\", \"Topic1\", \"Topic1\", \"Topic1\", \"Topic1\", \"Topic1\", \"Topic1\", \"Topic1\", \"Topic1\", \"Topic1\", \"Topic1\", \"Topic1\", \"Topic1\", \"Topic1\", \"Topic1\", \"Topic1\", \"Topic1\", \"Topic1\", \"Topic1\", \"Topic1\", \"Topic1\", \"Topic1\", \"Topic1\", \"Topic1\", \"Topic1\", \"Topic1\", \"Topic1\", \"Topic1\", \"Topic1\", \"Topic1\", \"Topic1\", \"Topic1\", \"Topic1\", \"Topic1\", \"Topic1\", \"Topic1\", \"Topic1\", \"Topic1\", \"Topic1\", \"Topic1\", \"Topic1\", \"Topic1\", \"Topic1\", \"Topic1\", \"Topic1\", \"Topic1\", \"Topic1\", \"Topic1\", \"Topic1\", \"Topic1\", \"Topic1\", \"Topic1\", \"Topic2\", \"Topic2\", \"Topic2\", \"Topic2\", \"Topic2\", \"Topic2\", \"Topic2\", \"Topic2\", \"Topic2\", \"Topic2\", \"Topic2\", \"Topic2\", \"Topic2\", \"Topic2\", \"Topic2\", \"Topic2\", \"Topic2\", \"Topic2\", \"Topic2\", \"Topic2\", \"Topic2\", \"Topic2\", \"Topic2\", \"Topic2\", \"Topic2\", \"Topic2\", \"Topic2\", \"Topic2\", \"Topic2\", \"Topic2\", \"Topic2\", \"Topic2\", \"Topic2\", \"Topic2\", \"Topic2\", \"Topic2\", \"Topic2\", \"Topic2\", \"Topic2\", \"Topic2\", \"Topic2\", \"Topic2\", \"Topic2\", \"Topic2\", \"Topic2\", \"Topic2\", \"Topic2\", \"Topic2\", \"Topic2\", \"Topic2\", \"Topic2\", \"Topic2\", \"Topic2\", \"Topic2\", \"Topic2\", \"Topic2\", \"Topic2\", \"Topic2\", \"Topic2\", \"Topic2\", \"Topic2\", \"Topic2\", \"Topic3\", \"Topic3\", \"Topic3\", \"Topic3\", \"Topic3\", \"Topic3\", \"Topic3\", \"Topic3\", \"Topic3\", \"Topic3\", \"Topic3\", \"Topic3\", \"Topic3\", \"Topic3\", \"Topic3\", \"Topic3\", \"Topic3\", \"Topic3\", \"Topic3\", \"Topic3\", \"Topic3\", \"Topic3\", \"Topic3\", \"Topic3\", \"Topic3\", \"Topic3\", \"Topic3\", \"Topic3\", \"Topic3\", \"Topic3\", \"Topic3\", \"Topic3\", \"Topic3\", \"Topic3\", \"Topic3\", \"Topic3\", \"Topic3\", \"Topic3\", \"Topic3\", \"Topic3\", \"Topic3\", \"Topic3\", \"Topic3\", \"Topic3\", \"Topic3\", \"Topic3\", \"Topic3\", \"Topic3\", \"Topic3\", \"Topic3\", \"Topic3\", \"Topic3\", \"Topic3\", \"Topic3\", \"Topic3\", \"Topic3\", \"Topic3\"], \"logprob\": [30.0, 29.0, 28.0, 27.0, 26.0, 25.0, 24.0, 23.0, 22.0, 21.0, 20.0, 19.0, 18.0, 17.0, 16.0, 15.0, 14.0, 13.0, 12.0, 11.0, 10.0, 9.0, 8.0, 7.0, 6.0, 5.0, 4.0, 3.0, 2.0, 1.0, -3.4417, -4.3527, -4.5087, -4.5433, -5.1092, -5.255, -5.3028, -5.4013, -5.4266, -5.6215, -5.6946, -5.699, -5.7131, -5.7796, -5.8194, -5.8727, -5.9266, -6.0353, -6.2015, -6.2761, -5.7619, -6.2849, -6.3717, -6.3743, -6.3871, -5.9867, -6.3984, -6.219, -6.1519, -5.7882, -5.5963, -4.5858, -5.6923, -4.2421, -5.4771, -6.0834, -4.8295, -5.6249, -5.0716, -5.7077, -5.7848, -5.425, -4.7783, -5.4411, -5.2029, -5.3785, -5.5125, -5.3511, -5.463, -5.481, -5.4653, -5.4952, -5.6093, -5.6909, -4.228, -4.997, -5.116, -5.5463, -5.686, -5.3058, -5.7691, -5.795, -5.9094, -5.9771, -5.7942, -5.9758, -5.9642, -6.208, -6.2024, -6.1896, -5.8496, -6.207, -6.0087, -6.3217, -6.1606, -6.308, -6.4061, -6.4446, -6.25, -6.4384, -6.4509, -6.2307, -6.4291, -6.6228, -5.6511, -5.7655, -5.1839, -5.8885, -6.3533, -5.3173, -6.2281, -5.0235, -5.1407, -4.8762, -5.1397, -5.2782, -5.2521, -5.1104, -5.6364, -5.8149, -5.591, -5.3554, -5.4956, -4.8619, -5.2667, -5.255, -5.4681, -5.2563, -5.2723, -5.4333, -5.357, -5.4751, -5.5737, -5.6315, -5.6063, -5.6307, -4.7989, -4.7477, -5.4355, -5.4102, -5.2123, -5.0669, -5.9011, -5.865, -5.9606, -5.9484, -5.7499, -6.0329, -5.9945, -6.02, -6.0969, -6.1073, -5.8757, -6.2583, -6.2108, -5.5428, -6.1306, -6.1218, -6.353, -6.3404, -6.4342, -6.417, -6.4612, -6.464, -6.0354, -6.4595, -6.0452, -6.3512, -6.3267, -5.5929, -6.2613, -5.1353, -5.3152, -5.2968, -5.5966, -5.444, -5.4411, -5.4238, -5.4455, -5.6285, -5.1841, -5.7997, -4.9935, -5.8506, -5.6855, -5.3776, -5.6532, -5.4352, -5.6589, -5.5105, -5.7128, -5.5969, -5.7652], \"loglift\": [30.0, 29.0, 28.0, 27.0, 26.0, 25.0, 24.0, 23.0, 22.0, 21.0, 20.0, 19.0, 18.0, 17.0, 16.0, 15.0, 14.0, 13.0, 12.0, 11.0, 10.0, 9.0, 8.0, 7.0, 6.0, 5.0, 4.0, 3.0, 2.0, 1.0, 0.6902, 0.6889, 0.6886, 0.6885, 0.6866, 0.686, 0.6854, 0.685, 0.6837, 0.6837, 0.6836, 0.6834, 0.6829, 0.6825, 0.6825, 0.6814, 0.681, 0.6804, 0.6785, 0.6775, 0.677, 0.6768, 0.6761, 0.6761, 0.676, 0.6748, 0.6747, 0.6744, 0.6743, 0.6742, 0.6672, 0.6524, 0.6574, 0.5908, 0.6278, 0.6628, 0.5354, 0.5874, 0.482, 0.59, 0.6016, 0.4601, 0.1381, 0.4342, 0.2502, 0.3458, 0.4247, 0.2272, 0.2754, 0.1762, 0.0729, 0.1245, 0.2982, 0.3224, 1.2132, 1.2088, 1.2076, 1.2014, 1.2013, 1.1999, 1.1999, 1.1995, 1.1975, 1.1962, 1.1952, 1.1943, 1.1921, 1.1916, 1.1903, 1.1901, 1.1901, 1.1894, 1.1894, 1.1879, 1.1875, 1.1873, 1.1857, 1.185, 1.1849, 1.1842, 1.1838, 1.1829, 1.1826, 1.1792, 1.1754, 1.1735, 1.1561, 1.1534, 1.1786, 1.0208, 1.1584, 0.9552, 0.9303, 0.7012, 0.7844, 0.8116, 0.8007, 0.7098, 0.923, 1.0034, 0.8683, 0.6185, 0.7158, 0.0545, 0.4712, 0.3647, 0.6079, 0.236, 0.1808, 0.4578, 0.2212, 0.0632, 0.4122, 0.477, 0.132, -0.1201, 1.5857, 1.5788, 1.5779, 1.5746, 1.5702, 1.5691, 1.5666, 1.565, 1.5649, 1.5649, 1.5644, 1.563, 1.563, 1.562, 1.5609, 1.5587, 1.558, 1.5543, 1.5538, 1.5535, 1.5532, 1.5529, 1.55, 1.5494, 1.5482, 1.5475, 1.5472, 1.5471, 1.5456, 1.5453, 1.5449, 1.5449, 1.5435, 1.4984, 1.5385, 1.3742, 1.3989, 1.3704, 1.4141, 1.229, 1.1563, 1.1051, 1.0833, 1.1918, 0.7898, 1.3024, 0.5172, 1.3445, 1.0798, 0.5919, 0.7548, 0.0571, 0.3939, -0.5941, 0.4831, -0.764, 0.3246]}, \"token.table\": {\"Topic\": [2, 2, 1, 2, 3, 1, 2, 3, 3, 1, 2, 2, 3, 1, 2, 2, 3, 1, 1, 1, 2, 3, 3, 1, 3, 1, 3, 3, 2, 3, 1, 2, 3, 1, 2, 3, 1, 2, 3, 2, 2, 1, 2, 1, 2, 3, 1, 2, 3, 1, 2, 3, 1, 2, 1, 2, 3, 2, 1, 2, 3, 1, 2, 3, 1, 1, 2, 3, 1, 2, 3, 3, 1, 2, 3, 3, 2, 3, 1, 1, 1, 3, 1, 2, 3, 1, 1, 2, 1, 2, 1, 2, 3, 2, 3, 1, 2, 3, 1, 2, 3, 3, 1, 2, 1, 1, 1, 3, 2, 1, 2, 3, 1, 3, 1, 2, 3, 1, 2, 3, 3, 1, 2, 1, 2, 3, 1, 2, 3, 2, 2, 3, 1, 2, 1, 2, 2, 3, 1, 3, 1, 2, 3, 1, 1, 2, 2, 1, 2, 3, 2, 2, 1, 2, 3, 1, 2, 1, 2, 2, 2, 1, 2, 2, 2, 3, 2, 2, 2, 1, 2, 3, 1, 1, 2, 2, 3, 1, 1, 1, 2, 1, 2, 3, 2, 3, 1, 2, 1, 1, 3, 1, 1, 2, 3, 1, 2, 3, 1, 2, 3, 1, 2, 3, 1, 2, 3, 1, 1, 2, 3, 2, 3, 3, 1, 2, 3, 1, 2, 3, 2, 1, 2, 3, 1, 2, 1, 1, 1, 2, 3, 1, 2, 3, 1, 2, 3, 3, 3, 1, 1, 1, 2, 1, 2, 3, 1, 2, 2, 2, 3, 2, 3, 1, 2, 2, 3, 1, 3, 1, 2, 3, 1, 2, 3, 1, 2, 2, 3, 3, 3, 1, 2, 3], \"Freq\": [0.9849609608025639, 0.9811434288953168, 0.2572084652726037, 0.7073232794996602, 0.032151058159075464, 0.3984208995616758, 0.26146371533734974, 0.34239296056081514, 0.9788661495199014, 0.9997363183079218, 0.9980826084986354, 0.9894134995144996, 0.9845827940550573, 0.9897870904902085, 0.9601711208673837, 0.09073792246163269, 0.9073792246163269, 0.979342620248973, 0.9935531375415659, 0.997121009709668, 0.5540513331095666, 0.4452198212487588, 0.9801540327653434, 0.9970228090038448, 0.9791830525787739, 0.04259611065748654, 0.9797105451221905, 0.9227357497632058, 0.061425874354548694, 0.9213881153182304, 0.36382849028327885, 0.6021988804688754, 0.02509162001953647, 0.2259199474173964, 0.6495198488250147, 0.12237330485108971, 0.09228636111719954, 0.2584018111281587, 0.6460045278203967, 0.9883777228912397, 0.986571779479812, 0.023208243500344117, 0.9515379835141088, 0.598277758520581, 0.22345313872455436, 0.1729959783673969, 0.26621421771584264, 0.598981989860646, 0.1397624643008174, 0.8123064495827131, 0.11697212873991068, 0.07148296756327875, 0.9624034879102559, 0.03792723105065048, 0.537605630844867, 0.31360328465950577, 0.1472015417789517, 0.9965817297479136, 0.33967450343389866, 0.5478621023127398, 0.12052966250880275, 0.04282490796388867, 0.6637860734402744, 0.2997743557472207, 0.9956134213912848, 0.3644712887867772, 0.2659655350606212, 0.3644712887867772, 0.061087871985685264, 0.5039749438819034, 0.4276151038997969, 0.9671240901675916, 0.9638056943647811, 0.02141790431921736, 0.02141790431921736, 0.9879774700358183, 0.1674210633235716, 0.8371053166178579, 0.9958752044769944, 0.9967162736395153, 0.9936958457073426, 0.9585453030340687, 0.025972883951437112, 0.9609967062031731, 0.025972883951437112, 0.9995310203143516, 0.2507476489096593, 0.7522429467289778, 0.9781083331946335, 0.013217680178305859, 0.6261236639716143, 0.36634895232381687, 0.9864436014960036, 0.2985709389061926, 0.6966655241144494, 0.20878941862071917, 0.7655612016093036, 0.01988470653530659, 0.5739170972123361, 0.3127332685408538, 0.1134087677126173, 0.9804722209428747, 0.03910015429910329, 0.9775038574775823, 0.9963292730523104, 0.9845856883004015, 0.9040795507797363, 0.09483351931255976, 0.9685449063277662, 0.02183047272314458, 0.39294850901660244, 0.5894227635249036, 0.18594709134365914, 0.7945012084683618, 0.5282602197219302, 0.4645046759623868, 0.968577160903774, 0.796651700961873, 0.14484576381124964, 0.06337002166742171, 0.9517858151515122, 0.9116708996554067, 0.07472712292257432, 0.017233008330758685, 0.37912618327669106, 0.603155291576554, 0.08617187329035411, 0.3102187438452748, 0.6204374876905496, 0.9479656231225267, 0.9344891922267484, 0.040629964879423844, 0.02731287082336495, 0.9832633496411382, 0.016840791822016057, 0.9767659256769313, 0.2445911587763909, 0.7337734763291727, 0.9041879354319027, 0.08790716038921276, 0.5078950414759034, 0.47663996200046316, 0.015627539737720103, 0.9979216081037462, 0.9973537921371896, 0.9843605187060485, 0.986650399837132, 0.6406481005668755, 0.3526503305872709, 0.9828183265976905, 0.9668982261589671, 0.9816602349516789, 0.5693379247290004, 0.42353187083498806, 0.006943145423524395, 0.9923170515764278, 0.01575106431073695, 0.9652311214025141, 0.028812869295597433, 0.9849472479932655, 0.9650464453889496, 0.9027496940853984, 0.09574617967572407, 0.9830648454003942, 0.019183789113738914, 0.9783732448006845, 0.9682434749623491, 0.9512946579644059, 0.9775358915498911, 0.18415163839163712, 0.8056634179634125, 0.9755939841493848, 0.9800522325428027, 0.042644984356590726, 0.9808346402015866, 0.2013159303473739, 0.7717110663316, 0.9897128074255853, 0.992117064535869, 0.03365056101686358, 0.9758662694890439, 0.6758657034276815, 0.3240452002735459, 0.9695033735844106, 0.030396945189493325, 0.9727022460637864, 0.6894774977284156, 0.30872126763958907, 0.9926200021992421, 0.9836205443523595, 0.016124926956596057, 0.9882120826815529, 0.05707020742038148, 0.9416584224362943, 0.01426755185509537, 0.5435339672241397, 0.13588349180603493, 0.33353220716026755, 0.9986430607424795, 0.04935450416943781, 0.9377355792193184, 0.40954927897950494, 0.3728732241455194, 0.21394365319824885, 0.1153276212121286, 0.20758971818183147, 0.6689002030303458, 0.99317940510398, 0.05555158703680371, 0.6666190444416445, 0.27775793518401853, 0.1659340174336273, 0.8296700871681364, 0.9846849190600687, 0.0287228441329585, 0.9765767005205889, 0.9414495539258401, 0.7629675066488908, 0.22889025199466723, 0.9837392689964181, 0.9902139026276104, 0.29696023503730934, 0.6024050482185418, 0.10181493772707748, 0.17089594992249676, 0.8259970912920678, 0.983061212077679, 0.9745091407605745, 0.48064399920357376, 0.4506037492533504, 0.07009391655052118, 0.855587803257131, 0.11300216269433806, 0.026905276831985254, 0.05757499856617315, 0.949987476341857, 0.9487244578080781, 0.9641415892603868, 0.9332668051051192, 0.9870680420955134, 0.9838606360715347, 0.7091826211774204, 0.29292325657328233, 0.509395840115533, 0.4754361174411641, 0.011319907558122955, 0.7710164393267038, 0.224132685850786, 0.9848627483919153, 0.9397786361260505, 0.9592992875430335, 0.9879034622018197, 0.9468633710808505, 0.6566828396860518, 0.33615907269643125, 0.014077614385609293, 0.9854330069926506, 0.049804363985970476, 0.946282915733439, 0.99889429625178, 0.02220960546095614, 0.9772226402820703, 0.975062608124907, 0.9989551913026412, 0.9409795054878113, 0.936083158514366, 0.05639055171773289, 0.19790640676733806, 0.7916256270693522, 0.953430825348522, 0.9761185208098478, 0.23096781333742739, 0.7462037046286115, 0.0177667548721098], \"Term\": [\"\\u0430\\u0432\\u0430\\u0440\\u0438\\u0439\\u043d\\u044b\\u0439\", \"\\u0430\\u0432\\u0430\\u0440\\u0438\\u044f\", \"\\u0430\\u0432\\u0433\\u0443\\u0441\\u0442\", \"\\u0430\\u0432\\u0433\\u0443\\u0441\\u0442\", \"\\u0430\\u0432\\u0433\\u0443\\u0441\\u0442\", \"\\u0430\\u0434\\u0440\\u0435\\u0441\", \"\\u0430\\u0434\\u0440\\u0435\\u0441\", \"\\u0430\\u0434\\u0440\\u0435\\u0441\", \"\\u0430\\u043d\\u0430\\u043f\\u0430\", \"\\u0430\\u0440\\u0442\\u0438\\u043a\\u0443\\u043b\", \"\\u0431\\u0430\\u043d\\u043a\", \"\\u0431\\u0438\\u043b\\u0435\\u0442\", \"\\u0431\\u043e\\u043b\\u044c\\u0448\\u043e\\u0439\", \"\\u0431\\u0440\\u0430\\u043a\", \"\\u0431\\u0440\\u043e\\u043d\\u044c\", \"\\u0431\\u0443\\u0440\\u0433\\u043e\\u043c\\u0438\\u0441\\u0442\\u0440\", \"\\u0431\\u0443\\u0440\\u0433\\u043e\\u043c\\u0438\\u0441\\u0442\\u0440\", \"\\u0432\\u0430\\u0439\\u043b\\u0434\\u0431\\u0435\\u0440\\u0438\\u0437\", \"\\u0432\\u0435\\u0440\\u043d\\u0443\\u0442\\u044c\", \"\\u0432\\u0435\\u0440\\u043d\\u0443\\u0442\\u044c_\\u0434\\u0435\\u043d\\u044c\\u0433\\u0430\", \"\\u0432\\u043e\\u0434\\u0430\", \"\\u0432\\u043e\\u0434\\u0430\", \"\\u0432\\u043e\\u0434\\u0438\\u0442\\u0435\\u043b\\u044c\", \"\\u0432\\u043e\\u0437\\u0432\\u0440\\u0430\\u0442\", \"\\u0432\\u0440\\u0430\\u0447\", \"\\u0432\\u044b\\u0432\\u043e\\u0437\", \"\\u0432\\u044b\\u0432\\u043e\\u0437\", \"\\u0432\\u044b\\u0435\\u0437\\u0434\", \"\\u0433\\u0430\\u0437\\u043e\\u0432\\u044b\\u0439\", \"\\u0433\\u0430\\u0437\\u043e\\u0432\\u044b\\u0439\", \"\\u0433\\u043e\\u0432\\u043e\\u0440\\u0438\\u0442\\u044c\", \"\\u0433\\u043e\\u0432\\u043e\\u0440\\u0438\\u0442\\u044c\", \"\\u0433\\u043e\\u0432\\u043e\\u0440\\u0438\\u0442\\u044c\", \"\\u0433\\u043e\\u0434\", \"\\u0433\\u043e\\u0434\", \"\\u0433\\u043e\\u0434\", \"\\u0433\\u043e\\u0440\\u043e\\u0434\", \"\\u0433\\u043e\\u0440\\u043e\\u0434\", \"\\u0433\\u043e\\u0440\\u043e\\u0434\", \"\\u0433\\u043e\\u0440\\u044f\\u0447\\u0435\\u0435\", \"\\u0433\\u043e\\u0440\\u044f\\u0447\\u0438\\u0439_\\u0432\\u043e\\u0434\\u0430\", \"\\u0434\\u0430\\u043d\\u043d\\u044b\\u0435\", \"\\u0434\\u0430\\u043d\\u043d\\u044b\\u0435\", \"\\u0434\\u0430\\u043d\\u043d\\u044b\\u0439\", \"\\u0434\\u0430\\u043d\\u043d\\u044b\\u0439\", \"\\u0434\\u0430\\u043d\\u043d\\u044b\\u0439\", \"\\u0434\\u0430\\u0442\\u044c\", \"\\u0434\\u0430\\u0442\\u044c\", \"\\u0434\\u0430\\u0442\\u044c\", \"\\u0434\\u0435\\u043d\\u044c\", \"\\u0434\\u0435\\u043d\\u044c\", \"\\u0434\\u0435\\u043d\\u044c\", \"\\u0434\\u0435\\u043d\\u044c\\u0433\\u0430\", \"\\u0434\\u0435\\u043d\\u044c\\u0433\\u0430\", \"\\u0434\\u043e\\u0431\\u0440\\u044b\\u0439_\\u0434\\u0435\\u043d\\u044c\", \"\\u0434\\u043e\\u0431\\u0440\\u044b\\u0439_\\u0434\\u0435\\u043d\\u044c\", \"\\u0434\\u043e\\u0431\\u0440\\u044b\\u0439_\\u0434\\u0435\\u043d\\u044c\", \"\\u0434\\u043e\\u0433\\u043e\\u0432\\u043e\\u0440\", \"\\u0434\\u043e\\u043b\\u0436\\u043d\\u044b\\u0439\", \"\\u0434\\u043e\\u043b\\u0436\\u043d\\u044b\\u0439\", \"\\u0434\\u043e\\u043b\\u0436\\u043d\\u044b\\u0439\", \"\\u0434\\u043e\\u043c\", \"\\u0434\\u043e\\u043c\", \"\\u0434\\u043e\\u043c\", \"\\u0434\\u043e\\u0441\\u0442\\u0430\\u0432\\u043a\\u0430\", \"\\u0434\\u0440\\u0443\\u0433\\u043e\\u0439\", \"\\u0434\\u0440\\u0443\\u0433\\u043e\\u0439\", \"\\u0434\\u0440\\u0443\\u0433\\u043e\\u0439\", \"\\u0436\\u0430\\u043b\\u043e\\u0431\\u0430\", \"\\u0436\\u0430\\u043b\\u043e\\u0431\\u0430\", \"\\u0436\\u0430\\u043b\\u043e\\u0431\\u0430\", \"\\u0436\\u0430\\u0440\\u0430\", \"\\u0436\\u0434\\u0430\\u0442\\u044c\", \"\\u0436\\u0434\\u0430\\u0442\\u044c\", \"\\u0436\\u0434\\u0430\\u0442\\u044c\", \"\\u0436\\u0438\\u043b\\u0435\\u0446\", \"\\u0436\\u0438\\u0442\\u0435\\u043b\\u044c\", \"\\u0436\\u0438\\u0442\\u0435\\u043b\\u044c\", \"\\u0437\\u0430\\u0431\\u0440\\u0430\\u0442\\u044c\", \"\\u0437\\u0430\\u043a\\u0430\\u0437\", \"\\u0437\\u0430\\u043a\\u0430\\u0437\\u0430\\u0442\\u044c\", \"\\u0437\\u0430\\u043f\\u0430\\u0445\", \"\\u0438\\u043c\\u0435\\u043d\\u043d\\u043e\", \"\\u0438\\u043c\\u0435\\u043d\\u043d\\u043e\", \"\\u0438\\u043c\\u0435\\u043d\\u043d\\u043e\", \"\\u0438\\u043d\\u0442\\u0435\\u0440\\u043d\\u0435\\u0442_\\u043c\\u0430\\u0433\\u0430\\u0437\\u0438\\u043d\", \"\\u0438\\u043d\\u0444\\u043e\\u0440\\u043c\\u0430\\u0446\\u0438\\u044f\", \"\\u0438\\u043d\\u0444\\u043e\\u0440\\u043c\\u0430\\u0446\\u0438\\u044f\", \"\\u0438\\u0442\\u043e\\u0433\", \"\\u0438\\u0442\\u043e\\u0433\", \"\\u043a\\u0430\\u0440\\u0442\\u0430\", \"\\u043a\\u0430\\u0440\\u0442\\u0430\", \"\\u043a\\u0430\\u0444\\u0435\", \"\\u043a\\u0432\\u0430\\u0440\\u0442\\u0438\\u0440\\u0430\", \"\\u043a\\u0432\\u0430\\u0440\\u0442\\u0438\\u0440\\u0430\", \"\\u043a\\u043e\\u043c\\u043f\\u0430\\u043d\\u0438\\u044f\", \"\\u043a\\u043e\\u043c\\u043f\\u0430\\u043d\\u0438\\u044f\", \"\\u043a\\u043e\\u043c\\u043f\\u0430\\u043d\\u0438\\u044f\", \"\\u043a\\u043e\\u0442\\u043e\\u0440\\u044b\\u0439\", \"\\u043a\\u043e\\u0442\\u043e\\u0440\\u044b\\u0439\", \"\\u043a\\u043e\\u0442\\u043e\\u0440\\u044b\\u0439\", \"\\u043a\\u0440\\u0430\\u0439\\u043d\\u0435\", \"\\u043a\\u0440\\u0435\\u0434\\u0438\\u0442\", \"\\u043a\\u0440\\u0435\\u0434\\u0438\\u0442\", \"\\u043a\\u0443\\u043f\\u0438\\u0442\\u044c\", \"\\u043a\\u0443\\u0440\\u044c\\u0435\\u0440\", \"\\u043c\\u0430\\u0433\\u0430\\u0437\\u0438\\u043d\", \"\\u043c\\u0430\\u0433\\u0430\\u0437\\u0438\\u043d\", \"\\u043c\\u0430\\u0441\\u0442\\u0435\\u0440\", \"\\u043c\\u0435\\u0440\\u0430\", \"\\u043c\\u0435\\u0440\\u0430\", \"\\u043c\\u0435\\u0440\\u0430\", \"\\u043c\\u0435\\u0441\\u0442\\u043e\", \"\\u043c\\u0435\\u0441\\u0442\\u043e\", \"\\u043c\\u0435\\u0441\\u044f\\u0446\", \"\\u043c\\u0435\\u0441\\u044f\\u0446\", \"\\u043c\\u043e\\u0441\\u043a\\u043e\\u0432\\u0441\\u043a\\u0438\\u0439_\\u043e\\u0431\\u043b\\u0430\\u0441\\u0442\\u044c\", \"\\u043c\\u043e\\u0447\\u044c\", \"\\u043c\\u043e\\u0447\\u044c\", \"\\u043c\\u043e\\u0447\\u044c\", \"\\u043c\\u0443\\u0441\\u043e\\u0440\", \"\\u043d\\u0430\\u043f\\u0438\\u0441\\u0430\\u0442\\u044c\", \"\\u043d\\u0430\\u043f\\u0438\\u0441\\u0430\\u0442\\u044c\", \"\\u043d\\u0430\\u0440\\u0443\\u0448\\u0435\\u043d\\u0438\\u0435\", \"\\u043d\\u0430\\u0440\\u0443\\u0448\\u0435\\u043d\\u0438\\u0435\", \"\\u043d\\u0430\\u0440\\u0443\\u0448\\u0435\\u043d\\u0438\\u0435\", \"\\u043d\\u0430\\u0445\\u043e\\u0434\\u0438\\u0442\\u044c\\u0441\\u044f\", \"\\u043d\\u0430\\u0445\\u043e\\u0434\\u0438\\u0442\\u044c\\u0441\\u044f\", \"\\u043d\\u0430\\u0445\\u043e\\u0434\\u0438\\u0442\\u044c\\u0441\\u044f\", \"\\u043d\\u0430\\u0447\\u0438\\u0441\\u043b\\u0435\\u043d\\u0438\\u0435\", \"\\u043d\\u0435\\u043e\\u0431\\u0445\\u043e\\u0434\\u0438\\u043c\\u043e\", \"\\u043d\\u0435\\u043e\\u0431\\u0445\\u043e\\u0434\\u0438\\u043c\\u043e\", \"\\u043d\\u0435\\u0441\\u043c\\u043e\\u0442\\u0440\\u044f\", \"\\u043d\\u0435\\u0441\\u043c\\u043e\\u0442\\u0440\\u044f\", \"\\u043d\\u043e\\u043c\\u0435\\u0440\", \"\\u043d\\u043e\\u043c\\u0435\\u0440\", \"\\u043d\\u043e\\u0440\\u043c\\u0430\", \"\\u043d\\u043e\\u0440\\u043c\\u0430\", \"\\u043d\\u0443\\u0436\\u043d\\u043e\", \"\\u043d\\u0443\\u0436\\u043d\\u043e\", \"\\u043e\\u0431\\u0440\\u0430\\u0449\\u0435\\u043d\\u0438\\u0435\", \"\\u043e\\u0431\\u0440\\u0430\\u0449\\u0435\\u043d\\u0438\\u0435\", \"\\u043e\\u0431\\u0440\\u0430\\u0449\\u0435\\u043d\\u0438\\u0435\", \"\\u043e\\u0431\\u0443\\u0432\\u044c\", \"\\u043e\\u0437\\u043e\\u043d\", \"\\u043e\\u043a\\u0430\\u0437\\u0430\\u043d\\u0438\\u0435_\\u0443\\u0441\\u043b\\u0443\\u0433\\u0430\", \"\\u043e\\u043f\\u0435\\u0440\\u0430\\u0442\\u043e\\u0440\", \"\\u043e\\u043f\\u043b\\u0430\\u0442\\u0430\", \"\\u043e\\u043f\\u043b\\u0430\\u0442\\u0430\", \"\\u043e\\u0440\\u0443\\u0436\\u0438\\u0435\", \"\\u043e\\u0441\\u043c\\u043e\\u0442\\u0440\", \"\\u043e\\u0441\\u043d\\u043e\\u0432\\u0430\\u043d\\u0438\\u0435\", \"\\u043e\\u0442\\u0432\\u0435\\u0442\", \"\\u043e\\u0442\\u0432\\u0435\\u0442\", \"\\u043e\\u0442\\u0432\\u0435\\u0442\", \"\\u043e\\u0442\\u043a\\u0430\\u0437\", \"\\u043e\\u0442\\u043a\\u0430\\u0437\", \"\\u043e\\u0442\\u043a\\u0430\\u0437\\u0430\\u0442\\u044c\\u0441\\u044f\", \"\\u043e\\u0442\\u043a\\u0430\\u0437\\u0430\\u0442\\u044c\\u0441\\u044f\", \"\\u043e\\u0442\\u043a\\u043b\\u044e\\u0447\\u0435\\u043d\\u0438\\u0435\", \"\\u043e\\u0442\\u043a\\u043b\\u044e\\u0447\\u0438\\u0442\\u044c\", \"\\u043e\\u0442\\u043f\\u0440\\u0430\\u0432\\u0438\\u0442\\u044c\", \"\\u043e\\u0442\\u043f\\u0440\\u0430\\u0432\\u0438\\u0442\\u044c\", \"\\u043e\\u0444\\u0438\\u0441\", \"\\u043f\\u0430\\u0440\\u043a\\u043e\\u0432\\u043a\\u0430\", \"\\u043f\\u0430\\u0440\\u043a\\u043e\\u0432\\u043a\\u0430\", \"\\u043f\\u0435\\u0440\\u0438\\u043e\\u0434\", \"\\u043f\\u043b\\u0430\\u043d\\u043e\\u0432\\u044b\\u0439_\\u043e\\u0442\\u043a\\u043b\\u044e\\u0447\\u0435\\u043d\\u0438\\u0435\", \"\\u043f\\u043b\\u0430\\u0442\\u0430\", \"\\u043f\\u043b\\u0430\\u0442\\u043d\\u044b\\u0439\", \"\\u043f\\u043b\\u0430\\u0442\\u043d\\u044b\\u0439\", \"\\u043f\\u043b\\u043e\\u0445\\u043e\", \"\\u043f\\u043e\\u0434\\u0434\\u0435\\u0440\\u0436\\u043a\\u0430\", \"\\u043f\\u043e\\u0434\\u043a\\u043b\\u044e\\u0447\\u0438\\u0442\\u044c\", \"\\u043f\\u043e\\u0434\\u043a\\u043b\\u044e\\u0447\\u0438\\u0442\\u044c\", \"\\u043f\\u043e\\u0434\\u044a\\u0435\\u0437\\u0434\", \"\\u043f\\u043e\\u0434\\u044a\\u0435\\u0437\\u0434\", \"\\u043f\\u043e\\u043a\\u0443\\u043f\\u0430\\u0442\\u0435\\u043b\\u044c\", \"\\u043f\\u043e\\u043a\\u0443\\u043f\\u043a\\u0430\", \"\\u043f\\u043e\\u043b\\u043d\\u044b\\u0439\", \"\\u043f\\u043e\\u043b\\u043d\\u044b\\u0439\", \"\\u043f\\u043e\\u043b\\u0443\\u0447\\u0438\\u0442\\u044c\", \"\\u043f\\u043e\\u043b\\u0443\\u0447\\u0438\\u0442\\u044c\", \"\\u043f\\u043e\\u043c\\u0435\\u0449\\u0435\\u043d\\u0438\\u0435\", \"\\u043f\\u043f\\u0446\\u0435\\u043d\\u0442\\u0440\", \"\\u043f\\u043f\\u0446\\u0435\\u043d\\u0442\\u0440\", \"\\u043f\\u0440\\u0435\\u0442\\u0435\\u043d\\u0437\\u0438\\u044f\", \"\\u043f\\u0440\\u0435\\u0442\\u0435\\u043d\\u0437\\u0438\\u044f\", \"\\u043f\\u0440\\u0438\\u0432\\u0435\\u0437\\u0442\\u0438\", \"\\u043f\\u0440\\u0438\\u0439\\u0442\\u0438\", \"\\u043f\\u0440\\u0438\\u0439\\u0442\\u0438\", \"\\u043f\\u0440\\u0438\\u043e\\u0431\\u0440\\u0435\\u0441\\u0442\\u0438\", \"\\u043f\\u0440\\u043e\\u0431\\u043b\\u0435\\u043c\\u0430\", \"\\u043f\\u0440\\u043e\\u0431\\u043b\\u0435\\u043c\\u0430\", \"\\u043f\\u0440\\u043e\\u0431\\u043b\\u0435\\u043c\\u0430\", \"\\u043f\\u0440\\u043e\\u0432\\u0435\\u0440\\u043a\\u0430\", \"\\u043f\\u0440\\u043e\\u0432\\u0435\\u0440\\u043a\\u0430\", \"\\u043f\\u0440\\u043e\\u0432\\u0435\\u0440\\u043a\\u0430\", \"\\u043f\\u0440\\u043e\\u0434\\u0430\\u0432\\u0435\\u0446\", \"\\u043f\\u0440\\u043e\\u0436\\u0438\\u0432\\u0430\\u043d\\u0438\\u0435\", \"\\u043f\\u0440\\u043e\\u0436\\u0438\\u0432\\u0430\\u043d\\u0438\\u0435\", \"\\u043f\\u0440\\u043e\\u0441\\u0438\\u0442\\u044c\", \"\\u043f\\u0440\\u043e\\u0441\\u0438\\u0442\\u044c\", \"\\u043f\\u0440\\u043e\\u0441\\u0438\\u0442\\u044c\", \"\\u043f\\u0440\\u043e\\u0441\\u0438\\u0442\\u044c_\\u043f\\u0440\\u043e\\u0432\\u0435\\u0441\\u0442\\u0438\", \"\\u043f\\u0440\\u043e\\u0441\\u0438\\u0442\\u044c_\\u043f\\u0440\\u043e\\u0432\\u0435\\u0441\\u0442\\u0438\", \"\\u043f\\u0440\\u043e\\u0441\\u0438\\u0442\\u044c_\\u043f\\u0440\\u043e\\u0432\\u0435\\u0441\\u0442\\u0438\", \"\\u043f\\u0443\\u043d\\u043a\\u0442_\\u0432\\u044b\\u0434\\u0430\\u0447\\u0430\", \"\\u0440\\u0430\\u0431\\u043e\\u0442\\u0430\", \"\\u0440\\u0430\\u0431\\u043e\\u0442\\u0430\", \"\\u0440\\u0430\\u0431\\u043e\\u0442\\u0430\", \"\\u0440\\u0430\\u0439\\u043e\\u043d\", \"\\u0440\\u0430\\u0439\\u043e\\u043d\", \"\\u0440\\u0435\\u0431\\u0451\\u043d\\u043e\\u043a\", \"\\u0440\\u0435\\u043a\\u0432\\u0438\\u0437\\u0438\\u0442\", \"\\u0440\\u0435\\u043a\\u0432\\u0438\\u0437\\u0438\\u0442\", \"\\u0440\\u044f\\u0434\\u043e\\u043c\", \"\\u0441\\u0430\\u0439\\u0442\", \"\\u0441\\u0430\\u0439\\u0442\", \"\\u0441\\u0430\\u043d\\u043f\\u0438\\u043d\", \"\\u0441\\u0431\\u0435\\u0440\\u0431\\u0430\\u043d\\u043a\", \"\\u0441\\u0432\\u043e\\u0439\", \"\\u0441\\u0432\\u043e\\u0439\", \"\\u0441\\u0432\\u043e\\u0439\", \"\\u0441\\u0432\\u044f\\u0437\\u044c\", \"\\u0441\\u0432\\u044f\\u0437\\u044c\", \"\\u0441\\u0434\\u0435\\u043b\\u0430\\u0442\\u044c_\\u0437\\u0430\\u043a\\u0430\\u0437\", \"\\u0441\\u0435\\u0440\\u0432\\u0438\\u0441\\u043d\\u044b\\u0439_\\u0446\\u0435\\u043d\\u0442\\u0440\", \"\\u0441\\u0438\\u0442\\u0443\\u0430\\u0446\\u0438\\u044f\", \"\\u0441\\u0438\\u0442\\u0443\\u0430\\u0446\\u0438\\u044f\", \"\\u0441\\u0438\\u0442\\u0443\\u0430\\u0446\\u0438\\u044f\", \"\\u0441\\u043a\\u0430\\u0437\\u0430\\u0442\\u044c\", \"\\u0441\\u043a\\u0430\\u0437\\u0430\\u0442\\u044c\", \"\\u0441\\u043a\\u0430\\u0437\\u0430\\u0442\\u044c\", \"\\u0441\\u043e\\u0433\\u043b\\u0430\\u0441\\u043d\\u043e\", \"\\u0441\\u043e\\u0433\\u043b\\u0430\\u0441\\u043d\\u043e\", \"\\u0441\\u043e\\u043b\\u043d\\u0435\\u0447\\u043d\\u044b\\u0439\", \"\\u0441\\u043e\\u0441\\u0435\\u0434\", \"\\u0441\\u043e\\u0441\\u0435\\u0434\\u043d\\u0438\\u0439\", \"\\u0441\\u043f\\u0438\\u0441\\u0430\\u0442\\u044c\", \"\\u0441\\u0440\\u0430\\u0437\\u0443\", \"\\u0441\\u0440\\u043e\\u043a\", \"\\u0441\\u0440\\u043e\\u043a\", \"\\u0441\\u0442\\u043e\\u0438\\u043c\\u043e\\u0441\\u0442\\u044c\", \"\\u0441\\u0442\\u043e\\u0438\\u043c\\u043e\\u0441\\u0442\\u044c\", \"\\u0441\\u0442\\u043e\\u0438\\u043c\\u043e\\u0441\\u0442\\u044c\", \"\\u0441\\u0443\\u043c\\u043c\\u0430\", \"\\u0441\\u0443\\u043c\\u043c\\u0430\", \"\\u0441\\u0447\\u0451\\u0442\", \"\\u0442\\u0430\\u043a\\u043e\\u0439_\\u043e\\u0431\\u0440\\u0430\\u0437\", \"\\u0442\\u0430\\u0440\\u0430\\u043a\\u0430\\u043d\", \"\\u0442\\u0430\\u0440\\u0438\\u0444\", \"\\u0442\\u0435\\u043a\\u0443\\u0449\\u0438\\u0439_\\u043c\\u043e\\u043c\\u0435\\u043d\\u0442\", \"\\u0442\\u0435\\u043b\\u0435\\u0444\\u043e\\u043d\", \"\\u0442\\u0435\\u043b\\u0435\\u0444\\u043e\\u043d\", \"\\u0442\\u0435\\u0440\\u0440\\u0438\\u0442\\u043e\\u0440\\u0438\\u044f\", \"\\u0442\\u0435\\u0440\\u0440\\u0438\\u0442\\u043e\\u0440\\u0438\\u044f\", \"\\u0442\\u0438\\u0448\\u0438\\u043d\\u0430\", \"\\u0442\\u0438\\u0448\\u0438\\u043d\\u0430\", \"\\u0442\\u043e\\u0432\\u0430\\u0440\", \"\\u0443\\u043b\\u0438\\u0446\\u0430\", \"\\u0443\\u043b\\u0438\\u0446\\u0430\", \"\\u0443\\u043f\\u0430\\u043a\\u043e\\u0432\\u043a\\u0430\", \"\\u0443\\u0441\\u043b\\u0443\\u0433\\u0430\", \"\\u0443\\u0442\\u0440\\u043e\", \"\\u0446\\u0435\\u043d\\u0430\", \"\\u0446\\u0435\\u043d\\u0430\", \"\\u0447\\u0435\\u043b\\u043e\\u0432\\u0435\\u043a\", \"\\u0447\\u0435\\u043b\\u043e\\u0432\\u0435\\u043a\", \"\\u0448\\u0443\\u043c\", \"\\u044d\\u0442\\u0430\\u0436\", \"\\u044f\\u0432\\u043b\\u044f\\u0442\\u044c\\u0441\\u044f\", \"\\u044f\\u0432\\u043b\\u044f\\u0442\\u044c\\u0441\\u044f\", \"\\u044f\\u0432\\u043b\\u044f\\u0442\\u044c\\u0441\\u044f\"]}, \"R\": 30, \"lambda.step\": 0.01, \"plot.opts\": {\"xlab\": \"PC1\", \"ylab\": \"PC2\"}, \"topic.order\": [1, 3, 2]};\n",
       "\n",
       "function LDAvis_load_lib(url, callback){\n",
       "  var s = document.createElement('script');\n",
       "  s.src = url;\n",
       "  s.async = true;\n",
       "  s.onreadystatechange = s.onload = callback;\n",
       "  s.onerror = function(){console.warn(\"failed to load library \" + url);};\n",
       "  document.getElementsByTagName(\"head\")[0].appendChild(s);\n",
       "}\n",
       "\n",
       "if(typeof(LDAvis) !== \"undefined\"){\n",
       "   // already loaded: just create the visualization\n",
       "   !function(LDAvis){\n",
       "       new LDAvis(\"#\" + \"ldavis_el273161350215445231369961772203\", ldavis_el273161350215445231369961772203_data);\n",
       "   }(LDAvis);\n",
       "}else if(typeof define === \"function\" && define.amd){\n",
       "   // require.js is available: use it to load d3/LDAvis\n",
       "   require.config({paths: {d3: \"https://d3js.org/d3.v5\"}});\n",
       "   require([\"d3\"], function(d3){\n",
       "      window.d3 = d3;\n",
       "      LDAvis_load_lib(\"https://cdn.jsdelivr.net/gh/bmabey/pyLDAvis@3.4.0/pyLDAvis/js/ldavis.v3.0.0.js\", function(){\n",
       "        new LDAvis(\"#\" + \"ldavis_el273161350215445231369961772203\", ldavis_el273161350215445231369961772203_data);\n",
       "      });\n",
       "    });\n",
       "}else{\n",
       "    // require.js not available: dynamically load d3 & LDAvis\n",
       "    LDAvis_load_lib(\"https://d3js.org/d3.v5.js\", function(){\n",
       "         LDAvis_load_lib(\"https://cdn.jsdelivr.net/gh/bmabey/pyLDAvis@3.4.0/pyLDAvis/js/ldavis.v3.0.0.js\", function(){\n",
       "                 new LDAvis(\"#\" + \"ldavis_el273161350215445231369961772203\", ldavis_el273161350215445231369961772203_data);\n",
       "            })\n",
       "         });\n",
       "}\n",
       "</script>"
      ],
      "text/plain": [
       "<IPython.core.display.HTML object>"
      ]
     },
     "metadata": {},
     "output_type": "display_data"
    }
   ],
   "source": [
    "lda_vis_data_bigram = pyLDAvis.gensim_models.prepare(lda_model_bigram, corpus_bigram, dictionary_bigram)\n",
    "pyLDAvis.save_html(lda_vis_data_bigram, 'lda_bigram_visualization.html')\n",
    "lda_bigram_visualization_path = 'lda_bigram_visualization.html'\n",
    "with open(lda_bigram_visualization_path, 'r') as f:\n",
    "    html_content = f.read()\n",
    "    display(HTML(html_content))"
   ]
  },
  {
   "cell_type": "markdown",
   "metadata": {
    "id": "pq8yMlZCIIYK"
   },
   "source": [
    "Разница не велика. При большом количестве тем - большое пересечение между темами, плохая кластеризация. Чем меньше тем лучше кластеризация и больше расстояние между темами"
   ]
  },
  {
   "cell_type": "code",
   "execution_count": 110,
   "metadata": {
    "colab": {
     "base_uri": "https://localhost:8080/"
    },
    "id": "O7EcQBZJITri",
    "outputId": "5b756fc1-7c1c-463a-cf6d-cff6bd3ddd2c"
   },
   "outputs": [
    {
     "name": "stdout",
     "output_type": "stream",
     "text": [
      "Perplexity (Unigram): -6.017789801463026\n",
      "Perplexity (Bigram): -7.82446323511659\n"
     ]
    }
   ],
   "source": [
    "perplexity = lda.log_perplexity(corpus)\n",
    "perplexity_bigram = lda_model_bigram.log_perplexity(corpus_bigram)\n",
    "print(\"Perplexity (Unigram):\", perplexity)\n",
    "print(\"Perplexity (Bigram):\", perplexity_bigram)"
   ]
  },
  {
   "cell_type": "markdown",
   "metadata": {
    "id": "yELZJSPdIr3V"
   },
   "source": [
    "Биграммы справильсь чуть лучше, раз у них степень неопределнности чуть меньше. Но разница не драматична"
   ]
  },
  {
   "cell_type": "code",
   "execution_count": 111,
   "metadata": {
    "colab": {
     "base_uri": "https://localhost:8080/"
    },
    "id": "Rmk3WsicIo91",
    "outputId": "e2a851e9-0a00-4f2a-e41c-60d6274b7c9b"
   },
   "outputs": [
    {
     "name": "stdout",
     "output_type": "stream",
     "text": [
      "Coherence (Unigram): -1.7957641329391414\n",
      "Coherence (Bigram): -3.3802024255101375\n"
     ]
    }
   ],
   "source": [
    "from gensim.models import CoherenceModel\n",
    "\n",
    "coherence_model_unigram = CoherenceModel(model=lda, texts=preprocessed_questions, dictionary=dictionary, coherence='u_mass') # так как с_v для биграмм не работает\n",
    "coherence_unigram = coherence_model_unigram.get_coherence()\n",
    "print(\"Coherence (Unigram):\", coherence_unigram)\n",
    "\n",
    "coherence_model_bigram = CoherenceModel(model=lda_model_bigram, texts=preprocessed_questions, dictionary=dictionary_bigram, coherence='u_mass') # так как с_v для биграмм не работает\n",
    "coherence_bigram = coherence_model_bigram.get_coherence()\n",
    "print(\"Coherence (Bigram):\", coherence_bigram)"
   ]
  },
  {
   "cell_type": "markdown",
   "metadata": {
    "id": "oJ4xL235JBrS"
   },
   "source": [
    "зато когерентность чуть хуже у биграмм, чего и следовало ожидать. Хотя и у монограмм ноже невелика. С одной стороны это может указывать на плохое качество работы модели, с другой стороны при таком малом наборе тем это должно быть нормально"
   ]
  },
  {
   "cell_type": "markdown",
   "metadata": {
    "id": "2d8WgiG_LKcf"
   },
   "source": [
    "Судя по таблицам релевантности слов среди тем мое предположение о тематике обращений на сайт роспотреба обказалось вполне правлоподобным. Топ-3 слов среди тем:\n",
    " 1) товар, магазин, возврат\n",
    " 2) услуга, который, дать\n",
    " 3) территория, ребенок, адрес.\n",
    "\n",
    "То есть тема номер один - плохой товар, номер два - плохая услуга, номер три - обращение не по адресу."
   ]
  }
 ],
 "metadata": {
  "colab": {
   "provenance": []
  },
  "kernelspec": {
   "display_name": "Python 3",
   "language": "python",
   "name": "python3"
  },
  "language_info": {
   "codemirror_mode": {
    "name": "ipython",
    "version": 3
   },
   "file_extension": ".py",
   "mimetype": "text/x-python",
   "name": "python",
   "nbconvert_exporter": "python",
   "pygments_lexer": "ipython3",
   "version": "3.7.6"
  },
  "widgets": {
   "application/vnd.jupyter.widget-state+json": {
    "0c6b51c4eda245c9af004c446d01efad": {
     "model_module": "@jupyter-widgets/base",
     "model_module_version": "1.2.0",
     "model_name": "LayoutModel",
     "state": {
      "_model_module": "@jupyter-widgets/base",
      "_model_module_version": "1.2.0",
      "_model_name": "LayoutModel",
      "_view_count": null,
      "_view_module": "@jupyter-widgets/base",
      "_view_module_version": "1.2.0",
      "_view_name": "LayoutView",
      "align_content": null,
      "align_items": null,
      "align_self": null,
      "border": null,
      "bottom": null,
      "display": null,
      "flex": null,
      "flex_flow": null,
      "grid_area": null,
      "grid_auto_columns": null,
      "grid_auto_flow": null,
      "grid_auto_rows": null,
      "grid_column": null,
      "grid_gap": null,
      "grid_row": null,
      "grid_template_areas": null,
      "grid_template_columns": null,
      "grid_template_rows": null,
      "height": null,
      "justify_content": null,
      "justify_items": null,
      "left": null,
      "margin": null,
      "max_height": null,
      "max_width": null,
      "min_height": null,
      "min_width": null,
      "object_fit": null,
      "object_position": null,
      "order": null,
      "overflow": null,
      "overflow_x": null,
      "overflow_y": null,
      "padding": null,
      "right": null,
      "top": null,
      "visibility": null,
      "width": null
     }
    },
    "18cc5736b740404198e06dc6ac3d8642": {
     "model_module": "@jupyter-widgets/controls",
     "model_module_version": "1.5.0",
     "model_name": "DescriptionStyleModel",
     "state": {
      "_model_module": "@jupyter-widgets/controls",
      "_model_module_version": "1.5.0",
      "_model_name": "DescriptionStyleModel",
      "_view_count": null,
      "_view_module": "@jupyter-widgets/base",
      "_view_module_version": "1.2.0",
      "_view_name": "StyleView",
      "description_width": ""
     }
    },
    "1a5ca1804aa04b2ab5a759692b387342": {
     "model_module": "@jupyter-widgets/base",
     "model_module_version": "1.2.0",
     "model_name": "LayoutModel",
     "state": {
      "_model_module": "@jupyter-widgets/base",
      "_model_module_version": "1.2.0",
      "_model_name": "LayoutModel",
      "_view_count": null,
      "_view_module": "@jupyter-widgets/base",
      "_view_module_version": "1.2.0",
      "_view_name": "LayoutView",
      "align_content": null,
      "align_items": null,
      "align_self": null,
      "border": null,
      "bottom": null,
      "display": null,
      "flex": null,
      "flex_flow": null,
      "grid_area": null,
      "grid_auto_columns": null,
      "grid_auto_flow": null,
      "grid_auto_rows": null,
      "grid_column": null,
      "grid_gap": null,
      "grid_row": null,
      "grid_template_areas": null,
      "grid_template_columns": null,
      "grid_template_rows": null,
      "height": null,
      "justify_content": null,
      "justify_items": null,
      "left": null,
      "margin": null,
      "max_height": null,
      "max_width": null,
      "min_height": null,
      "min_width": null,
      "object_fit": null,
      "object_position": null,
      "order": null,
      "overflow": null,
      "overflow_x": null,
      "overflow_y": null,
      "padding": null,
      "right": null,
      "top": null,
      "visibility": null,
      "width": null
     }
    },
    "2177cdb4d4e64b6aaf44a6caf77daaf5": {
     "model_module": "@jupyter-widgets/controls",
     "model_module_version": "1.5.0",
     "model_name": "ProgressStyleModel",
     "state": {
      "_model_module": "@jupyter-widgets/controls",
      "_model_module_version": "1.5.0",
      "_model_name": "ProgressStyleModel",
      "_view_count": null,
      "_view_module": "@jupyter-widgets/base",
      "_view_module_version": "1.2.0",
      "_view_name": "StyleView",
      "bar_color": null,
      "description_width": ""
     }
    },
    "4c19777fbd464264a0da1b762508b125": {
     "model_module": "@jupyter-widgets/controls",
     "model_module_version": "1.5.0",
     "model_name": "HTMLModel",
     "state": {
      "_dom_classes": [],
      "_model_module": "@jupyter-widgets/controls",
      "_model_module_version": "1.5.0",
      "_model_name": "HTMLModel",
      "_view_count": null,
      "_view_module": "@jupyter-widgets/controls",
      "_view_module_version": "1.5.0",
      "_view_name": "HTMLView",
      "description": "",
      "description_tooltip": null,
      "layout": "IPY_MODEL_4fa0f01673a54c9db5e2fa3ae14531da",
      "placeholder": "​",
      "style": "IPY_MODEL_18cc5736b740404198e06dc6ac3d8642",
      "value": "100%"
     }
    },
    "4fa0f01673a54c9db5e2fa3ae14531da": {
     "model_module": "@jupyter-widgets/base",
     "model_module_version": "1.2.0",
     "model_name": "LayoutModel",
     "state": {
      "_model_module": "@jupyter-widgets/base",
      "_model_module_version": "1.2.0",
      "_model_name": "LayoutModel",
      "_view_count": null,
      "_view_module": "@jupyter-widgets/base",
      "_view_module_version": "1.2.0",
      "_view_name": "LayoutView",
      "align_content": null,
      "align_items": null,
      "align_self": null,
      "border": null,
      "bottom": null,
      "display": null,
      "flex": null,
      "flex_flow": null,
      "grid_area": null,
      "grid_auto_columns": null,
      "grid_auto_flow": null,
      "grid_auto_rows": null,
      "grid_column": null,
      "grid_gap": null,
      "grid_row": null,
      "grid_template_areas": null,
      "grid_template_columns": null,
      "grid_template_rows": null,
      "height": null,
      "justify_content": null,
      "justify_items": null,
      "left": null,
      "margin": null,
      "max_height": null,
      "max_width": null,
      "min_height": null,
      "min_width": null,
      "object_fit": null,
      "object_position": null,
      "order": null,
      "overflow": null,
      "overflow_x": null,
      "overflow_y": null,
      "padding": null,
      "right": null,
      "top": null,
      "visibility": null,
      "width": null
     }
    },
    "550f20997c1a46efa47aea36979b465e": {
     "model_module": "@jupyter-widgets/controls",
     "model_module_version": "1.5.0",
     "model_name": "HTMLModel",
     "state": {
      "_dom_classes": [],
      "_model_module": "@jupyter-widgets/controls",
      "_model_module_version": "1.5.0",
      "_model_name": "HTMLModel",
      "_view_count": null,
      "_view_module": "@jupyter-widgets/controls",
      "_view_module_version": "1.5.0",
      "_view_name": "HTMLView",
      "description": "",
      "description_tooltip": null,
      "layout": "IPY_MODEL_1a5ca1804aa04b2ab5a759692b387342",
      "placeholder": "​",
      "style": "IPY_MODEL_e1c0f3cae67d4dd6ad08b6e5b5077638",
      "value": " 13/13 [00:44&lt;00:00,  5.15s/it]"
     }
    },
    "81015509703442c79fb038252f218fc3": {
     "model_module": "@jupyter-widgets/controls",
     "model_module_version": "1.5.0",
     "model_name": "FloatProgressModel",
     "state": {
      "_dom_classes": [],
      "_model_module": "@jupyter-widgets/controls",
      "_model_module_version": "1.5.0",
      "_model_name": "FloatProgressModel",
      "_view_count": null,
      "_view_module": "@jupyter-widgets/controls",
      "_view_module_version": "1.5.0",
      "_view_name": "ProgressView",
      "bar_style": "success",
      "description": "",
      "description_tooltip": null,
      "layout": "IPY_MODEL_0c6b51c4eda245c9af004c446d01efad",
      "max": 13,
      "min": 0,
      "orientation": "horizontal",
      "style": "IPY_MODEL_2177cdb4d4e64b6aaf44a6caf77daaf5",
      "value": 13
     }
    },
    "81ab761b3d124d9ebf8c17fb267ab762": {
     "model_module": "@jupyter-widgets/base",
     "model_module_version": "1.2.0",
     "model_name": "LayoutModel",
     "state": {
      "_model_module": "@jupyter-widgets/base",
      "_model_module_version": "1.2.0",
      "_model_name": "LayoutModel",
      "_view_count": null,
      "_view_module": "@jupyter-widgets/base",
      "_view_module_version": "1.2.0",
      "_view_name": "LayoutView",
      "align_content": null,
      "align_items": null,
      "align_self": null,
      "border": null,
      "bottom": null,
      "display": null,
      "flex": null,
      "flex_flow": null,
      "grid_area": null,
      "grid_auto_columns": null,
      "grid_auto_flow": null,
      "grid_auto_rows": null,
      "grid_column": null,
      "grid_gap": null,
      "grid_row": null,
      "grid_template_areas": null,
      "grid_template_columns": null,
      "grid_template_rows": null,
      "height": null,
      "justify_content": null,
      "justify_items": null,
      "left": null,
      "margin": null,
      "max_height": null,
      "max_width": null,
      "min_height": null,
      "min_width": null,
      "object_fit": null,
      "object_position": null,
      "order": null,
      "overflow": null,
      "overflow_x": null,
      "overflow_y": null,
      "padding": null,
      "right": null,
      "top": null,
      "visibility": null,
      "width": null
     }
    },
    "bae0a808f502488e8db54edc118de626": {
     "model_module": "@jupyter-widgets/controls",
     "model_module_version": "1.5.0",
     "model_name": "HBoxModel",
     "state": {
      "_dom_classes": [],
      "_model_module": "@jupyter-widgets/controls",
      "_model_module_version": "1.5.0",
      "_model_name": "HBoxModel",
      "_view_count": null,
      "_view_module": "@jupyter-widgets/controls",
      "_view_module_version": "1.5.0",
      "_view_name": "HBoxView",
      "box_style": "",
      "children": [
       "IPY_MODEL_4c19777fbd464264a0da1b762508b125",
       "IPY_MODEL_81015509703442c79fb038252f218fc3",
       "IPY_MODEL_550f20997c1a46efa47aea36979b465e"
      ],
      "layout": "IPY_MODEL_81ab761b3d124d9ebf8c17fb267ab762"
     }
    },
    "e1c0f3cae67d4dd6ad08b6e5b5077638": {
     "model_module": "@jupyter-widgets/controls",
     "model_module_version": "1.5.0",
     "model_name": "DescriptionStyleModel",
     "state": {
      "_model_module": "@jupyter-widgets/controls",
      "_model_module_version": "1.5.0",
      "_model_name": "DescriptionStyleModel",
      "_view_count": null,
      "_view_module": "@jupyter-widgets/base",
      "_view_module_version": "1.2.0",
      "_view_name": "StyleView",
      "description_width": ""
     }
    }
   }
  }
 },
 "nbformat": 4,
 "nbformat_minor": 1
}
